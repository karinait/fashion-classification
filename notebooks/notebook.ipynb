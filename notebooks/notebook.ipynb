{
 "cells": [
  {
   "cell_type": "code",
   "execution_count": 3,
   "id": "2ffba8b7-69fd-4321-9e9d-4459af53491b",
   "metadata": {},
   "outputs": [
    {
     "name": "stderr",
     "output_type": "stream",
     "text": [
      "2024-12-27 22:52:44.499100: E external/local_xla/xla/stream_executor/cuda/cuda_fft.cc:477] Unable to register cuFFT factory: Attempting to register factory for plugin cuFFT when one has already been registered\n",
      "WARNING: All log messages before absl::InitializeLog() is called are written to STDERR\n",
      "E0000 00:00:1735357964.598597   82264 cuda_dnn.cc:8310] Unable to register cuDNN factory: Attempting to register factory for plugin cuDNN when one has already been registered\n",
      "E0000 00:00:1735357964.628377   82264 cuda_blas.cc:1418] Unable to register cuBLAS factory: Attempting to register factory for plugin cuBLAS when one has already been registered\n",
      "2024-12-27 22:52:44.874053: I tensorflow/core/platform/cpu_feature_guard.cc:210] This TensorFlow binary is optimized to use available CPU instructions in performance-critical operations.\n",
      "To enable the following instructions: AVX2 FMA, in other operations, rebuild TensorFlow with the appropriate compiler flags.\n"
     ]
    }
   ],
   "source": [
    "import os\n",
    "import zipfile\n",
    "import requests\n",
    "import glob\n",
    "import sys\n",
    "import re\n",
    "\n",
    "import warnings\n",
    "import random\n",
    "import pandas as pd\n",
    "import numpy as np\n",
    "import matplotlib.pyplot as plt\n",
    "import tensorflow as tf\n",
    "\n",
    "from PIL import Image\n",
    "\n",
    "from tensorflow import keras\n",
    "from tensorflow.keras.preprocessing.image import load_img\n",
    "from tensorflow.keras.preprocessing.image import ImageDataGenerator\n",
    "from tensorflow.keras.applications.mobilenet_v2 import preprocess_input \n",
    "from tensorflow.keras.applications.mobilenet_v2 import MobileNetV2\n",
    "from tensorflow.keras.applications.mobilenet_v2 import decode_predictions \n",
    "from tensorflow.keras.callbacks import ModelCheckpoint, Callback\n",
    "from tensorflow.keras.mixed_precision import set_global_policy\n",
    "\n",
    "\n",
    "%matplotlib inline"
   ]
  },
  {
   "cell_type": "code",
   "execution_count": 4,
   "id": "4a66c4c8-8c64-4a39-a574-00bd1d94fa4c",
   "metadata": {},
   "outputs": [
    {
     "name": "stdout",
     "output_type": "stream",
     "text": [
      "3.12.3 (main, Nov  6 2024, 18:32:19) [GCC 13.2.0]\n"
     ]
    }
   ],
   "source": [
    "#Getting python version\n",
    "print(sys.version)"
   ]
  },
  {
   "cell_type": "code",
   "execution_count": 5,
   "id": "db0db6ac-cfa5-4a19-b668-ce5ae44d3bd0",
   "metadata": {},
   "outputs": [
    {
     "data": {
      "text/plain": [
       "'2.18.0'"
      ]
     },
     "execution_count": 5,
     "metadata": {},
     "output_type": "execute_result"
    }
   ],
   "source": [
    "#Getting tensorflow version\n",
    "tf.__version__"
   ]
  },
  {
   "cell_type": "code",
   "execution_count": 6,
   "id": "920dca1c-983c-453e-8986-4b0913dbd159",
   "metadata": {},
   "outputs": [
    {
     "name": "stdout",
     "output_type": "stream",
     "text": [
      "GPUs Available: [PhysicalDevice(name='/physical_device:GPU:0', device_type='GPU')]\n"
     ]
    }
   ],
   "source": [
    "#Checking that Tensorflow detects a GPU\n",
    "gpus = tf.config.list_physical_devices('GPU')\n",
    "print(\"GPUs Available:\", gpus)"
   ]
  },
  {
   "cell_type": "code",
   "execution_count": 7,
   "id": "1929e477-a3d9-4a7c-b708-c2d060d7302c",
   "metadata": {},
   "outputs": [],
   "source": [
    "if gpus:\n",
    "    try:\n",
    "        # Restrict TensorFlow to only allocate memory as needed\n",
    "        for gpu in gpus:\n",
    "            tf.config.experimental.set_memory_growth(gpu, True)\n",
    "    except RuntimeError as e:\n",
    "        print(e)\n"
   ]
  },
  {
   "cell_type": "code",
   "execution_count": 8,
   "id": "fb716dcc-95af-4569-a228-f4d01aebf458",
   "metadata": {},
   "outputs": [
    {
     "name": "stdout",
     "output_type": "stream",
     "text": [
      "TF_GPU_ALLOCATOR is set to: cuda_malloc_async\n"
     ]
    }
   ],
   "source": [
    "# Check if the TF_GPU_ALLOCATOR environment variable is set\n",
    "gpu_allocator = os.environ.get('TF_GPU_ALLOCATOR')\n",
    "\n",
    "if gpu_allocator is None:\n",
    "    print(\"Warning: The TF_GPU_ALLOCATOR environment variable is not set. This variable determines how TensorFlow manages GPU memory allocation.\"\n",
    "          \"Setting it to 'cuda_malloc_async' can improve performance on NVIDIA GPUs by reducing memory fragmentation during model training. \"\n",
    "          \" Please consider setting the variable before running the model.\")\n",
    "else:\n",
    "    print(f\"TF_GPU_ALLOCATOR is set to: {gpu_allocator}\")"
   ]
  },
  {
   "cell_type": "code",
   "execution_count": 9,
   "id": "2926a66a-9010-45a2-bf2a-d21a4ae9d0c9",
   "metadata": {},
   "outputs": [],
   "source": [
    "#set mixed precision policy\n",
    "tf.keras.mixed_precision.set_global_policy('mixed_float16')"
   ]
  },
  {
   "cell_type": "code",
   "execution_count": 10,
   "id": "804271a3-233f-44d2-8af9-c9890c55ff13",
   "metadata": {},
   "outputs": [],
   "source": [
    "#setting seeds\n",
    "np.random.seed(42)\n",
    "random.seed(42)\n",
    "tf.random.set_seed(42)"
   ]
  },
  {
   "cell_type": "code",
   "execution_count": 11,
   "id": "eda4064e-3f9b-47d9-8649-e3128fe4693b",
   "metadata": {},
   "outputs": [],
   "source": [
    "#hide some warnings\n",
    "warnings.filterwarnings('ignore', category=UserWarning)"
   ]
  },
  {
   "cell_type": "markdown",
   "id": "c324424a-e9d4-47ce-b526-ee5ba6a3159a",
   "metadata": {},
   "source": [
    "# Download images to train our model"
   ]
  },
  {
   "cell_type": "code",
   "execution_count": 12,
   "id": "951a6ddb-4d2a-45f4-8923-c80e958ffe3a",
   "metadata": {},
   "outputs": [],
   "source": [
    "DATASET_DIR = '../dataset/fashion-product-images-small/myntradataset/'\n",
    "ZIP_FILE_PATH = os.path.join(DATASET_DIR, 'fashion-product-images-small.zip')\n",
    "DOWNLOAD_URL = 'https://www.kaggle.com/api/v1/datasets/download/paramaggarwal/fashion-product-images-small'"
   ]
  },
  {
   "cell_type": "code",
   "execution_count": 13,
   "id": "ffa15f0a-f140-4f2e-9861-8e3e1e8d9c36",
   "metadata": {},
   "outputs": [],
   "source": [
    "def is_empty_directory(directory):\n",
    "    return not os.listdir(directory)"
   ]
  },
  {
   "cell_type": "code",
   "execution_count": 14,
   "id": "32eeb3e6-202c-4aff-81d2-b97e4dd230d4",
   "metadata": {},
   "outputs": [
    {
     "name": "stdout",
     "output_type": "stream",
     "text": [
      "The are images already downloaded. No need to download Zip file from Kaggle\n"
     ]
    }
   ],
   "source": [
    "if is_empty_directory(DATASET_DIR):\n",
    "    print(\"Empty dataset directory. Downloading ZIP File from Kaggle...\")\n",
    "    \n",
    "    response = requests.get(DOWNLOAD_URL, allow_redirects=True)\n",
    "    with open(ZIP_FILE_PATH, 'wb') as file:\n",
    "        file.write(response.content)\n",
    "    print(\"Download completed.\")\n",
    "\n",
    "    # Extract the ZIP file\n",
    "    with zipfile.ZipFile(ZIP_FILE_PATH, 'r') as zip_ref:\n",
    "        zip_ref.extractall(DATASET_DIR)\n",
    "    print(\"ZIP file extracted.\")\n",
    "\n",
    "    # Delete the ZIP file after extraction\n",
    "    os.remove(ZIP_FILE_PATH)\n",
    "else:\n",
    "    print(\"The are images already downloaded. No need to download Zip file from Kaggle\")"
   ]
  },
  {
   "cell_type": "markdown",
   "id": "9d11c6a9-67d1-410b-9525-f022d22413c8",
   "metadata": {},
   "source": [
    "# EDA"
   ]
  },
  {
   "cell_type": "code",
   "execution_count": 15,
   "id": "ee021d12-2045-4946-8cf9-52c5bee3a445",
   "metadata": {},
   "outputs": [],
   "source": [
    "#Load an image\n",
    "image_path = f'{DATASET_DIR}/images/'\n",
    "fullname = f'{image_path}/10009.jpg'\n",
    "img=load_img(fullname, target_size=(224,224))"
   ]
  },
  {
   "cell_type": "code",
   "execution_count": 16,
   "id": "fc0a4d3e-90db-4e19-bd1b-ce83c4fe4c5c",
   "metadata": {},
   "outputs": [
    {
     "data": {
      "text/plain": [
       "(224, 224, 3)"
      ]
     },
     "execution_count": 16,
     "metadata": {},
     "output_type": "execute_result"
    }
   ],
   "source": [
    "x=np.array(img)\n",
    "x.shape"
   ]
  },
  {
   "cell_type": "code",
   "execution_count": 17,
   "id": "a1d4a03f-cf4d-420d-93f3-a757a73cc404",
   "metadata": {},
   "outputs": [],
   "source": [
    "## Reading informacion about images\n",
    "CSV_FILE_PATH = F'{DATASET_DIR}/styles.csv'"
   ]
  },
  {
   "cell_type": "code",
   "execution_count": 18,
   "id": "9a5bcac7-a9ee-4ed0-a09f-a4c6969d2015",
   "metadata": {},
   "outputs": [
    {
     "name": "stdout",
     "output_type": "stream",
     "text": [
      "      id gender masterCategory subCategory  articleType baseColour  season  \\\n",
      "0  15970    Men        Apparel     Topwear       Shirts  Navy Blue    Fall   \n",
      "1  39386    Men        Apparel  Bottomwear        Jeans       Blue  Summer   \n",
      "2  59263  Women    Accessories     Watches      Watches     Silver  Winter   \n",
      "3  21379    Men        Apparel  Bottomwear  Track Pants      Black    Fall   \n",
      "4  53759    Men        Apparel     Topwear      Tshirts       Grey  Summer   \n",
      "\n",
      "   year   usage                             productDisplayName  \n",
      "0  2011  Casual               Turtle Check Men Navy Blue Shirt  \n",
      "1  2012  Casual             Peter England Men Party Blue Jeans  \n",
      "2  2016  Casual                       Titan Women Silver Watch  \n",
      "3  2011  Casual  Manchester United Men Solid Black Track Pants  \n",
      "4  2012  Casual                          Puma Men Grey T-shirt  \n"
     ]
    }
   ],
   "source": [
    "# Read the first few rows of the CSV to inspect its structure\n",
    "preview_data = pd.read_csv(CSV_FILE_PATH, nrows=5)\n",
    "print(preview_data.head())"
   ]
  },
  {
   "cell_type": "code",
   "execution_count": 19,
   "id": "fab18faa-c66b-4c23-ad43-0e26e2705fae",
   "metadata": {},
   "outputs": [
    {
     "data": {
      "text/html": [
       "<div>\n",
       "<style scoped>\n",
       "    .dataframe tbody tr th:only-of-type {\n",
       "        vertical-align: middle;\n",
       "    }\n",
       "\n",
       "    .dataframe tbody tr th {\n",
       "        vertical-align: top;\n",
       "    }\n",
       "\n",
       "    .dataframe thead th {\n",
       "        text-align: right;\n",
       "    }\n",
       "</style>\n",
       "<table border=\"1\" class=\"dataframe\">\n",
       "  <thead>\n",
       "    <tr style=\"text-align: right;\">\n",
       "      <th></th>\n",
       "      <th>id</th>\n",
       "      <th>gender</th>\n",
       "      <th>masterCategory</th>\n",
       "      <th>subCategory</th>\n",
       "      <th>articleType</th>\n",
       "      <th>productDisplayName</th>\n",
       "    </tr>\n",
       "  </thead>\n",
       "  <tbody>\n",
       "    <tr>\n",
       "      <th>0</th>\n",
       "      <td>15970</td>\n",
       "      <td>Men</td>\n",
       "      <td>Apparel</td>\n",
       "      <td>Topwear</td>\n",
       "      <td>Shirts</td>\n",
       "      <td>Turtle Check Men Navy Blue Shirt</td>\n",
       "    </tr>\n",
       "    <tr>\n",
       "      <th>1</th>\n",
       "      <td>39386</td>\n",
       "      <td>Men</td>\n",
       "      <td>Apparel</td>\n",
       "      <td>Bottomwear</td>\n",
       "      <td>Jeans</td>\n",
       "      <td>Peter England Men Party Blue Jeans</td>\n",
       "    </tr>\n",
       "    <tr>\n",
       "      <th>2</th>\n",
       "      <td>59263</td>\n",
       "      <td>Women</td>\n",
       "      <td>Accessories</td>\n",
       "      <td>Watches</td>\n",
       "      <td>Watches</td>\n",
       "      <td>Titan Women Silver Watch</td>\n",
       "    </tr>\n",
       "    <tr>\n",
       "      <th>3</th>\n",
       "      <td>21379</td>\n",
       "      <td>Men</td>\n",
       "      <td>Apparel</td>\n",
       "      <td>Bottomwear</td>\n",
       "      <td>Track Pants</td>\n",
       "      <td>Manchester United Men Solid Black Track Pants</td>\n",
       "    </tr>\n",
       "    <tr>\n",
       "      <th>4</th>\n",
       "      <td>53759</td>\n",
       "      <td>Men</td>\n",
       "      <td>Apparel</td>\n",
       "      <td>Topwear</td>\n",
       "      <td>Tshirts</td>\n",
       "      <td>Puma Men Grey T-shirt</td>\n",
       "    </tr>\n",
       "  </tbody>\n",
       "</table>\n",
       "</div>"
      ],
      "text/plain": [
       "      id gender masterCategory subCategory  articleType  \\\n",
       "0  15970    Men        Apparel     Topwear       Shirts   \n",
       "1  39386    Men        Apparel  Bottomwear        Jeans   \n",
       "2  59263  Women    Accessories     Watches      Watches   \n",
       "3  21379    Men        Apparel  Bottomwear  Track Pants   \n",
       "4  53759    Men        Apparel     Topwear      Tshirts   \n",
       "\n",
       "                              productDisplayName  \n",
       "0               Turtle Check Men Navy Blue Shirt  \n",
       "1             Peter England Men Party Blue Jeans  \n",
       "2                       Titan Women Silver Watch  \n",
       "3  Manchester United Men Solid Black Track Pants  \n",
       "4                          Puma Men Grey T-shirt  "
      ]
     },
     "execution_count": 19,
     "metadata": {},
     "output_type": "execute_result"
    }
   ],
   "source": [
    "#read dataset and skip some bad lines\n",
    "columns=['id', 'gender', 'masterCategory', 'subCategory', 'articleType', 'productDisplayName']\n",
    "data = pd.read_csv(CSV_FILE_PATH,  usecols=columns, on_bad_lines='skip')\n",
    "data.head()"
   ]
  },
  {
   "cell_type": "code",
   "execution_count": 20,
   "id": "19443723-3d6d-4728-bca9-51375d55f969",
   "metadata": {},
   "outputs": [
    {
     "data": {
      "text/plain": [
       "pandas.core.frame.DataFrame"
      ]
     },
     "execution_count": 20,
     "metadata": {},
     "output_type": "execute_result"
    }
   ],
   "source": [
    "type(data)"
   ]
  },
  {
   "cell_type": "code",
   "execution_count": 21,
   "id": "be551a30-8d50-46fe-9a35-17034facc014",
   "metadata": {},
   "outputs": [
    {
     "data": {
      "text/html": [
       "<div>\n",
       "<style scoped>\n",
       "    .dataframe tbody tr th:only-of-type {\n",
       "        vertical-align: middle;\n",
       "    }\n",
       "\n",
       "    .dataframe tbody tr th {\n",
       "        vertical-align: top;\n",
       "    }\n",
       "\n",
       "    .dataframe thead th {\n",
       "        text-align: right;\n",
       "    }\n",
       "</style>\n",
       "<table border=\"1\" class=\"dataframe\">\n",
       "  <thead>\n",
       "    <tr style=\"text-align: right;\">\n",
       "      <th></th>\n",
       "      <th>id</th>\n",
       "      <th>gender</th>\n",
       "      <th>masterCategory</th>\n",
       "      <th>subCategory</th>\n",
       "      <th>articleType</th>\n",
       "      <th>productDisplayName</th>\n",
       "      <th>filename</th>\n",
       "    </tr>\n",
       "  </thead>\n",
       "  <tbody>\n",
       "    <tr>\n",
       "      <th>0</th>\n",
       "      <td>15970</td>\n",
       "      <td>Men</td>\n",
       "      <td>Apparel</td>\n",
       "      <td>Topwear</td>\n",
       "      <td>Shirts</td>\n",
       "      <td>Turtle Check Men Navy Blue Shirt</td>\n",
       "      <td>15970.jpg</td>\n",
       "    </tr>\n",
       "    <tr>\n",
       "      <th>1</th>\n",
       "      <td>39386</td>\n",
       "      <td>Men</td>\n",
       "      <td>Apparel</td>\n",
       "      <td>Bottomwear</td>\n",
       "      <td>Jeans</td>\n",
       "      <td>Peter England Men Party Blue Jeans</td>\n",
       "      <td>39386.jpg</td>\n",
       "    </tr>\n",
       "    <tr>\n",
       "      <th>2</th>\n",
       "      <td>59263</td>\n",
       "      <td>Women</td>\n",
       "      <td>Accessories</td>\n",
       "      <td>Watches</td>\n",
       "      <td>Watches</td>\n",
       "      <td>Titan Women Silver Watch</td>\n",
       "      <td>59263.jpg</td>\n",
       "    </tr>\n",
       "    <tr>\n",
       "      <th>3</th>\n",
       "      <td>21379</td>\n",
       "      <td>Men</td>\n",
       "      <td>Apparel</td>\n",
       "      <td>Bottomwear</td>\n",
       "      <td>Track Pants</td>\n",
       "      <td>Manchester United Men Solid Black Track Pants</td>\n",
       "      <td>21379.jpg</td>\n",
       "    </tr>\n",
       "    <tr>\n",
       "      <th>4</th>\n",
       "      <td>53759</td>\n",
       "      <td>Men</td>\n",
       "      <td>Apparel</td>\n",
       "      <td>Topwear</td>\n",
       "      <td>Tshirts</td>\n",
       "      <td>Puma Men Grey T-shirt</td>\n",
       "      <td>53759.jpg</td>\n",
       "    </tr>\n",
       "  </tbody>\n",
       "</table>\n",
       "</div>"
      ],
      "text/plain": [
       "      id gender masterCategory subCategory  articleType  \\\n",
       "0  15970    Men        Apparel     Topwear       Shirts   \n",
       "1  39386    Men        Apparel  Bottomwear        Jeans   \n",
       "2  59263  Women    Accessories     Watches      Watches   \n",
       "3  21379    Men        Apparel  Bottomwear  Track Pants   \n",
       "4  53759    Men        Apparel     Topwear      Tshirts   \n",
       "\n",
       "                              productDisplayName   filename  \n",
       "0               Turtle Check Men Navy Blue Shirt  15970.jpg  \n",
       "1             Peter England Men Party Blue Jeans  39386.jpg  \n",
       "2                       Titan Women Silver Watch  59263.jpg  \n",
       "3  Manchester United Men Solid Black Track Pants  21379.jpg  \n",
       "4                          Puma Men Grey T-shirt  53759.jpg  "
      ]
     },
     "execution_count": 21,
     "metadata": {},
     "output_type": "execute_result"
    }
   ],
   "source": [
    "#Adding a new column to dataset, with the file name\n",
    "data['filename'] = data['id'].astype(str)+'.jpg'\n",
    "data['filename'] = data['filename'].str.strip() \n",
    "data['filename'] = data['filename'].str.lower()  \n",
    "data.head()"
   ]
  },
  {
   "cell_type": "code",
   "execution_count": 22,
   "id": "3c6b2758-e095-46cc-8784-77265432407b",
   "metadata": {},
   "outputs": [],
   "source": [
    "IMAGES_DIR = f'{DATASET_DIR}/images'"
   ]
  },
  {
   "cell_type": "code",
   "execution_count": 23,
   "id": "8f85d575-d4d9-4000-a6de-98e4c5651ce1",
   "metadata": {},
   "outputs": [
    {
     "name": "stdout",
     "output_type": "stream",
     "text": [
      "Invalid filenames:\n",
      "\n",
      "39403.jpg\n",
      "39410.jpg\n",
      "39401.jpg\n",
      "39425.jpg\n",
      "12347.jpg\n"
     ]
    }
   ],
   "source": [
    "# Checking for invalid filenames and getting information about images\n",
    "invalid_filenames = []\n",
    "image_sizes = []\n",
    "all_images = []\n",
    "for filename in data['filename']:\n",
    "    file_path = os.path.join(IMAGES_DIR, filename)\n",
    "    if not os.path.exists(file_path):\n",
    "        invalid_filenames.append(filename)\n",
    "    else:\n",
    "        img = Image.open(file_path)\n",
    "        image_sizes.append(img.size)\n",
    "print(\"Invalid filenames:\\n\")\n",
    "for invalid in invalid_filenames:\n",
    "    print(invalid)\n"
   ]
  },
  {
   "cell_type": "code",
   "execution_count": 24,
   "id": "03b9c747-bb98-42fc-b812-9d089e9aaac0",
   "metadata": {},
   "outputs": [
    {
     "name": "stdout",
     "output_type": "stream",
     "text": [
      "\n",
      "All images in the directory have corresponding entries in the dataset.\n"
     ]
    }
   ],
   "source": [
    "# Checking for images which information might not be on the dataset \n",
    "all_images = set(os.listdir(IMAGES_DIR))\n",
    "dataset_filenames = set(data['filename'])\n",
    "orphaned_images = all_images-dataset_filenames\n",
    "if orphaned_images:\n",
    "    print(\"\\nOrphaned images (not in the dataset):\\n\")\n",
    "    for img in orphaned_images:\n",
    "        print(img)\n",
    "else:\n",
    "    print(\"\\nAll images in the directory have corresponding entries in the dataset.\")"
   ]
  },
  {
   "cell_type": "code",
   "execution_count": 25,
   "id": "24001b7f-70ac-4694-a0b3-7516278dffb6",
   "metadata": {},
   "outputs": [
    {
     "name": "stdout",
     "output_type": "stream",
     "text": [
      "Total images that will be used as input: 44441\n"
     ]
    }
   ],
   "source": [
    "#There are some missing images, we will just erase their information from the dataset\n",
    "data_cleaned = data[~data['filename'].isin(invalid_filenames)]\n",
    "print(f'Total images that will be used as input: {len(data_cleaned)}')"
   ]
  },
  {
   "cell_type": "code",
   "execution_count": 26,
   "id": "3efeca35-ae90-4722-977b-8b7ebffc59e3",
   "metadata": {},
   "outputs": [
    {
     "name": "stdout",
     "output_type": "stream",
     "text": [
      "Displaying image corresponding to the article 'Turtle Check Men Navy Blue Shirt' of type 'Shirts'\n"
     ]
    },
    {
     "data": {
      "image/jpeg": "[encoded data removed]",
      "image/png": "[encoded data removed]",
      "text/plain": [
       "<PIL.JpegImagePlugin.JpegImageFile image mode=RGB size=60x80>"
      ]
     },
     "execution_count": 26,
     "metadata": {},
     "output_type": "execute_result"
    }
   ],
   "source": [
    "#Load one of the images to check is dimensions\n",
    "sample_image_filename = data.iloc[0].filename\n",
    "sample_image_fullname = f'{IMAGES_DIR}/{sample_image_filename}'\n",
    "sample_image_displayName =  data.iloc[0].productDisplayName\n",
    "sample_image_articleType = data.iloc[0].articleType\n",
    "img = load_img(sample_image_fullname)\n",
    "\n",
    "print(f'Displaying image corresponding to the article \\'{sample_image_displayName}\\' of type \\'{sample_image_articleType}\\'')\n",
    "img"
   ]
  },
  {
   "cell_type": "code",
   "execution_count": 27,
   "id": "48739f92-f15e-422d-9847-353a055dd1cf",
   "metadata": {},
   "outputs": [
    {
     "data": {
      "text/plain": [
       "(80, 60, 3)"
      ]
     },
     "execution_count": 27,
     "metadata": {},
     "output_type": "execute_result"
    }
   ],
   "source": [
    "x=np.array(img)\n",
    "x.shape"
   ]
  },
  {
   "cell_type": "code",
   "execution_count": 28,
   "id": "d3e08a60-34ce-4e6d-975e-c9d185d5d2af",
   "metadata": {},
   "outputs": [
    {
     "data": {
      "image/png": "[encoded data removed]",
      "text/plain": [
       "<Figure size 640x480 with 1 Axes>"
      ]
     },
     "metadata": {},
     "output_type": "display_data"
    }
   ],
   "source": [
    "#Analyzing distribution of image dimensions\n",
    "width, height = zip(*image_sizes)\n",
    "plt.hist(width, bins=50, alpha=0.5, label='Width')\n",
    "plt.hist(height, bins=50, alpha=0.5, label='Height')\n",
    "plt.xlabel('Pixel Size')\n",
    "plt.ylabel('Frequency')\n",
    "plt.title('Distribution of Image Dimensions')\n",
    "plt.legend()\n",
    "plt.show()"
   ]
  },
  {
   "cell_type": "code",
   "execution_count": 29,
   "id": "9f7b113d-7aba-4f29-9b79-35d70280d099",
   "metadata": {},
   "outputs": [],
   "source": [
    "# Conclusion: All the images have a size of 60x80"
   ]
  },
  {
   "cell_type": "code",
   "execution_count": 30,
   "id": "e212da10-2432-447b-90c2-0226f40fc833",
   "metadata": {},
   "outputs": [],
   "source": [
    "# defining a target size for images\n",
    "TARGET_SIZE = (96, 96)\n",
    "#defining a batch size\n",
    "BATCH_SIZE=32\n",
    "#defining a max queue size (count of batches preloaded in the queue while the model is training)\n",
    "MAX_QUEUE_SIZE=10"
   ]
  },
  {
   "cell_type": "code",
   "execution_count": 31,
   "id": "20a6f411-c832-493e-a1bd-341931da3d32",
   "metadata": {},
   "outputs": [],
   "source": [
    "# calculating how many workers threads for loading data\n",
    "##warning: it is not certain that these parameters are being used by the ImageDataGenerator\n",
    "num_cores = os.cpu_count()\n",
    "workers = int(num_cores / 2)\n",
    "use_multiprocessing=False\n",
    "if workers>1:\n",
    "   use_multiprocessing=True"
   ]
  },
  {
   "cell_type": "code",
   "execution_count": 32,
   "id": "038b3b01-836c-4da7-8753-8070b6cc75e9",
   "metadata": {},
   "outputs": [],
   "source": [
    "#Read images by using ImageDataGenerator (we will use the articleType as our class)\n",
    "image_gen = ImageDataGenerator(preprocessing_function=preprocess_input, validation_split=0.2)"
   ]
  },
  {
   "cell_type": "code",
   "execution_count": 33,
   "id": "8fce23ac-f71c-47c9-a172-6aba57e72ee3",
   "metadata": {},
   "outputs": [
    {
     "name": "stdout",
     "output_type": "stream",
     "text": [
      "Found 35553 validated image filenames belonging to 142 classes.\n"
     ]
    }
   ],
   "source": [
    "train_gen = image_gen.flow_from_dataframe(\n",
    "    dataframe=data_cleaned,\n",
    "    directory=IMAGES_DIR, \n",
    "    x_col='filename',  \n",
    "    y_col='articleType', \n",
    "    target_size=TARGET_SIZE, \n",
    "    batch_size=BATCH_SIZE,\n",
    "    class_mode='categorical',  \n",
    "    subset='training',\n",
    "    workers = workers,\n",
    "    use_multiprocessing=use_multiprocessing,\n",
    "    max_queue_size=MAX_QUEUE_SIZE\n",
    ")"
   ]
  },
  {
   "cell_type": "code",
   "execution_count": 34,
   "id": "0c02b0d3-411b-4fc3-b01e-2cc05175baf5",
   "metadata": {},
   "outputs": [
    {
     "name": "stdout",
     "output_type": "stream",
     "text": [
      "Found 8888 validated image filenames belonging to 142 classes.\n"
     ]
    }
   ],
   "source": [
    "val_gen = image_gen.flow_from_dataframe(\n",
    "    dataframe=data_cleaned,\n",
    "    directory=IMAGES_DIR, \n",
    "    x_col='filename',  \n",
    "    y_col='articleType', \n",
    "    target_size=TARGET_SIZE, \n",
    "    batch_size=BATCH_SIZE,\n",
    "    class_mode='categorical',  \n",
    "    subset='validation',\n",
    "    workers = workers,\n",
    "    use_multiprocessing=use_multiprocessing,\n",
    "    max_queue_size=MAX_QUEUE_SIZE    \n",
    ")"
   ]
  },
  {
   "cell_type": "code",
   "execution_count": 35,
   "id": "cbd6d004-3275-45ef-8de7-728c20cdf162",
   "metadata": {},
   "outputs": [
    {
     "data": {
      "text/plain": [
       "{'Accessory Gift Set': 0,\n",
       " 'Baby Dolls': 1,\n",
       " 'Backpacks': 2,\n",
       " 'Bangle': 3,\n",
       " 'Basketballs': 4,\n",
       " 'Bath Robe': 5,\n",
       " 'Beauty Accessory': 6,\n",
       " 'Belts': 7,\n",
       " 'Blazers': 8,\n",
       " 'Body Lotion': 9,\n",
       " 'Body Wash and Scrub': 10,\n",
       " 'Booties': 11,\n",
       " 'Boxers': 12,\n",
       " 'Bra': 13,\n",
       " 'Bracelet': 14,\n",
       " 'Briefs': 15,\n",
       " 'Camisoles': 16,\n",
       " 'Capris': 17,\n",
       " 'Caps': 18,\n",
       " 'Casual Shoes': 19,\n",
       " 'Churidar': 20,\n",
       " 'Clothing Set': 21,\n",
       " 'Clutches': 22,\n",
       " 'Compact': 23,\n",
       " 'Concealer': 24,\n",
       " 'Cufflinks': 25,\n",
       " 'Cushion Covers': 26,\n",
       " 'Deodorant': 27,\n",
       " 'Dresses': 28,\n",
       " 'Duffel Bag': 29,\n",
       " 'Dupatta': 30,\n",
       " 'Earrings': 31,\n",
       " 'Eye Cream': 32,\n",
       " 'Eyeshadow': 33,\n",
       " 'Face Moisturisers': 34,\n",
       " 'Face Scrub and Exfoliator': 35,\n",
       " 'Face Serum and Gel': 36,\n",
       " 'Face Wash and Cleanser': 37,\n",
       " 'Flats': 38,\n",
       " 'Flip Flops': 39,\n",
       " 'Footballs': 40,\n",
       " 'Formal Shoes': 41,\n",
       " 'Foundation and Primer': 42,\n",
       " 'Fragrance Gift Set': 43,\n",
       " 'Free Gifts': 44,\n",
       " 'Gloves': 45,\n",
       " 'Hair Accessory': 46,\n",
       " 'Hair Colour': 47,\n",
       " 'Handbags': 48,\n",
       " 'Hat': 49,\n",
       " 'Headband': 50,\n",
       " 'Heels': 51,\n",
       " 'Highlighter and Blush': 52,\n",
       " 'Innerwear Vests': 53,\n",
       " 'Ipad': 54,\n",
       " 'Jackets': 55,\n",
       " 'Jeans': 56,\n",
       " 'Jeggings': 57,\n",
       " 'Jewellery Set': 58,\n",
       " 'Jumpsuit': 59,\n",
       " 'Kajal and Eyeliner': 60,\n",
       " 'Key chain': 61,\n",
       " 'Kurta Sets': 62,\n",
       " 'Kurtas': 63,\n",
       " 'Kurtis': 64,\n",
       " 'Laptop Bag': 65,\n",
       " 'Leggings': 66,\n",
       " 'Lehenga Choli': 67,\n",
       " 'Lip Care': 68,\n",
       " 'Lip Gloss': 69,\n",
       " 'Lip Liner': 70,\n",
       " 'Lip Plumper': 71,\n",
       " 'Lipstick': 72,\n",
       " 'Lounge Pants': 73,\n",
       " 'Lounge Shorts': 74,\n",
       " 'Lounge Tshirts': 75,\n",
       " 'Makeup Remover': 76,\n",
       " 'Mascara': 77,\n",
       " 'Mask and Peel': 78,\n",
       " 'Mens Grooming Kit': 79,\n",
       " 'Messenger Bag': 80,\n",
       " 'Mobile Pouch': 81,\n",
       " 'Mufflers': 82,\n",
       " 'Nail Essentials': 83,\n",
       " 'Nail Polish': 84,\n",
       " 'Necklace and Chains': 85,\n",
       " 'Nehru Jackets': 86,\n",
       " 'Night suits': 87,\n",
       " 'Nightdress': 88,\n",
       " 'Patiala': 89,\n",
       " 'Pendant': 90,\n",
       " 'Perfume and Body Mist': 91,\n",
       " 'Rain Jacket': 92,\n",
       " 'Rain Trousers': 93,\n",
       " 'Ring': 94,\n",
       " 'Robe': 95,\n",
       " 'Rompers': 96,\n",
       " 'Rucksacks': 97,\n",
       " 'Salwar': 98,\n",
       " 'Salwar and Dupatta': 99,\n",
       " 'Sandals': 100,\n",
       " 'Sarees': 101,\n",
       " 'Scarves': 102,\n",
       " 'Shapewear': 103,\n",
       " 'Shirts': 104,\n",
       " 'Shoe Accessories': 105,\n",
       " 'Shoe Laces': 106,\n",
       " 'Shorts': 107,\n",
       " 'Shrug': 108,\n",
       " 'Skirts': 109,\n",
       " 'Socks': 110,\n",
       " 'Sports Sandals': 111,\n",
       " 'Sports Shoes': 112,\n",
       " 'Stockings': 113,\n",
       " 'Stoles': 114,\n",
       " 'Sunglasses': 115,\n",
       " 'Sunscreen': 116,\n",
       " 'Suspenders': 117,\n",
       " 'Sweaters': 118,\n",
       " 'Sweatshirts': 119,\n",
       " 'Swimwear': 120,\n",
       " 'Tablet Sleeve': 121,\n",
       " 'Ties': 122,\n",
       " 'Ties and Cufflinks': 123,\n",
       " 'Tights': 124,\n",
       " 'Toner': 125,\n",
       " 'Tops': 126,\n",
       " 'Track Pants': 127,\n",
       " 'Tracksuits': 128,\n",
       " 'Travel Accessory': 129,\n",
       " 'Trolley Bag': 130,\n",
       " 'Trousers': 131,\n",
       " 'Trunk': 132,\n",
       " 'Tshirts': 133,\n",
       " 'Tunics': 134,\n",
       " 'Umbrellas': 135,\n",
       " 'Waist Pouch': 136,\n",
       " 'Waistcoat': 137,\n",
       " 'Wallets': 138,\n",
       " 'Watches': 139,\n",
       " 'Water Bottle': 140,\n",
       " 'Wristbands': 141}"
      ]
     },
     "execution_count": 35,
     "metadata": {},
     "output_type": "execute_result"
    }
   ],
   "source": [
    "#Classes for the images\n",
    "class_indices= train_gen.class_indices\n",
    "class_indices"
   ]
  },
  {
   "cell_type": "code",
   "execution_count": 36,
   "id": "fe5cb910-0227-44f9-8cbf-4b0d6a0bfe70",
   "metadata": {},
   "outputs": [
    {
     "name": "stdout",
     "output_type": "stream",
     "text": [
      "Category count:  142\n"
     ]
    }
   ],
   "source": [
    "count_classes = len(class_indices)\n",
    "print (f'Category count:  {count_classes}')"
   ]
  },
  {
   "cell_type": "code",
   "execution_count": 37,
   "id": "8ffa49a5-725a-4f55-bfed-4aeb4291cff2",
   "metadata": {},
   "outputs": [
    {
     "name": "stdout",
     "output_type": "stream",
     "text": [
      "Batch shape: (32, 96, 96, 3)\n"
     ]
    }
   ],
   "source": [
    "#check size of images and batches\n",
    "batch_images, batch_labels = next(train_gen)  \n",
    "print(\"Batch shape:\", batch_images.shape) "
   ]
  },
  {
   "cell_type": "code",
   "execution_count": 38,
   "id": "6c028d54-d2e2-4917-8a61-64e5e9edece2",
   "metadata": {},
   "outputs": [
    {
     "data": {
      "text/html": [
       "<div>\n",
       "<style scoped>\n",
       "    .dataframe tbody tr th:only-of-type {\n",
       "        vertical-align: middle;\n",
       "    }\n",
       "\n",
       "    .dataframe tbody tr th {\n",
       "        vertical-align: top;\n",
       "    }\n",
       "\n",
       "    .dataframe thead th {\n",
       "        text-align: right;\n",
       "    }\n",
       "</style>\n",
       "<table border=\"1\" class=\"dataframe\">\n",
       "  <thead>\n",
       "    <tr style=\"text-align: right;\">\n",
       "      <th></th>\n",
       "      <th>articleType</th>\n",
       "      <th>count</th>\n",
       "    </tr>\n",
       "  </thead>\n",
       "  <tbody>\n",
       "    <tr>\n",
       "      <th>134</th>\n",
       "      <td>Tshirts</td>\n",
       "      <td>7070</td>\n",
       "    </tr>\n",
       "    <tr>\n",
       "      <th>104</th>\n",
       "      <td>Shirts</td>\n",
       "      <td>3217</td>\n",
       "    </tr>\n",
       "    <tr>\n",
       "      <th>19</th>\n",
       "      <td>Casual Shoes</td>\n",
       "      <td>2846</td>\n",
       "    </tr>\n",
       "    <tr>\n",
       "      <th>140</th>\n",
       "      <td>Watches</td>\n",
       "      <td>2542</td>\n",
       "    </tr>\n",
       "    <tr>\n",
       "      <th>112</th>\n",
       "      <td>Sports Shoes</td>\n",
       "      <td>2036</td>\n",
       "    </tr>\n",
       "    <tr>\n",
       "      <th>...</th>\n",
       "      <td>...</td>\n",
       "      <td>...</td>\n",
       "    </tr>\n",
       "    <tr>\n",
       "      <th>46</th>\n",
       "      <td>Hair Accessory</td>\n",
       "      <td>1</td>\n",
       "    </tr>\n",
       "    <tr>\n",
       "      <th>54</th>\n",
       "      <td>Ipad</td>\n",
       "      <td>1</td>\n",
       "    </tr>\n",
       "    <tr>\n",
       "      <th>79</th>\n",
       "      <td>Mens Grooming Kit</td>\n",
       "      <td>1</td>\n",
       "    </tr>\n",
       "    <tr>\n",
       "      <th>106</th>\n",
       "      <td>Shoe Laces</td>\n",
       "      <td>1</td>\n",
       "    </tr>\n",
       "    <tr>\n",
       "      <th>115</th>\n",
       "      <td>Suits</td>\n",
       "      <td>1</td>\n",
       "    </tr>\n",
       "  </tbody>\n",
       "</table>\n",
       "<p>143 rows × 2 columns</p>\n",
       "</div>"
      ],
      "text/plain": [
       "           articleType  count\n",
       "134            Tshirts   7070\n",
       "104             Shirts   3217\n",
       "19        Casual Shoes   2846\n",
       "140            Watches   2542\n",
       "112       Sports Shoes   2036\n",
       "..                 ...    ...\n",
       "46      Hair Accessory      1\n",
       "54                Ipad      1\n",
       "79   Mens Grooming Kit      1\n",
       "106         Shoe Laces      1\n",
       "115              Suits      1\n",
       "\n",
       "[143 rows x 2 columns]"
      ]
     },
     "execution_count": 38,
     "metadata": {},
     "output_type": "execute_result"
    }
   ],
   "source": [
    "#Analyzing how many articles are there per class\n",
    "sub_category_counts =data.groupby('articleType').size().reset_index(name='count')\n",
    "sub_category_counts.sort_values(by='count', ascending=False)"
   ]
  },
  {
   "cell_type": "code",
   "execution_count": 104,
   "id": "77050156-fb53-45cc-a1af-7108d1494ccd",
   "metadata": {},
   "outputs": [],
   "source": [
    "# Conclusion: There are some categories for which we have very few samples"
   ]
  },
  {
   "cell_type": "markdown",
   "id": "4f59e303-4f26-4045-bae2-de47ddcb902e",
   "metadata": {},
   "source": [
    "# Transfering learning"
   ]
  },
  {
   "cell_type": "markdown",
   "id": "8b9a7298-572b-4cf4-9eff-ad210fa74a01",
   "metadata": {},
   "source": [
    "## Create Model v1 with MobileNetV2"
   ]
  },
  {
   "cell_type": "code",
   "execution_count": 105,
   "id": "b1ad0691-bd9f-44d6-b039-8454653c8dc8",
   "metadata": {},
   "outputs": [],
   "source": [
    "def make_model_Mobile_v1(learning_rate=0.01):\n",
    "    #clear any unused session\n",
    "    tf.keras.backend.clear_session()\n",
    "\n",
    "    #creating a base model\n",
    "    input_shape = (TARGET_SIZE[0], TARGET_SIZE[1], 3)\n",
    "    base_model =MobileNetV2(weights='imagenet', input_shape=input_shape, include_top=False)\n",
    "    # create a model from the base model\n",
    "    base_model.trainable=False\n",
    "    inputs = keras.Input(shape=input_shape)\n",
    "    base = base_model(inputs, training=False)\n",
    "    \n",
    "    #pooling layer\n",
    "    pooling = keras.layers.GlobalAveragePooling2D()\n",
    "    vectors = pooling(base)\n",
    "    \n",
    "    #dense layer\n",
    "    outputs = keras.layers.Dense(count_classes, activation='softmax')(vectors)\n",
    "\n",
    "    #final model\n",
    "    model = keras.Model(inputs, outputs)\n",
    "\n",
    "    #compile de model\n",
    "    optimizer =keras.optimizers.Adam(learning_rate=learning_rate)\n",
    "    loss=keras.losses.CategoricalCrossentropy(from_logits=False)\n",
    "    model.compile(optimizer=optimizer, loss=loss, metrics=['accuracy'])\n",
    "    return model"
   ]
  },
  {
   "cell_type": "code",
   "execution_count": 106,
   "id": "7f9fe8ce-b73c-4fde-85e6-986bd114a53a",
   "metadata": {},
   "outputs": [],
   "source": [
    "model = make_model_Mobile_v1()"
   ]
  },
  {
   "cell_type": "code",
   "execution_count": 107,
   "id": "586a68b3-d64c-4d0b-b440-53424831b1a0",
   "metadata": {},
   "outputs": [
    {
     "name": "stdout",
     "output_type": "stream",
     "text": [
      "Epoch 1/10\n",
      "\u001b[1m1112/1112\u001b[0m \u001b[32m━━━━━━━━━━━━━━━━━━━━\u001b[0m\u001b[37m\u001b[0m \u001b[1m33s\u001b[0m 25ms/step - accuracy: 0.6263 - loss: 3.2960 - val_accuracy: 0.7490 - val_loss: 3.0286\n",
      "Epoch 2/10\n",
      "\u001b[1m1112/1112\u001b[0m \u001b[32m━━━━━━━━━━━━━━━━━━━━\u001b[0m\u001b[37m\u001b[0m \u001b[1m22s\u001b[0m 20ms/step - accuracy: 0.7578 - loss: 2.8071 - val_accuracy: 0.7458 - val_loss: 3.1769\n",
      "Epoch 3/10\n",
      "\u001b[1m1112/1112\u001b[0m \u001b[32m━━━━━━━━━━━━━━━━━━━━\u001b[0m\u001b[37m\u001b[0m \u001b[1m20s\u001b[0m 18ms/step - accuracy: 0.7770 - loss: 2.7656 - val_accuracy: 0.7447 - val_loss: 3.1625\n",
      "Epoch 4/10\n",
      "\u001b[1m1112/1112\u001b[0m \u001b[32m━━━━━━━━━━━━━━━━━━━━\u001b[0m\u001b[37m\u001b[0m \u001b[1m22s\u001b[0m 19ms/step - accuracy: 0.7907 - loss: 2.6555 - val_accuracy: 0.7554 - val_loss: 3.1462\n",
      "Epoch 5/10\n",
      "\u001b[1m1112/1112\u001b[0m \u001b[32m━━━━━━━━━━━━━━━━━━━━\u001b[0m\u001b[37m\u001b[0m \u001b[1m18s\u001b[0m 17ms/step - accuracy: 0.7994 - loss: 2.5303 - val_accuracy: 0.7667 - val_loss: 3.0330\n",
      "Epoch 6/10\n",
      "\u001b[1m1112/1112\u001b[0m \u001b[32m━━━━━━━━━━━━━━━━━━━━\u001b[0m\u001b[37m\u001b[0m \u001b[1m29s\u001b[0m 26ms/step - accuracy: 0.8157 - loss: 2.3552 - val_accuracy: 0.7285 - val_loss: 3.5368\n",
      "Epoch 7/10\n",
      "\u001b[1m1112/1112\u001b[0m \u001b[32m━━━━━━━━━━━━━━━━━━━━\u001b[0m\u001b[37m\u001b[0m \u001b[1m27s\u001b[0m 24ms/step - accuracy: 0.8164 - loss: 2.3804 - val_accuracy: 0.7716 - val_loss: 3.0297\n",
      "Epoch 8/10\n",
      "\u001b[1m1112/1112\u001b[0m \u001b[32m━━━━━━━━━━━━━━━━━━━━\u001b[0m\u001b[37m\u001b[0m \u001b[1m31s\u001b[0m 28ms/step - accuracy: 0.8225 - loss: 2.3107 - val_accuracy: 0.7721 - val_loss: 3.0362\n",
      "Epoch 9/10\n",
      "\u001b[1m1112/1112\u001b[0m \u001b[32m━━━━━━━━━━━━━━━━━━━━\u001b[0m\u001b[37m\u001b[0m \u001b[1m22s\u001b[0m 20ms/step - accuracy: 0.8330 - loss: 2.2008 - val_accuracy: 0.7797 - val_loss: 2.9207\n",
      "Epoch 10/10\n",
      "\u001b[1m1112/1112\u001b[0m \u001b[32m━━━━━━━━━━━━━━━━━━━━\u001b[0m\u001b[37m\u001b[0m \u001b[1m26s\u001b[0m 24ms/step - accuracy: 0.8317 - loss: 2.2162 - val_accuracy: 0.7778 - val_loss: 2.9814\n"
     ]
    }
   ],
   "source": [
    "#train the model\n",
    "history=model.fit(train_gen, epochs=10, validation_data=val_gen)"
   ]
  },
  {
   "cell_type": "code",
   "execution_count": 108,
   "id": "96e4f13b-bad5-414d-94cf-67b1f83a4a02",
   "metadata": {},
   "outputs": [
    {
     "data": {
      "text/plain": [
       "<matplotlib.legend.Legend at 0x7f6c5c150da0>"
      ]
     },
     "execution_count": 108,
     "metadata": {},
     "output_type": "execute_result"
    },
    {
     "data": {
      "image/png": "[encoded data removed]",
      "text/plain": [
       "<Figure size 640x480 with 1 Axes>"
      ]
     },
     "metadata": {},
     "output_type": "display_data"
    }
   ],
   "source": [
    "plt.plot(history.history['accuracy'], label='train')\n",
    "plt.plot(history.history['val_accuracy'], label='val')\n",
    "plt.xticks(np.arange(10))\n",
    "plt.legend()"
   ]
  },
  {
   "cell_type": "code",
   "execution_count": 109,
   "id": "df5a6dea-2a1a-4e20-a0a7-b31346f934ec",
   "metadata": {},
   "outputs": [],
   "source": [
    "#Conclusion after training: the model is overfitting"
   ]
  },
  {
   "cell_type": "code",
   "execution_count": 110,
   "id": "be7f7a08-0867-4589-90e0-002758521640",
   "metadata": {},
   "outputs": [
    {
     "name": "stdout",
     "output_type": "stream",
     "text": [
      "\u001b[1m1/1\u001b[0m \u001b[32m━━━━━━━━━━━━━━━━━━━━\u001b[0m\u001b[37m\u001b[0m \u001b[1m2s\u001b[0m 2s/step\n"
     ]
    },
    {
     "data": {
      "text/plain": [
       "array([[0., 0., 0., 0., 0., 0., 0., 0., 0., 0., 0., 0., 0., 0., 0., 0.,\n",
       "        0., 0., 0., 0., 0., 0., 0., 0., 0., 0., 0., 0., 0., 0., 0., 0.,\n",
       "        0., 0., 0., 0., 0., 0., 0., 0., 0., 0., 0., 0., 0., 0., 0., 0.,\n",
       "        0., 0., 0., 0., 0., 0., 0., 0., 0., 0., 0., 0., 0., 0., 0., 0.,\n",
       "        0., 0., 0., 0., 0., 0., 0., 0., 0., 0., 0., 0., 0., 0., 0., 0.,\n",
       "        0., 0., 0., 0., 0., 0., 0., 0., 0., 0., 0., 0., 0., 0., 0., 0.,\n",
       "        0., 0., 0., 0., 0., 0., 0., 0., 1., 0., 0., 0., 0., 0., 0., 0.,\n",
       "        0., 0., 0., 0., 0., 0., 0., 0., 0., 0., 0., 0., 0., 0., 0., 0.,\n",
       "        0., 0., 0., 0., 0., 0., 0., 0., 0., 0., 0., 0., 0., 0.]],\n",
       "      dtype=float16)"
      ]
     },
     "execution_count": 110,
     "metadata": {},
     "output_type": "execute_result"
    }
   ],
   "source": [
    "#run prediction for the image used as example\n",
    "img = load_img(sample_image_fullname, target_size=TARGET_SIZE)\n",
    "x=np.array(img)\n",
    "x = preprocess_input(x)\n",
    "X = np.array([x])\n",
    "preds = model.predict(X)\n",
    "preds"
   ]
  },
  {
   "cell_type": "code",
   "execution_count": 111,
   "id": "dcead9c1-87fb-46ab-80e5-83adde3fc2db",
   "metadata": {},
   "outputs": [
    {
     "name": "stdout",
     "output_type": "stream",
     "text": [
      "The predicted class for the sample image: 'Turtle Check Men Navy Blue Shirt', was 'Shirts' with a probability of: 1.0000\n"
     ]
    }
   ],
   "source": [
    "# Get the index of the highest probability\n",
    "predicted_index = np.argmax(preds, axis=1)[0] \n",
    "\n",
    "class_labels = {v: k for k, v in train_gen.class_indices.items()}\n",
    "predicted_class_name = class_labels[predicted_index]\n",
    "\n",
    "# Print the result\n",
    "print(f\"The predicted class for the sample image: '{sample_image_displayName}', \"\n",
    "      f\"was '{predicted_class_name}' with a probability of: {preds[0][predicted_index]:.4f}\")"
   ]
  },
  {
   "cell_type": "markdown",
   "id": "5d0aa0ee-1512-428c-ae14-cb5f2c0241d2",
   "metadata": {},
   "source": [
    "### Adjusting learning rate for Model version 1"
   ]
  },
  {
   "cell_type": "code",
   "execution_count": 113,
   "id": "612c3a6c-0a1f-4f5b-b769-ca1436b25ed6",
   "metadata": {},
   "outputs": [
    {
     "name": "stdout",
     "output_type": "stream",
     "text": [
      "Training with different learning rates:\n",
      "\n",
      "0.0001\n",
      "Epoch 1/10\n",
      "\u001b[1m1112/1112\u001b[0m \u001b[32m━━━━━━━━━━━━━━━━━━━━\u001b[0m\u001b[37m\u001b[0m \u001b[1m34s\u001b[0m 26ms/step - accuracy: 0.4170 - loss: 2.6066 - val_accuracy: 0.7240 - val_loss: 0.9923\n",
      "Epoch 2/10\n",
      "\u001b[1m1112/1112\u001b[0m \u001b[32m━━━━━━━━━━━━━━━━━━━━\u001b[0m\u001b[37m\u001b[0m \u001b[1m23s\u001b[0m 20ms/step - accuracy: 0.7508 - loss: 0.8599 - val_accuracy: 0.7719 - val_loss: 0.7744\n",
      "Epoch 3/10\n",
      "\u001b[1m1112/1112\u001b[0m \u001b[32m━━━━━━━━━━━━━━━━━━━━\u001b[0m\u001b[37m\u001b[0m \u001b[1m18s\u001b[0m 16ms/step - accuracy: 0.7971 - loss: 0.6654 - val_accuracy: 0.7934 - val_loss: 0.6927\n",
      "Epoch 4/10\n",
      "\u001b[1m1112/1112\u001b[0m \u001b[32m━━━━━━━━━━━━━━━━━━━━\u001b[0m\u001b[37m\u001b[0m \u001b[1m22s\u001b[0m 20ms/step - accuracy: 0.8219 - loss: 0.5718 - val_accuracy: 0.8041 - val_loss: 0.6436\n",
      "Epoch 5/10\n",
      "\u001b[1m1112/1112\u001b[0m \u001b[32m━━━━━━━━━━━━━━━━━━━━\u001b[0m\u001b[37m\u001b[0m \u001b[1m20s\u001b[0m 18ms/step - accuracy: 0.8406 - loss: 0.5026 - val_accuracy: 0.8122 - val_loss: 0.6187\n",
      "Epoch 6/10\n",
      "\u001b[1m1112/1112\u001b[0m \u001b[32m━━━━━━━━━━━━━━━━━━━━\u001b[0m\u001b[37m\u001b[0m \u001b[1m23s\u001b[0m 21ms/step - accuracy: 0.8568 - loss: 0.4527 - val_accuracy: 0.8167 - val_loss: 0.5977\n",
      "Epoch 7/10\n",
      "\u001b[1m1112/1112\u001b[0m \u001b[32m━━━━━━━━━━━━━━━━━━━━\u001b[0m\u001b[37m\u001b[0m \u001b[1m29s\u001b[0m 26ms/step - accuracy: 0.8687 - loss: 0.4215 - val_accuracy: 0.8213 - val_loss: 0.5808\n",
      "Epoch 8/10\n",
      "\u001b[1m1112/1112\u001b[0m \u001b[32m━━━━━━━━━━━━━━━━━━━━\u001b[0m\u001b[37m\u001b[0m \u001b[1m28s\u001b[0m 25ms/step - accuracy: 0.8762 - loss: 0.3939 - val_accuracy: 0.8258 - val_loss: 0.5715\n",
      "Epoch 9/10\n",
      "\u001b[1m1112/1112\u001b[0m \u001b[32m━━━━━━━━━━━━━━━━━━━━\u001b[0m\u001b[37m\u001b[0m \u001b[1m26s\u001b[0m 23ms/step - accuracy: 0.8863 - loss: 0.3642 - val_accuracy: 0.8268 - val_loss: 0.5625\n",
      "Epoch 10/10\n",
      "\u001b[1m1112/1112\u001b[0m \u001b[32m━━━━━━━━━━━━━━━━━━━━\u001b[0m\u001b[37m\u001b[0m \u001b[1m26s\u001b[0m 23ms/step - accuracy: 0.8875 - loss: 0.3570 - val_accuracy: 0.8340 - val_loss: 0.5562\n",
      "\n",
      "\n",
      "0.001\n",
      "Epoch 1/10\n",
      "\u001b[1m1112/1112\u001b[0m \u001b[32m━━━━━━━━━━━━━━━━━━━━\u001b[0m\u001b[37m\u001b[0m \u001b[1m39s\u001b[0m 29ms/step - accuracy: 0.6505 - loss: 1.4665 - val_accuracy: 0.7919 - val_loss: 0.6759\n",
      "Epoch 2/10\n",
      "\u001b[1m1112/1112\u001b[0m \u001b[32m━━━━━━━━━━━━━━━━━━━━\u001b[0m\u001b[37m\u001b[0m \u001b[1m26s\u001b[0m 23ms/step - accuracy: 0.8609 - loss: 0.4274 - val_accuracy: 0.8157 - val_loss: 0.6407\n",
      "Epoch 3/10\n",
      "\u001b[1m1112/1112\u001b[0m \u001b[32m━━━━━━━━━━━━━━━━━━━━\u001b[0m\u001b[37m\u001b[0m \u001b[1m26s\u001b[0m 23ms/step - accuracy: 0.8862 - loss: 0.3353 - val_accuracy: 0.8328 - val_loss: 0.5981\n",
      "Epoch 4/10\n",
      "\u001b[1m1112/1112\u001b[0m \u001b[32m━━━━━━━━━━━━━━━━━━━━\u001b[0m\u001b[37m\u001b[0m \u001b[1m29s\u001b[0m 26ms/step - accuracy: 0.9077 - loss: 0.2723 - val_accuracy: 0.8286 - val_loss: 0.6254\n",
      "Epoch 5/10\n",
      "\u001b[1m1112/1112\u001b[0m \u001b[32m━━━━━━━━━━━━━━━━━━━━\u001b[0m\u001b[37m\u001b[0m \u001b[1m23s\u001b[0m 21ms/step - accuracy: 0.9177 - loss: 0.2387 - val_accuracy: 0.8333 - val_loss: 0.6167\n",
      "Epoch 6/10\n",
      "\u001b[1m1112/1112\u001b[0m \u001b[32m━━━━━━━━━━━━━━━━━━━━\u001b[0m\u001b[37m\u001b[0m \u001b[1m27s\u001b[0m 24ms/step - accuracy: 0.9266 - loss: 0.2177 - val_accuracy: 0.8326 - val_loss: 0.6415\n",
      "Epoch 7/10\n",
      "\u001b[1m1112/1112\u001b[0m \u001b[32m━━━━━━━━━━━━━━━━━━━━\u001b[0m\u001b[37m\u001b[0m \u001b[1m25s\u001b[0m 23ms/step - accuracy: 0.9339 - loss: 0.1927 - val_accuracy: 0.8304 - val_loss: 0.6609\n",
      "Epoch 8/10\n",
      "\u001b[1m1112/1112\u001b[0m \u001b[32m━━━━━━━━━━━━━━━━━━━━\u001b[0m\u001b[37m\u001b[0m \u001b[1m28s\u001b[0m 25ms/step - accuracy: 0.9379 - loss: 0.1807 - val_accuracy: 0.8294 - val_loss: 0.6718\n",
      "Epoch 9/10\n",
      "\u001b[1m1112/1112\u001b[0m \u001b[32m━━━━━━━━━━━━━━━━━━━━\u001b[0m\u001b[37m\u001b[0m \u001b[1m23s\u001b[0m 20ms/step - accuracy: 0.9439 - loss: 0.1639 - val_accuracy: 0.8333 - val_loss: 0.6896\n",
      "Epoch 10/10\n",
      "\u001b[1m1112/1112\u001b[0m \u001b[32m━━━━━━━━━━━━━━━━━━━━\u001b[0m\u001b[37m\u001b[0m \u001b[1m27s\u001b[0m 24ms/step - accuracy: 0.9464 - loss: 0.1548 - val_accuracy: 0.8330 - val_loss: 0.7264\n",
      "\n",
      "\n",
      "0.01\n",
      "Epoch 1/10\n",
      "\u001b[1m1112/1112\u001b[0m \u001b[32m━━━━━━━━━━━━━━━━━━━━\u001b[0m\u001b[37m\u001b[0m \u001b[1m37s\u001b[0m 28ms/step - accuracy: 0.5941 - loss: 3.9938 - val_accuracy: 0.6683 - val_loss: 4.1318\n",
      "Epoch 2/10\n",
      "\u001b[1m1112/1112\u001b[0m \u001b[32m━━━━━━━━━━━━━━━━━━━━\u001b[0m\u001b[37m\u001b[0m \u001b[1m26s\u001b[0m 23ms/step - accuracy: 0.7117 - loss: 3.6615 - val_accuracy: 0.7000 - val_loss: 3.9004\n",
      "Epoch 3/10\n",
      "\u001b[1m1112/1112\u001b[0m \u001b[32m━━━━━━━━━━━━━━━━━━━━\u001b[0m\u001b[37m\u001b[0m \u001b[1m22s\u001b[0m 20ms/step - accuracy: 0.7237 - loss: 3.6483 - val_accuracy: 0.6967 - val_loss: 4.0541\n",
      "Epoch 4/10\n",
      "\u001b[1m1112/1112\u001b[0m \u001b[32m━━━━━━━━━━━━━━━━━━━━\u001b[0m\u001b[37m\u001b[0m \u001b[1m27s\u001b[0m 24ms/step - accuracy: 0.7454 - loss: 3.4186 - val_accuracy: 0.7245 - val_loss: 3.6331\n",
      "Epoch 5/10\n",
      "\u001b[1m1112/1112\u001b[0m \u001b[32m━━━━━━━━━━━━━━━━━━━━\u001b[0m\u001b[37m\u001b[0m \u001b[1m26s\u001b[0m 24ms/step - accuracy: 0.7641 - loss: 3.1709 - val_accuracy: 0.7364 - val_loss: 3.4511\n",
      "Epoch 6/10\n",
      "\u001b[1m1112/1112\u001b[0m \u001b[32m━━━━━━━━━━━━━━━━━━━━\u001b[0m\u001b[37m\u001b[0m \u001b[1m26s\u001b[0m 23ms/step - accuracy: 0.7879 - loss: 2.8546 - val_accuracy: 0.7484 - val_loss: 3.4010\n",
      "Epoch 7/10\n",
      "\u001b[1m1112/1112\u001b[0m \u001b[32m━━━━━━━━━━━━━━━━━━━━\u001b[0m\u001b[37m\u001b[0m \u001b[1m25s\u001b[0m 23ms/step - accuracy: 0.7965 - loss: 2.7345 - val_accuracy: 0.7457 - val_loss: 3.3979\n",
      "Epoch 8/10\n",
      "\u001b[1m1112/1112\u001b[0m \u001b[32m━━━━━━━━━━━━━━━━━━━━\u001b[0m\u001b[37m\u001b[0m \u001b[1m26s\u001b[0m 24ms/step - accuracy: 0.8049 - loss: 2.6606 - val_accuracy: 0.7563 - val_loss: 3.3609\n",
      "Epoch 9/10\n",
      "\u001b[1m1112/1112\u001b[0m \u001b[32m━━━━━━━━━━━━━━━━━━━━\u001b[0m\u001b[37m\u001b[0m \u001b[1m25s\u001b[0m 22ms/step - accuracy: 0.8069 - loss: 2.6766 - val_accuracy: 0.7429 - val_loss: 3.4953\n",
      "Epoch 10/10\n",
      "\u001b[1m1112/1112\u001b[0m \u001b[32m━━━━━━━━━━━━━━━━━━━━\u001b[0m\u001b[37m\u001b[0m \u001b[1m31s\u001b[0m 27ms/step - accuracy: 0.8075 - loss: 2.6424 - val_accuracy: 0.7566 - val_loss: 3.3204\n",
      "\n",
      "\n",
      "0.1\n",
      "Epoch 1/10\n",
      "\u001b[1m1112/1112\u001b[0m \u001b[32m━━━━━━━━━━━━━━━━━━━━\u001b[0m\u001b[37m\u001b[0m \u001b[1m36s\u001b[0m 27ms/step - accuracy: 0.4133 - loss: 8.8323 - val_accuracy: 0.4867 - val_loss: 8.2126\n",
      "Epoch 2/10\n",
      "\u001b[1m1112/1112\u001b[0m \u001b[32m━━━━━━━━━━━━━━━━━━━━\u001b[0m\u001b[37m\u001b[0m \u001b[1m28s\u001b[0m 26ms/step - accuracy: 0.4972 - loss: 8.0606 - val_accuracy: 0.5200 - val_loss: 7.6935\n",
      "Epoch 3/10\n",
      "\u001b[1m 744/1112\u001b[0m \u001b[32m━━━━━━━━━━━━━\u001b[0m\u001b[37m━━━━━━━\u001b[0m \u001b[1m6s\u001b[0m 17ms/step - accuracy: 0.5160 - loss: 7.7731 "
     ]
    },
    {
     "ename": "KeyboardInterrupt",
     "evalue": "",
     "output_type": "error",
     "traceback": [
      "\u001b[0;31m---------------------------------------------------------------------------\u001b[0m",
      "\u001b[0;31mKeyboardInterrupt\u001b[0m                         Traceback (most recent call last)",
      "Cell \u001b[0;32mIn[113], line 6\u001b[0m\n\u001b[1;32m      4\u001b[0m \u001b[38;5;28mprint\u001b[39m(lr)\n\u001b[1;32m      5\u001b[0m model \u001b[38;5;241m=\u001b[39m make_model_Mobile_v1(learning_rate\u001b[38;5;241m=\u001b[39mlr)\n\u001b[0;32m----> 6\u001b[0m history \u001b[38;5;241m=\u001b[39m \u001b[43mmodel\u001b[49m\u001b[38;5;241;43m.\u001b[39;49m\u001b[43mfit\u001b[49m\u001b[43m(\u001b[49m\u001b[43mtrain_gen\u001b[49m\u001b[43m,\u001b[49m\u001b[43m \u001b[49m\u001b[43mepochs\u001b[49m\u001b[38;5;241;43m=\u001b[39;49m\u001b[38;5;241;43m10\u001b[39;49m\u001b[43m,\u001b[49m\u001b[43m \u001b[49m\u001b[43mvalidation_data\u001b[49m\u001b[38;5;241;43m=\u001b[39;49m\u001b[43mval_gen\u001b[49m\u001b[43m)\u001b[49m\n\u001b[1;32m      7\u001b[0m scores[lr]\u001b[38;5;241m=\u001b[39m history\u001b[38;5;241m.\u001b[39mhistory\n\u001b[1;32m      9\u001b[0m \u001b[38;5;28mprint\u001b[39m()\n",
      "File \u001b[0;32m~/.local/share/virtualenvs/fashion-classification-v_MBemJN/lib/python3.12/site-packages/keras/src/utils/traceback_utils.py:117\u001b[0m, in \u001b[0;36mfilter_traceback.<locals>.error_handler\u001b[0;34m(*args, **kwargs)\u001b[0m\n\u001b[1;32m    115\u001b[0m filtered_tb \u001b[38;5;241m=\u001b[39m \u001b[38;5;28;01mNone\u001b[39;00m\n\u001b[1;32m    116\u001b[0m \u001b[38;5;28;01mtry\u001b[39;00m:\n\u001b[0;32m--> 117\u001b[0m     \u001b[38;5;28;01mreturn\u001b[39;00m \u001b[43mfn\u001b[49m\u001b[43m(\u001b[49m\u001b[38;5;241;43m*\u001b[39;49m\u001b[43margs\u001b[49m\u001b[43m,\u001b[49m\u001b[43m \u001b[49m\u001b[38;5;241;43m*\u001b[39;49m\u001b[38;5;241;43m*\u001b[39;49m\u001b[43mkwargs\u001b[49m\u001b[43m)\u001b[49m\n\u001b[1;32m    118\u001b[0m \u001b[38;5;28;01mexcept\u001b[39;00m \u001b[38;5;167;01mException\u001b[39;00m \u001b[38;5;28;01mas\u001b[39;00m e:\n\u001b[1;32m    119\u001b[0m     filtered_tb \u001b[38;5;241m=\u001b[39m _process_traceback_frames(e\u001b[38;5;241m.\u001b[39m__traceback__)\n",
      "File \u001b[0;32m~/.local/share/virtualenvs/fashion-classification-v_MBemJN/lib/python3.12/site-packages/keras/src/backend/tensorflow/trainer.py:368\u001b[0m, in \u001b[0;36mTensorFlowTrainer.fit\u001b[0;34m(self, x, y, batch_size, epochs, verbose, callbacks, validation_split, validation_data, shuffle, class_weight, sample_weight, initial_epoch, steps_per_epoch, validation_steps, validation_batch_size, validation_freq)\u001b[0m\n\u001b[1;32m    366\u001b[0m \u001b[38;5;28;01mfor\u001b[39;00m step, iterator \u001b[38;5;129;01min\u001b[39;00m epoch_iterator:\n\u001b[1;32m    367\u001b[0m     callbacks\u001b[38;5;241m.\u001b[39mon_train_batch_begin(step)\n\u001b[0;32m--> 368\u001b[0m     logs \u001b[38;5;241m=\u001b[39m \u001b[38;5;28;43mself\u001b[39;49m\u001b[38;5;241;43m.\u001b[39;49m\u001b[43mtrain_function\u001b[49m\u001b[43m(\u001b[49m\u001b[43miterator\u001b[49m\u001b[43m)\u001b[49m\n\u001b[1;32m    369\u001b[0m     callbacks\u001b[38;5;241m.\u001b[39mon_train_batch_end(step, logs)\n\u001b[1;32m    370\u001b[0m     \u001b[38;5;28;01mif\u001b[39;00m \u001b[38;5;28mself\u001b[39m\u001b[38;5;241m.\u001b[39mstop_training:\n",
      "File \u001b[0;32m~/.local/share/virtualenvs/fashion-classification-v_MBemJN/lib/python3.12/site-packages/keras/src/backend/tensorflow/trainer.py:216\u001b[0m, in \u001b[0;36mTensorFlowTrainer._make_function.<locals>.function\u001b[0;34m(iterator)\u001b[0m\n\u001b[1;32m    212\u001b[0m \u001b[38;5;28;01mdef\u001b[39;00m \u001b[38;5;21mfunction\u001b[39m(iterator):\n\u001b[1;32m    213\u001b[0m     \u001b[38;5;28;01mif\u001b[39;00m \u001b[38;5;28misinstance\u001b[39m(\n\u001b[1;32m    214\u001b[0m         iterator, (tf\u001b[38;5;241m.\u001b[39mdata\u001b[38;5;241m.\u001b[39mIterator, tf\u001b[38;5;241m.\u001b[39mdistribute\u001b[38;5;241m.\u001b[39mDistributedIterator)\n\u001b[1;32m    215\u001b[0m     ):\n\u001b[0;32m--> 216\u001b[0m         opt_outputs \u001b[38;5;241m=\u001b[39m \u001b[43mmulti_step_on_iterator\u001b[49m\u001b[43m(\u001b[49m\u001b[43miterator\u001b[49m\u001b[43m)\u001b[49m\n\u001b[1;32m    217\u001b[0m         \u001b[38;5;28;01mif\u001b[39;00m \u001b[38;5;129;01mnot\u001b[39;00m opt_outputs\u001b[38;5;241m.\u001b[39mhas_value():\n\u001b[1;32m    218\u001b[0m             \u001b[38;5;28;01mraise\u001b[39;00m \u001b[38;5;167;01mStopIteration\u001b[39;00m\n",
      "File \u001b[0;32m~/.local/share/virtualenvs/fashion-classification-v_MBemJN/lib/python3.12/site-packages/tensorflow/python/util/traceback_utils.py:150\u001b[0m, in \u001b[0;36mfilter_traceback.<locals>.error_handler\u001b[0;34m(*args, **kwargs)\u001b[0m\n\u001b[1;32m    148\u001b[0m filtered_tb \u001b[38;5;241m=\u001b[39m \u001b[38;5;28;01mNone\u001b[39;00m\n\u001b[1;32m    149\u001b[0m \u001b[38;5;28;01mtry\u001b[39;00m:\n\u001b[0;32m--> 150\u001b[0m   \u001b[38;5;28;01mreturn\u001b[39;00m \u001b[43mfn\u001b[49m\u001b[43m(\u001b[49m\u001b[38;5;241;43m*\u001b[39;49m\u001b[43margs\u001b[49m\u001b[43m,\u001b[49m\u001b[43m \u001b[49m\u001b[38;5;241;43m*\u001b[39;49m\u001b[38;5;241;43m*\u001b[39;49m\u001b[43mkwargs\u001b[49m\u001b[43m)\u001b[49m\n\u001b[1;32m    151\u001b[0m \u001b[38;5;28;01mexcept\u001b[39;00m \u001b[38;5;167;01mException\u001b[39;00m \u001b[38;5;28;01mas\u001b[39;00m e:\n\u001b[1;32m    152\u001b[0m   filtered_tb \u001b[38;5;241m=\u001b[39m _process_traceback_frames(e\u001b[38;5;241m.\u001b[39m__traceback__)\n",
      "File \u001b[0;32m~/.local/share/virtualenvs/fashion-classification-v_MBemJN/lib/python3.12/site-packages/tensorflow/python/eager/polymorphic_function/polymorphic_function.py:833\u001b[0m, in \u001b[0;36mFunction.__call__\u001b[0;34m(self, *args, **kwds)\u001b[0m\n\u001b[1;32m    830\u001b[0m compiler \u001b[38;5;241m=\u001b[39m \u001b[38;5;124m\"\u001b[39m\u001b[38;5;124mxla\u001b[39m\u001b[38;5;124m\"\u001b[39m \u001b[38;5;28;01mif\u001b[39;00m \u001b[38;5;28mself\u001b[39m\u001b[38;5;241m.\u001b[39m_jit_compile \u001b[38;5;28;01melse\u001b[39;00m \u001b[38;5;124m\"\u001b[39m\u001b[38;5;124mnonXla\u001b[39m\u001b[38;5;124m\"\u001b[39m\n\u001b[1;32m    832\u001b[0m \u001b[38;5;28;01mwith\u001b[39;00m OptionalXlaContext(\u001b[38;5;28mself\u001b[39m\u001b[38;5;241m.\u001b[39m_jit_compile):\n\u001b[0;32m--> 833\u001b[0m   result \u001b[38;5;241m=\u001b[39m \u001b[38;5;28;43mself\u001b[39;49m\u001b[38;5;241;43m.\u001b[39;49m\u001b[43m_call\u001b[49m\u001b[43m(\u001b[49m\u001b[38;5;241;43m*\u001b[39;49m\u001b[43margs\u001b[49m\u001b[43m,\u001b[49m\u001b[43m \u001b[49m\u001b[38;5;241;43m*\u001b[39;49m\u001b[38;5;241;43m*\u001b[39;49m\u001b[43mkwds\u001b[49m\u001b[43m)\u001b[49m\n\u001b[1;32m    835\u001b[0m new_tracing_count \u001b[38;5;241m=\u001b[39m \u001b[38;5;28mself\u001b[39m\u001b[38;5;241m.\u001b[39mexperimental_get_tracing_count()\n\u001b[1;32m    836\u001b[0m without_tracing \u001b[38;5;241m=\u001b[39m (tracing_count \u001b[38;5;241m==\u001b[39m new_tracing_count)\n",
      "File \u001b[0;32m~/.local/share/virtualenvs/fashion-classification-v_MBemJN/lib/python3.12/site-packages/tensorflow/python/eager/polymorphic_function/polymorphic_function.py:878\u001b[0m, in \u001b[0;36mFunction._call\u001b[0;34m(self, *args, **kwds)\u001b[0m\n\u001b[1;32m    875\u001b[0m \u001b[38;5;28mself\u001b[39m\u001b[38;5;241m.\u001b[39m_lock\u001b[38;5;241m.\u001b[39mrelease()\n\u001b[1;32m    876\u001b[0m \u001b[38;5;66;03m# In this case we have not created variables on the first call. So we can\u001b[39;00m\n\u001b[1;32m    877\u001b[0m \u001b[38;5;66;03m# run the first trace but we should fail if variables are created.\u001b[39;00m\n\u001b[0;32m--> 878\u001b[0m results \u001b[38;5;241m=\u001b[39m \u001b[43mtracing_compilation\u001b[49m\u001b[38;5;241;43m.\u001b[39;49m\u001b[43mcall_function\u001b[49m\u001b[43m(\u001b[49m\n\u001b[1;32m    879\u001b[0m \u001b[43m    \u001b[49m\u001b[43margs\u001b[49m\u001b[43m,\u001b[49m\u001b[43m \u001b[49m\u001b[43mkwds\u001b[49m\u001b[43m,\u001b[49m\u001b[43m \u001b[49m\u001b[38;5;28;43mself\u001b[39;49m\u001b[38;5;241;43m.\u001b[39;49m\u001b[43m_variable_creation_config\u001b[49m\n\u001b[1;32m    880\u001b[0m \u001b[43m\u001b[49m\u001b[43m)\u001b[49m\n\u001b[1;32m    881\u001b[0m \u001b[38;5;28;01mif\u001b[39;00m \u001b[38;5;28mself\u001b[39m\u001b[38;5;241m.\u001b[39m_created_variables:\n\u001b[1;32m    882\u001b[0m   \u001b[38;5;28;01mraise\u001b[39;00m \u001b[38;5;167;01mValueError\u001b[39;00m(\u001b[38;5;124m\"\u001b[39m\u001b[38;5;124mCreating variables on a non-first call to a function\u001b[39m\u001b[38;5;124m\"\u001b[39m\n\u001b[1;32m    883\u001b[0m                    \u001b[38;5;124m\"\u001b[39m\u001b[38;5;124m decorated with tf.function.\u001b[39m\u001b[38;5;124m\"\u001b[39m)\n",
      "File \u001b[0;32m~/.local/share/virtualenvs/fashion-classification-v_MBemJN/lib/python3.12/site-packages/tensorflow/python/eager/polymorphic_function/tracing_compilation.py:139\u001b[0m, in \u001b[0;36mcall_function\u001b[0;34m(args, kwargs, tracing_options)\u001b[0m\n\u001b[1;32m    137\u001b[0m bound_args \u001b[38;5;241m=\u001b[39m function\u001b[38;5;241m.\u001b[39mfunction_type\u001b[38;5;241m.\u001b[39mbind(\u001b[38;5;241m*\u001b[39margs, \u001b[38;5;241m*\u001b[39m\u001b[38;5;241m*\u001b[39mkwargs)\n\u001b[1;32m    138\u001b[0m flat_inputs \u001b[38;5;241m=\u001b[39m function\u001b[38;5;241m.\u001b[39mfunction_type\u001b[38;5;241m.\u001b[39munpack_inputs(bound_args)\n\u001b[0;32m--> 139\u001b[0m \u001b[38;5;28;01mreturn\u001b[39;00m \u001b[43mfunction\u001b[49m\u001b[38;5;241;43m.\u001b[39;49m\u001b[43m_call_flat\u001b[49m\u001b[43m(\u001b[49m\u001b[43m  \u001b[49m\u001b[38;5;66;43;03m# pylint: disable=protected-access\u001b[39;49;00m\n\u001b[1;32m    140\u001b[0m \u001b[43m    \u001b[49m\u001b[43mflat_inputs\u001b[49m\u001b[43m,\u001b[49m\u001b[43m \u001b[49m\u001b[43mcaptured_inputs\u001b[49m\u001b[38;5;241;43m=\u001b[39;49m\u001b[43mfunction\u001b[49m\u001b[38;5;241;43m.\u001b[39;49m\u001b[43mcaptured_inputs\u001b[49m\n\u001b[1;32m    141\u001b[0m \u001b[43m\u001b[49m\u001b[43m)\u001b[49m\n",
      "File \u001b[0;32m~/.local/share/virtualenvs/fashion-classification-v_MBemJN/lib/python3.12/site-packages/tensorflow/python/eager/polymorphic_function/concrete_function.py:1322\u001b[0m, in \u001b[0;36mConcreteFunction._call_flat\u001b[0;34m(self, tensor_inputs, captured_inputs)\u001b[0m\n\u001b[1;32m   1318\u001b[0m possible_gradient_type \u001b[38;5;241m=\u001b[39m gradients_util\u001b[38;5;241m.\u001b[39mPossibleTapeGradientTypes(args)\n\u001b[1;32m   1319\u001b[0m \u001b[38;5;28;01mif\u001b[39;00m (possible_gradient_type \u001b[38;5;241m==\u001b[39m gradients_util\u001b[38;5;241m.\u001b[39mPOSSIBLE_GRADIENT_TYPES_NONE\n\u001b[1;32m   1320\u001b[0m     \u001b[38;5;129;01mand\u001b[39;00m executing_eagerly):\n\u001b[1;32m   1321\u001b[0m   \u001b[38;5;66;03m# No tape is watching; skip to running the function.\u001b[39;00m\n\u001b[0;32m-> 1322\u001b[0m   \u001b[38;5;28;01mreturn\u001b[39;00m \u001b[38;5;28;43mself\u001b[39;49m\u001b[38;5;241;43m.\u001b[39;49m\u001b[43m_inference_function\u001b[49m\u001b[38;5;241;43m.\u001b[39;49m\u001b[43mcall_preflattened\u001b[49m\u001b[43m(\u001b[49m\u001b[43margs\u001b[49m\u001b[43m)\u001b[49m\n\u001b[1;32m   1323\u001b[0m forward_backward \u001b[38;5;241m=\u001b[39m \u001b[38;5;28mself\u001b[39m\u001b[38;5;241m.\u001b[39m_select_forward_and_backward_functions(\n\u001b[1;32m   1324\u001b[0m     args,\n\u001b[1;32m   1325\u001b[0m     possible_gradient_type,\n\u001b[1;32m   1326\u001b[0m     executing_eagerly)\n\u001b[1;32m   1327\u001b[0m forward_function, args_with_tangents \u001b[38;5;241m=\u001b[39m forward_backward\u001b[38;5;241m.\u001b[39mforward()\n",
      "File \u001b[0;32m~/.local/share/virtualenvs/fashion-classification-v_MBemJN/lib/python3.12/site-packages/tensorflow/python/eager/polymorphic_function/atomic_function.py:216\u001b[0m, in \u001b[0;36mAtomicFunction.call_preflattened\u001b[0;34m(self, args)\u001b[0m\n\u001b[1;32m    214\u001b[0m \u001b[38;5;28;01mdef\u001b[39;00m \u001b[38;5;21mcall_preflattened\u001b[39m(\u001b[38;5;28mself\u001b[39m, args: Sequence[core\u001b[38;5;241m.\u001b[39mTensor]) \u001b[38;5;241m-\u001b[39m\u001b[38;5;241m>\u001b[39m Any:\n\u001b[1;32m    215\u001b[0m \u001b[38;5;250m  \u001b[39m\u001b[38;5;124;03m\"\"\"Calls with flattened tensor inputs and returns the structured output.\"\"\"\u001b[39;00m\n\u001b[0;32m--> 216\u001b[0m   flat_outputs \u001b[38;5;241m=\u001b[39m \u001b[38;5;28;43mself\u001b[39;49m\u001b[38;5;241;43m.\u001b[39;49m\u001b[43mcall_flat\u001b[49m\u001b[43m(\u001b[49m\u001b[38;5;241;43m*\u001b[39;49m\u001b[43margs\u001b[49m\u001b[43m)\u001b[49m\n\u001b[1;32m    217\u001b[0m   \u001b[38;5;28;01mreturn\u001b[39;00m \u001b[38;5;28mself\u001b[39m\u001b[38;5;241m.\u001b[39mfunction_type\u001b[38;5;241m.\u001b[39mpack_output(flat_outputs)\n",
      "File \u001b[0;32m~/.local/share/virtualenvs/fashion-classification-v_MBemJN/lib/python3.12/site-packages/tensorflow/python/eager/polymorphic_function/atomic_function.py:251\u001b[0m, in \u001b[0;36mAtomicFunction.call_flat\u001b[0;34m(self, *args)\u001b[0m\n\u001b[1;32m    249\u001b[0m \u001b[38;5;28;01mwith\u001b[39;00m record\u001b[38;5;241m.\u001b[39mstop_recording():\n\u001b[1;32m    250\u001b[0m   \u001b[38;5;28;01mif\u001b[39;00m \u001b[38;5;28mself\u001b[39m\u001b[38;5;241m.\u001b[39m_bound_context\u001b[38;5;241m.\u001b[39mexecuting_eagerly():\n\u001b[0;32m--> 251\u001b[0m     outputs \u001b[38;5;241m=\u001b[39m \u001b[38;5;28;43mself\u001b[39;49m\u001b[38;5;241;43m.\u001b[39;49m\u001b[43m_bound_context\u001b[49m\u001b[38;5;241;43m.\u001b[39;49m\u001b[43mcall_function\u001b[49m\u001b[43m(\u001b[49m\n\u001b[1;32m    252\u001b[0m \u001b[43m        \u001b[49m\u001b[38;5;28;43mself\u001b[39;49m\u001b[38;5;241;43m.\u001b[39;49m\u001b[43mname\u001b[49m\u001b[43m,\u001b[49m\n\u001b[1;32m    253\u001b[0m \u001b[43m        \u001b[49m\u001b[38;5;28;43mlist\u001b[39;49m\u001b[43m(\u001b[49m\u001b[43margs\u001b[49m\u001b[43m)\u001b[49m\u001b[43m,\u001b[49m\n\u001b[1;32m    254\u001b[0m \u001b[43m        \u001b[49m\u001b[38;5;28;43mlen\u001b[39;49m\u001b[43m(\u001b[49m\u001b[38;5;28;43mself\u001b[39;49m\u001b[38;5;241;43m.\u001b[39;49m\u001b[43mfunction_type\u001b[49m\u001b[38;5;241;43m.\u001b[39;49m\u001b[43mflat_outputs\u001b[49m\u001b[43m)\u001b[49m\u001b[43m,\u001b[49m\n\u001b[1;32m    255\u001b[0m \u001b[43m    \u001b[49m\u001b[43m)\u001b[49m\n\u001b[1;32m    256\u001b[0m   \u001b[38;5;28;01melse\u001b[39;00m:\n\u001b[1;32m    257\u001b[0m     outputs \u001b[38;5;241m=\u001b[39m make_call_op_in_graph(\n\u001b[1;32m    258\u001b[0m         \u001b[38;5;28mself\u001b[39m,\n\u001b[1;32m    259\u001b[0m         \u001b[38;5;28mlist\u001b[39m(args),\n\u001b[1;32m    260\u001b[0m         \u001b[38;5;28mself\u001b[39m\u001b[38;5;241m.\u001b[39m_bound_context\u001b[38;5;241m.\u001b[39mfunction_call_options\u001b[38;5;241m.\u001b[39mas_attrs(),\n\u001b[1;32m    261\u001b[0m     )\n",
      "File \u001b[0;32m~/.local/share/virtualenvs/fashion-classification-v_MBemJN/lib/python3.12/site-packages/tensorflow/python/eager/context.py:1683\u001b[0m, in \u001b[0;36mContext.call_function\u001b[0;34m(self, name, tensor_inputs, num_outputs)\u001b[0m\n\u001b[1;32m   1681\u001b[0m cancellation_context \u001b[38;5;241m=\u001b[39m cancellation\u001b[38;5;241m.\u001b[39mcontext()\n\u001b[1;32m   1682\u001b[0m \u001b[38;5;28;01mif\u001b[39;00m cancellation_context \u001b[38;5;129;01mis\u001b[39;00m \u001b[38;5;28;01mNone\u001b[39;00m:\n\u001b[0;32m-> 1683\u001b[0m   outputs \u001b[38;5;241m=\u001b[39m \u001b[43mexecute\u001b[49m\u001b[38;5;241;43m.\u001b[39;49m\u001b[43mexecute\u001b[49m\u001b[43m(\u001b[49m\n\u001b[1;32m   1684\u001b[0m \u001b[43m      \u001b[49m\u001b[43mname\u001b[49m\u001b[38;5;241;43m.\u001b[39;49m\u001b[43mdecode\u001b[49m\u001b[43m(\u001b[49m\u001b[38;5;124;43m\"\u001b[39;49m\u001b[38;5;124;43mutf-8\u001b[39;49m\u001b[38;5;124;43m\"\u001b[39;49m\u001b[43m)\u001b[49m\u001b[43m,\u001b[49m\n\u001b[1;32m   1685\u001b[0m \u001b[43m      \u001b[49m\u001b[43mnum_outputs\u001b[49m\u001b[38;5;241;43m=\u001b[39;49m\u001b[43mnum_outputs\u001b[49m\u001b[43m,\u001b[49m\n\u001b[1;32m   1686\u001b[0m \u001b[43m      \u001b[49m\u001b[43minputs\u001b[49m\u001b[38;5;241;43m=\u001b[39;49m\u001b[43mtensor_inputs\u001b[49m\u001b[43m,\u001b[49m\n\u001b[1;32m   1687\u001b[0m \u001b[43m      \u001b[49m\u001b[43mattrs\u001b[49m\u001b[38;5;241;43m=\u001b[39;49m\u001b[43mattrs\u001b[49m\u001b[43m,\u001b[49m\n\u001b[1;32m   1688\u001b[0m \u001b[43m      \u001b[49m\u001b[43mctx\u001b[49m\u001b[38;5;241;43m=\u001b[39;49m\u001b[38;5;28;43mself\u001b[39;49m\u001b[43m,\u001b[49m\n\u001b[1;32m   1689\u001b[0m \u001b[43m  \u001b[49m\u001b[43m)\u001b[49m\n\u001b[1;32m   1690\u001b[0m \u001b[38;5;28;01melse\u001b[39;00m:\n\u001b[1;32m   1691\u001b[0m   outputs \u001b[38;5;241m=\u001b[39m execute\u001b[38;5;241m.\u001b[39mexecute_with_cancellation(\n\u001b[1;32m   1692\u001b[0m       name\u001b[38;5;241m.\u001b[39mdecode(\u001b[38;5;124m\"\u001b[39m\u001b[38;5;124mutf-8\u001b[39m\u001b[38;5;124m\"\u001b[39m),\n\u001b[1;32m   1693\u001b[0m       num_outputs\u001b[38;5;241m=\u001b[39mnum_outputs,\n\u001b[0;32m   (...)\u001b[0m\n\u001b[1;32m   1697\u001b[0m       cancellation_manager\u001b[38;5;241m=\u001b[39mcancellation_context,\n\u001b[1;32m   1698\u001b[0m   )\n",
      "File \u001b[0;32m~/.local/share/virtualenvs/fashion-classification-v_MBemJN/lib/python3.12/site-packages/tensorflow/python/eager/execute.py:53\u001b[0m, in \u001b[0;36mquick_execute\u001b[0;34m(op_name, num_outputs, inputs, attrs, ctx, name)\u001b[0m\n\u001b[1;32m     51\u001b[0m \u001b[38;5;28;01mtry\u001b[39;00m:\n\u001b[1;32m     52\u001b[0m   ctx\u001b[38;5;241m.\u001b[39mensure_initialized()\n\u001b[0;32m---> 53\u001b[0m   tensors \u001b[38;5;241m=\u001b[39m \u001b[43mpywrap_tfe\u001b[49m\u001b[38;5;241;43m.\u001b[39;49m\u001b[43mTFE_Py_Execute\u001b[49m\u001b[43m(\u001b[49m\u001b[43mctx\u001b[49m\u001b[38;5;241;43m.\u001b[39;49m\u001b[43m_handle\u001b[49m\u001b[43m,\u001b[49m\u001b[43m \u001b[49m\u001b[43mdevice_name\u001b[49m\u001b[43m,\u001b[49m\u001b[43m \u001b[49m\u001b[43mop_name\u001b[49m\u001b[43m,\u001b[49m\n\u001b[1;32m     54\u001b[0m \u001b[43m                                      \u001b[49m\u001b[43minputs\u001b[49m\u001b[43m,\u001b[49m\u001b[43m \u001b[49m\u001b[43mattrs\u001b[49m\u001b[43m,\u001b[49m\u001b[43m \u001b[49m\u001b[43mnum_outputs\u001b[49m\u001b[43m)\u001b[49m\n\u001b[1;32m     55\u001b[0m \u001b[38;5;28;01mexcept\u001b[39;00m core\u001b[38;5;241m.\u001b[39m_NotOkStatusException \u001b[38;5;28;01mas\u001b[39;00m e:\n\u001b[1;32m     56\u001b[0m   \u001b[38;5;28;01mif\u001b[39;00m name \u001b[38;5;129;01mis\u001b[39;00m \u001b[38;5;129;01mnot\u001b[39;00m \u001b[38;5;28;01mNone\u001b[39;00m:\n",
      "\u001b[0;31mKeyboardInterrupt\u001b[0m: "
     ]
    }
   ],
   "source": [
    "scores={}\n",
    "print(\"Training with different learning rates:\\n\")\n",
    "for lr in [0.0001, 0.001, 0.01, 0.1]:\n",
    "    print(lr)\n",
    "    model = make_model_Mobile_v1(learning_rate=lr)\n",
    "    history = model.fit(train_gen, epochs=10, validation_data=val_gen)\n",
    "    scores[lr]= history.history\n",
    "\n",
    "    print()\n",
    "    print()"
   ]
  },
  {
   "cell_type": "code",
   "execution_count": null,
   "id": "4e0b84df-aba7-49e9-9579-3c2ee3325f0d",
   "metadata": {},
   "outputs": [],
   "source": [
    "#Plotting the train accuracy\n",
    "for lr, hist in scores.items():\n",
    "    plt.plot(hist['accuracy'], label=lr)\n",
    "\n",
    "plt.xticks(np.arange(10))\n",
    "plt.legend()"
   ]
  },
  {
   "cell_type": "code",
   "execution_count": null,
   "id": "d22c1599-fd23-4f50-ac5f-b9fac0105f23",
   "metadata": {},
   "outputs": [],
   "source": [
    "#Plotting the validation accuracy\n",
    "for lr, hist in scores.items():\n",
    "    plt.plot(hist['val_accuracy'], label=lr)\n",
    "\n",
    "plt.xticks(np.arange(10))\n",
    "plt.legend()"
   ]
  },
  {
   "cell_type": "code",
   "execution_count": 39,
   "id": "2301123d-b5da-4f0b-954a-20d1dd315d6f",
   "metadata": {},
   "outputs": [],
   "source": [
    "#Conclusion: The learning rate 0.001 is the best learning rate\n",
    "best_learning_rate=0.001"
   ]
  },
  {
   "cell_type": "code",
   "execution_count": 40,
   "id": "65fd2105-5570-41fb-959a-5bd183b3baf9",
   "metadata": {},
   "outputs": [],
   "source": [
    "MODELS_DIR = '../models'"
   ]
  },
  {
   "cell_type": "code",
   "execution_count": 41,
   "id": "09481666-dd62-4150-aad5-31730af4eff8",
   "metadata": {},
   "outputs": [],
   "source": [
    "#Defining function to delete any previously saved files\n",
    "def delete_previous_checkpoint_files(filename_pattern):\n",
    "    regex = re.compile(filename_pattern)\n",
    "    files = os.listdir(MODELS_DIR)\n",
    "\n",
    "    matching_files = [f for f in files if regex.match(f)]\n",
    "\n",
    "    for checkpoint_file in matching_files:\n",
    "        try:\n",
    "            os.remove(checkpoint_file)\n",
    "            print(f\"Deleted checkpoint file: {checkpoint_file}\")\n",
    "        except Exception as e:\n",
    "            print(f\"Error deleting file {checkpoint_file}: {e}\")"
   ]
  },
  {
   "cell_type": "code",
   "execution_count": 42,
   "id": "806ccf3e-8673-4014-b411-f8be38f70d05",
   "metadata": {},
   "outputs": [],
   "source": [
    "#Define class for a custom checkpoint\n",
    "class CustomModelCheckpoint(ModelCheckpoint):\n",
    "    def __init__(self, *args, **kwargs):\n",
    "        super().__init__(*args, **kwargs)\n",
    "        self.best_accuracy = 0.0\n",
    "        self.best_model_file = \"\"\n",
    "\n",
    "    def on_epoch_end(self, epoch, logs=None):\n",
    "        # Call the parent class's method to save the model if needed\n",
    "        super().on_epoch_end(epoch, logs)\n",
    "\n",
    "        # Get the current validation accuracy\n",
    "        current_val_accuracy = logs.get('val_accuracy')\n",
    "        \n",
    "        if current_val_accuracy > self.best_accuracy:\n",
    "            # Update best values\n",
    "            self.best_accuracy = current_val_accuracy\n",
    "            self.best_model_file = self.filepath.format(epoch=epoch + 1, **logs)"
   ]
  },
  {
   "cell_type": "code",
   "execution_count": 127,
   "id": "23a8a5fb-ad8b-40ae-bf07-352ae5aeb6b2",
   "metadata": {},
   "outputs": [
    {
     "name": "stdout",
     "output_type": "stream",
     "text": [
      "Deleting files previously saved to output directory\n",
      "\n",
      "Training the model with learning rate 0.001\n",
      "\n",
      "Epoch 1/10\n",
      "\u001b[1m1112/1112\u001b[0m \u001b[32m━━━━━━━━━━━━━━━━━━━━\u001b[0m\u001b[37m\u001b[0m \u001b[1m37s\u001b[0m 26ms/step - accuracy: 0.6577 - loss: 1.4213 - val_accuracy: 0.8093 - val_loss: 0.6479\n",
      "Epoch 2/10\n",
      "\u001b[1m1112/1112\u001b[0m \u001b[32m━━━━━━━━━━━━━━━━━━━━\u001b[0m\u001b[37m\u001b[0m \u001b[1m24s\u001b[0m 21ms/step - accuracy: 0.8559 - loss: 0.4335 - val_accuracy: 0.8153 - val_loss: 0.6142\n",
      "Epoch 3/10\n",
      "\u001b[1m1112/1112\u001b[0m \u001b[32m━━━━━━━━━━━━━━━━━━━━\u001b[0m\u001b[37m\u001b[0m \u001b[1m24s\u001b[0m 21ms/step - accuracy: 0.8872 - loss: 0.3287 - val_accuracy: 0.8285 - val_loss: 0.6102\n",
      "Epoch 4/10\n",
      "\u001b[1m1112/1112\u001b[0m \u001b[32m━━━━━━━━━━━━━━━━━━━━\u001b[0m\u001b[37m\u001b[0m \u001b[1m20s\u001b[0m 18ms/step - accuracy: 0.9080 - loss: 0.2734 - val_accuracy: 0.8334 - val_loss: 0.6001\n",
      "Epoch 5/10\n",
      "\u001b[1m1112/1112\u001b[0m \u001b[32m━━━━━━━━━━━━━━━━━━━━\u001b[0m\u001b[37m\u001b[0m \u001b[1m24s\u001b[0m 21ms/step - accuracy: 0.9197 - loss: 0.2368 - val_accuracy: 0.8320 - val_loss: 0.6220\n",
      "Epoch 6/10\n",
      "\u001b[1m1112/1112\u001b[0m \u001b[32m━━━━━━━━━━━━━━━━━━━━\u001b[0m\u001b[37m\u001b[0m \u001b[1m22s\u001b[0m 20ms/step - accuracy: 0.9270 - loss: 0.2106 - val_accuracy: 0.8338 - val_loss: 0.6290\n",
      "Epoch 7/10\n",
      "\u001b[1m1112/1112\u001b[0m \u001b[32m━━━━━━━━━━━━━━━━━━━━\u001b[0m\u001b[37m\u001b[0m \u001b[1m20s\u001b[0m 18ms/step - accuracy: 0.9341 - loss: 0.1950 - val_accuracy: 0.8306 - val_loss: 0.6606\n",
      "Epoch 8/10\n",
      "\u001b[1m1112/1112\u001b[0m \u001b[32m━━━━━━━━━━━━━━━━━━━━\u001b[0m\u001b[37m\u001b[0m \u001b[1m29s\u001b[0m 26ms/step - accuracy: 0.9399 - loss: 0.1768 - val_accuracy: 0.8294 - val_loss: 0.6694\n",
      "Epoch 9/10\n",
      "\u001b[1m1112/1112\u001b[0m \u001b[32m━━━━━━━━━━━━━━━━━━━━\u001b[0m\u001b[37m\u001b[0m \u001b[1m25s\u001b[0m 23ms/step - accuracy: 0.9458 - loss: 0.1616 - val_accuracy: 0.8310 - val_loss: 0.6829\n",
      "Epoch 10/10\n",
      "\u001b[1m1112/1112\u001b[0m \u001b[32m━━━━━━━━━━━━━━━━━━━━\u001b[0m\u001b[37m\u001b[0m \u001b[1m25s\u001b[0m 23ms/step - accuracy: 0.9481 - loss: 0.1537 - val_accuracy: 0.8291 - val_loss: 0.7069\n"
     ]
    }
   ],
   "source": [
    "#deleting any previous files\n",
    "print('Deleting files previously saved to output directory\\n')\n",
    "delete_previous_checkpoint_files(\"Mobile_v1*.kearas\")\n",
    "print(f'Training the model with learning rate {best_learning_rate}\\n')\n",
    "#definining a checkpoint to save the model when the accuracy is the max accuracy\n",
    "custom_checkpoint = CustomModelCheckpoint(f'{MODELS_DIR}/Mobile_v1_{{epoch:02d}}_{{val_accuracy:.3f}}.keras',\n",
    "                                save_best_only=True,\n",
    "                                monitor='val_accuracy',\n",
    "                                mode='max')\n",
    "\n",
    "model = make_model_Mobile_v1(learning_rate=best_learning_rate)\n",
    "history = model.fit(\n",
    "    train_gen,\n",
    "    epochs=10,\n",
    "    validation_data=val_gen,\n",
    "    callbacks = [custom_checkpoint]\n",
    ")"
   ]
  },
  {
   "cell_type": "code",
   "execution_count": 128,
   "id": "1596dd71-cd5c-40cb-afa8-3a2e842e3b7a",
   "metadata": {},
   "outputs": [
    {
     "name": "stdout",
     "output_type": "stream",
     "text": [
      "Best Validation Accuracy: 0.8338\n",
      "Saved Model File: ../models/Mobile_v1_06_0.834.keras\n"
     ]
    }
   ],
   "source": [
    "print(f\"Best Validation Accuracy: {round(custom_checkpoint.best_accuracy,4)}\")\n",
    "print(f\"Saved Model File: {custom_checkpoint.best_model_file}\")"
   ]
  },
  {
   "cell_type": "markdown",
   "id": "3f95455d-69cf-4415-9077-b168e35aad34",
   "metadata": {},
   "source": [
    "## Create Model version 2 by adding an inner layer"
   ]
  },
  {
   "cell_type": "code",
   "execution_count": 43,
   "id": "cf712623-31f3-45b1-a339-e8eccb3752be",
   "metadata": {},
   "outputs": [],
   "source": [
    "def make_model_Mobile_v2(learning_rate=0.01, inner_layer_units=1420):\n",
    "    #clear any unused session\n",
    "    tf.keras.backend.clear_session()\n",
    "\n",
    "    #creating a base model\n",
    "    input_shape = (TARGET_SIZE[0], TARGET_SIZE[1], 3)\n",
    "    base_model =MobileNetV2(weights='imagenet', input_shape=input_shape, include_top=False)\n",
    "    # create a model from the base model\n",
    "    base_model.trainable=False\n",
    "    inputs = keras.Input(shape=input_shape)\n",
    "    base = base_model(inputs, training=False)\n",
    "    \n",
    "    #pooling layer\n",
    "    pooling = keras.layers.GlobalAveragePooling2D()\n",
    "    vectors = pooling(base)\n",
    "\n",
    "    #dense layer 1\n",
    "    inner = keras.layers.Dense(inner_layer_units, activation='relu')(vectors)\n",
    "    \n",
    "    #dense layer 2\n",
    "    outputs = keras.layers.Dense(units=count_classes, activation='softmax')(inner)\n",
    "\n",
    "    #final model\n",
    "    model = keras.Model(inputs, outputs)\n",
    "\n",
    "    #compile de model\n",
    "    optimizer =keras.optimizers.Adam(learning_rate=learning_rate)\n",
    "    loss=keras.losses.CategoricalCrossentropy(from_logits=False)\n",
    "    model.compile(optimizer=optimizer, loss=loss, metrics=['accuracy'])\n",
    "    return model"
   ]
  },
  {
   "cell_type": "markdown",
   "id": "1409fce0-1423-4a8d-9503-c38f3173f2fc",
   "metadata": {},
   "source": [
    "### Find the best inner layer size"
   ]
  },
  {
   "cell_type": "code",
   "execution_count": 45,
   "id": "809dfd7b-d96a-451c-a941-2de970764690",
   "metadata": {},
   "outputs": [
    {
     "name": "stdout",
     "output_type": "stream",
     "text": [
      "Fitting model for size 710\n",
      "Epoch 1/10\n"
     ]
    },
    {
     "name": "stderr",
     "output_type": "stream",
     "text": [
      "WARNING: All log messages before absl::InitializeLog() is called are written to STDERR\n",
      "I0000 00:00:1735358073.830002   82485 service.cc:148] XLA service 0x7fc4dc002040 initialized for platform CUDA (this does not guarantee that XLA will be used). Devices:\n",
      "I0000 00:00:1735358073.830674   82485 service.cc:156]   StreamExecutor device (0): NVIDIA GeForce GTX 1650 Ti, Compute Capability 7.5\n",
      "2024-12-27 22:54:33.927423: I tensorflow/compiler/mlir/tensorflow/utils/dump_mlir_util.cc:268] disabling MLIR crash reproducer, set env var `MLIR_CRASH_REPRODUCER_DIRECTORY` to enable.\n",
      "I0000 00:00:1735358074.408327   82485 cuda_dnn.cc:529] Loaded cuDNN version 90600\n"
     ]
    },
    {
     "name": "stdout",
     "output_type": "stream",
     "text": [
      "\u001b[1m   6/1112\u001b[0m \u001b[37m━━━━━━━━━━━━━━━━━━━━\u001b[0m \u001b[1m28s\u001b[0m 26ms/step - accuracy: 0.1641 - loss: 4.6134      "
     ]
    },
    {
     "name": "stderr",
     "output_type": "stream",
     "text": [
      "I0000 00:00:1735358077.955783   82485 device_compiler.h:188] Compiled cluster using XLA!  This line is logged at most once for the lifetime of the process.\n"
     ]
    },
    {
     "name": "stdout",
     "output_type": "stream",
     "text": [
      "\u001b[1m1112/1112\u001b[0m \u001b[32m━━━━━━━━━━━━━━━━━━━━\u001b[0m\u001b[37m\u001b[0m \u001b[1m50s\u001b[0m 39ms/step - accuracy: 0.7142 - loss: 1.1130 - val_accuracy: 0.7932 - val_loss: 0.6709\n",
      "Epoch 2/10\n",
      "\u001b[1m1112/1112\u001b[0m \u001b[32m━━━━━━━━━━━━━━━━━━━━\u001b[0m\u001b[37m\u001b[0m \u001b[1m23s\u001b[0m 20ms/step - accuracy: 0.8508 - loss: 0.4641 - val_accuracy: 0.8057 - val_loss: 0.6449\n",
      "Epoch 3/10\n",
      "\u001b[1m1112/1112\u001b[0m \u001b[32m━━━━━━━━━━━━━━━━━━━━\u001b[0m\u001b[37m\u001b[0m \u001b[1m21s\u001b[0m 19ms/step - accuracy: 0.8810 - loss: 0.3354 - val_accuracy: 0.8313 - val_loss: 0.6085\n",
      "Epoch 4/10\n",
      "\u001b[1m1112/1112\u001b[0m \u001b[32m━━━━━━━━━━━━━━━━━━━━\u001b[0m\u001b[37m\u001b[0m \u001b[1m20s\u001b[0m 18ms/step - accuracy: 0.9056 - loss: 0.2610 - val_accuracy: 0.8226 - val_loss: 0.6905\n",
      "Epoch 5/10\n",
      "\u001b[1m1112/1112\u001b[0m \u001b[32m━━━━━━━━━━━━━━━━━━━━\u001b[0m\u001b[37m\u001b[0m \u001b[1m23s\u001b[0m 20ms/step - accuracy: 0.9247 - loss: 0.2063 - val_accuracy: 0.8271 - val_loss: 0.6918\n",
      "Epoch 6/10\n",
      "\u001b[1m1112/1112\u001b[0m \u001b[32m━━━━━━━━━━━━━━━━━━━━\u001b[0m\u001b[37m\u001b[0m \u001b[1m29s\u001b[0m 26ms/step - accuracy: 0.9398 - loss: 0.1685 - val_accuracy: 0.8281 - val_loss: 0.7211\n",
      "Epoch 7/10\n",
      "\u001b[1m1112/1112\u001b[0m \u001b[32m━━━━━━━━━━━━━━━━━━━━\u001b[0m\u001b[37m\u001b[0m \u001b[1m21s\u001b[0m 19ms/step - accuracy: 0.9538 - loss: 0.1299 - val_accuracy: 0.8318 - val_loss: 0.7653\n",
      "Epoch 8/10\n",
      "\u001b[1m1112/1112\u001b[0m \u001b[32m━━━━━━━━━━━━━━━━━━━━\u001b[0m\u001b[37m\u001b[0m \u001b[1m28s\u001b[0m 25ms/step - accuracy: 0.9606 - loss: 0.1117 - val_accuracy: 0.8257 - val_loss: 0.8716\n",
      "Epoch 9/10\n",
      "\u001b[1m1112/1112\u001b[0m \u001b[32m━━━━━━━━━━━━━━━━━━━━\u001b[0m\u001b[37m\u001b[0m \u001b[1m30s\u001b[0m 27ms/step - accuracy: 0.9670 - loss: 0.0941 - val_accuracy: 0.8265 - val_loss: 0.9202\n",
      "Epoch 10/10\n",
      "\u001b[1m1112/1112\u001b[0m \u001b[32m━━━━━━━━━━━━━━━━━━━━\u001b[0m\u001b[37m\u001b[0m \u001b[1m29s\u001b[0m 26ms/step - accuracy: 0.9718 - loss: 0.0826 - val_accuracy: 0.8303 - val_loss: 0.9553\n",
      "\n",
      "\n",
      "Fitting model for size 1420\n",
      "Epoch 1/10\n",
      "\u001b[1m1112/1112\u001b[0m \u001b[32m━━━━━━━━━━━━━━━━━━━━\u001b[0m\u001b[37m\u001b[0m \u001b[1m36s\u001b[0m 26ms/step - accuracy: 0.7167 - loss: 1.0936 - val_accuracy: 0.7922 - val_loss: 0.6713\n",
      "Epoch 2/10\n",
      "\u001b[1m1112/1112\u001b[0m \u001b[32m━━━━━━━━━━━━━━━━━━━━\u001b[0m\u001b[37m\u001b[0m \u001b[1m23s\u001b[0m 21ms/step - accuracy: 0.8455 - loss: 0.4601 - val_accuracy: 0.8060 - val_loss: 0.6522\n",
      "Epoch 3/10\n",
      "\u001b[1m1112/1112\u001b[0m \u001b[32m━━━━━━━━━━━━━━━━━━━━\u001b[0m\u001b[37m\u001b[0m \u001b[1m26s\u001b[0m 22ms/step - accuracy: 0.8812 - loss: 0.3425 - val_accuracy: 0.8217 - val_loss: 0.6461\n",
      "Epoch 4/10\n",
      "\u001b[1m1112/1112\u001b[0m \u001b[32m━━━━━━━━━━━━━━━━━━━━\u001b[0m\u001b[37m\u001b[0m \u001b[1m27s\u001b[0m 24ms/step - accuracy: 0.9057 - loss: 0.2693 - val_accuracy: 0.8207 - val_loss: 0.6812\n",
      "Epoch 5/10\n",
      "\u001b[1m1112/1112\u001b[0m \u001b[32m━━━━━━━━━━━━━━━━━━━━\u001b[0m\u001b[37m\u001b[0m \u001b[1m41s\u001b[0m 37ms/step - accuracy: 0.9303 - loss: 0.1995 - val_accuracy: 0.8200 - val_loss: 0.7089\n",
      "Epoch 6/10\n",
      "\u001b[1m1112/1112\u001b[0m \u001b[32m━━━━━━━━━━━━━━━━━━━━\u001b[0m\u001b[37m\u001b[0m \u001b[1m24s\u001b[0m 22ms/step - accuracy: 0.9420 - loss: 0.1626 - val_accuracy: 0.8271 - val_loss: 0.7761\n",
      "Epoch 7/10\n",
      "\u001b[1m1112/1112\u001b[0m \u001b[32m━━━━━━━━━━━━━━━━━━━━\u001b[0m\u001b[37m\u001b[0m \u001b[1m25s\u001b[0m 23ms/step - accuracy: 0.9561 - loss: 0.1243 - val_accuracy: 0.8240 - val_loss: 0.8319\n",
      "Epoch 8/10\n",
      "\u001b[1m1112/1112\u001b[0m \u001b[32m━━━━━━━━━━━━━━━━━━━━\u001b[0m\u001b[37m\u001b[0m \u001b[1m25s\u001b[0m 22ms/step - accuracy: 0.9630 - loss: 0.1068 - val_accuracy: 0.8207 - val_loss: 0.8679\n",
      "Epoch 9/10\n",
      "\u001b[1m1112/1112\u001b[0m \u001b[32m━━━━━━━━━━━━━━━━━━━━\u001b[0m\u001b[37m\u001b[0m \u001b[1m35s\u001b[0m 31ms/step - accuracy: 0.9703 - loss: 0.0890 - val_accuracy: 0.8243 - val_loss: 0.9322\n",
      "Epoch 10/10\n",
      "\u001b[1m1112/1112\u001b[0m \u001b[32m━━━━━━━━━━━━━━━━━━━━\u001b[0m\u001b[37m\u001b[0m \u001b[1m41s\u001b[0m 37ms/step - accuracy: 0.9771 - loss: 0.0704 - val_accuracy: 0.8302 - val_loss: 1.0276\n",
      "\n",
      "\n",
      "Fitting model for size 2840\n",
      "Epoch 1/10\n",
      "\u001b[1m1112/1112\u001b[0m \u001b[32m━━━━━━━━━━━━━━━━━━━━\u001b[0m\u001b[37m\u001b[0m \u001b[1m53s\u001b[0m 40ms/step - accuracy: 0.7195 - loss: 1.0868 - val_accuracy: 0.8030 - val_loss: 0.6436\n",
      "Epoch 2/10\n",
      "\u001b[1m1112/1112\u001b[0m \u001b[32m━━━━━━━━━━━━━━━━━━━━\u001b[0m\u001b[37m\u001b[0m \u001b[1m36s\u001b[0m 32ms/step - accuracy: 0.8438 - loss: 0.4742 - val_accuracy: 0.8076 - val_loss: 0.6538\n",
      "Epoch 3/10\n",
      "\u001b[1m1112/1112\u001b[0m \u001b[32m━━━━━━━━━━━━━━━━━━━━\u001b[0m\u001b[37m\u001b[0m \u001b[1m23s\u001b[0m 21ms/step - accuracy: 0.8779 - loss: 0.3521 - val_accuracy: 0.8223 - val_loss: 0.6303\n",
      "Epoch 4/10\n",
      "\u001b[1m1112/1112\u001b[0m \u001b[32m━━━━━━━━━━━━━━━━━━━━\u001b[0m\u001b[37m\u001b[0m \u001b[1m24s\u001b[0m 22ms/step - accuracy: 0.9087 - loss: 0.2631 - val_accuracy: 0.8254 - val_loss: 0.6677\n",
      "Epoch 5/10\n",
      "\u001b[1m1112/1112\u001b[0m \u001b[32m━━━━━━━━━━━━━━━━━━━━\u001b[0m\u001b[37m\u001b[0m \u001b[1m24s\u001b[0m 22ms/step - accuracy: 0.9254 - loss: 0.2085 - val_accuracy: 0.8317 - val_loss: 0.7074\n",
      "Epoch 6/10\n",
      "\u001b[1m1112/1112\u001b[0m \u001b[32m━━━━━━━━━━━━━━━━━━━━\u001b[0m\u001b[37m\u001b[0m \u001b[1m29s\u001b[0m 26ms/step - accuracy: 0.9434 - loss: 0.1639 - val_accuracy: 0.8339 - val_loss: 0.7459\n",
      "Epoch 7/10\n",
      "\u001b[1m1112/1112\u001b[0m \u001b[32m━━━━━━━━━━━━━━━━━━━━\u001b[0m\u001b[37m\u001b[0m \u001b[1m26s\u001b[0m 24ms/step - accuracy: 0.9570 - loss: 0.1258 - val_accuracy: 0.8190 - val_loss: 0.8280\n",
      "Epoch 8/10\n",
      "\u001b[1m1112/1112\u001b[0m \u001b[32m━━━━━━━━━━━━━━━━━━━━\u001b[0m\u001b[37m\u001b[0m \u001b[1m25s\u001b[0m 22ms/step - accuracy: 0.9603 - loss: 0.1155 - val_accuracy: 0.8312 - val_loss: 0.8686\n",
      "Epoch 9/10\n",
      "\u001b[1m1112/1112\u001b[0m \u001b[32m━━━━━━━━━━━━━━━━━━━━\u001b[0m\u001b[37m\u001b[0m \u001b[1m21s\u001b[0m 19ms/step - accuracy: 0.9678 - loss: 0.0955 - val_accuracy: 0.8263 - val_loss: 0.9541\n",
      "Epoch 10/10\n",
      "\u001b[1m1112/1112\u001b[0m \u001b[32m━━━━━━━━━━━━━━━━━━━━\u001b[0m\u001b[37m\u001b[0m \u001b[1m25s\u001b[0m 22ms/step - accuracy: 0.9766 - loss: 0.0736 - val_accuracy: 0.8257 - val_loss: 1.0197\n",
      "\n",
      "\n"
     ]
    }
   ],
   "source": [
    "scores={}\n",
    "for size in [count_classes*3, count_classes*5, count_classes*10, count_classes*20]:\n",
    "    print(f'Fitting model for size {size}')\n",
    "    model = make_model_Mobile_v2(learning_rate=best_learning_rate, inner_layer_units=size)\n",
    "    history = model.fit(train_gen, epochs=10, validation_data=val_gen)\n",
    "    scores[size] = history.history\n",
    "    print()\n",
    "    print()"
   ]
  },
  {
   "cell_type": "code",
   "execution_count": 48,
   "id": "8c79a498-3ba3-4745-8356-ea53fa874a1e",
   "metadata": {},
   "outputs": [
    {
     "data": {
      "text/plain": [
       "<matplotlib.legend.Legend at 0x7fc4e06946b0>"
      ]
     },
     "execution_count": 48,
     "metadata": {},
     "output_type": "execute_result"
    },
    {
     "data": {
      "image/png": "[encoded data removed]",
      "text/plain": [
       "<Figure size 640x480 with 1 Axes>"
      ]
     },
     "metadata": {},
     "output_type": "display_data"
    }
   ],
   "source": [
    "for size, hist in scores.items():\n",
    "    plt.plot(hist['val_accuracy'], label=('val=%s' % size))\n",
    "plt.xticks(np.arange(10))\n",
    "plt.yticks([0.83, 0.835, 0.84, 0.845])\n",
    "plt.legend()"
   ]
  },
  {
   "cell_type": "code",
   "execution_count": 56,
   "id": "0e26dad6-7b05-4596-8173-9df532b0bda1",
   "metadata": {},
   "outputs": [
    {
     "name": "stdout",
     "output_type": "stream",
     "text": [
      "The best accuracy is achieved with an inner layer that has 2840 output units; however, the precision is not significantly higher compared to the version of the model that doesn't include the inner layer.\n"
     ]
    }
   ],
   "source": [
    "print('The best accuracy is achieved with an inner layer that has 2840 output units; '\n",
    "      'however, the precision is not significantly higher compared to the version of the model that doesn\\'t include the inner layer.')"
   ]
  },
  {
   "cell_type": "code",
   "execution_count": null,
   "id": "b697aa66-cf34-4fe5-818e-9886b14cb889",
   "metadata": {},
   "outputs": [],
   "source": []
  }
 ],
 "metadata": {
  "kernelspec": {
   "display_name": "Python 3 (ipykernel)",
   "language": "python",
   "name": "python3"
  },
  "language_info": {
   "codemirror_mode": {
    "name": "ipython",
    "version": 3
   },
   "file_extension": ".py",
   "mimetype": "text/x-python",
   "name": "python",
   "nbconvert_exporter": "python",
   "pygments_lexer": "ipython3",
   "version": "3.12.3"
  }
 },
 "nbformat": 4,
 "nbformat_minor": 5
}
