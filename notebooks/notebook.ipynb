{
 "cells": [
  {
   "cell_type": "code",
   "execution_count": 7,
   "id": "2ffba8b7-69fd-4321-9e9d-4459af53491b",
   "metadata": {},
   "outputs": [],
   "source": [
    "import numpy as np\n",
    "import matplotlib.pyplot as plt\n",
    "import tensorflow as tf\n",
    "from tensorflow import keras\n",
    "import os\n",
    "import zipfile\n",
    "import requests\n",
    "\n",
    "%matplotlib inline"
   ]
  },
  {
   "cell_type": "code",
   "execution_count": 3,
   "id": "920dca1c-983c-453e-8986-4b0913dbd159",
   "metadata": {},
   "outputs": [
    {
     "name": "stdout",
     "output_type": "stream",
     "text": [
      "GPUs Available: [PhysicalDevice(name='/physical_device:GPU:0', device_type='GPU')]\n"
     ]
    }
   ],
   "source": [
    "#Checking that Tensorflow detects a GPU\n",
    "physical_devices = tf.config.list_physical_devices('GPU')\n",
    "print(\"GPUs Available:\", physical_devices)"
   ]
  },
  {
   "cell_type": "code",
   "execution_count": 5,
   "id": "db0db6ac-cfa5-4a19-b668-ce5ae44d3bd0",
   "metadata": {},
   "outputs": [
    {
     "data": {
      "text/plain": [
       "'2.18.0'"
      ]
     },
     "execution_count": 5,
     "metadata": {},
     "output_type": "execute_result"
    }
   ],
   "source": [
    "#Getting tensorflow version\n",
    "tf.__version__"
   ]
  },
  {
   "cell_type": "markdown",
   "id": "c324424a-e9d4-47ce-b526-ee5ba6a3159a",
   "metadata": {},
   "source": [
    "## Getting images to train our model"
   ]
  },
  {
   "cell_type": "code",
   "execution_count": 8,
   "id": "951a6ddb-4d2a-45f4-8923-c80e958ffe3a",
   "metadata": {},
   "outputs": [],
   "source": [
    "dataset_dir = '../dataset'\n",
    "zip_file_path = os.path.join(dataset_dir, 'fashion-product-images-small.zip')\n",
    "download_url = 'https://www.kaggle.com/api/v1/datasets/download/paramaggarwal/fashion-product-images-small'"
   ]
  },
  {
   "cell_type": "code",
   "execution_count": 9,
   "id": "ffa15f0a-f140-4f2e-9861-8e3e1e8d9c36",
   "metadata": {},
   "outputs": [],
   "source": [
    "def is_empty_directory(directory):\n",
    "    return not os.listdir(directory)"
   ]
  },
  {
   "cell_type": "code",
   "execution_count": 11,
   "id": "32eeb3e6-202c-4aff-81d2-b97e4dd230d4",
   "metadata": {},
   "outputs": [
    {
     "name": "stdout",
     "output_type": "stream",
     "text": [
      "Empty dataset directory. Downloading ZIP File from Kaggle...\n",
      "Download completed.\n",
      "ZIP file extracted.\n"
     ]
    }
   ],
   "source": [
    "if is_empty_directory(dataset_dir):\n",
    "    print(\"Empty dataset directory. Downloading ZIP File from Kaggle...\")\n",
    "    \n",
    "    response = requests.get(download_url, allow_redirects=True)\n",
    "    with open(zip_file_path, 'wb') as file:\n",
    "        file.write(response.content)\n",
    "    print(\"Download completed.\")\n",
    "\n",
    "    # Extract the ZIP file\n",
    "    with zipfile.ZipFile(zip_file_path, 'r') as zip_ref:\n",
    "        zip_ref.extractall(dataset_dir)\n",
    "    print(\"ZIP file extracted.\")\n",
    "\n",
    "    # Delete the ZIP file after extraction\n",
    "    os.remove(zip_file_path)\n",
    "else:\n",
    "    print(\"The are images already downloaded. No need to download Zip file from Kaggle\")"
   ]
  },
  {
   "cell_type": "code",
   "execution_count": null,
   "id": "ee021d12-2045-4946-8cf9-52c5bee3a445",
   "metadata": {},
   "outputs": [],
   "source": []
  }
 ],
 "metadata": {
  "kernelspec": {
   "display_name": "Python 3 (ipykernel)",
   "language": "python",
   "name": "python3"
  },
  "language_info": {
   "codemirror_mode": {
    "name": "ipython",
    "version": 3
   },
   "file_extension": ".py",
   "mimetype": "text/x-python",
   "name": "python",
   "nbconvert_exporter": "python",
   "pygments_lexer": "ipython3",
   "version": "3.12.3"
  }
 },
 "nbformat": 4,
 "nbformat_minor": 5
}
