{
 "cells": [
  {
   "cell_type": "code",
   "execution_count": 205,
   "id": "2ffba8b7-69fd-4321-9e9d-4459af53491b",
   "metadata": {},
   "outputs": [],
   "source": [
    "import os\n",
    "import zipfile\n",
    "import requests\n",
    "import glob\n",
    "import sys\n",
    "import re\n",
    "import time\n",
    "\n",
    "import warnings\n",
    "import random\n",
    "import pandas as pd\n",
    "import numpy as np\n",
    "import matplotlib.pyplot as plt\n",
    "import tensorflow as tf\n",
    "\n",
    "from PIL import Image\n",
    "\n",
    "from sklearn.model_selection import train_test_split\n",
    "\n",
    "from tensorflow import keras\n",
    "from tensorflow.keras.preprocessing.image import load_img\n",
    "from tensorflow.keras.preprocessing.image import ImageDataGenerator\n",
    "from tensorflow.keras.applications.mobilenet_v2 import preprocess_input \n",
    "from tensorflow.keras.applications.mobilenet_v2 import MobileNetV2\n",
    "from tensorflow.keras.applications.mobilenet_v2 import decode_predictions \n",
    "from tensorflow.keras.callbacks import ModelCheckpoint, Callback\n",
    "from tensorflow.keras.mixed_precision import set_global_policy\n",
    "from tensorflow.keras import regularizers\n",
    "\n",
    "\n",
    "%matplotlib inline"
   ]
  },
  {
   "cell_type": "code",
   "execution_count": 115,
   "id": "4a66c4c8-8c64-4a39-a574-00bd1d94fa4c",
   "metadata": {},
   "outputs": [
    {
     "name": "stdout",
     "output_type": "stream",
     "text": [
      "3.12.3 (main, Nov  6 2024, 18:32:19) [GCC 13.2.0]\n"
     ]
    }
   ],
   "source": [
    "#Getting python version\n",
    "print(sys.version)"
   ]
  },
  {
   "cell_type": "code",
   "execution_count": 116,
   "id": "db0db6ac-cfa5-4a19-b668-ce5ae44d3bd0",
   "metadata": {},
   "outputs": [
    {
     "data": {
      "text/plain": [
       "'2.18.0'"
      ]
     },
     "execution_count": 116,
     "metadata": {},
     "output_type": "execute_result"
    }
   ],
   "source": [
    "#Getting tensorflow version\n",
    "tf.__version__"
   ]
  },
  {
   "cell_type": "code",
   "execution_count": 117,
   "id": "920dca1c-983c-453e-8986-4b0913dbd159",
   "metadata": {},
   "outputs": [
    {
     "name": "stdout",
     "output_type": "stream",
     "text": [
      "GPUs Available: [PhysicalDevice(name='/physical_device:GPU:0', device_type='GPU')]\n"
     ]
    }
   ],
   "source": [
    "#Checking that Tensorflow detects a GPU\n",
    "gpus = tf.config.list_physical_devices('GPU')\n",
    "print(\"GPUs Available:\", gpus)"
   ]
  },
  {
   "cell_type": "code",
   "execution_count": 118,
   "id": "1929e477-a3d9-4a7c-b708-c2d060d7302c",
   "metadata": {},
   "outputs": [],
   "source": [
    "if gpus:\n",
    "    try:\n",
    "        # Restrict TensorFlow to only allocate memory as needed\n",
    "        for gpu in gpus:\n",
    "            tf.config.experimental.set_memory_growth(gpu, True)\n",
    "    except RuntimeError as e:\n",
    "        print(e)\n"
   ]
  },
  {
   "cell_type": "code",
   "execution_count": 119,
   "id": "fb716dcc-95af-4569-a228-f4d01aebf458",
   "metadata": {},
   "outputs": [
    {
     "name": "stdout",
     "output_type": "stream",
     "text": [
      "TF_GPU_ALLOCATOR is set to: cuda_malloc_async\n"
     ]
    }
   ],
   "source": [
    "# Check if the TF_GPU_ALLOCATOR environment variable is set\n",
    "gpu_allocator = os.environ.get('TF_GPU_ALLOCATOR')\n",
    "\n",
    "if gpu_allocator is None:\n",
    "    print(\"Warning: The TF_GPU_ALLOCATOR environment variable is not set. This variable determines how TensorFlow manages GPU memory allocation.\"\n",
    "          \"Setting it to 'cuda_malloc_async' can improve performance on NVIDIA GPUs by reducing memory fragmentation during model training. \"\n",
    "          \" Please consider setting the variable before running the model.\")\n",
    "else:\n",
    "    print(f\"TF_GPU_ALLOCATOR is set to: {gpu_allocator}\")"
   ]
  },
  {
   "cell_type": "code",
   "execution_count": 120,
   "id": "2926a66a-9010-45a2-bf2a-d21a4ae9d0c9",
   "metadata": {},
   "outputs": [],
   "source": [
    "#set mixed precision policy\n",
    "tf.keras.mixed_precision.set_global_policy('mixed_float16')"
   ]
  },
  {
   "cell_type": "code",
   "execution_count": 121,
   "id": "804271a3-233f-44d2-8af9-c9890c55ff13",
   "metadata": {},
   "outputs": [],
   "source": [
    "#setting seeds\n",
    "np.random.seed(42)\n",
    "random.seed(42)\n",
    "tf.random.set_seed(42)"
   ]
  },
  {
   "cell_type": "code",
   "execution_count": 122,
   "id": "eda4064e-3f9b-47d9-8649-e3128fe4693b",
   "metadata": {},
   "outputs": [],
   "source": [
    "#hide some warnings\n",
    "warnings.filterwarnings('ignore', category=UserWarning)"
   ]
  },
  {
   "cell_type": "code",
   "execution_count": 123,
   "id": "4e215fff-f80a-450b-9efa-b8fd2e853d4d",
   "metadata": {},
   "outputs": [],
   "source": [
    "# Start timer to measure execution time\n",
    "start_time = time.time()"
   ]
  },
  {
   "cell_type": "markdown",
   "id": "c324424a-e9d4-47ce-b526-ee5ba6a3159a",
   "metadata": {},
   "source": [
    "# Download images to train our model"
   ]
  },
  {
   "cell_type": "code",
   "execution_count": 124,
   "id": "951a6ddb-4d2a-45f4-8923-c80e958ffe3a",
   "metadata": {},
   "outputs": [],
   "source": [
    "DATASET_DIR = '../dataset/fashion-product-images-small/myntradataset/'\n",
    "ZIP_FILE_PATH = os.path.join(DATASET_DIR, 'fashion-product-images-small.zip')\n",
    "DOWNLOAD_URL = 'https://www.kaggle.com/api/v1/datasets/download/paramaggarwal/fashion-product-images-small'"
   ]
  },
  {
   "cell_type": "code",
   "execution_count": 125,
   "id": "ffa15f0a-f140-4f2e-9861-8e3e1e8d9c36",
   "metadata": {},
   "outputs": [],
   "source": [
    "def is_empty_directory(directory):\n",
    "    return not os.listdir(directory)"
   ]
  },
  {
   "cell_type": "code",
   "execution_count": 126,
   "id": "32eeb3e6-202c-4aff-81d2-b97e4dd230d4",
   "metadata": {},
   "outputs": [
    {
     "name": "stdout",
     "output_type": "stream",
     "text": [
      "The are images already downloaded. No need to download Zip file from Kaggle\n"
     ]
    }
   ],
   "source": [
    "if is_empty_directory(DATASET_DIR):\n",
    "    print(\"Empty dataset directory. Downloading ZIP File from Kaggle...\")\n",
    "    \n",
    "    response = requests.get(DOWNLOAD_URL, allow_redirects=True)\n",
    "    with open(ZIP_FILE_PATH, 'wb') as file:\n",
    "        file.write(response.content)\n",
    "    print(\"Download completed.\")\n",
    "\n",
    "    # Extract the ZIP file\n",
    "    with zipfile.ZipFile(ZIP_FILE_PATH, 'r') as zip_ref:\n",
    "        zip_ref.extractall(DATASET_DIR)\n",
    "    print(\"ZIP file extracted.\")\n",
    "\n",
    "    # Delete the ZIP file after extraction\n",
    "    os.remove(ZIP_FILE_PATH)\n",
    "else:\n",
    "    print(\"The are images already downloaded. No need to download Zip file from Kaggle\")"
   ]
  },
  {
   "cell_type": "markdown",
   "id": "9d11c6a9-67d1-410b-9525-f022d22413c8",
   "metadata": {},
   "source": [
    "# EDA"
   ]
  },
  {
   "cell_type": "code",
   "execution_count": 127,
   "id": "ee021d12-2045-4946-8cf9-52c5bee3a445",
   "metadata": {},
   "outputs": [],
   "source": [
    "#Load an image\n",
    "image_path = f'{DATASET_DIR}/images/'\n",
    "fullname = f'{image_path}/10009.jpg'\n",
    "img=load_img(fullname, target_size=(224,224))"
   ]
  },
  {
   "cell_type": "code",
   "execution_count": 128,
   "id": "fc0a4d3e-90db-4e19-bd1b-ce83c4fe4c5c",
   "metadata": {},
   "outputs": [
    {
     "data": {
      "text/plain": [
       "(224, 224, 3)"
      ]
     },
     "execution_count": 128,
     "metadata": {},
     "output_type": "execute_result"
    }
   ],
   "source": [
    "x=np.array(img)\n",
    "x.shape"
   ]
  },
  {
   "cell_type": "code",
   "execution_count": 129,
   "id": "a1d4a03f-cf4d-420d-93f3-a757a73cc404",
   "metadata": {},
   "outputs": [],
   "source": [
    "## Reading informacion about images\n",
    "CSV_FILE_PATH = F'{DATASET_DIR}/styles.csv'"
   ]
  },
  {
   "cell_type": "code",
   "execution_count": 130,
   "id": "9a5bcac7-a9ee-4ed0-a09f-a4c6969d2015",
   "metadata": {},
   "outputs": [
    {
     "name": "stdout",
     "output_type": "stream",
     "text": [
      "      id gender masterCategory subCategory  articleType baseColour  season  \\\n",
      "0  15970    Men        Apparel     Topwear       Shirts  Navy Blue    Fall   \n",
      "1  39386    Men        Apparel  Bottomwear        Jeans       Blue  Summer   \n",
      "2  59263  Women    Accessories     Watches      Watches     Silver  Winter   \n",
      "3  21379    Men        Apparel  Bottomwear  Track Pants      Black    Fall   \n",
      "4  53759    Men        Apparel     Topwear      Tshirts       Grey  Summer   \n",
      "\n",
      "   year   usage                             productDisplayName  \n",
      "0  2011  Casual               Turtle Check Men Navy Blue Shirt  \n",
      "1  2012  Casual             Peter England Men Party Blue Jeans  \n",
      "2  2016  Casual                       Titan Women Silver Watch  \n",
      "3  2011  Casual  Manchester United Men Solid Black Track Pants  \n",
      "4  2012  Casual                          Puma Men Grey T-shirt  \n"
     ]
    }
   ],
   "source": [
    "# Read the first few rows of the CSV to inspect its structure\n",
    "preview_data = pd.read_csv(CSV_FILE_PATH, nrows=5)\n",
    "print(preview_data.head())"
   ]
  },
  {
   "cell_type": "code",
   "execution_count": 131,
   "id": "fab18faa-c66b-4c23-ad43-0e26e2705fae",
   "metadata": {},
   "outputs": [
    {
     "data": {
      "text/html": [
       "<div>\n",
       "<style scoped>\n",
       "    .dataframe tbody tr th:only-of-type {\n",
       "        vertical-align: middle;\n",
       "    }\n",
       "\n",
       "    .dataframe tbody tr th {\n",
       "        vertical-align: top;\n",
       "    }\n",
       "\n",
       "    .dataframe thead th {\n",
       "        text-align: right;\n",
       "    }\n",
       "</style>\n",
       "<table border=\"1\" class=\"dataframe\">\n",
       "  <thead>\n",
       "    <tr style=\"text-align: right;\">\n",
       "      <th></th>\n",
       "      <th>id</th>\n",
       "      <th>gender</th>\n",
       "      <th>masterCategory</th>\n",
       "      <th>subCategory</th>\n",
       "      <th>articleType</th>\n",
       "      <th>productDisplayName</th>\n",
       "    </tr>\n",
       "  </thead>\n",
       "  <tbody>\n",
       "    <tr>\n",
       "      <th>0</th>\n",
       "      <td>15970</td>\n",
       "      <td>Men</td>\n",
       "      <td>Apparel</td>\n",
       "      <td>Topwear</td>\n",
       "      <td>Shirts</td>\n",
       "      <td>Turtle Check Men Navy Blue Shirt</td>\n",
       "    </tr>\n",
       "    <tr>\n",
       "      <th>1</th>\n",
       "      <td>39386</td>\n",
       "      <td>Men</td>\n",
       "      <td>Apparel</td>\n",
       "      <td>Bottomwear</td>\n",
       "      <td>Jeans</td>\n",
       "      <td>Peter England Men Party Blue Jeans</td>\n",
       "    </tr>\n",
       "    <tr>\n",
       "      <th>2</th>\n",
       "      <td>59263</td>\n",
       "      <td>Women</td>\n",
       "      <td>Accessories</td>\n",
       "      <td>Watches</td>\n",
       "      <td>Watches</td>\n",
       "      <td>Titan Women Silver Watch</td>\n",
       "    </tr>\n",
       "    <tr>\n",
       "      <th>3</th>\n",
       "      <td>21379</td>\n",
       "      <td>Men</td>\n",
       "      <td>Apparel</td>\n",
       "      <td>Bottomwear</td>\n",
       "      <td>Track Pants</td>\n",
       "      <td>Manchester United Men Solid Black Track Pants</td>\n",
       "    </tr>\n",
       "    <tr>\n",
       "      <th>4</th>\n",
       "      <td>53759</td>\n",
       "      <td>Men</td>\n",
       "      <td>Apparel</td>\n",
       "      <td>Topwear</td>\n",
       "      <td>Tshirts</td>\n",
       "      <td>Puma Men Grey T-shirt</td>\n",
       "    </tr>\n",
       "  </tbody>\n",
       "</table>\n",
       "</div>"
      ],
      "text/plain": [
       "      id gender masterCategory subCategory  articleType  \\\n",
       "0  15970    Men        Apparel     Topwear       Shirts   \n",
       "1  39386    Men        Apparel  Bottomwear        Jeans   \n",
       "2  59263  Women    Accessories     Watches      Watches   \n",
       "3  21379    Men        Apparel  Bottomwear  Track Pants   \n",
       "4  53759    Men        Apparel     Topwear      Tshirts   \n",
       "\n",
       "                              productDisplayName  \n",
       "0               Turtle Check Men Navy Blue Shirt  \n",
       "1             Peter England Men Party Blue Jeans  \n",
       "2                       Titan Women Silver Watch  \n",
       "3  Manchester United Men Solid Black Track Pants  \n",
       "4                          Puma Men Grey T-shirt  "
      ]
     },
     "execution_count": 131,
     "metadata": {},
     "output_type": "execute_result"
    }
   ],
   "source": [
    "#read dataset and skip some bad lines\n",
    "columns=['id', 'gender', 'masterCategory', 'subCategory', 'articleType', 'productDisplayName']\n",
    "data = pd.read_csv(CSV_FILE_PATH,  usecols=columns, on_bad_lines='skip')\n",
    "data.head()"
   ]
  },
  {
   "cell_type": "code",
   "execution_count": 132,
   "id": "19443723-3d6d-4728-bca9-51375d55f969",
   "metadata": {},
   "outputs": [
    {
     "data": {
      "text/plain": [
       "pandas.core.frame.DataFrame"
      ]
     },
     "execution_count": 132,
     "metadata": {},
     "output_type": "execute_result"
    }
   ],
   "source": [
    "type(data)"
   ]
  },
  {
   "cell_type": "code",
   "execution_count": 133,
   "id": "be551a30-8d50-46fe-9a35-17034facc014",
   "metadata": {},
   "outputs": [
    {
     "data": {
      "text/html": [
       "<div>\n",
       "<style scoped>\n",
       "    .dataframe tbody tr th:only-of-type {\n",
       "        vertical-align: middle;\n",
       "    }\n",
       "\n",
       "    .dataframe tbody tr th {\n",
       "        vertical-align: top;\n",
       "    }\n",
       "\n",
       "    .dataframe thead th {\n",
       "        text-align: right;\n",
       "    }\n",
       "</style>\n",
       "<table border=\"1\" class=\"dataframe\">\n",
       "  <thead>\n",
       "    <tr style=\"text-align: right;\">\n",
       "      <th></th>\n",
       "      <th>id</th>\n",
       "      <th>gender</th>\n",
       "      <th>masterCategory</th>\n",
       "      <th>subCategory</th>\n",
       "      <th>articleType</th>\n",
       "      <th>productDisplayName</th>\n",
       "      <th>filename</th>\n",
       "    </tr>\n",
       "  </thead>\n",
       "  <tbody>\n",
       "    <tr>\n",
       "      <th>0</th>\n",
       "      <td>15970</td>\n",
       "      <td>Men</td>\n",
       "      <td>Apparel</td>\n",
       "      <td>Topwear</td>\n",
       "      <td>Shirts</td>\n",
       "      <td>Turtle Check Men Navy Blue Shirt</td>\n",
       "      <td>15970.jpg</td>\n",
       "    </tr>\n",
       "    <tr>\n",
       "      <th>1</th>\n",
       "      <td>39386</td>\n",
       "      <td>Men</td>\n",
       "      <td>Apparel</td>\n",
       "      <td>Bottomwear</td>\n",
       "      <td>Jeans</td>\n",
       "      <td>Peter England Men Party Blue Jeans</td>\n",
       "      <td>39386.jpg</td>\n",
       "    </tr>\n",
       "    <tr>\n",
       "      <th>2</th>\n",
       "      <td>59263</td>\n",
       "      <td>Women</td>\n",
       "      <td>Accessories</td>\n",
       "      <td>Watches</td>\n",
       "      <td>Watches</td>\n",
       "      <td>Titan Women Silver Watch</td>\n",
       "      <td>59263.jpg</td>\n",
       "    </tr>\n",
       "    <tr>\n",
       "      <th>3</th>\n",
       "      <td>21379</td>\n",
       "      <td>Men</td>\n",
       "      <td>Apparel</td>\n",
       "      <td>Bottomwear</td>\n",
       "      <td>Track Pants</td>\n",
       "      <td>Manchester United Men Solid Black Track Pants</td>\n",
       "      <td>21379.jpg</td>\n",
       "    </tr>\n",
       "    <tr>\n",
       "      <th>4</th>\n",
       "      <td>53759</td>\n",
       "      <td>Men</td>\n",
       "      <td>Apparel</td>\n",
       "      <td>Topwear</td>\n",
       "      <td>Tshirts</td>\n",
       "      <td>Puma Men Grey T-shirt</td>\n",
       "      <td>53759.jpg</td>\n",
       "    </tr>\n",
       "  </tbody>\n",
       "</table>\n",
       "</div>"
      ],
      "text/plain": [
       "      id gender masterCategory subCategory  articleType  \\\n",
       "0  15970    Men        Apparel     Topwear       Shirts   \n",
       "1  39386    Men        Apparel  Bottomwear        Jeans   \n",
       "2  59263  Women    Accessories     Watches      Watches   \n",
       "3  21379    Men        Apparel  Bottomwear  Track Pants   \n",
       "4  53759    Men        Apparel     Topwear      Tshirts   \n",
       "\n",
       "                              productDisplayName   filename  \n",
       "0               Turtle Check Men Navy Blue Shirt  15970.jpg  \n",
       "1             Peter England Men Party Blue Jeans  39386.jpg  \n",
       "2                       Titan Women Silver Watch  59263.jpg  \n",
       "3  Manchester United Men Solid Black Track Pants  21379.jpg  \n",
       "4                          Puma Men Grey T-shirt  53759.jpg  "
      ]
     },
     "execution_count": 133,
     "metadata": {},
     "output_type": "execute_result"
    }
   ],
   "source": [
    "#Adding a new column to dataset, with the file name\n",
    "data['filename'] = data['id'].astype(str)+'.jpg'\n",
    "data['filename'] = data['filename'].str.strip() \n",
    "data['filename'] = data['filename'].str.lower()  \n",
    "data.head()"
   ]
  },
  {
   "cell_type": "code",
   "execution_count": 134,
   "id": "3c6b2758-e095-46cc-8784-77265432407b",
   "metadata": {},
   "outputs": [],
   "source": [
    "IMAGES_DIR = f'{DATASET_DIR}/images'"
   ]
  },
  {
   "cell_type": "code",
   "execution_count": 135,
   "id": "8f85d575-d4d9-4000-a6de-98e4c5651ce1",
   "metadata": {},
   "outputs": [
    {
     "name": "stdout",
     "output_type": "stream",
     "text": [
      "Invalid filenames:\n",
      "\n",
      "39403.jpg\n",
      "39410.jpg\n",
      "39401.jpg\n",
      "39425.jpg\n",
      "12347.jpg\n"
     ]
    }
   ],
   "source": [
    "# Checking for invalid filenames and getting information about images\n",
    "invalid_filenames = []\n",
    "image_sizes = []\n",
    "all_images = []\n",
    "for filename in data['filename']:\n",
    "    file_path = os.path.join(IMAGES_DIR, filename)\n",
    "    if not os.path.exists(file_path):\n",
    "        invalid_filenames.append(filename)\n",
    "    else:\n",
    "        img = Image.open(file_path)\n",
    "        image_sizes.append(img.size)\n",
    "print(\"Invalid filenames:\\n\")\n",
    "for invalid in invalid_filenames:\n",
    "    print(invalid)\n"
   ]
  },
  {
   "cell_type": "code",
   "execution_count": 136,
   "id": "03b9c747-bb98-42fc-b812-9d089e9aaac0",
   "metadata": {},
   "outputs": [
    {
     "name": "stdout",
     "output_type": "stream",
     "text": [
      "\n",
      "All images in the directory have corresponding entries in the dataset.\n"
     ]
    }
   ],
   "source": [
    "# Checking for images which information might not be on the dataset \n",
    "all_images = set(os.listdir(IMAGES_DIR))\n",
    "dataset_filenames = set(data['filename'])\n",
    "orphaned_images = all_images-dataset_filenames\n",
    "if orphaned_images:\n",
    "    print(\"\\nOrphaned images (not in the dataset):\\n\")\n",
    "    for img in orphaned_images:\n",
    "        print(img)\n",
    "else:\n",
    "    print(\"\\nAll images in the directory have corresponding entries in the dataset.\")"
   ]
  },
  {
   "cell_type": "code",
   "execution_count": 137,
   "id": "24001b7f-70ac-4694-a0b3-7516278dffb6",
   "metadata": {},
   "outputs": [
    {
     "name": "stdout",
     "output_type": "stream",
     "text": [
      "Total images that will be used as input: 44441\n"
     ]
    }
   ],
   "source": [
    "#There are some missing images, we will just erase their information from the dataset\n",
    "data_cleaned = data[~data['filename'].isin(invalid_filenames)]\n",
    "print(f'Total images that will be used as input: {len(data_cleaned)}')"
   ]
  },
  {
   "cell_type": "code",
   "execution_count": 138,
   "id": "3efeca35-ae90-4722-977b-8b7ebffc59e3",
   "metadata": {},
   "outputs": [
    {
     "name": "stdout",
     "output_type": "stream",
     "text": [
      "Displaying image corresponding to the article 'Turtle Check Men Navy Blue Shirt' of type 'Shirts'\n"
     ]
    },
    {
     "data": {
      "image/jpeg": "[encoded data removed]",
      "image/png": "[encoded data removed]",
      "text/plain": [
       "<PIL.JpegImagePlugin.JpegImageFile image mode=RGB size=60x80>"
      ]
     },
     "execution_count": 138,
     "metadata": {},
     "output_type": "execute_result"
    }
   ],
   "source": [
    "#Load one of the images to check is dimensions\n",
    "sample_image_filename = data.iloc[0].filename\n",
    "sample_image_fullname = f'{IMAGES_DIR}/{sample_image_filename}'\n",
    "sample_image_displayName =  data.iloc[0].productDisplayName\n",
    "sample_image_articleType = data.iloc[0].articleType\n",
    "img = load_img(sample_image_fullname)\n",
    "\n",
    "print(f'Displaying image corresponding to the article \\'{sample_image_displayName}\\' of type \\'{sample_image_articleType}\\'')\n",
    "img"
   ]
  },
  {
   "cell_type": "code",
   "execution_count": 139,
   "id": "48739f92-f15e-422d-9847-353a055dd1cf",
   "metadata": {},
   "outputs": [
    {
     "data": {
      "text/plain": [
       "(80, 60, 3)"
      ]
     },
     "execution_count": 139,
     "metadata": {},
     "output_type": "execute_result"
    }
   ],
   "source": [
    "x=np.array(img)\n",
    "x.shape"
   ]
  },
  {
   "cell_type": "code",
   "execution_count": 140,
   "id": "d3e08a60-34ce-4e6d-975e-c9d185d5d2af",
   "metadata": {},
   "outputs": [
    {
     "data": {
      "image/png": "[encoded data removed]",
      "text/plain": [
       "<Figure size 640x480 with 1 Axes>"
      ]
     },
     "metadata": {},
     "output_type": "display_data"
    }
   ],
   "source": [
    "#Analyzing distribution of image dimensions\n",
    "width, height = zip(*image_sizes)\n",
    "plt.hist(width, bins=50, alpha=0.5, label='Width')\n",
    "plt.hist(height, bins=50, alpha=0.5, label='Height')\n",
    "plt.xlabel('Pixel Size')\n",
    "plt.ylabel('Frequency')\n",
    "plt.title('Distribution of Image Dimensions')\n",
    "plt.legend()\n",
    "plt.show()"
   ]
  },
  {
   "cell_type": "code",
   "execution_count": 141,
   "id": "9f7b113d-7aba-4f29-9b79-35d70280d099",
   "metadata": {},
   "outputs": [],
   "source": [
    "# Conclusion: All the images have a size of 60x80"
   ]
  },
  {
   "cell_type": "code",
   "execution_count": 142,
   "id": "6c028d54-d2e2-4917-8a61-64e5e9edece2",
   "metadata": {},
   "outputs": [
    {
     "data": {
      "text/html": [
       "<div>\n",
       "<style scoped>\n",
       "    .dataframe tbody tr th:only-of-type {\n",
       "        vertical-align: middle;\n",
       "    }\n",
       "\n",
       "    .dataframe tbody tr th {\n",
       "        vertical-align: top;\n",
       "    }\n",
       "\n",
       "    .dataframe thead th {\n",
       "        text-align: right;\n",
       "    }\n",
       "</style>\n",
       "<table border=\"1\" class=\"dataframe\">\n",
       "  <thead>\n",
       "    <tr style=\"text-align: right;\">\n",
       "      <th></th>\n",
       "      <th>articleType</th>\n",
       "      <th>count</th>\n",
       "    </tr>\n",
       "  </thead>\n",
       "  <tbody>\n",
       "    <tr>\n",
       "      <th>10</th>\n",
       "      <td>Body Wash and Scrub</td>\n",
       "      <td>1</td>\n",
       "    </tr>\n",
       "    <tr>\n",
       "      <th>26</th>\n",
       "      <td>Cushion Covers</td>\n",
       "      <td>1</td>\n",
       "    </tr>\n",
       "    <tr>\n",
       "      <th>54</th>\n",
       "      <td>Ipad</td>\n",
       "      <td>1</td>\n",
       "    </tr>\n",
       "    <tr>\n",
       "      <th>46</th>\n",
       "      <td>Hair Accessory</td>\n",
       "      <td>1</td>\n",
       "    </tr>\n",
       "    <tr>\n",
       "      <th>106</th>\n",
       "      <td>Shoe Laces</td>\n",
       "      <td>1</td>\n",
       "    </tr>\n",
       "    <tr>\n",
       "      <th>...</th>\n",
       "      <td>...</td>\n",
       "      <td>...</td>\n",
       "    </tr>\n",
       "    <tr>\n",
       "      <th>112</th>\n",
       "      <td>Sports Shoes</td>\n",
       "      <td>2036</td>\n",
       "    </tr>\n",
       "    <tr>\n",
       "      <th>140</th>\n",
       "      <td>Watches</td>\n",
       "      <td>2542</td>\n",
       "    </tr>\n",
       "    <tr>\n",
       "      <th>19</th>\n",
       "      <td>Casual Shoes</td>\n",
       "      <td>2846</td>\n",
       "    </tr>\n",
       "    <tr>\n",
       "      <th>104</th>\n",
       "      <td>Shirts</td>\n",
       "      <td>3217</td>\n",
       "    </tr>\n",
       "    <tr>\n",
       "      <th>134</th>\n",
       "      <td>Tshirts</td>\n",
       "      <td>7070</td>\n",
       "    </tr>\n",
       "  </tbody>\n",
       "</table>\n",
       "<p>143 rows × 2 columns</p>\n",
       "</div>"
      ],
      "text/plain": [
       "             articleType  count\n",
       "10   Body Wash and Scrub      1\n",
       "26        Cushion Covers      1\n",
       "54                  Ipad      1\n",
       "46        Hair Accessory      1\n",
       "106           Shoe Laces      1\n",
       "..                   ...    ...\n",
       "112         Sports Shoes   2036\n",
       "140              Watches   2542\n",
       "19          Casual Shoes   2846\n",
       "104               Shirts   3217\n",
       "134              Tshirts   7070\n",
       "\n",
       "[143 rows x 2 columns]"
      ]
     },
     "execution_count": 142,
     "metadata": {},
     "output_type": "execute_result"
    }
   ],
   "source": [
    "#Analyzing how many articles are there per class\n",
    "sub_category_counts =data.groupby('articleType').size().reset_index(name='count')\n",
    "sub_category_counts.sort_values(by='count', ascending=True)"
   ]
  },
  {
   "cell_type": "code",
   "execution_count": 172,
   "id": "83740696-d41c-4a79-8df0-76054f68c613",
   "metadata": {},
   "outputs": [],
   "source": [
    "# Filter the article types to keep only those with more than 3 samples (we need 1 sample in each dataframe: train, val and test)\n",
    "valid_article_types = sub_category_counts[sub_category_counts['count'] >= 3]['articleType']\n",
    "data_cleaned = data_cleaned[data_cleaned['articleType'].isin(valid_article_types)]"
   ]
  },
  {
   "cell_type": "code",
   "execution_count": 173,
   "id": "837d8544-11a0-4962-9ab8-f087e612b7fa",
   "metadata": {},
   "outputs": [
    {
     "data": {
      "text/plain": [
       "132"
      ]
     },
     "execution_count": 173,
     "metadata": {},
     "output_type": "execute_result"
    }
   ],
   "source": [
    "classes = data_cleaned['articleType'].nunique()\n",
    "classes"
   ]
  },
  {
   "cell_type": "code",
   "execution_count": 174,
   "id": "a6f0039e-4c67-4f42-9239-9504c57186da",
   "metadata": {},
   "outputs": [],
   "source": [
    "#split the data into training, validation and test datasets\n",
    "train_df, val_df = train_test_split(data_cleaned, test_size=0.2, random_state=42, stratify=data_cleaned['articleType'])"
   ]
  },
  {
   "cell_type": "code",
   "execution_count": 175,
   "id": "e212da10-2432-447b-90c2-0226f40fc833",
   "metadata": {},
   "outputs": [],
   "source": [
    "# defining a target size for images\n",
    "TARGET_SIZE = (96, 96)\n",
    "#defining a batch size\n",
    "BATCH_SIZE=32\n",
    "#defining a max queue size (count of batches preloaded in the queue while the model is training)\n",
    "MAX_QUEUE_SIZE=10"
   ]
  },
  {
   "cell_type": "code",
   "execution_count": 176,
   "id": "20a6f411-c832-493e-a1bd-341931da3d32",
   "metadata": {},
   "outputs": [],
   "source": [
    "# calculating how many workers threads for loading data\n",
    "##warning: it is not certain that these parameters are being used by the ImageDataGenerator\n",
    "num_cores = os.cpu_count()\n",
    "workers = int(num_cores / 2)\n",
    "use_multiprocessing=False\n",
    "if workers>1:\n",
    "   use_multiprocessing=True"
   ]
  },
  {
   "cell_type": "code",
   "execution_count": 177,
   "id": "038b3b01-836c-4da7-8753-8070b6cc75e9",
   "metadata": {},
   "outputs": [
    {
     "name": "stdout",
     "output_type": "stream",
     "text": [
      "Found 35541 validated image filenames belonging to 132 classes.\n"
     ]
    }
   ],
   "source": [
    "#Read images by using ImageDataGenerator (we will use the articleType as our class)\n",
    "train_image_gen = ImageDataGenerator(preprocessing_function=preprocess_input)\n",
    "train_gen = image_gen.flow_from_dataframe(\n",
    "    dataframe=train_df,\n",
    "    directory=IMAGES_DIR, \n",
    "    x_col='filename',  \n",
    "    y_col='articleType', \n",
    "    target_size=TARGET_SIZE, \n",
    "    batch_size=BATCH_SIZE,\n",
    "    class_mode='categorical',  \n",
    "    workers = workers,\n",
    "    use_multiprocessing=use_multiprocessing,\n",
    "    max_queue_size=MAX_QUEUE_SIZE\n",
    ")"
   ]
  },
  {
   "cell_type": "code",
   "execution_count": 178,
   "id": "0c02b0d3-411b-4fc3-b01e-2cc05175baf5",
   "metadata": {},
   "outputs": [
    {
     "name": "stdout",
     "output_type": "stream",
     "text": [
      "Found 8886 validated image filenames belonging to 132 classes.\n"
     ]
    }
   ],
   "source": [
    "val_image_gen = ImageDataGenerator(preprocessing_function=preprocess_input)\n",
    "val_gen = val_image_gen.flow_from_dataframe(\n",
    "    dataframe=val_df,\n",
    "    directory=IMAGES_DIR, \n",
    "    x_col='filename',  \n",
    "    y_col='articleType', \n",
    "    target_size=TARGET_SIZE, \n",
    "    batch_size=BATCH_SIZE,\n",
    "    class_mode='categorical',  \n",
    "    workers = workers,\n",
    "    use_multiprocessing=use_multiprocessing,\n",
    "    max_queue_size=MAX_QUEUE_SIZE    \n",
    ")"
   ]
  },
  {
   "cell_type": "code",
   "execution_count": 179,
   "id": "cbd6d004-3275-45ef-8de7-728c20cdf162",
   "metadata": {},
   "outputs": [
    {
     "data": {
      "text/plain": [
       "{'Accessory Gift Set': 0,\n",
       " 'Baby Dolls': 1,\n",
       " 'Backpacks': 2,\n",
       " 'Bangle': 3,\n",
       " 'Basketballs': 4,\n",
       " 'Bath Robe': 5,\n",
       " 'Beauty Accessory': 6,\n",
       " 'Belts': 7,\n",
       " 'Blazers': 8,\n",
       " 'Body Lotion': 9,\n",
       " 'Booties': 10,\n",
       " 'Boxers': 11,\n",
       " 'Bra': 12,\n",
       " 'Bracelet': 13,\n",
       " 'Briefs': 14,\n",
       " 'Camisoles': 15,\n",
       " 'Capris': 16,\n",
       " 'Caps': 17,\n",
       " 'Casual Shoes': 18,\n",
       " 'Churidar': 19,\n",
       " 'Clothing Set': 20,\n",
       " 'Clutches': 21,\n",
       " 'Compact': 22,\n",
       " 'Concealer': 23,\n",
       " 'Cufflinks': 24,\n",
       " 'Deodorant': 25,\n",
       " 'Dresses': 26,\n",
       " 'Duffel Bag': 27,\n",
       " 'Dupatta': 28,\n",
       " 'Earrings': 29,\n",
       " 'Eye Cream': 30,\n",
       " 'Eyeshadow': 31,\n",
       " 'Face Moisturisers': 32,\n",
       " 'Face Scrub and Exfoliator': 33,\n",
       " 'Face Wash and Cleanser': 34,\n",
       " 'Flats': 35,\n",
       " 'Flip Flops': 36,\n",
       " 'Footballs': 37,\n",
       " 'Formal Shoes': 38,\n",
       " 'Foundation and Primer': 39,\n",
       " 'Fragrance Gift Set': 40,\n",
       " 'Free Gifts': 41,\n",
       " 'Gloves': 42,\n",
       " 'Hair Colour': 43,\n",
       " 'Handbags': 44,\n",
       " 'Hat': 45,\n",
       " 'Headband': 46,\n",
       " 'Heels': 47,\n",
       " 'Highlighter and Blush': 48,\n",
       " 'Innerwear Vests': 49,\n",
       " 'Jackets': 50,\n",
       " 'Jeans': 51,\n",
       " 'Jeggings': 52,\n",
       " 'Jewellery Set': 53,\n",
       " 'Jumpsuit': 54,\n",
       " 'Kajal and Eyeliner': 55,\n",
       " 'Kurta Sets': 56,\n",
       " 'Kurtas': 57,\n",
       " 'Kurtis': 58,\n",
       " 'Laptop Bag': 59,\n",
       " 'Leggings': 60,\n",
       " 'Lehenga Choli': 61,\n",
       " 'Lip Care': 62,\n",
       " 'Lip Gloss': 63,\n",
       " 'Lip Liner': 64,\n",
       " 'Lip Plumper': 65,\n",
       " 'Lipstick': 66,\n",
       " 'Lounge Pants': 67,\n",
       " 'Lounge Shorts': 68,\n",
       " 'Lounge Tshirts': 69,\n",
       " 'Makeup Remover': 70,\n",
       " 'Mascara': 71,\n",
       " 'Mask and Peel': 72,\n",
       " 'Messenger Bag': 73,\n",
       " 'Mobile Pouch': 74,\n",
       " 'Mufflers': 75,\n",
       " 'Nail Essentials': 76,\n",
       " 'Nail Polish': 77,\n",
       " 'Necklace and Chains': 78,\n",
       " 'Nehru Jackets': 79,\n",
       " 'Night suits': 80,\n",
       " 'Nightdress': 81,\n",
       " 'Patiala': 82,\n",
       " 'Pendant': 83,\n",
       " 'Perfume and Body Mist': 84,\n",
       " 'Rain Jacket': 85,\n",
       " 'Ring': 86,\n",
       " 'Robe': 87,\n",
       " 'Rompers': 88,\n",
       " 'Rucksacks': 89,\n",
       " 'Salwar': 90,\n",
       " 'Salwar and Dupatta': 91,\n",
       " 'Sandals': 92,\n",
       " 'Sarees': 93,\n",
       " 'Scarves': 94,\n",
       " 'Shapewear': 95,\n",
       " 'Shirts': 96,\n",
       " 'Shoe Accessories': 97,\n",
       " 'Shorts': 98,\n",
       " 'Shrug': 99,\n",
       " 'Skirts': 100,\n",
       " 'Socks': 101,\n",
       " 'Sports Sandals': 102,\n",
       " 'Sports Shoes': 103,\n",
       " 'Stockings': 104,\n",
       " 'Stoles': 105,\n",
       " 'Sunglasses': 106,\n",
       " 'Sunscreen': 107,\n",
       " 'Suspenders': 108,\n",
       " 'Sweaters': 109,\n",
       " 'Sweatshirts': 110,\n",
       " 'Swimwear': 111,\n",
       " 'Tablet Sleeve': 112,\n",
       " 'Ties': 113,\n",
       " 'Tights': 114,\n",
       " 'Toner': 115,\n",
       " 'Tops': 116,\n",
       " 'Track Pants': 117,\n",
       " 'Tracksuits': 118,\n",
       " 'Travel Accessory': 119,\n",
       " 'Trolley Bag': 120,\n",
       " 'Trousers': 121,\n",
       " 'Trunk': 122,\n",
       " 'Tshirts': 123,\n",
       " 'Tunics': 124,\n",
       " 'Umbrellas': 125,\n",
       " 'Waist Pouch': 126,\n",
       " 'Waistcoat': 127,\n",
       " 'Wallets': 128,\n",
       " 'Watches': 129,\n",
       " 'Water Bottle': 130,\n",
       " 'Wristbands': 131}"
      ]
     },
     "execution_count": 179,
     "metadata": {},
     "output_type": "execute_result"
    }
   ],
   "source": [
    "class_indices= train_gen.class_indices\n",
    "class_indices"
   ]
  },
  {
   "cell_type": "code",
   "execution_count": 180,
   "id": "fe5cb910-0227-44f9-8cbf-4b0d6a0bfe70",
   "metadata": {},
   "outputs": [
    {
     "name": "stdout",
     "output_type": "stream",
     "text": [
      "Category count:  132\n"
     ]
    }
   ],
   "source": [
    "count_classes = len(class_indices)\n",
    "print (f'Category count:  {count_classes}')"
   ]
  },
  {
   "cell_type": "code",
   "execution_count": 181,
   "id": "8ffa49a5-725a-4f55-bfed-4aeb4291cff2",
   "metadata": {},
   "outputs": [
    {
     "name": "stdout",
     "output_type": "stream",
     "text": [
      "Batch shape for training: (32, 96, 96, 3)\n",
      "Shape of training labels: (32, 132)\n",
      "Batch shape for validation: (32, 96, 96, 3)\n",
      "Shape of validation labels: (32, 132)\n"
     ]
    }
   ],
   "source": [
    "#check size of images and batches\n",
    "batch_images, batch_labels = next(train_gen)  \n",
    "print(\"Batch shape for training:\", batch_images.shape) \n",
    "print(\"Shape of training labels:\", batch_labels.shape) \n",
    "\n",
    "batch_images, batch_labels = next(val_gen)  \n",
    "print(\"Batch shape for validation:\", batch_images.shape) \n",
    "print(\"Shape of validation labels:\", batch_labels.shape) "
   ]
  },
  {
   "cell_type": "code",
   "execution_count": 38,
   "id": "77050156-fb53-45cc-a1af-7108d1494ccd",
   "metadata": {},
   "outputs": [],
   "source": [
    "# Conclusion: There are some categories for which we have very few samples"
   ]
  },
  {
   "cell_type": "markdown",
   "id": "4f59e303-4f26-4045-bae2-de47ddcb902e",
   "metadata": {},
   "source": [
    "# Transfering learning"
   ]
  },
  {
   "cell_type": "code",
   "execution_count": 83,
   "id": "902fc09c-0efa-4308-8da3-ccc5fe583071",
   "metadata": {},
   "outputs": [],
   "source": [
    "# Initialize a dictionary to store results for each model\n",
    "model_results = {}"
   ]
  },
  {
   "cell_type": "markdown",
   "id": "8b9a7298-572b-4cf4-9eff-ad210fa74a01",
   "metadata": {},
   "source": [
    "## Create Model v1 with MobileNetV2"
   ]
  },
  {
   "cell_type": "code",
   "execution_count": 206,
   "id": "b1ad0691-bd9f-44d6-b039-8454653c8dc8",
   "metadata": {},
   "outputs": [],
   "source": [
    "def make_model_Mobile_v1(learning_rate=0.01):\n",
    "    #clear any unused session\n",
    "    tf.keras.backend.clear_session()\n",
    "\n",
    "    #creating a base model\n",
    "    input_shape = (TARGET_SIZE[0], TARGET_SIZE[1], 3)\n",
    "    base_model =MobileNetV2(weights='imagenet', input_shape=input_shape, include_top=False)\n",
    "    # create a model from the base model\n",
    "    base_model.trainable=False\n",
    "    inputs = keras.Input(shape=input_shape)\n",
    "    base = base_model(inputs, training=False)\n",
    "    \n",
    "    #pooling layer\n",
    "    pooling = keras.layers.GlobalAveragePooling2D()\n",
    "    vectors = pooling(base)\n",
    "    \n",
    "    #dense layer\n",
    "    outputs = keras.layers.Dense(count_classes, activation='softmax', kernel_regularizer=regularizers.l2(0.001))(vectors)\n",
    "\n",
    "    #final model\n",
    "    model = keras.Model(inputs, outputs)\n",
    "\n",
    "    #compile de model\n",
    "    optimizer =keras.optimizers.Adam(learning_rate=learning_rate)\n",
    "    loss=keras.losses.CategoricalCrossentropy(from_logits=False)\n",
    "    model.compile(optimizer=optimizer, loss=loss, metrics=['accuracy'])\n",
    "    return model"
   ]
  },
  {
   "cell_type": "code",
   "execution_count": 40,
   "id": "7f9fe8ce-b73c-4fde-85e6-986bd114a53a",
   "metadata": {},
   "outputs": [
    {
     "name": "stderr",
     "output_type": "stream",
     "text": [
      "I0000 00:00:1735359735.460180   87656 gpu_process_state.cc:201] Using CUDA malloc Async allocator for GPU: 0\n",
      "I0000 00:00:1735359735.463476   87656 gpu_device.cc:2022] Created device /job:localhost/replica:0/task:0/device:GPU:0 with 2245 MB memory:  -> device: 0, name: NVIDIA GeForce GTX 1650 Ti, pci bus id: 0000:01:00.0, compute capability: 7.5\n"
     ]
    }
   ],
   "source": [
    "model = make_model_Mobile_v1()"
   ]
  },
  {
   "cell_type": "code",
   "execution_count": 41,
   "id": "586a68b3-d64c-4d0b-b440-53424831b1a0",
   "metadata": {},
   "outputs": [
    {
     "name": "stdout",
     "output_type": "stream",
     "text": [
      "Epoch 1/10\n"
     ]
    },
    {
     "name": "stderr",
     "output_type": "stream",
     "text": [
      "WARNING: All log messages before absl::InitializeLog() is called are written to STDERR\n",
      "I0000 00:00:1735359739.554030   87749 service.cc:148] XLA service 0x7f4e30004b70 initialized for platform CUDA (this does not guarantee that XLA will be used). Devices:\n",
      "I0000 00:00:1735359739.554065   87749 service.cc:156]   StreamExecutor device (0): NVIDIA GeForce GTX 1650 Ti, Compute Capability 7.5\n",
      "2024-12-27 23:22:19.613662: I tensorflow/compiler/mlir/tensorflow/utils/dump_mlir_util.cc:268] disabling MLIR crash reproducer, set env var `MLIR_CRASH_REPRODUCER_DIRECTORY` to enable.\n",
      "I0000 00:00:1735359740.034903   87749 cuda_dnn.cc:529] Loaded cuDNN version 90600\n"
     ]
    },
    {
     "name": "stdout",
     "output_type": "stream",
     "text": [
      "\u001b[1m  13/1112\u001b[0m \u001b[37m━━━━━━━━━━━━━━━━━━━━\u001b[0m \u001b[1m15s\u001b[0m 15ms/step - accuracy: 0.2330 - loss: 5.6448      "
     ]
    },
    {
     "name": "stderr",
     "output_type": "stream",
     "text": [
      "I0000 00:00:1735359742.698074   87749 device_compiler.h:188] Compiled cluster using XLA!  This line is logged at most once for the lifetime of the process.\n"
     ]
    },
    {
     "name": "stdout",
     "output_type": "stream",
     "text": [
      "\u001b[1m1112/1112\u001b[0m \u001b[32m━━━━━━━━━━━━━━━━━━━━\u001b[0m\u001b[37m\u001b[0m \u001b[1m36s\u001b[0m 27ms/step - accuracy: 0.6824 - loss: 2.5281 - val_accuracy: 0.7687 - val_loss: 2.2789\n",
      "Epoch 2/10\n",
      "\u001b[1m1112/1112\u001b[0m \u001b[32m━━━━━━━━━━━━━━━━━━━━\u001b[0m\u001b[37m\u001b[0m \u001b[1m23s\u001b[0m 20ms/step - accuracy: 0.8176 - loss: 1.4182 - val_accuracy: 0.7874 - val_loss: 2.4606\n",
      "Epoch 3/10\n",
      "\u001b[1m1112/1112\u001b[0m \u001b[32m━━━━━━━━━━━━━━━━━━━━\u001b[0m\u001b[37m\u001b[0m \u001b[1m19s\u001b[0m 17ms/step - accuracy: 0.8493 - loss: 1.1793 - val_accuracy: 0.7858 - val_loss: 2.9020\n",
      "Epoch 4/10\n",
      "\u001b[1m1112/1112\u001b[0m \u001b[32m━━━━━━━━━━━━━━━━━━━━\u001b[0m\u001b[37m\u001b[0m \u001b[1m22s\u001b[0m 20ms/step - accuracy: 0.8670 - loss: 0.9730 - val_accuracy: 0.7912 - val_loss: 3.2435\n",
      "Epoch 5/10\n",
      "\u001b[1m1112/1112\u001b[0m \u001b[32m━━━━━━━━━━━━━━━━━━━━\u001b[0m\u001b[37m\u001b[0m \u001b[1m28s\u001b[0m 25ms/step - accuracy: 0.8785 - loss: 0.9433 - val_accuracy: 0.8000 - val_loss: 3.1238\n",
      "Epoch 6/10\n",
      "\u001b[1m1112/1112\u001b[0m \u001b[32m━━━━━━━━━━━━━━━━━━━━\u001b[0m\u001b[37m\u001b[0m \u001b[1m23s\u001b[0m 21ms/step - accuracy: 0.8912 - loss: 0.8637 - val_accuracy: 0.7942 - val_loss: 3.5834\n",
      "Epoch 7/10\n",
      "\u001b[1m1112/1112\u001b[0m \u001b[32m━━━━━━━━━━━━━━━━━━━━\u001b[0m\u001b[37m\u001b[0m \u001b[1m25s\u001b[0m 22ms/step - accuracy: 0.8972 - loss: 0.8094 - val_accuracy: 0.7966 - val_loss: 3.8632\n",
      "Epoch 8/10\n",
      "\u001b[1m1112/1112\u001b[0m \u001b[32m━━━━━━━━━━━━━━━━━━━━\u001b[0m\u001b[37m\u001b[0m \u001b[1m26s\u001b[0m 24ms/step - accuracy: 0.9011 - loss: 0.7668 - val_accuracy: 0.8025 - val_loss: 3.9895\n",
      "Epoch 9/10\n",
      "\u001b[1m1112/1112\u001b[0m \u001b[32m━━━━━━━━━━━━━━━━━━━━\u001b[0m\u001b[37m\u001b[0m \u001b[1m26s\u001b[0m 24ms/step - accuracy: 0.9086 - loss: 0.6896 - val_accuracy: 0.8061 - val_loss: 4.1260\n",
      "Epoch 10/10\n",
      "\u001b[1m1112/1112\u001b[0m \u001b[32m━━━━━━━━━━━━━━━━━━━━\u001b[0m\u001b[37m\u001b[0m \u001b[1m23s\u001b[0m 21ms/step - accuracy: 0.9145 - loss: 0.6413 - val_accuracy: 0.7930 - val_loss: 4.1507\n"
     ]
    }
   ],
   "source": [
    "#train the model\n",
    "history=model.fit(train_gen, epochs=10, validation_data=val_gen)"
   ]
  },
  {
   "cell_type": "code",
   "execution_count": 42,
   "id": "96e4f13b-bad5-414d-94cf-67b1f83a4a02",
   "metadata": {},
   "outputs": [
    {
     "data": {
      "text/plain": [
       "<matplotlib.legend.Legend at 0x7f4edc0b9a90>"
      ]
     },
     "execution_count": 42,
     "metadata": {},
     "output_type": "execute_result"
    },
    {
     "data": {
      "image/png": "[encoded data removed]",
      "text/plain": [
       "<Figure size 640x480 with 1 Axes>"
      ]
     },
     "metadata": {},
     "output_type": "display_data"
    }
   ],
   "source": [
    "#Plotting train and validation accuracy\n",
    "plt.plot(history.history['accuracy'], label='train')\n",
    "plt.plot(history.history['val_accuracy'], label='val')\n",
    "plt.xticks(np.arange(10))\n",
    "plt.legend()"
   ]
  },
  {
   "cell_type": "code",
   "execution_count": 43,
   "id": "df5a6dea-2a1a-4e20-a0a7-b31346f934ec",
   "metadata": {},
   "outputs": [],
   "source": [
    "#Conclusion after training: the model is overfitting"
   ]
  },
  {
   "cell_type": "code",
   "execution_count": 44,
   "id": "be7f7a08-0867-4589-90e0-002758521640",
   "metadata": {},
   "outputs": [
    {
     "name": "stdout",
     "output_type": "stream",
     "text": [
      "\u001b[1m1/1\u001b[0m \u001b[32m━━━━━━━━━━━━━━━━━━━━\u001b[0m\u001b[37m\u001b[0m \u001b[1m3s\u001b[0m 3s/step\n"
     ]
    },
    {
     "data": {
      "text/plain": [
       "array([[0.0000000e+00, 0.0000000e+00, 0.0000000e+00, 0.0000000e+00,\n",
       "        0.0000000e+00, 0.0000000e+00, 0.0000000e+00, 0.0000000e+00,\n",
       "        0.0000000e+00, 0.0000000e+00, 0.0000000e+00, 0.0000000e+00,\n",
       "        0.0000000e+00, 0.0000000e+00, 0.0000000e+00, 0.0000000e+00,\n",
       "        0.0000000e+00, 0.0000000e+00, 0.0000000e+00, 1.4012985e-45,\n",
       "        0.0000000e+00, 0.0000000e+00, 0.0000000e+00, 0.0000000e+00,\n",
       "        2.0219767e-36, 0.0000000e+00, 6.3618950e-43, 0.0000000e+00,\n",
       "        1.4012985e-45, 0.0000000e+00, 0.0000000e+00, 0.0000000e+00,\n",
       "        0.0000000e+00, 0.0000000e+00, 0.0000000e+00, 0.0000000e+00,\n",
       "        0.0000000e+00, 0.0000000e+00, 0.0000000e+00, 6.1657132e-44,\n",
       "        0.0000000e+00, 0.0000000e+00, 0.0000000e+00, 0.0000000e+00,\n",
       "        0.0000000e+00, 0.0000000e+00, 9.3783467e-37, 8.5479206e-44,\n",
       "        1.8418667e-41, 0.0000000e+00, 0.0000000e+00, 0.0000000e+00,\n",
       "        0.0000000e+00, 6.3619651e-40, 0.0000000e+00, 2.9918565e-37,\n",
       "        0.0000000e+00, 0.0000000e+00, 0.0000000e+00, 0.0000000e+00,\n",
       "        0.0000000e+00, 0.0000000e+00, 0.0000000e+00, 7.7387032e-30,\n",
       "        5.0560464e-18, 0.0000000e+00, 0.0000000e+00, 0.0000000e+00,\n",
       "        0.0000000e+00, 0.0000000e+00, 0.0000000e+00, 0.0000000e+00,\n",
       "        0.0000000e+00, 5.2969082e-43, 0.0000000e+00, 0.0000000e+00,\n",
       "        0.0000000e+00, 0.0000000e+00, 0.0000000e+00, 0.0000000e+00,\n",
       "        0.0000000e+00, 0.0000000e+00, 0.0000000e+00, 0.0000000e+00,\n",
       "        0.0000000e+00, 0.0000000e+00, 0.0000000e+00, 0.0000000e+00,\n",
       "        0.0000000e+00, 0.0000000e+00, 9.4899203e-35, 0.0000000e+00,\n",
       "        0.0000000e+00, 0.0000000e+00, 0.0000000e+00, 0.0000000e+00,\n",
       "        0.0000000e+00, 0.0000000e+00, 0.0000000e+00, 0.0000000e+00,\n",
       "        0.0000000e+00, 0.0000000e+00, 8.4077908e-45, 0.0000000e+00,\n",
       "        1.0000000e+00, 0.0000000e+00, 9.5357374e-38, 3.4597499e-40,\n",
       "        0.0000000e+00, 0.0000000e+00, 0.0000000e+00, 0.0000000e+00,\n",
       "        4.1231820e-39, 0.0000000e+00, 0.0000000e+00, 1.9693638e-39,\n",
       "        0.0000000e+00, 0.0000000e+00, 1.1638310e-17, 5.3279146e-27,\n",
       "        0.0000000e+00, 0.0000000e+00, 0.0000000e+00, 0.0000000e+00,\n",
       "        0.0000000e+00, 0.0000000e+00, 1.1388965e-12, 4.3734525e-42,\n",
       "        0.0000000e+00, 0.0000000e+00, 0.0000000e+00, 0.0000000e+00,\n",
       "        0.0000000e+00, 9.2851313e-19, 2.7802269e-13, 0.0000000e+00,\n",
       "        0.0000000e+00, 0.0000000e+00, 2.3533391e-37, 4.2327621e-41,\n",
       "        0.0000000e+00, 0.0000000e+00]], dtype=float32)"
      ]
     },
     "execution_count": 44,
     "metadata": {},
     "output_type": "execute_result"
    }
   ],
   "source": [
    "#run prediction for the image used as example\n",
    "img = load_img(sample_image_fullname, target_size=TARGET_SIZE)\n",
    "x=np.array(img)\n",
    "x = preprocess_input(x)\n",
    "X = np.array([x])\n",
    "preds = model.predict(X)\n",
    "preds"
   ]
  },
  {
   "cell_type": "code",
   "execution_count": 45,
   "id": "dcead9c1-87fb-46ab-80e5-83adde3fc2db",
   "metadata": {},
   "outputs": [
    {
     "name": "stdout",
     "output_type": "stream",
     "text": [
      "The predicted class for the sample image: 'Turtle Check Men Navy Blue Shirt', was 'Shirts' with a probability of: 1.0000\n"
     ]
    }
   ],
   "source": [
    "# Get the index of the highest probability\n",
    "predicted_index = np.argmax(preds, axis=1)[0] \n",
    "\n",
    "class_labels = {v: k for k, v in train_gen.class_indices.items()}\n",
    "predicted_class_name = class_labels[predicted_index]\n",
    "\n",
    "# Print the result\n",
    "print(f\"The predicted class for the sample image: '{sample_image_displayName}', \"\n",
    "      f\"was '{predicted_class_name}' with a probability of: {preds[0][predicted_index]:.4f}\")"
   ]
  },
  {
   "cell_type": "markdown",
   "id": "5d0aa0ee-1512-428c-ae14-cb5f2c0241d2",
   "metadata": {},
   "source": [
    "### Adjusting learning rate for Model version 1"
   ]
  },
  {
   "cell_type": "code",
   "execution_count": 46,
   "id": "612c3a6c-0a1f-4f5b-b769-ca1436b25ed6",
   "metadata": {},
   "outputs": [
    {
     "name": "stdout",
     "output_type": "stream",
     "text": [
      "Training with different learning rates:\n",
      "\n",
      "0.0001\n",
      "Epoch 1/10\n",
      "\u001b[1m1112/1112\u001b[0m \u001b[32m━━━━━━━━━━━━━━━━━━━━\u001b[0m\u001b[37m\u001b[0m \u001b[1m36s\u001b[0m 25ms/step - accuracy: 0.4274 - loss: 2.5159 - val_accuracy: 0.7246 - val_loss: 0.9862\n",
      "Epoch 2/10\n",
      "\u001b[1m1112/1112\u001b[0m \u001b[32m━━━━━━━━━━━━━━━━━━━━\u001b[0m\u001b[37m\u001b[0m \u001b[1m26s\u001b[0m 23ms/step - accuracy: 0.7515 - loss: 0.8552 - val_accuracy: 0.7715 - val_loss: 0.7720\n",
      "Epoch 3/10\n",
      "\u001b[1m1112/1112\u001b[0m \u001b[32m━━━━━━━━━━━━━━━━━━━━\u001b[0m\u001b[37m\u001b[0m \u001b[1m26s\u001b[0m 23ms/step - accuracy: 0.7969 - loss: 0.6637 - val_accuracy: 0.7937 - val_loss: 0.6911\n",
      "Epoch 4/10\n",
      "\u001b[1m1112/1112\u001b[0m \u001b[32m━━━━━━━━━━━━━━━━━━━━\u001b[0m\u001b[37m\u001b[0m \u001b[1m26s\u001b[0m 23ms/step - accuracy: 0.8226 - loss: 0.5705 - val_accuracy: 0.8047 - val_loss: 0.6423\n",
      "Epoch 5/10\n",
      "\u001b[1m1112/1112\u001b[0m \u001b[32m━━━━━━━━━━━━━━━━━━━━\u001b[0m\u001b[37m\u001b[0m \u001b[1m24s\u001b[0m 22ms/step - accuracy: 0.8411 - loss: 0.5018 - val_accuracy: 0.8118 - val_loss: 0.6176\n",
      "Epoch 6/10\n",
      "\u001b[1m1112/1112\u001b[0m \u001b[32m━━━━━━━━━━━━━━━━━━━━\u001b[0m\u001b[37m\u001b[0m \u001b[1m28s\u001b[0m 25ms/step - accuracy: 0.8575 - loss: 0.4518 - val_accuracy: 0.8168 - val_loss: 0.5969\n",
      "Epoch 7/10\n",
      "\u001b[1m1112/1112\u001b[0m \u001b[32m━━━━━━━━━━━━━━━━━━━━\u001b[0m\u001b[37m\u001b[0m \u001b[1m31s\u001b[0m 28ms/step - accuracy: 0.8687 - loss: 0.4207 - val_accuracy: 0.8220 - val_loss: 0.5801\n",
      "Epoch 8/10\n",
      "\u001b[1m1112/1112\u001b[0m \u001b[32m━━━━━━━━━━━━━━━━━━━━\u001b[0m\u001b[37m\u001b[0m \u001b[1m27s\u001b[0m 24ms/step - accuracy: 0.8765 - loss: 0.3933 - val_accuracy: 0.8266 - val_loss: 0.5711\n",
      "Epoch 9/10\n",
      "\u001b[1m1112/1112\u001b[0m \u001b[32m━━━━━━━━━━━━━━━━━━━━\u001b[0m\u001b[37m\u001b[0m \u001b[1m25s\u001b[0m 22ms/step - accuracy: 0.8860 - loss: 0.3638 - val_accuracy: 0.8277 - val_loss: 0.5625\n",
      "Epoch 10/10\n",
      "\u001b[1m1112/1112\u001b[0m \u001b[32m━━━━━━━━━━━━━━━━━━━━\u001b[0m\u001b[37m\u001b[0m \u001b[1m27s\u001b[0m 25ms/step - accuracy: 0.8882 - loss: 0.3569 - val_accuracy: 0.8334 - val_loss: 0.5565\n",
      "\n",
      "\n",
      "0.001\n",
      "Epoch 1/10\n",
      "\u001b[1m1112/1112\u001b[0m \u001b[32m━━━━━━━━━━━━━━━━━━━━\u001b[0m\u001b[37m\u001b[0m \u001b[1m41s\u001b[0m 31ms/step - accuracy: 0.6786 - loss: 1.2644 - val_accuracy: 0.7931 - val_loss: 0.6717\n",
      "Epoch 2/10\n",
      "\u001b[1m1112/1112\u001b[0m \u001b[32m━━━━━━━━━━━━━━━━━━━━\u001b[0m\u001b[37m\u001b[0m \u001b[1m26s\u001b[0m 23ms/step - accuracy: 0.8624 - loss: 0.4231 - val_accuracy: 0.8173 - val_loss: 0.6337\n",
      "Epoch 3/10\n",
      "\u001b[1m1112/1112\u001b[0m \u001b[32m━━━━━━━━━━━━━━━━━━━━\u001b[0m\u001b[37m\u001b[0m \u001b[1m30s\u001b[0m 27ms/step - accuracy: 0.8870 - loss: 0.3323 - val_accuracy: 0.8328 - val_loss: 0.5969\n",
      "Epoch 4/10\n",
      "\u001b[1m1112/1112\u001b[0m \u001b[32m━━━━━━━━━━━━━━━━━━━━\u001b[0m\u001b[37m\u001b[0m \u001b[1m29s\u001b[0m 26ms/step - accuracy: 0.9079 - loss: 0.2698 - val_accuracy: 0.8303 - val_loss: 0.6262\n",
      "Epoch 5/10\n",
      "\u001b[1m1112/1112\u001b[0m \u001b[32m━━━━━━━━━━━━━━━━━━━━\u001b[0m\u001b[37m\u001b[0m \u001b[1m28s\u001b[0m 25ms/step - accuracy: 0.9189 - loss: 0.2360 - val_accuracy: 0.8325 - val_loss: 0.6179\n",
      "Epoch 6/10\n",
      "\u001b[1m1112/1112\u001b[0m \u001b[32m━━━━━━━━━━━━━━━━━━━━\u001b[0m\u001b[37m\u001b[0m \u001b[1m24s\u001b[0m 22ms/step - accuracy: 0.9270 - loss: 0.2133 - val_accuracy: 0.8313 - val_loss: 0.6446\n",
      "Epoch 7/10\n",
      "\u001b[1m1112/1112\u001b[0m \u001b[32m━━━━━━━━━━━━━━━━━━━━\u001b[0m\u001b[37m\u001b[0m \u001b[1m29s\u001b[0m 26ms/step - accuracy: 0.9343 - loss: 0.1905 - val_accuracy: 0.8311 - val_loss: 0.6684\n",
      "Epoch 8/10\n",
      "\u001b[1m1112/1112\u001b[0m \u001b[32m━━━━━━━━━━━━━━━━━━━━\u001b[0m\u001b[37m\u001b[0m \u001b[1m28s\u001b[0m 26ms/step - accuracy: 0.9383 - loss: 0.1777 - val_accuracy: 0.8310 - val_loss: 0.6714\n",
      "Epoch 9/10\n",
      "\u001b[1m1112/1112\u001b[0m \u001b[32m━━━━━━━━━━━━━━━━━━━━\u001b[0m\u001b[37m\u001b[0m \u001b[1m28s\u001b[0m 25ms/step - accuracy: 0.9441 - loss: 0.1600 - val_accuracy: 0.8321 - val_loss: 0.7080\n",
      "Epoch 10/10\n",
      "\u001b[1m1112/1112\u001b[0m \u001b[32m━━━━━━━━━━━━━━━━━━━━\u001b[0m\u001b[37m\u001b[0m \u001b[1m27s\u001b[0m 24ms/step - accuracy: 0.9462 - loss: 0.1541 - val_accuracy: 0.8331 - val_loss: 0.7371\n",
      "\n",
      "\n",
      "0.01\n",
      "Epoch 1/10\n",
      "\u001b[1m1112/1112\u001b[0m \u001b[32m━━━━━━━━━━━━━━━━━━━━\u001b[0m\u001b[37m\u001b[0m \u001b[1m39s\u001b[0m 30ms/step - accuracy: 0.6824 - loss: 2.4479 - val_accuracy: 0.7238 - val_loss: 2.7878\n",
      "Epoch 2/10\n",
      "\u001b[1m1112/1112\u001b[0m \u001b[32m━━━━━━━━━━━━━━━━━━━━\u001b[0m\u001b[37m\u001b[0m \u001b[1m30s\u001b[0m 27ms/step - accuracy: 0.8142 - loss: 1.4493 - val_accuracy: 0.7831 - val_loss: 2.5210\n",
      "Epoch 3/10\n",
      "\u001b[1m1112/1112\u001b[0m \u001b[32m━━━━━━━━━━━━━━━━━━━━\u001b[0m\u001b[37m\u001b[0m \u001b[1m24s\u001b[0m 22ms/step - accuracy: 0.8487 - loss: 1.1420 - val_accuracy: 0.7813 - val_loss: 2.7741\n",
      "Epoch 4/10\n",
      "\u001b[1m1112/1112\u001b[0m \u001b[32m━━━━━━━━━━━━━━━━━━━━\u001b[0m\u001b[37m\u001b[0m \u001b[1m27s\u001b[0m 24ms/step - accuracy: 0.8640 - loss: 1.0696 - val_accuracy: 0.7925 - val_loss: 3.0698\n",
      "Epoch 5/10\n",
      "\u001b[1m1112/1112\u001b[0m \u001b[32m━━━━━━━━━━━━━━━━━━━━\u001b[0m\u001b[37m\u001b[0m \u001b[1m27s\u001b[0m 24ms/step - accuracy: 0.8734 - loss: 0.9595 - val_accuracy: 0.7870 - val_loss: 3.5526\n",
      "Epoch 6/10\n",
      "\u001b[1m1112/1112\u001b[0m \u001b[32m━━━━━━━━━━━━━━━━━━━━\u001b[0m\u001b[37m\u001b[0m \u001b[1m29s\u001b[0m 26ms/step - accuracy: 0.8935 - loss: 0.8486 - val_accuracy: 0.8005 - val_loss: 3.3640\n",
      "Epoch 7/10\n",
      "\u001b[1m1112/1112\u001b[0m \u001b[32m━━━━━━━━━━━━━━━━━━━━\u001b[0m\u001b[37m\u001b[0m \u001b[1m25s\u001b[0m 22ms/step - accuracy: 0.8909 - loss: 0.8751 - val_accuracy: 0.7998 - val_loss: 3.4643\n",
      "Epoch 8/10\n",
      "\u001b[1m1112/1112\u001b[0m \u001b[32m━━━━━━━━━━━━━━━━━━━━\u001b[0m\u001b[37m\u001b[0m \u001b[1m27s\u001b[0m 24ms/step - accuracy: 0.9062 - loss: 0.6920 - val_accuracy: 0.7991 - val_loss: 3.7160\n",
      "Epoch 9/10\n",
      "\u001b[1m1112/1112\u001b[0m \u001b[32m━━━━━━━━━━━━━━━━━━━━\u001b[0m\u001b[37m\u001b[0m \u001b[1m29s\u001b[0m 26ms/step - accuracy: 0.9111 - loss: 0.6859 - val_accuracy: 0.7939 - val_loss: 4.0004\n",
      "Epoch 10/10\n",
      "\u001b[1m1112/1112\u001b[0m \u001b[32m━━━━━━━━━━━━━━━━━━━━\u001b[0m\u001b[37m\u001b[0m \u001b[1m28s\u001b[0m 25ms/step - accuracy: 0.9151 - loss: 0.6621 - val_accuracy: 0.7897 - val_loss: 4.3750\n",
      "\n",
      "\n",
      "0.1\n",
      "Epoch 1/10\n",
      "\u001b[1m1112/1112\u001b[0m \u001b[32m━━━━━━━━━━━━━━━━━━━━\u001b[0m\u001b[37m\u001b[0m \u001b[1m41s\u001b[0m 32ms/step - accuracy: 0.6537 - loss: 24.3498 - val_accuracy: 0.7604 - val_loss: 24.9406\n",
      "Epoch 2/10\n",
      "\u001b[1m1112/1112\u001b[0m \u001b[32m━━━━━━━━━━━━━━━━━━━━\u001b[0m\u001b[37m\u001b[0m \u001b[1m27s\u001b[0m 25ms/step - accuracy: 0.8016 - loss: 15.2939 - val_accuracy: 0.7718 - val_loss: 26.1995\n",
      "Epoch 3/10\n",
      "\u001b[1m1112/1112\u001b[0m \u001b[32m━━━━━━━━━━━━━━━━━━━━\u001b[0m\u001b[37m\u001b[0m \u001b[1m28s\u001b[0m 25ms/step - accuracy: 0.8378 - loss: 12.2654 - val_accuracy: 0.7933 - val_loss: 27.6023\n",
      "Epoch 4/10\n",
      "\u001b[1m1112/1112\u001b[0m \u001b[32m━━━━━━━━━━━━━━━━━━━━\u001b[0m\u001b[37m\u001b[0m \u001b[1m25s\u001b[0m 23ms/step - accuracy: 0.8543 - loss: 11.1244 - val_accuracy: 0.7880 - val_loss: 30.3621\n",
      "Epoch 5/10\n",
      "\u001b[1m1112/1112\u001b[0m \u001b[32m━━━━━━━━━━━━━━━━━━━━\u001b[0m\u001b[37m\u001b[0m \u001b[1m27s\u001b[0m 24ms/step - accuracy: 0.8648 - loss: 10.3438 - val_accuracy: 0.7839 - val_loss: 34.5036\n",
      "Epoch 6/10\n",
      "\u001b[1m1112/1112\u001b[0m \u001b[32m━━━━━━━━━━━━━━━━━━━━\u001b[0m\u001b[37m\u001b[0m \u001b[1m29s\u001b[0m 26ms/step - accuracy: 0.8839 - loss: 8.9105 - val_accuracy: 0.7785 - val_loss: 36.9518\n",
      "Epoch 7/10\n",
      "\u001b[1m1112/1112\u001b[0m \u001b[32m━━━━━━━━━━━━━━━━━━━━\u001b[0m\u001b[37m\u001b[0m \u001b[1m29s\u001b[0m 26ms/step - accuracy: 0.8862 - loss: 9.0356 - val_accuracy: 0.7857 - val_loss: 38.9561\n",
      "Epoch 8/10\n",
      "\u001b[1m1112/1112\u001b[0m \u001b[32m━━━━━━━━━━━━━━━━━━━━\u001b[0m\u001b[37m\u001b[0m \u001b[1m25s\u001b[0m 23ms/step - accuracy: 0.8972 - loss: 8.3158 - val_accuracy: 0.7974 - val_loss: 36.8099\n",
      "Epoch 9/10\n",
      "\u001b[1m1112/1112\u001b[0m \u001b[32m━━━━━━━━━━━━━━━━━━━━\u001b[0m\u001b[37m\u001b[0m \u001b[1m28s\u001b[0m 25ms/step - accuracy: 0.9008 - loss: 7.4648 - val_accuracy: 0.7987 - val_loss: 40.2260\n",
      "Epoch 10/10\n",
      "\u001b[1m1112/1112\u001b[0m \u001b[32m━━━━━━━━━━━━━━━━━━━━\u001b[0m\u001b[37m\u001b[0m \u001b[1m27s\u001b[0m 25ms/step - accuracy: 0.9060 - loss: 7.3275 - val_accuracy: 0.8018 - val_loss: 41.8864\n",
      "\n",
      "\n"
     ]
    }
   ],
   "source": [
    "scores={}\n",
    "print(\"Training with different learning rates:\\n\")\n",
    "for lr in [0.0001, 0.001, 0.01, 0.1]:\n",
    "    print(lr)\n",
    "    model = make_model_Mobile_v1(learning_rate=lr)\n",
    "    history = model.fit(train_gen, epochs=10, validation_data=val_gen)\n",
    "    scores[lr]= history.history\n",
    "\n",
    "    print()\n",
    "    print()"
   ]
  },
  {
   "cell_type": "code",
   "execution_count": 47,
   "id": "4e0b84df-aba7-49e9-9579-3c2ee3325f0d",
   "metadata": {},
   "outputs": [
    {
     "data": {
      "text/plain": [
       "<matplotlib.legend.Legend at 0x7f4e0a678110>"
      ]
     },
     "execution_count": 47,
     "metadata": {},
     "output_type": "execute_result"
    },
    {
     "data": {
      "image/png": "[encoded data removed]",
      "text/plain": [
       "<Figure size 640x480 with 1 Axes>"
      ]
     },
     "metadata": {},
     "output_type": "display_data"
    }
   ],
   "source": [
    "#Plotting the train accuracy\n",
    "for lr, hist in scores.items():\n",
    "    plt.plot(hist['accuracy'], label=lr)\n",
    "\n",
    "plt.xticks(np.arange(10))\n",
    "plt.legend()"
   ]
  },
  {
   "cell_type": "code",
   "execution_count": 48,
   "id": "d22c1599-fd23-4f50-ac5f-b9fac0105f23",
   "metadata": {},
   "outputs": [
    {
     "data": {
      "text/plain": [
       "<matplotlib.legend.Legend at 0x7f4e0999da60>"
      ]
     },
     "execution_count": 48,
     "metadata": {},
     "output_type": "execute_result"
    },
    {
     "data": {
      "image/png": "[encoded data removed]",
      "text/plain": [
       "<Figure size 640x480 with 1 Axes>"
      ]
     },
     "metadata": {},
     "output_type": "display_data"
    }
   ],
   "source": [
    "#Plotting the validation accuracy\n",
    "for lr, hist in scores.items():\n",
    "    plt.plot(hist['val_accuracy'], label=lr)\n",
    "\n",
    "plt.xticks(np.arange(10))\n",
    "plt.legend()"
   ]
  },
  {
   "cell_type": "code",
   "execution_count": 39,
   "id": "2301123d-b5da-4f0b-954a-20d1dd315d6f",
   "metadata": {},
   "outputs": [],
   "source": [
    "#Conclusion: The learning rate 0.001 is the best learning rate\n",
    "best_learning_rate=0.001"
   ]
  },
  {
   "cell_type": "code",
   "execution_count": 47,
   "id": "65fd2105-5570-41fb-959a-5bd183b3baf9",
   "metadata": {},
   "outputs": [],
   "source": [
    "MODELS_DIR = '../models'"
   ]
  },
  {
   "cell_type": "code",
   "execution_count": 68,
   "id": "09481666-dd62-4150-aad5-31730af4eff8",
   "metadata": {},
   "outputs": [],
   "source": [
    "#Defining function to delete any previously saved files\n",
    "def delete_previous_checkpoint_files(filename_pattern):\n",
    "    # Compile the regex pattern\n",
    "    regex = re.compile(filename_pattern)\n",
    "    \n",
    "    # List all files in the specified directory\n",
    "    files = os.listdir(MODELS_DIR)\n",
    "\n",
    "    # Filter files matching the regex pattern\n",
    "    matching_files = [f for f in files if regex.match(f)]\n",
    "    \n",
    "    # Check if there are matching files\n",
    "    if not matching_files:\n",
    "        print(\"No matching files found for deletion.\")\n",
    "        return \n",
    "\n",
    "    # Iterate through the matching files and delete them\n",
    "    for checkpoint_file in matching_files:\n",
    "        full_file_path = os.path.join(MODELS_DIR, checkpoint_file)\n",
    "        try:\n",
    "            os.remove(full_file_path)  # Attempt to delete the file\n",
    "            print(f\"Deleted checkpoint file: {checkpoint_file}\")\n",
    "        except Exception as e:\n",
    "            print(f\"Error deleting file {full_file_path}: {e}\")"
   ]
  },
  {
   "cell_type": "code",
   "execution_count": 69,
   "id": "806ccf3e-8673-4014-b411-f8be38f70d05",
   "metadata": {},
   "outputs": [],
   "source": [
    "#Define class for a custom checkpoint\n",
    "class CustomModelCheckpoint(ModelCheckpoint):\n",
    "    def __init__(self, *args, **kwargs):\n",
    "        super().__init__(*args, **kwargs)\n",
    "        self.best_accuracy = 0.0\n",
    "        self.best_model_file = \"\"\n",
    "\n",
    "    def on_epoch_end(self, epoch, logs=None):\n",
    "        # Call the parent class's method to save the model if needed\n",
    "        super().on_epoch_end(epoch, logs)\n",
    "\n",
    "        # Get the current validation accuracy\n",
    "        current_val_accuracy = logs.get('val_accuracy')\n",
    "        \n",
    "        if current_val_accuracy > self.best_accuracy:\n",
    "            # Update best values\n",
    "            self.best_accuracy = current_val_accuracy\n",
    "            self.best_model_file = self.filepath.format(epoch=epoch + 1, **logs)"
   ]
  },
  {
   "cell_type": "code",
   "execution_count": 70,
   "id": "23a8a5fb-ad8b-40ae-bf07-352ae5aeb6b2",
   "metadata": {
    "scrolled": true
   },
   "outputs": [
    {
     "name": "stdout",
     "output_type": "stream",
     "text": [
      "Deleting files previously saved to output directory\n",
      "\n",
      "Deleted checkpoint file: Mobile_v1_01_0.810.keras\n",
      "Deleted checkpoint file: Mobile_v1_02_0.826.keras\n",
      "Training the model with learning rate 0.001\n",
      "\n",
      "Epoch 1/10\n",
      "\u001b[1m1112/1112\u001b[0m \u001b[32m━━━━━━━━━━━━━━━━━━━━\u001b[0m\u001b[37m\u001b[0m \u001b[1m32s\u001b[0m 24ms/step - accuracy: 0.6863 - loss: 1.2415 - val_accuracy: 0.8140 - val_loss: 0.6536\n",
      "Epoch 2/10\n",
      "\u001b[1m1112/1112\u001b[0m \u001b[32m━━━━━━━━━━━━━━━━━━━━\u001b[0m\u001b[37m\u001b[0m \u001b[1m20s\u001b[0m 18ms/step - accuracy: 0.8617 - loss: 0.4257 - val_accuracy: 0.8246 - val_loss: 0.6041\n",
      "Epoch 3/10\n",
      "\u001b[1m1112/1112\u001b[0m \u001b[32m━━━━━━━━━━━━━━━━━━━━\u001b[0m\u001b[37m\u001b[0m \u001b[1m23s\u001b[0m 21ms/step - accuracy: 0.8903 - loss: 0.3279 - val_accuracy: 0.8303 - val_loss: 0.6027\n",
      "Epoch 4/10\n",
      "\u001b[1m1112/1112\u001b[0m \u001b[32m━━━━━━━━━━━━━━━━━━━━\u001b[0m\u001b[37m\u001b[0m \u001b[1m25s\u001b[0m 23ms/step - accuracy: 0.9045 - loss: 0.2764 - val_accuracy: 0.8318 - val_loss: 0.6222\n",
      "Epoch 5/10\n",
      "\u001b[1m1112/1112\u001b[0m \u001b[32m━━━━━━━━━━━━━━━━━━━━\u001b[0m\u001b[37m\u001b[0m \u001b[1m27s\u001b[0m 24ms/step - accuracy: 0.9214 - loss: 0.2331 - val_accuracy: 0.8379 - val_loss: 0.6110\n",
      "Epoch 6/10\n",
      "\u001b[1m1112/1112\u001b[0m \u001b[32m━━━━━━━━━━━━━━━━━━━━\u001b[0m\u001b[37m\u001b[0m \u001b[1m31s\u001b[0m 28ms/step - accuracy: 0.9276 - loss: 0.2119 - val_accuracy: 0.8310 - val_loss: 0.6406\n",
      "Epoch 7/10\n",
      "\u001b[1m1112/1112\u001b[0m \u001b[32m━━━━━━━━━━━━━━━━━━━━\u001b[0m\u001b[37m\u001b[0m \u001b[1m25s\u001b[0m 22ms/step - accuracy: 0.9343 - loss: 0.1896 - val_accuracy: 0.8371 - val_loss: 0.6594\n",
      "Epoch 8/10\n",
      "\u001b[1m1112/1112\u001b[0m \u001b[32m━━━━━━━━━━━━━━━━━━━━\u001b[0m\u001b[37m\u001b[0m \u001b[1m27s\u001b[0m 24ms/step - accuracy: 0.9387 - loss: 0.1756 - val_accuracy: 0.8360 - val_loss: 0.6616\n",
      "Epoch 9/10\n",
      "\u001b[1m1112/1112\u001b[0m \u001b[32m━━━━━━━━━━━━━━━━━━━━\u001b[0m\u001b[37m\u001b[0m \u001b[1m28s\u001b[0m 25ms/step - accuracy: 0.9425 - loss: 0.1628 - val_accuracy: 0.8371 - val_loss: 0.6996\n",
      "Epoch 10/10\n",
      "\u001b[1m1112/1112\u001b[0m \u001b[32m━━━━━━━━━━━━━━━━━━━━\u001b[0m\u001b[37m\u001b[0m \u001b[1m32s\u001b[0m 28ms/step - accuracy: 0.9481 - loss: 0.1478 - val_accuracy: 0.8261 - val_loss: 0.7380\n"
     ]
    }
   ],
   "source": [
    "#deleting any previous files\n",
    "print('Deleting files previously saved to output directory\\n')\n",
    "delete_previous_checkpoint_files(r'Mobile_v1.*\\.keras')\n",
    "print(f'\\nTraining the model with learning rate {best_learning_rate}\\n')\n",
    "#definining a checkpoint to save the model when the accuracy is the max accuracy\n",
    "custom_checkpoint = CustomModelCheckpoint(f'{MODELS_DIR}/Mobile_v1_{{epoch:02d}}_{{val_accuracy:.3f}}.keras',\n",
    "                                save_best_only=True,\n",
    "                                monitor='val_accuracy',\n",
    "                                mode='max')\n",
    "\n",
    "model = make_model_Mobile_v1(learning_rate=best_learning_rate)\n",
    "history = model.fit(\n",
    "    train_gen,\n",
    "    epochs=10,\n",
    "    validation_data=val_gen,\n",
    "    callbacks = [custom_checkpoint]\n",
    ")"
   ]
  },
  {
   "cell_type": "code",
   "execution_count": 72,
   "id": "1596dd71-cd5c-40cb-afa8-3a2e842e3b7a",
   "metadata": {},
   "outputs": [
    {
     "name": "stdout",
     "output_type": "stream",
     "text": [
      "Best Validation Accuracy: {0.8379}\n",
      "Saved Model File: ../models/Mobile_v1_05_0.838.keras\n"
     ]
    }
   ],
   "source": [
    "model_results['mobile_v1'] = {\n",
    "    'accuracy': round(custom_checkpoint.best_accuracy, 4),\n",
    "    'filename': custom_checkpoint.best_model_file\n",
    "}\n",
    "rint(f\"Best Validation Accuracy for 'Mobile version 1' model: {model_results['mobile_v1']['accuracy']}\")\n",
    "print(f\"Saved Model File: {model_results['mobile_v1']['filename']}\")"
   ]
  },
  {
   "cell_type": "markdown",
   "id": "3f95455d-69cf-4415-9077-b168e35aad34",
   "metadata": {},
   "source": [
    "## Create Model version 2 by adding another inner layer"
   ]
  },
  {
   "cell_type": "code",
   "execution_count": 73,
   "id": "cf712623-31f3-45b1-a339-e8eccb3752be",
   "metadata": {},
   "outputs": [],
   "source": [
    "def make_model_Mobile_v2(learning_rate=0.01, inner_layer_units=1420):\n",
    "    #clear any unused session\n",
    "    tf.keras.backend.clear_session()\n",
    "\n",
    "    #creating a base model\n",
    "    input_shape = (TARGET_SIZE[0], TARGET_SIZE[1], 3)\n",
    "    base_model =MobileNetV2(weights='imagenet', input_shape=input_shape, include_top=False)\n",
    "    # create a model from the base model\n",
    "    base_model.trainable=False\n",
    "    inputs = keras.Input(shape=input_shape)\n",
    "    base = base_model(inputs, training=False)\n",
    "    \n",
    "    #pooling layer\n",
    "    pooling = keras.layers.GlobalAveragePooling2D()\n",
    "    vectors = pooling(base)\n",
    "\n",
    "    #dense layer 1\n",
    "    inner = keras.layers.Dense(inner_layer_units, activation='relu')(vectors)\n",
    "    \n",
    "    #dense layer 2\n",
    "    outputs = keras.layers.Dense(units=count_classes, activation='softmax')(inner)\n",
    "\n",
    "    #final model\n",
    "    model = keras.Model(inputs, outputs)\n",
    "\n",
    "    #compile de model\n",
    "    optimizer =keras.optimizers.Adam(learning_rate=learning_rate)\n",
    "    loss=keras.losses.CategoricalCrossentropy(from_logits=False)\n",
    "    model.compile(optimizer=optimizer, loss=loss, metrics=['accuracy'])\n",
    "    return model"
   ]
  },
  {
   "cell_type": "markdown",
   "id": "1409fce0-1423-4a8d-9503-c38f3173f2fc",
   "metadata": {},
   "source": [
    "### Find the best inner layer size"
   ]
  },
  {
   "cell_type": "code",
   "execution_count": 74,
   "id": "809dfd7b-d96a-451c-a941-2de970764690",
   "metadata": {},
   "outputs": [
    {
     "name": "stdout",
     "output_type": "stream",
     "text": [
      "Deleting files previously saved to output directory\n",
      "\n",
      "Deleted checkpoint file: Mobile_v2_size426_03_0.821.keras\n",
      "Deleted checkpoint file: Mobile_v2_size2840_03_0.815.keras\n",
      "Deleted checkpoint file: Mobile_v2_size2840_09_0.833.keras\n",
      "Deleted checkpoint file: Mobile_v2_size710_07_0.833.keras\n",
      "Deleted checkpoint file: Mobile_v2_size426_09_0.832.keras\n",
      "Deleted checkpoint file: Mobile_v2_06_0.831.keras\n",
      "Deleted checkpoint file: Mobile_v2_size710_02_0.824.keras\n",
      "Deleted checkpoint file: Mobile_v2_size2840_03_0.819.keras\n",
      "Deleted checkpoint file: Mobile_v2_size1420_02_0.817.keras\n",
      "Deleted checkpoint file: Mobile_v2_size426_04_0.824.keras\n",
      "Deleted checkpoint file: Mobile_v2_size426_01_0.809.keras\n",
      "Deleted checkpoint file: Mobile_v2_size2840_01_0.804.keras\n",
      "Deleted checkpoint file: Mobile_v2_size2840_02_0.810.keras\n",
      "Deleted checkpoint file: Mobile_v2_size710_03_0.828.keras\n",
      "Deleted checkpoint file: Mobile_v2_size426_06_0.826.keras\n",
      "Deleted checkpoint file: Mobile_v2_07_0.834.keras\n",
      "Deleted checkpoint file: Mobile_v2_size2840_01_0.799.keras\n",
      "Deleted checkpoint file: Mobile_v2_size2840_06_0.834.keras\n",
      "Deleted checkpoint file: Mobile_v2_01_0.799.keras\n",
      "Deleted checkpoint file: Mobile_v2_size1420_01_0.800.keras\n",
      "Deleted checkpoint file: Mobile_v2_size426_02_0.814.keras\n",
      "Deleted checkpoint file: Mobile_v2_size2840_04_0.821.keras\n",
      "Deleted checkpoint file: Mobile_v2_size2840_05_0.832.keras\n",
      "Deleted checkpoint file: Mobile_v2_size710_01_0.803.keras\n",
      "Deleted checkpoint file: Mobile_v2_size1420_03_0.820.keras\n",
      "Deleted checkpoint file: Mobile_v2_size2840_04_0.820.keras\n",
      "Deleted checkpoint file: Mobile_v2_size1420_04_0.833.keras\n",
      "Deleted checkpoint file: Mobile_v2_size426_01_0.801.keras\n",
      "Deleted checkpoint file: Mobile_v2_03_0.829.keras\n",
      "Deleted checkpoint file: Mobile_v2_02_0.811.keras\n",
      "Deleted checkpoint file: Mobile_v2_size2840_02_0.817.keras\n",
      "Training the model with different sizes for the inner layer \n",
      "\n",
      "Fitting model for size 426\n",
      "Epoch 1/10\n",
      "\u001b[1m1112/1112\u001b[0m \u001b[32m━━━━━━━━━━━━━━━━━━━━\u001b[0m\u001b[37m\u001b[0m \u001b[1m38s\u001b[0m 28ms/step - accuracy: 0.7078 - loss: 1.1402 - val_accuracy: 0.7952 - val_loss: 0.6594\n",
      "Epoch 2/10\n",
      "\u001b[1m1112/1112\u001b[0m \u001b[32m━━━━━━━━━━━━━━━━━━━━\u001b[0m\u001b[37m\u001b[0m \u001b[1m25s\u001b[0m 22ms/step - accuracy: 0.8448 - loss: 0.4605 - val_accuracy: 0.8180 - val_loss: 0.6163\n",
      "Epoch 3/10\n",
      "\u001b[1m1112/1112\u001b[0m \u001b[32m━━━━━━━━━━━━━━━━━━━━\u001b[0m\u001b[37m\u001b[0m \u001b[1m22s\u001b[0m 19ms/step - accuracy: 0.8821 - loss: 0.3447 - val_accuracy: 0.8165 - val_loss: 0.6443\n",
      "Epoch 4/10\n",
      "\u001b[1m1112/1112\u001b[0m \u001b[32m━━━━━━━━━━━━━━━━━━━━\u001b[0m\u001b[37m\u001b[0m \u001b[1m22s\u001b[0m 20ms/step - accuracy: 0.9074 - loss: 0.2599 - val_accuracy: 0.8268 - val_loss: 0.6382\n",
      "Epoch 5/10\n",
      "\u001b[1m1112/1112\u001b[0m \u001b[32m━━━━━━━━━━━━━━━━━━━━\u001b[0m\u001b[37m\u001b[0m \u001b[1m26s\u001b[0m 23ms/step - accuracy: 0.9239 - loss: 0.2083 - val_accuracy: 0.8181 - val_loss: 0.7079\n",
      "Epoch 6/10\n",
      "\u001b[1m1112/1112\u001b[0m \u001b[32m━━━━━━━━━━━━━━━━━━━━\u001b[0m\u001b[37m\u001b[0m \u001b[1m30s\u001b[0m 27ms/step - accuracy: 0.9428 - loss: 0.1593 - val_accuracy: 0.8226 - val_loss: 0.7034\n",
      "Epoch 7/10\n",
      "\u001b[1m1112/1112\u001b[0m \u001b[32m━━━━━━━━━━━━━━━━━━━━\u001b[0m\u001b[37m\u001b[0m \u001b[1m33s\u001b[0m 30ms/step - accuracy: 0.9529 - loss: 0.1357 - val_accuracy: 0.8223 - val_loss: 0.7765\n",
      "Epoch 8/10\n",
      "\u001b[1m1112/1112\u001b[0m \u001b[32m━━━━━━━━━━━━━━━━━━━━\u001b[0m\u001b[37m\u001b[0m \u001b[1m51s\u001b[0m 46ms/step - accuracy: 0.9624 - loss: 0.1085 - val_accuracy: 0.8308 - val_loss: 0.8444\n",
      "Epoch 9/10\n",
      "\u001b[1m1112/1112\u001b[0m \u001b[32m━━━━━━━━━━━━━━━━━━━━\u001b[0m\u001b[37m\u001b[0m \u001b[1m46s\u001b[0m 41ms/step - accuracy: 0.9659 - loss: 0.0959 - val_accuracy: 0.8246 - val_loss: 0.8702\n",
      "Epoch 10/10\n",
      "\u001b[1m1112/1112\u001b[0m \u001b[32m━━━━━━━━━━━━━━━━━━━━\u001b[0m\u001b[37m\u001b[0m \u001b[1m27s\u001b[0m 24ms/step - accuracy: 0.9752 - loss: 0.0741 - val_accuracy: 0.8264 - val_loss: 0.9360\n",
      "\n",
      "\n",
      "Fitting model for size 710\n",
      "Epoch 1/10\n",
      "\u001b[1m1112/1112\u001b[0m \u001b[32m━━━━━━━━━━━━━━━━━━━━\u001b[0m\u001b[37m\u001b[0m \u001b[1m62s\u001b[0m 51ms/step - accuracy: 0.7158 - loss: 1.0957 - val_accuracy: 0.8042 - val_loss: 0.6370\n",
      "Epoch 2/10\n",
      "\u001b[1m1112/1112\u001b[0m \u001b[32m━━━━━━━━━━━━━━━━━━━━\u001b[0m\u001b[37m\u001b[0m \u001b[1m42s\u001b[0m 37ms/step - accuracy: 0.8506 - loss: 0.4480 - val_accuracy: 0.8175 - val_loss: 0.6206\n",
      "Epoch 3/10\n",
      "\u001b[1m1112/1112\u001b[0m \u001b[32m━━━━━━━━━━━━━━━━━━━━\u001b[0m\u001b[37m\u001b[0m \u001b[1m46s\u001b[0m 42ms/step - accuracy: 0.8855 - loss: 0.3343 - val_accuracy: 0.8200 - val_loss: 0.6413\n",
      "Epoch 4/10\n",
      "\u001b[1m1112/1112\u001b[0m \u001b[32m━━━━━━━━━━━━━━━━━━━━\u001b[0m\u001b[37m\u001b[0m \u001b[1m43s\u001b[0m 39ms/step - accuracy: 0.9110 - loss: 0.2548 - val_accuracy: 0.8292 - val_loss: 0.6275\n",
      "Epoch 5/10\n",
      "\u001b[1m1112/1112\u001b[0m \u001b[32m━━━━━━━━━━━━━━━━━━━━\u001b[0m\u001b[37m\u001b[0m \u001b[1m43s\u001b[0m 39ms/step - accuracy: 0.9287 - loss: 0.1977 - val_accuracy: 0.8209 - val_loss: 0.7393\n",
      "Epoch 6/10\n",
      "\u001b[1m1112/1112\u001b[0m \u001b[32m━━━━━━━━━━━━━━━━━━━━\u001b[0m\u001b[37m\u001b[0m \u001b[1m43s\u001b[0m 39ms/step - accuracy: 0.9425 - loss: 0.1610 - val_accuracy: 0.8307 - val_loss: 0.7332\n",
      "Epoch 7/10\n",
      "\u001b[1m1112/1112\u001b[0m \u001b[32m━━━━━━━━━━━━━━━━━━━━\u001b[0m\u001b[37m\u001b[0m \u001b[1m45s\u001b[0m 41ms/step - accuracy: 0.9563 - loss: 0.1231 - val_accuracy: 0.8360 - val_loss: 0.7597\n",
      "Epoch 8/10\n",
      "\u001b[1m1112/1112\u001b[0m \u001b[32m━━━━━━━━━━━━━━━━━━━━\u001b[0m\u001b[37m\u001b[0m \u001b[1m40s\u001b[0m 36ms/step - accuracy: 0.9651 - loss: 0.1046 - val_accuracy: 0.8279 - val_loss: 0.9016\n",
      "Epoch 9/10\n",
      "\u001b[1m1112/1112\u001b[0m \u001b[32m━━━━━━━━━━━━━━━━━━━━\u001b[0m\u001b[37m\u001b[0m \u001b[1m45s\u001b[0m 40ms/step - accuracy: 0.9677 - loss: 0.0961 - val_accuracy: 0.8279 - val_loss: 0.9883\n",
      "Epoch 10/10\n",
      "\u001b[1m1112/1112\u001b[0m \u001b[32m━━━━━━━━━━━━━━━━━━━━\u001b[0m\u001b[37m\u001b[0m \u001b[1m43s\u001b[0m 39ms/step - accuracy: 0.9728 - loss: 0.0822 - val_accuracy: 0.8217 - val_loss: 0.9453\n",
      "\n",
      "\n",
      "Fitting model for size 1420\n",
      "Epoch 1/10\n",
      "\u001b[1m1112/1112\u001b[0m \u001b[32m━━━━━━━━━━━━━━━━━━━━\u001b[0m\u001b[37m\u001b[0m \u001b[1m49s\u001b[0m 36ms/step - accuracy: 0.7193 - loss: 1.0700 - val_accuracy: 0.8076 - val_loss: 0.6455\n",
      "Epoch 2/10\n",
      "\u001b[1m1112/1112\u001b[0m \u001b[32m━━━━━━━━━━━━━━━━━━━━\u001b[0m\u001b[37m\u001b[0m \u001b[1m47s\u001b[0m 42ms/step - accuracy: 0.8465 - loss: 0.4597 - val_accuracy: 0.8222 - val_loss: 0.6241\n",
      "Epoch 3/10\n",
      "\u001b[1m1112/1112\u001b[0m \u001b[32m━━━━━━━━━━━━━━━━━━━━\u001b[0m\u001b[37m\u001b[0m \u001b[1m27s\u001b[0m 24ms/step - accuracy: 0.8866 - loss: 0.3305 - val_accuracy: 0.8222 - val_loss: 0.6329\n",
      "Epoch 4/10\n",
      "\u001b[1m1112/1112\u001b[0m \u001b[32m━━━━━━━━━━━━━━━━━━━━\u001b[0m\u001b[37m\u001b[0m \u001b[1m27s\u001b[0m 24ms/step - accuracy: 0.9119 - loss: 0.2527 - val_accuracy: 0.8136 - val_loss: 0.6703\n",
      "Epoch 5/10\n",
      "\u001b[1m1112/1112\u001b[0m \u001b[32m━━━━━━━━━━━━━━━━━━━━\u001b[0m\u001b[37m\u001b[0m \u001b[1m49s\u001b[0m 44ms/step - accuracy: 0.9287 - loss: 0.2010 - val_accuracy: 0.8202 - val_loss: 0.7427\n",
      "Epoch 6/10\n",
      "\u001b[1m1112/1112\u001b[0m \u001b[32m━━━━━━━━━━━━━━━━━━━━\u001b[0m\u001b[37m\u001b[0m \u001b[1m47s\u001b[0m 42ms/step - accuracy: 0.9407 - loss: 0.1635 - val_accuracy: 0.8141 - val_loss: 0.7849\n",
      "Epoch 7/10\n",
      "\u001b[1m1112/1112\u001b[0m \u001b[32m━━━━━━━━━━━━━━━━━━━━\u001b[0m\u001b[37m\u001b[0m \u001b[1m40s\u001b[0m 36ms/step - accuracy: 0.9545 - loss: 0.1337 - val_accuracy: 0.8165 - val_loss: 0.9481\n",
      "Epoch 8/10\n",
      "\u001b[1m1112/1112\u001b[0m \u001b[32m━━━━━━━━━━━━━━━━━━━━\u001b[0m\u001b[37m\u001b[0m \u001b[1m30s\u001b[0m 27ms/step - accuracy: 0.9653 - loss: 0.1027 - val_accuracy: 0.8289 - val_loss: 0.8626\n",
      "Epoch 9/10\n",
      "\u001b[1m1112/1112\u001b[0m \u001b[32m━━━━━━━━━━━━━━━━━━━━\u001b[0m\u001b[37m\u001b[0m \u001b[1m48s\u001b[0m 43ms/step - accuracy: 0.9701 - loss: 0.0900 - val_accuracy: 0.8273 - val_loss: 0.9085\n",
      "Epoch 10/10\n",
      "\u001b[1m1112/1112\u001b[0m \u001b[32m━━━━━━━━━━━━━━━━━━━━\u001b[0m\u001b[37m\u001b[0m \u001b[1m46s\u001b[0m 41ms/step - accuracy: 0.9741 - loss: 0.0759 - val_accuracy: 0.8283 - val_loss: 0.9984\n",
      "\n",
      "\n",
      "Fitting model for size 2840\n",
      "Epoch 1/10\n",
      "\u001b[1m1112/1112\u001b[0m \u001b[32m━━━━━━━━━━━━━━━━━━━━\u001b[0m\u001b[37m\u001b[0m \u001b[1m59s\u001b[0m 42ms/step - accuracy: 0.7138 - loss: 1.0970 - val_accuracy: 0.7942 - val_loss: 0.6872\n",
      "Epoch 2/10\n",
      "\u001b[1m1112/1112\u001b[0m \u001b[32m━━━━━━━━━━━━━━━━━━━━\u001b[0m\u001b[37m\u001b[0m \u001b[1m38s\u001b[0m 35ms/step - accuracy: 0.8447 - loss: 0.4645 - val_accuracy: 0.8078 - val_loss: 0.6427\n",
      "Epoch 3/10\n",
      "\u001b[1m1112/1112\u001b[0m \u001b[32m━━━━━━━━━━━━━━━━━━━━\u001b[0m\u001b[37m\u001b[0m \u001b[1m29s\u001b[0m 26ms/step - accuracy: 0.8804 - loss: 0.3467 - val_accuracy: 0.8232 - val_loss: 0.6362\n",
      "Epoch 4/10\n",
      "\u001b[1m1112/1112\u001b[0m \u001b[32m━━━━━━━━━━━━━━━━━━━━\u001b[0m\u001b[37m\u001b[0m \u001b[1m36s\u001b[0m 32ms/step - accuracy: 0.9058 - loss: 0.2623 - val_accuracy: 0.8258 - val_loss: 0.6648\n",
      "Epoch 5/10\n",
      "\u001b[1m1112/1112\u001b[0m \u001b[32m━━━━━━━━━━━━━━━━━━━━\u001b[0m\u001b[37m\u001b[0m \u001b[1m38s\u001b[0m 34ms/step - accuracy: 0.9272 - loss: 0.2119 - val_accuracy: 0.8270 - val_loss: 0.7132\n",
      "Epoch 6/10\n",
      "\u001b[1m1112/1112\u001b[0m \u001b[32m━━━━━━━━━━━━━━━━━━━━\u001b[0m\u001b[37m\u001b[0m \u001b[1m28s\u001b[0m 25ms/step - accuracy: 0.9420 - loss: 0.1635 - val_accuracy: 0.8236 - val_loss: 0.8471\n",
      "Epoch 7/10\n",
      "\u001b[1m1112/1112\u001b[0m \u001b[32m━━━━━━━━━━━━━━━━━━━━\u001b[0m\u001b[37m\u001b[0m \u001b[1m50s\u001b[0m 45ms/step - accuracy: 0.9448 - loss: 0.1562 - val_accuracy: 0.8288 - val_loss: 0.8159\n",
      "Epoch 8/10\n",
      "\u001b[1m1112/1112\u001b[0m \u001b[32m━━━━━━━━━━━━━━━━━━━━\u001b[0m\u001b[37m\u001b[0m \u001b[1m35s\u001b[0m 32ms/step - accuracy: 0.9668 - loss: 0.0989 - val_accuracy: 0.8222 - val_loss: 0.9307\n",
      "Epoch 9/10\n",
      "\u001b[1m1112/1112\u001b[0m \u001b[32m━━━━━━━━━━━━━━━━━━━━\u001b[0m\u001b[37m\u001b[0m \u001b[1m28s\u001b[0m 25ms/step - accuracy: 0.9662 - loss: 0.1078 - val_accuracy: 0.8344 - val_loss: 0.9306\n",
      "Epoch 10/10\n",
      "\u001b[1m1112/1112\u001b[0m \u001b[32m━━━━━━━━━━━━━━━━━━━━\u001b[0m\u001b[37m\u001b[0m \u001b[1m27s\u001b[0m 24ms/step - accuracy: 0.9740 - loss: 0.0816 - val_accuracy: 0.8268 - val_loss: 1.0117\n",
      "\n",
      "\n"
     ]
    }
   ],
   "source": [
    "print('Deleting files previously saved to output directory\\n')\n",
    "delete_previous_checkpoint_files(r'Mobile_v2_size.*\\.keras')\n",
    "print(f'Training the model with different sizes for the inner layer \\n')\n",
    "\n",
    "scores={}\n",
    "for size in [count_classes*3, count_classes*5, count_classes*10, count_classes*20]:\n",
    "    print(f'Fitting model for size {size}')\n",
    "    custom_checkpoint = CustomModelCheckpoint(f'{MODELS_DIR}/Mobile_v2_size{size}_{{epoch:02d}}_{{val_accuracy:.3f}}.keras',\n",
    "                                save_best_only=True,\n",
    "                                monitor='val_accuracy',\n",
    "                                mode='max')    \n",
    "    model = make_model_Mobile_v2(learning_rate=best_learning_rate, inner_layer_units=size)\n",
    "    history = model.fit(train_gen, epochs=10, validation_data=val_gen, callbacks = [custom_checkpoint])\n",
    "    scores[size] = history.history\n",
    "    print()\n",
    "    print()"
   ]
  },
  {
   "cell_type": "code",
   "execution_count": 75,
   "id": "8c79a498-3ba3-4745-8356-ea53fa874a1e",
   "metadata": {},
   "outputs": [
    {
     "data": {
      "text/plain": [
       "<matplotlib.legend.Legend at 0x7f484e3840b0>"
      ]
     },
     "execution_count": 75,
     "metadata": {},
     "output_type": "execute_result"
    },
    {
     "data": {
      "image/png": "[encoded data removed]",
      "text/plain": [
       "<Figure size 640x480 with 1 Axes>"
      ]
     },
     "metadata": {},
     "output_type": "display_data"
    }
   ],
   "source": [
    "#Plotting the results\n",
    "for size, hist in scores.items():\n",
    "    plt.plot(hist['val_accuracy'], label=('val=%s' % size))\n",
    "plt.xticks(np.arange(10))\n",
    "plt.yticks([0.83, 0.835, 0.84, 0.845])\n",
    "plt.legend()"
   ]
  },
  {
   "cell_type": "code",
   "execution_count": null,
   "id": "e3e1608a-b8ef-436c-a290-389e80ce04b4",
   "metadata": {},
   "outputs": [],
   "source": [
    "#Conclusion: the inner layers with size 710 and 2840 give the best accuracies, \n",
    "# but not significantly more than the model with just one dense layer"
   ]
  },
  {
   "cell_type": "code",
   "execution_count": 78,
   "id": "9f88f1d1-33d0-4b2e-b35f-028c79914e38",
   "metadata": {},
   "outputs": [
    {
     "name": "stdout",
     "output_type": "stream",
     "text": [
      "Best model for inner layer size 426:\n",
      "Best Validation Accuracy: 0.831\n",
      "Checkpoint file: ../models/Mobile_v2_size426_08_0.831.keras\n",
      "Best model for inner layer size 710:\n",
      "Best Validation Accuracy: 0.836\n",
      "Checkpoint file: ../models/Mobile_v2_size710_07_0.836.keras\n",
      "Best model for inner layer size 1420:\n",
      "Best Validation Accuracy: 0.829\n",
      "Checkpoint file: ../models/Mobile_v2_size1420_08_0.829.keras\n",
      "Best model for inner layer size 2840:\n",
      "Best Validation Accuracy: 0.834\n",
      "Checkpoint file: ../models/Mobile_v2_size2840_09_0.834.keras\n"
     ]
    }
   ],
   "source": [
    "#Building a resume with the results\n",
    "best_models_info = {}\n",
    "\n",
    "for size in scores.keys():\n",
    "    best_val_accuracy = max(scores[size]['val_accuracy'])\n",
    "    \n",
    "    checkpoint_filename_pattern = f'Mobile_v2_size{size}_*_{best_val_accuracy:.3f}.keras'\n",
    "    checkpoint_files = glob.glob(os.path.join(MODELS_DIR, checkpoint_filename_pattern))\n",
    "    \n",
    "    if checkpoint_files:\n",
    "        best_models_info[size] = {\n",
    "            'best_accuracy': best_val_accuracy,\n",
    "            'checkpoint_file': checkpoint_files[0]  # Get the first matching file\n",
    "        }\n",
    "    else:\n",
    "        print(f\"No checkpoint files found for size {size} with accuracy {best_val_accuracy:.3f}\")\n",
    "\n",
    "for size, info in best_models_info.items():\n",
    "    print(f\"Best model for inner layer size {size}:\")\n",
    "    print(f\"Best Validation Accuracy: {info['best_accuracy']:.3f}\")\n",
    "    print(f\"Checkpoint file: {info['checkpoint_file']}\")        "
   ]
  },
  {
   "cell_type": "code",
   "execution_count": 84,
   "id": "56a66663-c589-4ae1-98c0-55aa5f5de05d",
   "metadata": {},
   "outputs": [
    {
     "name": "stdout",
     "output_type": "stream",
     "text": [
      "Best Validation Accuracy for 'Mobile version 2' model: 0.836\n",
      "Saved Model File: ../models/Mobile_v2_size710_07_0.836.keras\n"
     ]
    }
   ],
   "source": [
    "#I will go with an inner layer of 710 units\n",
    "model_results['mobile_v2'] = {\n",
    "        'accuracy': round(best_models_info[710]['best_accuracy'], 4),\n",
    "        'filename': best_models_info[710]['checkpoint_file']\n",
    "    }\n",
    "print(f\"Best Validation Accuracy for 'Mobile version 2' model: {model_results['mobile_v2']['accuracy']}\")\n",
    "print(f\"Saved Model File: {model_results['mobile_v2']['filename']}\")"
   ]
  },
  {
   "cell_type": "markdown",
   "id": "1657db56-0186-4d0c-b267-ec89a1c8ad7d",
   "metadata": {},
   "source": [
    "### Creating Mobile Model version 3 by adding a dropout layer"
   ]
  },
  {
   "cell_type": "code",
   "execution_count": 92,
   "id": "757c1136-d4fd-411d-8dfd-6c67687a6662",
   "metadata": {},
   "outputs": [],
   "source": [
    "def make_model_Mobile_v3(droprate=0.5):\n",
    "\n",
    "    learning_rate=0.01\n",
    "    inner_layer_units = 710\n",
    "    \n",
    "    #clear any unused session\n",
    "    tf.keras.backend.clear_session()\n",
    "\n",
    "    #creating a base model\n",
    "    input_shape = (TARGET_SIZE[0], TARGET_SIZE[1], 3)\n",
    "    base_model =MobileNetV2(weights='imagenet', input_shape=input_shape, include_top=False)\n",
    "    # create a model from the base model\n",
    "    base_model.trainable=False\n",
    "    inputs = keras.Input(shape=input_shape)\n",
    "    base = base_model(inputs, training=False)\n",
    "    \n",
    "    #pooling layer\n",
    "    vectors = keras.layers.GlobalAveragePooling2D()(base)\n",
    "\n",
    "    #dense layer 1\n",
    "    inner = keras.layers.Dense(inner_layer_units, activation='relu')(vectors)\n",
    "\n",
    "    #dropout for inner layer 1\n",
    "    drop = keras.layers.Dropout(droprate)(inner)\n",
    "    \n",
    "    #dense layer 2\n",
    "    outputs = keras.layers.Dense(units=count_classes, activation='softmax')(drop)\n",
    "\n",
    "    #final model\n",
    "    model = keras.Model(inputs, outputs)\n",
    "\n",
    "    #compile de model\n",
    "    optimizer =keras.optimizers.Adam(learning_rate=learning_rate)\n",
    "    loss=keras.losses.CategoricalCrossentropy(from_logits=False)\n",
    "    model.compile(optimizer=optimizer, loss=loss, metrics=['accuracy'])\n",
    "    return model"
   ]
  },
  {
   "cell_type": "code",
   "execution_count": 103,
   "id": "21a24012-298b-4952-a0c0-5d66baf2ed53",
   "metadata": {},
   "outputs": [
    {
     "name": "stdout",
     "output_type": "stream",
     "text": [
      "Deleting files previously saved to output directory\n",
      "\n",
      "Deleted checkpoint file: Mobile_v3_droprate0.0_30_0.766.keras\n",
      "Deleted checkpoint file: Mobile_v3_droprate0.2_04_0.720.keras\n",
      "Deleted checkpoint file: Mobile_v3_droprate0.03_04_0.756.keras\n",
      "Deleted checkpoint file: Mobile_v3_droprate0.01_05_0.741.keras\n",
      "Deleted checkpoint file: Mobile_v3_droprate0.05_01_0.716.keras\n",
      "Deleted checkpoint file: Mobile_v3_droprate0.0_02_0.732.keras\n",
      "Deleted checkpoint file: Mobile_v3_droprate0.2_15_0.732.keras\n",
      "Deleted checkpoint file: Mobile_v3_droprate0.03_01_0.709.keras\n",
      "Deleted checkpoint file: Mobile_v3_droprate0.0_11_0.764.keras\n",
      "Deleted checkpoint file: Mobile_v3_droprate0.2_22_0.733.keras\n",
      "Deleted checkpoint file: Mobile_v3_droprate0.0_08_0.757.keras\n",
      "Deleted checkpoint file: Mobile_v3_droprate0.1_01_0.692.keras\n",
      "Deleted checkpoint file: Mobile_v3_droprate0.05_02_0.742.keras\n",
      "Deleted checkpoint file: Mobile_v3_droprate0.0_05_0.756.keras\n",
      "Deleted checkpoint file: Mobile_v3_droprate0.2_01_0.705.keras\n",
      "Deleted checkpoint file: Mobile_v3_droprate0.2_09_0.728.keras\n",
      "Deleted checkpoint file: Mobile_v3_droprate0.01_02_0.734.keras\n",
      "Deleted checkpoint file: Mobile_v3_droprate0.05_09_0.761.keras\n",
      "Deleted checkpoint file: Mobile_v3_droprate0.0_04_0.742.keras\n",
      "Deleted checkpoint file: Mobile_v3_droprate0.01_03_0.740.keras\n",
      "Deleted checkpoint file: Mobile_v3_droprate0.1_08_0.740.keras\n",
      "Deleted checkpoint file: Mobile_v3_droprate0.0_01_0.717.keras\n",
      "Deleted checkpoint file: Mobile_v3_droprate0.03_15_0.763.keras\n",
      "Deleted checkpoint file: Mobile_v3_droprate0.03_02_0.749.keras\n",
      "Deleted checkpoint file: Mobile_v3_droprate0.1_04_0.737.keras\n",
      "Deleted checkpoint file: Mobile_v3_droprate0.1_03_0.729.keras\n",
      "Deleted checkpoint file: Mobile_v3_droprate0.05_05_0.757.keras\n",
      "Deleted checkpoint file: Mobile_v3_droprate0.0_03_0.733.keras\n",
      "Deleted checkpoint file: Mobile_v3_droprate0.01_06_0.761.keras\n",
      "Deleted checkpoint file: Mobile_v3_droprate0.01_01_0.720.keras\n",
      "Deleted checkpoint file: Mobile_v3_droprate0.1_11_0.745.keras\n",
      "Deleted checkpoint file: Mobile_v3_droprate0.0_10_0.760.keras\n",
      "Deleted checkpoint file: Mobile_v3_droprate0.01_15_0.766.keras\n",
      "Training the model with different dropout rates for the inner layer \n",
      "\n",
      "Fitting model for drop rate 0.0\n",
      "Epoch 1/30\n",
      "\u001b[1m1112/1112\u001b[0m \u001b[32m━━━━━━━━━━━━━━━━━━━━\u001b[0m\u001b[37m\u001b[0m \u001b[1m44s\u001b[0m 33ms/step - accuracy: 0.6460 - loss: 1.6975 - val_accuracy: 0.7248 - val_loss: 1.0691\n",
      "Epoch 2/30\n",
      "\u001b[1m1112/1112\u001b[0m \u001b[32m━━━━━━━━━━━━━━━━━━━━\u001b[0m\u001b[37m\u001b[0m \u001b[1m32s\u001b[0m 29ms/step - accuracy: 0.7484 - loss: 0.9363 - val_accuracy: 0.7300 - val_loss: 1.0372\n",
      "Epoch 3/30\n",
      "\u001b[1m1112/1112\u001b[0m \u001b[32m━━━━━━━━━━━━━━━━━━━━\u001b[0m\u001b[37m\u001b[0m \u001b[1m30s\u001b[0m 27ms/step - accuracy: 0.7710 - loss: 0.8280 - val_accuracy: 0.7363 - val_loss: 1.1021\n",
      "Epoch 4/30\n",
      "\u001b[1m1112/1112\u001b[0m \u001b[32m━━━━━━━━━━━━━━━━━━━━\u001b[0m\u001b[37m\u001b[0m \u001b[1m37s\u001b[0m 33ms/step - accuracy: 0.7746 - loss: 0.8180 - val_accuracy: 0.7498 - val_loss: 1.0693\n",
      "Epoch 5/30\n",
      "\u001b[1m1112/1112\u001b[0m \u001b[32m━━━━━━━━━━━━━━━━━━━━\u001b[0m\u001b[37m\u001b[0m \u001b[1m42s\u001b[0m 38ms/step - accuracy: 0.7835 - loss: 0.7821 - val_accuracy: 0.7485 - val_loss: 1.1288\n",
      "Epoch 6/30\n",
      "\u001b[1m1112/1112\u001b[0m \u001b[32m━━━━━━━━━━━━━━━━━━━━\u001b[0m\u001b[37m\u001b[0m \u001b[1m36s\u001b[0m 33ms/step - accuracy: 0.7880 - loss: 0.7764 - val_accuracy: 0.7481 - val_loss: 1.2067\n",
      "Epoch 7/30\n",
      "\u001b[1m1112/1112\u001b[0m \u001b[32m━━━━━━━━━━━━━━━━━━━━\u001b[0m\u001b[37m\u001b[0m \u001b[1m38s\u001b[0m 35ms/step - accuracy: 0.7930 - loss: 0.7513 - val_accuracy: 0.7506 - val_loss: 1.1997\n",
      "Epoch 8/30\n",
      "\u001b[1m1112/1112\u001b[0m \u001b[32m━━━━━━━━━━━━━━━━━━━━\u001b[0m\u001b[37m\u001b[0m \u001b[1m34s\u001b[0m 31ms/step - accuracy: 0.7886 - loss: 0.7781 - val_accuracy: 0.7547 - val_loss: 1.1631\n",
      "Epoch 9/30\n",
      "\u001b[1m1112/1112\u001b[0m \u001b[32m━━━━━━━━━━━━━━━━━━━━\u001b[0m\u001b[37m\u001b[0m \u001b[1m35s\u001b[0m 31ms/step - accuracy: 0.8046 - loss: 0.7235 - val_accuracy: 0.7571 - val_loss: 1.1585\n",
      "Epoch 10/30\n",
      "\u001b[1m1112/1112\u001b[0m \u001b[32m━━━━━━━━━━━━━━━━━━━━\u001b[0m\u001b[37m\u001b[0m \u001b[1m32s\u001b[0m 29ms/step - accuracy: 0.8090 - loss: 0.7064 - val_accuracy: 0.7353 - val_loss: 1.3457\n",
      "Epoch 11/30\n",
      "\u001b[1m1112/1112\u001b[0m \u001b[32m━━━━━━━━━━━━━━━━━━━━\u001b[0m\u001b[37m\u001b[0m \u001b[1m23s\u001b[0m 21ms/step - accuracy: 0.8036 - loss: 0.7280 - val_accuracy: 0.7489 - val_loss: 1.2660\n",
      "Epoch 12/30\n",
      "\u001b[1m1112/1112\u001b[0m \u001b[32m━━━━━━━━━━━━━━━━━━━━\u001b[0m\u001b[37m\u001b[0m \u001b[1m26s\u001b[0m 23ms/step - accuracy: 0.8083 - loss: 0.7258 - val_accuracy: 0.7709 - val_loss: 1.4628\n",
      "Epoch 13/30\n",
      "\u001b[1m1112/1112\u001b[0m \u001b[32m━━━━━━━━━━━━━━━━━━━━\u001b[0m\u001b[37m\u001b[0m \u001b[1m28s\u001b[0m 25ms/step - accuracy: 0.8132 - loss: 0.7216 - val_accuracy: 0.7631 - val_loss: 1.2630\n",
      "Epoch 14/30\n",
      "\u001b[1m1112/1112\u001b[0m \u001b[32m━━━━━━━━━━━━━━━━━━━━\u001b[0m\u001b[37m\u001b[0m \u001b[1m27s\u001b[0m 24ms/step - accuracy: 0.8208 - loss: 0.6749 - val_accuracy: 0.7390 - val_loss: 1.3517\n",
      "Epoch 15/30\n",
      "\u001b[1m1112/1112\u001b[0m \u001b[32m━━━━━━━━━━━━━━━━━━━━\u001b[0m\u001b[37m\u001b[0m \u001b[1m28s\u001b[0m 25ms/step - accuracy: 0.8211 - loss: 0.6606 - val_accuracy: 0.7521 - val_loss: 1.4925\n",
      "Epoch 16/30\n",
      "\u001b[1m1112/1112\u001b[0m \u001b[32m━━━━━━━━━━━━━━━━━━━━\u001b[0m\u001b[37m\u001b[0m \u001b[1m30s\u001b[0m 27ms/step - accuracy: 0.8157 - loss: 0.7228 - val_accuracy: 0.7502 - val_loss: 1.4538\n",
      "Epoch 17/30\n",
      "\u001b[1m1112/1112\u001b[0m \u001b[32m━━━━━━━━━━━━━━━━━━━━\u001b[0m\u001b[37m\u001b[0m \u001b[1m26s\u001b[0m 23ms/step - accuracy: 0.8195 - loss: 0.6905 - val_accuracy: 0.7537 - val_loss: 1.5931\n",
      "Epoch 18/30\n",
      "\u001b[1m1112/1112\u001b[0m \u001b[32m━━━━━━━━━━━━━━━━━━━━\u001b[0m\u001b[37m\u001b[0m \u001b[1m27s\u001b[0m 24ms/step - accuracy: 0.8161 - loss: 0.6887 - val_accuracy: 0.7572 - val_loss: 1.6623\n",
      "Epoch 19/30\n",
      "\u001b[1m1112/1112\u001b[0m \u001b[32m━━━━━━━━━━━━━━━━━━━━\u001b[0m\u001b[37m\u001b[0m \u001b[1m45s\u001b[0m 41ms/step - accuracy: 0.8151 - loss: 0.6922 - val_accuracy: 0.7701 - val_loss: 1.8140\n",
      "Epoch 20/30\n",
      "\u001b[1m1112/1112\u001b[0m \u001b[32m━━━━━━━━━━━━━━━━━━━━\u001b[0m\u001b[37m\u001b[0m \u001b[1m38s\u001b[0m 34ms/step - accuracy: 0.8185 - loss: 0.7044 - val_accuracy: 0.7518 - val_loss: 1.5881\n",
      "Epoch 21/30\n",
      "\u001b[1m1112/1112\u001b[0m \u001b[32m━━━━━━━━━━━━━━━━━━━━\u001b[0m\u001b[37m\u001b[0m \u001b[1m38s\u001b[0m 34ms/step - accuracy: 0.8235 - loss: 0.6636 - val_accuracy: 0.7590 - val_loss: 1.7354\n",
      "Epoch 22/30\n",
      "\u001b[1m1112/1112\u001b[0m \u001b[32m━━━━━━━━━━━━━━━━━━━━\u001b[0m\u001b[37m\u001b[0m \u001b[1m37s\u001b[0m 33ms/step - accuracy: 0.8250 - loss: 0.6966 - val_accuracy: 0.7482 - val_loss: 1.9548\n",
      "Epoch 23/30\n",
      "\u001b[1m1112/1112\u001b[0m \u001b[32m━━━━━━━━━━━━━━━━━━━━\u001b[0m\u001b[37m\u001b[0m \u001b[1m47s\u001b[0m 42ms/step - accuracy: 0.8207 - loss: 0.7260 - val_accuracy: 0.7458 - val_loss: 1.9641\n",
      "Epoch 24/30\n",
      "\u001b[1m1112/1112\u001b[0m \u001b[32m━━━━━━━━━━━━━━━━━━━━\u001b[0m\u001b[37m\u001b[0m \u001b[1m63s\u001b[0m 56ms/step - accuracy: 0.8173 - loss: 0.7435 - val_accuracy: 0.7239 - val_loss: 2.0518\n",
      "Epoch 25/30\n",
      "\u001b[1m1112/1112\u001b[0m \u001b[32m━━━━━━━━━━━━━━━━━━━━\u001b[0m\u001b[37m\u001b[0m \u001b[1m58s\u001b[0m 52ms/step - accuracy: 0.8189 - loss: 0.7606 - val_accuracy: 0.7499 - val_loss: 1.8881\n",
      "Epoch 26/30\n",
      "\u001b[1m1112/1112\u001b[0m \u001b[32m━━━━━━━━━━━━━━━━━━━━\u001b[0m\u001b[37m\u001b[0m \u001b[1m57s\u001b[0m 52ms/step - accuracy: 0.8274 - loss: 0.6627 - val_accuracy: 0.7523 - val_loss: 1.8172\n",
      "Epoch 27/30\n",
      "\u001b[1m1112/1112\u001b[0m \u001b[32m━━━━━━━━━━━━━━━━━━━━\u001b[0m\u001b[37m\u001b[0m \u001b[1m25s\u001b[0m 22ms/step - accuracy: 0.8279 - loss: 0.6537 - val_accuracy: 0.7591 - val_loss: 1.9699\n",
      "Epoch 28/30\n",
      "\u001b[1m1112/1112\u001b[0m \u001b[32m━━━━━━━━━━━━━━━━━━━━\u001b[0m\u001b[37m\u001b[0m \u001b[1m23s\u001b[0m 21ms/step - accuracy: 0.8289 - loss: 0.6874 - val_accuracy: 0.7543 - val_loss: 1.8795\n",
      "Epoch 29/30\n",
      "\u001b[1m1112/1112\u001b[0m \u001b[32m━━━━━━━━━━━━━━━━━━━━\u001b[0m\u001b[37m\u001b[0m \u001b[1m25s\u001b[0m 23ms/step - accuracy: 0.8331 - loss: 0.6863 - val_accuracy: 0.7627 - val_loss: 2.0514\n",
      "Epoch 30/30\n",
      "\u001b[1m1112/1112\u001b[0m \u001b[32m━━━━━━━━━━━━━━━━━━━━\u001b[0m\u001b[37m\u001b[0m \u001b[1m27s\u001b[0m 24ms/step - accuracy: 0.8295 - loss: 0.6986 - val_accuracy: 0.7651 - val_loss: 2.0742\n",
      "\n",
      "\n",
      "Fitting model for drop rate 0.01\n",
      "Epoch 1/30\n",
      "\u001b[1m1112/1112\u001b[0m \u001b[32m━━━━━━━━━━━━━━━━━━━━\u001b[0m\u001b[37m\u001b[0m \u001b[1m38s\u001b[0m 27ms/step - accuracy: 0.6378 - loss: 1.7324 - val_accuracy: 0.6826 - val_loss: 1.2092\n",
      "Epoch 2/30\n",
      "\u001b[1m1112/1112\u001b[0m \u001b[32m━━━━━━━━━━━━━━━━━━━━\u001b[0m\u001b[37m\u001b[0m \u001b[1m25s\u001b[0m 22ms/step - accuracy: 0.7327 - loss: 0.9887 - val_accuracy: 0.7268 - val_loss: 1.0474\n",
      "Epoch 3/30\n",
      "\u001b[1m1112/1112\u001b[0m \u001b[32m━━━━━━━━━━━━━━━━━━━━\u001b[0m\u001b[37m\u001b[0m \u001b[1m26s\u001b[0m 24ms/step - accuracy: 0.7512 - loss: 0.9099 - val_accuracy: 0.7137 - val_loss: 1.4533\n",
      "Epoch 4/30\n",
      "\u001b[1m1112/1112\u001b[0m \u001b[32m━━━━━━━━━━━━━━━━━━━━\u001b[0m\u001b[37m\u001b[0m \u001b[1m27s\u001b[0m 24ms/step - accuracy: 0.7671 - loss: 0.8545 - val_accuracy: 0.7454 - val_loss: 1.1765\n",
      "Epoch 5/30\n",
      "\u001b[1m1112/1112\u001b[0m \u001b[32m━━━━━━━━━━━━━━━━━━━━\u001b[0m\u001b[37m\u001b[0m \u001b[1m30s\u001b[0m 27ms/step - accuracy: 0.7752 - loss: 0.8167 - val_accuracy: 0.7425 - val_loss: 1.1324\n",
      "Epoch 6/30\n",
      "\u001b[1m1112/1112\u001b[0m \u001b[32m━━━━━━━━━━━━━━━━━━━━\u001b[0m\u001b[37m\u001b[0m \u001b[1m29s\u001b[0m 26ms/step - accuracy: 0.7842 - loss: 0.7821 - val_accuracy: 0.7605 - val_loss: 1.1221\n",
      "Epoch 7/30\n",
      "\u001b[1m1112/1112\u001b[0m \u001b[32m━━━━━━━━━━━━━━━━━━━━\u001b[0m\u001b[37m\u001b[0m \u001b[1m28s\u001b[0m 25ms/step - accuracy: 0.7789 - loss: 0.8145 - val_accuracy: 0.7577 - val_loss: 1.1655\n",
      "Epoch 8/30\n",
      "\u001b[1m1112/1112\u001b[0m \u001b[32m━━━━━━━━━━━━━━━━━━━━\u001b[0m\u001b[37m\u001b[0m \u001b[1m25s\u001b[0m 23ms/step - accuracy: 0.7854 - loss: 0.7764 - val_accuracy: 0.7319 - val_loss: 1.2118\n",
      "Epoch 9/30\n",
      "\u001b[1m1112/1112\u001b[0m \u001b[32m━━━━━━━━━━━━━━━━━━━━\u001b[0m\u001b[37m\u001b[0m \u001b[1m27s\u001b[0m 24ms/step - accuracy: 0.7917 - loss: 0.7608 - val_accuracy: 0.7637 - val_loss: 1.3379\n",
      "Epoch 10/30\n",
      "\u001b[1m1112/1112\u001b[0m \u001b[32m━━━━━━━━━━━━━━━━━━━━\u001b[0m\u001b[37m\u001b[0m \u001b[1m28s\u001b[0m 25ms/step - accuracy: 0.7925 - loss: 0.7739 - val_accuracy: 0.7384 - val_loss: 1.3288\n",
      "Epoch 11/30\n",
      "\u001b[1m1112/1112\u001b[0m \u001b[32m━━━━━━━━━━━━━━━━━━━━\u001b[0m\u001b[37m\u001b[0m \u001b[1m25s\u001b[0m 22ms/step - accuracy: 0.7914 - loss: 0.7828 - val_accuracy: 0.7546 - val_loss: 1.5156\n",
      "Epoch 12/30\n",
      "\u001b[1m1112/1112\u001b[0m \u001b[32m━━━━━━━━━━━━━━━━━━━━\u001b[0m\u001b[37m\u001b[0m \u001b[1m27s\u001b[0m 24ms/step - accuracy: 0.7981 - loss: 0.7541 - val_accuracy: 0.7395 - val_loss: 1.2572\n",
      "Epoch 13/30\n",
      "\u001b[1m1112/1112\u001b[0m \u001b[32m━━━━━━━━━━━━━━━━━━━━\u001b[0m\u001b[37m\u001b[0m \u001b[1m31s\u001b[0m 28ms/step - accuracy: 0.8031 - loss: 0.7408 - val_accuracy: 0.7393 - val_loss: 1.4727\n",
      "Epoch 14/30\n",
      "\u001b[1m1112/1112\u001b[0m \u001b[32m━━━━━━━━━━━━━━━━━━━━\u001b[0m\u001b[37m\u001b[0m \u001b[1m26s\u001b[0m 23ms/step - accuracy: 0.7998 - loss: 0.7808 - val_accuracy: 0.7538 - val_loss: 1.3706\n",
      "Epoch 15/30\n",
      "\u001b[1m1112/1112\u001b[0m \u001b[32m━━━━━━━━━━━━━━━━━━━━\u001b[0m\u001b[37m\u001b[0m \u001b[1m27s\u001b[0m 25ms/step - accuracy: 0.8006 - loss: 0.7405 - val_accuracy: 0.7575 - val_loss: 1.5753\n",
      "Epoch 16/30\n",
      "\u001b[1m1112/1112\u001b[0m \u001b[32m━━━━━━━━━━━━━━━━━━━━\u001b[0m\u001b[37m\u001b[0m \u001b[1m27s\u001b[0m 24ms/step - accuracy: 0.7993 - loss: 0.7771 - val_accuracy: 0.7448 - val_loss: 1.4186\n",
      "Epoch 17/30\n",
      "\u001b[1m1112/1112\u001b[0m \u001b[32m━━━━━━━━━━━━━━━━━━━━\u001b[0m\u001b[37m\u001b[0m \u001b[1m28s\u001b[0m 25ms/step - accuracy: 0.8040 - loss: 0.7439 - val_accuracy: 0.7660 - val_loss: 1.5478\n",
      "Epoch 18/30\n",
      "\u001b[1m1112/1112\u001b[0m \u001b[32m━━━━━━━━━━━━━━━━━━━━\u001b[0m\u001b[37m\u001b[0m \u001b[1m28s\u001b[0m 25ms/step - accuracy: 0.8127 - loss: 0.6930 - val_accuracy: 0.7692 - val_loss: 1.6361\n",
      "Epoch 19/30\n",
      "\u001b[1m1112/1112\u001b[0m \u001b[32m━━━━━━━━━━━━━━━━━━━━\u001b[0m\u001b[37m\u001b[0m \u001b[1m28s\u001b[0m 25ms/step - accuracy: 0.8148 - loss: 0.6994 - val_accuracy: 0.7248 - val_loss: 1.6642\n",
      "Epoch 20/30\n",
      "\u001b[1m1112/1112\u001b[0m \u001b[32m━━━━━━━━━━━━━━━━━━━━\u001b[0m\u001b[37m\u001b[0m \u001b[1m27s\u001b[0m 24ms/step - accuracy: 0.8007 - loss: 0.7750 - val_accuracy: 0.7544 - val_loss: 1.6486\n",
      "Epoch 21/30\n",
      "\u001b[1m1112/1112\u001b[0m \u001b[32m━━━━━━━━━━━━━━━━━━━━\u001b[0m\u001b[37m\u001b[0m \u001b[1m27s\u001b[0m 25ms/step - accuracy: 0.8152 - loss: 0.7094 - val_accuracy: 0.7454 - val_loss: 1.7969\n",
      "Epoch 22/30\n",
      "\u001b[1m1112/1112\u001b[0m \u001b[32m━━━━━━━━━━━━━━━━━━━━\u001b[0m\u001b[37m\u001b[0m \u001b[1m26s\u001b[0m 23ms/step - accuracy: 0.8047 - loss: 0.7551 - val_accuracy: 0.7477 - val_loss: 1.7646\n",
      "Epoch 23/30\n",
      "\u001b[1m1112/1112\u001b[0m \u001b[32m━━━━━━━━━━━━━━━━━━━━\u001b[0m\u001b[37m\u001b[0m \u001b[1m27s\u001b[0m 25ms/step - accuracy: 0.8102 - loss: 0.7411 - val_accuracy: 0.7611 - val_loss: 1.7722\n",
      "Epoch 24/30\n",
      "\u001b[1m1112/1112\u001b[0m \u001b[32m━━━━━━━━━━━━━━━━━━━━\u001b[0m\u001b[37m\u001b[0m \u001b[1m27s\u001b[0m 24ms/step - accuracy: 0.8114 - loss: 0.7459 - val_accuracy: 0.7618 - val_loss: 1.7786\n",
      "Epoch 25/30\n",
      "\u001b[1m1112/1112\u001b[0m \u001b[32m━━━━━━━━━━━━━━━━━━━━\u001b[0m\u001b[37m\u001b[0m \u001b[1m26s\u001b[0m 24ms/step - accuracy: 0.8113 - loss: 0.7334 - val_accuracy: 0.7521 - val_loss: 1.9107\n",
      "Epoch 26/30\n",
      "\u001b[1m1112/1112\u001b[0m \u001b[32m━━━━━━━━━━━━━━━━━━━━\u001b[0m\u001b[37m\u001b[0m \u001b[1m28s\u001b[0m 25ms/step - accuracy: 0.8129 - loss: 0.7141 - val_accuracy: 0.7495 - val_loss: 1.8834\n",
      "Epoch 27/30\n",
      "\u001b[1m1112/1112\u001b[0m \u001b[32m━━━━━━━━━━━━━━━━━━━━\u001b[0m\u001b[37m\u001b[0m \u001b[1m27s\u001b[0m 24ms/step - accuracy: 0.8190 - loss: 0.7149 - val_accuracy: 0.7547 - val_loss: 2.0646\n",
      "Epoch 28/30\n",
      "\u001b[1m1112/1112\u001b[0m \u001b[32m━━━━━━━━━━━━━━━━━━━━\u001b[0m\u001b[37m\u001b[0m \u001b[1m28s\u001b[0m 25ms/step - accuracy: 0.8187 - loss: 0.7090 - val_accuracy: 0.7457 - val_loss: 2.0876\n",
      "Epoch 29/30\n",
      "\u001b[1m1112/1112\u001b[0m \u001b[32m━━━━━━━━━━━━━━━━━━━━\u001b[0m\u001b[37m\u001b[0m \u001b[1m27s\u001b[0m 24ms/step - accuracy: 0.8181 - loss: 0.7150 - val_accuracy: 0.7517 - val_loss: 2.4564\n",
      "Epoch 30/30\n",
      "\u001b[1m1112/1112\u001b[0m \u001b[32m━━━━━━━━━━━━━━━━━━━━\u001b[0m\u001b[37m\u001b[0m \u001b[1m28s\u001b[0m 25ms/step - accuracy: 0.8203 - loss: 0.7230 - val_accuracy: 0.7259 - val_loss: 2.0611\n",
      "\n",
      "\n"
     ]
    }
   ],
   "source": [
    "print('Deleting files previously saved to output directory\\n')\n",
    "delete_previous_checkpoint_files(r'Mobile_v3_droprate.*\\.keras')\n",
    "print(f'Training the model with different dropout rates for the inner layer \\n')\n",
    "\n",
    "#droprates = [0.0, 0.01, 0.03, 0.05, 0.1]\n",
    "droprates = [0.0, 0.01]\n",
    "scores={}\n",
    "#I initially experimented with a variety of dropout rates during the training and 30 epochs\n",
    "#but the accuracy wasnt higher and it took too long, so I narrowed it down to fewer options in the notebook\n",
    "for droprate in droprates:\n",
    "    print(f'Fitting model for drop rate {droprate}')\n",
    "    custom_checkpoint = CustomModelCheckpoint(f'{MODELS_DIR}/Mobile_v3_droprate{droprate}_{{epoch:02d}}_{{val_accuracy:.3f}}.keras',\n",
    "                                save_best_only=True,\n",
    "                                monitor='val_accuracy',\n",
    "                                mode='max')    \n",
    "    model = make_model_Mobile_v3(droprate)\n",
    "    history = model.fit(train_gen, epochs=20, validation_data=val_gen, callbacks = [custom_checkpoint])\n",
    "    scores[droprate] = history.history\n",
    "    print()\n",
    "    print()"
   ]
  },
  {
   "cell_type": "code",
   "execution_count": 105,
   "id": "b697aa66-cf34-4fe5-818e-9886b14cb889",
   "metadata": {},
   "outputs": [
    {
     "data": {
      "image/png": "[encoded data removed]",
      "text/plain": [
       "<Figure size 1200x600 with 1 Axes>"
      ]
     },
     "metadata": {},
     "output_type": "display_data"
    }
   ],
   "source": [
    "# Plotting the results\n",
    "plt.figure(figsize=(12, 6))\n",
    "\n",
    "for droprate in [0.0, 0.01]:\n",
    "    plt.plot(scores[droprate]['val_accuracy'], label=f'Val Accuracy (Drop Rate: {droprate})', linestyle='--')\n",
    "\n",
    "plt.title('Model Accuracy vs. Dropout Rate')\n",
    "plt.xlabel('Epochs')\n",
    "plt.ylabel('Accuracy')\n",
    "plt.legend()\n",
    "plt.grid()\n",
    "plt.show()"
   ]
  },
  {
   "cell_type": "code",
   "execution_count": 107,
   "id": "e1de0896-1037-4d3f-b0f0-dcc11f099588",
   "metadata": {},
   "outputs": [
    {
     "name": "stdout",
     "output_type": "stream",
     "text": [
      "Best model for drop rate 0.0:\n",
      "Best Validation Accuracy: 0.771\n",
      "Checkpoint file: ../models/Mobile_v3_droprate0.0_12_0.771.keras\n",
      "Best model for drop rate 0.01:\n",
      "Best Validation Accuracy: 0.769\n",
      "Checkpoint file: ../models/Mobile_v3_droprate0.01_18_0.769.keras\n"
     ]
    }
   ],
   "source": [
    "#Building a summary with the results\n",
    "best_models_info = {}\n",
    "\n",
    "for droprate in scores.keys():\n",
    "    best_val_accuracy = max(scores[droprate]['val_accuracy'])\n",
    "    \n",
    "    checkpoint_filename_pattern = f'Mobile_v3_droprate{droprate}_*_{best_val_accuracy:.3f}.keras'\n",
    "    checkpoint_files = glob.glob(os.path.join(MODELS_DIR, checkpoint_filename_pattern))\n",
    "    \n",
    "    if checkpoint_files:\n",
    "        best_models_info[droprate] = {\n",
    "            'best_accuracy': best_val_accuracy,\n",
    "            'checkpoint_file': checkpoint_files[0]  # Get the first matching file\n",
    "        }\n",
    "    else:\n",
    "        print(f\"No checkpoint files found for drop rate {droprate} with accuracy {best_val_accuracy:.3f}\")\n",
    "\n",
    "for droprate, info in best_models_info.items():\n",
    "    print(f\"Best model for drop rate {droprate}:\")\n",
    "    print(f\"Best Validation Accuracy: {info['best_accuracy']:.3f}\")\n",
    "    print(f\"Checkpoint file: {info['checkpoint_file']}\")   "
   ]
  },
  {
   "cell_type": "code",
   "execution_count": 108,
   "id": "8662f57a-138b-437b-a2a5-6c34f61e05d0",
   "metadata": {},
   "outputs": [
    {
     "name": "stdout",
     "output_type": "stream",
     "text": [
      "Best Validation Accuracy for 'Mobile version 3' model: 0.7692\n",
      "Saved Model File: ../models/Mobile_v3_droprate0.01_18_0.769.keras\n"
     ]
    }
   ],
   "source": [
    "## Conclusion: there is not a better accuracy by having a version of the model with a dropout layer\n",
    "\n",
    "#In case of using this version of the model, I would go with a drop rate of 0.01\n",
    "model_results['mobile_v3'] = {\n",
    "        'accuracy': round(best_models_info[0.01]['best_accuracy'], 4),\n",
    "        'filename': best_models_info[0.01]['checkpoint_file']\n",
    "    }\n",
    "print(f\"Best Validation Accuracy for 'Mobile version 3' model: {model_results['mobile_v3']['accuracy']}\")\n",
    "print(f\"Saved Model File: {model_results['mobile_v3']['filename']}\")\n"
   ]
  },
  {
   "cell_type": "markdown",
   "id": "5d2ec644-68e3-4ed0-9cce-65cde4cf26a5",
   "metadata": {},
   "source": [
    "### Using the model Mobile version 1 trained with augmentation"
   ]
  },
  {
   "cell_type": "code",
   "execution_count": 200,
   "id": "9fe3f464-1254-4c84-b786-03e91f8d16fc",
   "metadata": {},
   "outputs": [
    {
     "name": "stdout",
     "output_type": "stream",
     "text": [
      "Found 35541 validated image filenames belonging to 132 classes.\n"
     ]
    }
   ],
   "source": [
    "#declare a new generator for the train dataset\n",
    "#the generator for the validation dataset is kept as before, the augmentations are applied to the training dataset only\n",
    "#(the parameters set here were selected after some experimentation)\n",
    "train_gen = image_gen.flow_from_dataframe(\n",
    "    dataframe=train_df,\n",
    "    directory=IMAGES_DIR, \n",
    "    x_col='filename',  \n",
    "    y_col='articleType', \n",
    "    target_size=TARGET_SIZE, \n",
    "    batch_size=BATCH_SIZE,\n",
    "    class_mode='categorical',  \n",
    "    width_shift_range=0.2,\n",
    "    height_shift_range=0.2,\n",
    "    shear_range=10,\n",
    "    zoom_range=0.2,\n",
    "    horizontal_flip=True,                \n",
    "    workers = workers,\n",
    "    use_multiprocessing=use_multiprocessing,\n",
    "    max_queue_size=MAX_QUEUE_SIZE\n",
    ")"
   ]
  },
  {
   "cell_type": "code",
   "execution_count": 201,
   "id": "fc0fe669-cb10-40ad-b0a9-78a9334c6460",
   "metadata": {},
   "outputs": [
    {
     "name": "stdout",
     "output_type": "stream",
     "text": [
      "Batch shape for training: (32, 96, 96, 3)\n",
      "Shape of training labels: (32, 132)\n",
      "Batch shape for validation: (32, 96, 96, 3)\n",
      "Shape of validation labels: (32, 132)\n"
     ]
    }
   ],
   "source": [
    "#check size of images and batches\n",
    "batch_images, batch_labels = next(train_gen)  \n",
    "print(\"Batch shape for training:\", batch_images.shape) \n",
    "print(\"Shape of training labels:\", batch_labels.shape) \n",
    "\n",
    "batch_images, batch_labels = next(val_gen)  \n",
    "print(\"Batch shape for validation:\", batch_images.shape) \n",
    "print(\"Shape of validation labels:\", batch_labels.shape) "
   ]
  },
  {
   "cell_type": "code",
   "execution_count": 207,
   "id": "932d528f-16c0-4bef-b21e-185ae8b949d1",
   "metadata": {},
   "outputs": [
    {
     "name": "stdout",
     "output_type": "stream",
     "text": [
      "Deleting files previously saved to output directory\n",
      "\n",
      "No matching files found for deletion.\n",
      "\n",
      "Training the model with augmentation and learning rate 0.001\n",
      "\n",
      "Epoch 1/10\n",
      "\u001b[1m1111/1111\u001b[0m \u001b[32m━━━━━━━━━━━━━━━━━━━━\u001b[0m\u001b[37m\u001b[0m \u001b[1m36s\u001b[0m 27ms/step - accuracy: 0.6769 - loss: 1.4864 - val_accuracy: 0.8141 - val_loss: 0.7757\n",
      "Epoch 2/10\n",
      "\u001b[1m1111/1111\u001b[0m \u001b[32m━━━━━━━━━━━━━━━━━━━━\u001b[0m\u001b[37m\u001b[0m \u001b[1m21s\u001b[0m 19ms/step - accuracy: 0.8427 - loss: 0.6664 - val_accuracy: 0.8251 - val_loss: 0.7278\n",
      "Epoch 3/10\n",
      "\u001b[1m1111/1111\u001b[0m \u001b[32m━━━━━━━━━━━━━━━━━━━━\u001b[0m\u001b[37m\u001b[0m \u001b[1m22s\u001b[0m 19ms/step - accuracy: 0.8644 - loss: 0.5803 - val_accuracy: 0.8296 - val_loss: 0.7185\n",
      "Epoch 4/10\n",
      "\u001b[1m1111/1111\u001b[0m \u001b[32m━━━━━━━━━━━━━━━━━━━━\u001b[0m\u001b[37m\u001b[0m \u001b[1m21s\u001b[0m 19ms/step - accuracy: 0.8732 - loss: 0.5544 - val_accuracy: 0.8309 - val_loss: 0.7258\n",
      "Epoch 5/10\n",
      "\u001b[1m1111/1111\u001b[0m \u001b[32m━━━━━━━━━━━━━━━━━━━━\u001b[0m\u001b[37m\u001b[0m \u001b[1m22s\u001b[0m 20ms/step - accuracy: 0.8751 - loss: 0.5498 - val_accuracy: 0.8233 - val_loss: 0.7517\n",
      "Epoch 6/10\n",
      "\u001b[1m1111/1111\u001b[0m \u001b[32m━━━━━━━━━━━━━━━━━━━━\u001b[0m\u001b[37m\u001b[0m \u001b[1m29s\u001b[0m 26ms/step - accuracy: 0.8786 - loss: 0.5337 - val_accuracy: 0.8234 - val_loss: 0.7354\n",
      "Epoch 7/10\n",
      "\u001b[1m1111/1111\u001b[0m \u001b[32m━━━━━━━━━━━━━━━━━━━━\u001b[0m\u001b[37m\u001b[0m \u001b[1m22s\u001b[0m 20ms/step - accuracy: 0.8820 - loss: 0.5294 - val_accuracy: 0.8332 - val_loss: 0.7165\n",
      "Epoch 8/10\n",
      "\u001b[1m1111/1111\u001b[0m \u001b[32m━━━━━━━━━━━━━━━━━━━━\u001b[0m\u001b[37m\u001b[0m \u001b[1m24s\u001b[0m 22ms/step - accuracy: 0.8857 - loss: 0.5286 - val_accuracy: 0.8258 - val_loss: 0.7505\n",
      "Epoch 9/10\n",
      "\u001b[1m1111/1111\u001b[0m \u001b[32m━━━━━━━━━━━━━━━━━━━━\u001b[0m\u001b[37m\u001b[0m \u001b[1m27s\u001b[0m 24ms/step - accuracy: 0.8868 - loss: 0.5229 - val_accuracy: 0.8293 - val_loss: 0.7276\n",
      "Epoch 10/10\n",
      "\u001b[1m1111/1111\u001b[0m \u001b[32m━━━━━━━━━━━━━━━━━━━━\u001b[0m\u001b[37m\u001b[0m \u001b[1m28s\u001b[0m 25ms/step - accuracy: 0.8862 - loss: 0.5220 - val_accuracy: 0.8341 - val_loss: 0.7193\n"
     ]
    }
   ],
   "source": [
    "#deleting any previous files\n",
    "print('Deleting files previously saved to output directory\\n')\n",
    "delete_previous_checkpoint_files(r'Mobile_v1_aug.*\\.keras')\n",
    "learning_rate=best_learning_rate\n",
    "print(f'\\nTraining the model with augmentation and learning rate {learning_rate}\\n')\n",
    "#definining a checkpoint to save the model when the accuracy is the max accuracy\n",
    "custom_checkpoint = CustomModelCheckpoint(f'{MODELS_DIR}/Mobile_v1_aug_{{epoch:02d}}_{{val_accuracy:.3f}}.keras',\n",
    "                                save_best_only=True,\n",
    "                                monitor='val_accuracy',\n",
    "                                mode='max')\n",
    "\n",
    "model = make_model_Mobile_v1(learning_rate=learning_rate)\n",
    "history = model.fit(\n",
    "    train_gen,\n",
    "    epochs=10,\n",
    "    validation_data=val_gen,\n",
    "    callbacks = [custom_checkpoint]\n",
    ")\n"
   ]
  },
  {
   "cell_type": "code",
   "execution_count": 208,
   "id": "ad9f9a71-b683-4cb8-b13b-94e0e737e61e",
   "metadata": {},
   "outputs": [
    {
     "data": {
      "text/plain": [
       "<matplotlib.legend.Legend at 0x7f46ad634e00>"
      ]
     },
     "execution_count": 208,
     "metadata": {},
     "output_type": "execute_result"
    },
    {
     "data": {
      "image/png": "[encoded data removed]",
      "text/plain": [
       "<Figure size 640x480 with 1 Axes>"
      ]
     },
     "metadata": {},
     "output_type": "display_data"
    }
   ],
   "source": [
    "#Plotting train and validation accuracy\n",
    "plt.plot(history.history['accuracy'], label='train')\n",
    "plt.plot(history.history['val_accuracy'], label='val')\n",
    "plt.xticks(np.arange(10))\n",
    "plt.legend()"
   ]
  },
  {
   "cell_type": "code",
   "execution_count": null,
   "id": "3069ffe4-64d4-46fb-8b1d-08149e7c71af",
   "metadata": {},
   "outputs": [],
   "source": [
    "## Conclusion: by using augmentation, the model is not overfitting"
   ]
  },
  {
   "cell_type": "code",
   "execution_count": null,
   "id": "bf3e400a-3f57-4c52-8a92-05f3767d68ca",
   "metadata": {},
   "outputs": [
    {
     "name": "stdout",
     "output_type": "stream",
     "text": [
      "Deleting files previously saved to output directory\n",
      "\n",
      "Deleted checkpoint file: Mobile_v1_aug_10_0.834.keras\n",
      "Deleted checkpoint file: Mobile_v1_aug_04_0.831.keras\n",
      "Deleted checkpoint file: Mobile_v1_aug_01_0.814.keras\n",
      "Deleted checkpoint file: Mobile_v1_aug_03_0.830.keras\n",
      "Deleted checkpoint file: Mobile_v1_aug_02_0.825.keras\n",
      "Deleted checkpoint file: Mobile_v1_aug_07_0.833.keras\n",
      "\n",
      "Training the model with augmentation and learning rate 0.001\n",
      "\n",
      "Epoch 1/20\n",
      "\u001b[1m1111/1111\u001b[0m \u001b[32m━━━━━━━━━━━━━━━━━━━━\u001b[0m\u001b[37m\u001b[0m \u001b[1m32s\u001b[0m 25ms/step - accuracy: 0.6808 - loss: 1.4588 - val_accuracy: 0.8214 - val_loss: 0.7753\n",
      "Epoch 2/20\n",
      "\u001b[1m1111/1111\u001b[0m \u001b[32m━━━━━━━━━━━━━━━━━━━━\u001b[0m\u001b[37m\u001b[0m \u001b[1m21s\u001b[0m 18ms/step - accuracy: 0.8459 - loss: 0.6574 - val_accuracy: 0.8198 - val_loss: 0.7396\n",
      "Epoch 3/20\n",
      "\u001b[1m1111/1111\u001b[0m \u001b[32m━━━━━━━━━━━━━━━━━━━━\u001b[0m\u001b[37m\u001b[0m \u001b[1m22s\u001b[0m 20ms/step - accuracy: 0.8632 - loss: 0.5820 - val_accuracy: 0.8296 - val_loss: 0.7265\n",
      "Epoch 4/20\n",
      "\u001b[1m1111/1111\u001b[0m \u001b[32m━━━━━━━━━━━━━━━━━━━━\u001b[0m\u001b[37m\u001b[0m \u001b[1m22s\u001b[0m 20ms/step - accuracy: 0.8739 - loss: 0.5557 - val_accuracy: 0.8266 - val_loss: 0.7188\n",
      "Epoch 5/20\n",
      "\u001b[1m1111/1111\u001b[0m \u001b[32m━━━━━━━━━━━━━━━━━━━━\u001b[0m\u001b[37m\u001b[0m \u001b[1m21s\u001b[0m 19ms/step - accuracy: 0.8747 - loss: 0.5494 - val_accuracy: 0.8159 - val_loss: 0.7611\n",
      "Epoch 6/20\n",
      "\u001b[1m1111/1111\u001b[0m \u001b[32m━━━━━━━━━━━━━━━━━━━━\u001b[0m\u001b[37m\u001b[0m \u001b[1m24s\u001b[0m 22ms/step - accuracy: 0.8784 - loss: 0.5397 - val_accuracy: 0.8352 - val_loss: 0.7162\n",
      "Epoch 7/20\n",
      "\u001b[1m1111/1111\u001b[0m \u001b[32m━━━━━━━━━━━━━━━━━━━━\u001b[0m\u001b[37m\u001b[0m \u001b[1m29s\u001b[0m 26ms/step - accuracy: 0.8854 - loss: 0.5297 - val_accuracy: 0.8261 - val_loss: 0.7372\n",
      "Epoch 8/20\n",
      "\u001b[1m 661/1111\u001b[0m \u001b[32m━━━━━━━━━━━\u001b[0m\u001b[37m━━━━━━━━━\u001b[0m \u001b[1m9s\u001b[0m 20ms/step - accuracy: 0.8867 - loss: 0.5168 "
     ]
    }
   ],
   "source": [
    "#Training the model for 20 epochs, to compare results\n",
    "#deleting any previous files\n",
    "print('Deleting files previously saved to output directory\\n')\n",
    "delete_previous_checkpoint_files(r'Mobile_v1_aug.*\\.keras')\n",
    "learning_rate=best_learning_rate\n",
    "print(f'\\nTraining the model with augmentation and learning rate {learning_rate}\\n')\n",
    "#definining a checkpoint to save the model when the accuracy is the max accuracy\n",
    "custom_checkpoint = CustomModelCheckpoint(f'{MODELS_DIR}/Mobile_v1_aug_{{epoch:02d}}_{{val_accuracy:.3f}}.keras',\n",
    "                                save_best_only=True,\n",
    "                                monitor='val_accuracy',\n",
    "                                mode='max')\n",
    "\n",
    "model = make_model_Mobile_v1(learning_rate=learning_rate)\n",
    "history = model.fit(\n",
    "    train_gen,\n",
    "    epochs=20,\n",
    "    validation_data=val_gen,\n",
    "    callbacks = [custom_checkpoint]\n",
    ")"
   ]
  },
  {
   "cell_type": "code",
   "execution_count": 191,
   "id": "aa22d8a6-cfce-4ebc-abd0-31aa86d4a4e8",
   "metadata": {},
   "outputs": [
    {
     "name": "stdout",
     "output_type": "stream",
     "text": [
      "Best Validation Accuracy for 'Mobile version 1 with Augmentation' model: 0.8426\n",
      "Saved Model File: ../models/Mobile_v1_aug_08_0.843.keras\n"
     ]
    }
   ],
   "source": [
    "model_results['mobile_v1_with_augmentation'] = {\n",
    "    'accuracy': round(custom_checkpoint.best_accuracy, 4),\n",
    "    'filename': custom_checkpoint.best_model_file\n",
    "}\n",
    "print(f\"Best Validation Accuracy for 'Mobile version 1 with Augmentation' model: {model_results['mobile_v1_with_augmentation']['accuracy']}\")\n",
    "print(f\"Saved Model File: {model_results['mobile_v1_with_augmentation']['filename']}\")"
   ]
  },
  {
   "cell_type": "code",
   "execution_count": null,
   "id": "aebad2c5-19e9-4490-ba30-b1dd04b1f268",
   "metadata": {},
   "outputs": [],
   "source": []
  }
 ],
 "metadata": {
  "kernelspec": {
   "display_name": "Python 3 (ipykernel)",
   "language": "python",
   "name": "python3"
  },
  "language_info": {
   "codemirror_mode": {
    "name": "ipython",
    "version": 3
   },
   "file_extension": ".py",
   "mimetype": "text/x-python",
   "name": "python",
   "nbconvert_exporter": "python",
   "pygments_lexer": "ipython3",
   "version": "3.12.3"
  }
 },
 "nbformat": 4,
 "nbformat_minor": 5
}
