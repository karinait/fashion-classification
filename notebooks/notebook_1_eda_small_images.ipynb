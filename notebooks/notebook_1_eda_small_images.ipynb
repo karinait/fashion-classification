{
 "cells": [
  {
   "cell_type": "code",
   "execution_count": 1,
   "id": "2ffba8b7-69fd-4321-9e9d-4459af53491b",
   "metadata": {},
   "outputs": [
    {
     "name": "stderr",
     "output_type": "stream",
     "text": [
      "2024-12-29 23:45:19.712409: E external/local_xla/xla/stream_executor/cuda/cuda_fft.cc:477] Unable to register cuFFT factory: Attempting to register factory for plugin cuFFT when one has already been registered\n",
      "WARNING: All log messages before absl::InitializeLog() is called are written to STDERR\n",
      "E0000 00:00:1735533919.743593   66721 cuda_dnn.cc:8310] Unable to register cuDNN factory: Attempting to register factory for plugin cuDNN when one has already been registered\n",
      "E0000 00:00:1735533919.750684   66721 cuda_blas.cc:1418] Unable to register cuBLAS factory: Attempting to register factory for plugin cuBLAS when one has already been registered\n",
      "2024-12-29 23:45:19.773880: I tensorflow/core/platform/cpu_feature_guard.cc:210] This TensorFlow binary is optimized to use available CPU instructions in performance-critical operations.\n",
      "To enable the following instructions: AVX2 FMA, in other operations, rebuild TensorFlow with the appropriate compiler flags.\n"
     ]
    }
   ],
   "source": [
    "import os\n",
    "import zipfile\n",
    "import requests\n",
    "import glob\n",
    "import sys\n",
    "import re\n",
    "import time\n",
    "\n",
    "import warnings\n",
    "import random\n",
    "import pandas as pd\n",
    "import numpy as np\n",
    "import matplotlib.pyplot as plt\n",
    "import tensorflow as tf\n",
    "\n",
    "from PIL import Image\n",
    "\n",
    "from sklearn.model_selection import train_test_split\n",
    "\n",
    "from tensorflow import keras\n",
    "from tensorflow.keras.preprocessing.image import load_img\n",
    "from tensorflow.keras.preprocessing.image import ImageDataGenerator\n",
    "from tensorflow.keras.applications.mobilenet_v2 import preprocess_input as mobile_preprocess_input\n",
    "from tensorflow.keras.applications.mobilenet_v2 import MobileNetV2\n",
    "from tensorflow.keras.applications.mobilenet_v2 import decode_predictions as mobile_decode_predictions\n",
    "from tensorflow.keras.applications.inception_v3 import preprocess_input as inception_preprocess_input\n",
    "from tensorflow.keras.applications.inception_v3 import InceptionV3\n",
    "from tensorflow.keras.applications.inception_v3 import decode_predictions as inception_decode_predictions\n",
    "\n",
    "from tensorflow.keras.callbacks import ModelCheckpoint, Callback\n",
    "from tensorflow.keras.mixed_precision import set_global_policy\n",
    "from tensorflow.keras import regularizers\n",
    "\n",
    "\n",
    "%matplotlib inline"
   ]
  },
  {
   "cell_type": "code",
   "execution_count": 2,
   "id": "4a66c4c8-8c64-4a39-a574-00bd1d94fa4c",
   "metadata": {},
   "outputs": [
    {
     "name": "stdout",
     "output_type": "stream",
     "text": [
      "3.12.3 (main, Nov  6 2024, 18:32:19) [GCC 13.2.0]\n"
     ]
    }
   ],
   "source": [
    "#Getting python version\n",
    "print(sys.version)"
   ]
  },
  {
   "cell_type": "code",
   "execution_count": 3,
   "id": "db0db6ac-cfa5-4a19-b668-ce5ae44d3bd0",
   "metadata": {},
   "outputs": [
    {
     "data": {
      "text/plain": [
       "'2.18.0'"
      ]
     },
     "execution_count": 3,
     "metadata": {},
     "output_type": "execute_result"
    }
   ],
   "source": [
    "#Getting tensorflow version\n",
    "tf.__version__"
   ]
  },
  {
   "cell_type": "code",
   "execution_count": 4,
   "id": "920dca1c-983c-453e-8986-4b0913dbd159",
   "metadata": {},
   "outputs": [
    {
     "name": "stdout",
     "output_type": "stream",
     "text": [
      "GPUs Available: [PhysicalDevice(name='/physical_device:GPU:0', device_type='GPU')]\n"
     ]
    }
   ],
   "source": [
    "#Checking that Tensorflow detects a GPU\n",
    "gpus = tf.config.list_physical_devices('GPU')\n",
    "print(\"GPUs Available:\", gpus)"
   ]
  },
  {
   "cell_type": "code",
   "execution_count": 5,
   "id": "1929e477-a3d9-4a7c-b708-c2d060d7302c",
   "metadata": {},
   "outputs": [],
   "source": [
    "if gpus:\n",
    "    try:\n",
    "        # Restrict TensorFlow to only allocate memory as needed\n",
    "        for gpu in gpus:\n",
    "            tf.config.experimental.set_memory_growth(gpu, True)\n",
    "    except RuntimeError as e:\n",
    "        print(e)\n"
   ]
  },
  {
   "cell_type": "code",
   "execution_count": 6,
   "id": "fb716dcc-95af-4569-a228-f4d01aebf458",
   "metadata": {},
   "outputs": [
    {
     "name": "stdout",
     "output_type": "stream",
     "text": [
      "TF_GPU_ALLOCATOR is set to: cuda_malloc_async\n"
     ]
    }
   ],
   "source": [
    "# Check if the TF_GPU_ALLOCATOR environment variable is set\n",
    "gpu_allocator = os.environ.get('TF_GPU_ALLOCATOR')\n",
    "\n",
    "if gpu_allocator is None:\n",
    "    print(\"Warning: The TF_GPU_ALLOCATOR environment variable is not set. This variable determines how TensorFlow manages GPU memory allocation.\"\n",
    "          \"Setting it to 'cuda_malloc_async' can improve performance on NVIDIA GPUs by reducing memory fragmentation during model training. \"\n",
    "          \" Please consider setting the variable before running the model (export TF_GPU_ALLOCATOR=cuda_malloc_async)\")\n",
    "else:\n",
    "    print(f\"TF_GPU_ALLOCATOR is set to: {gpu_allocator}\")"
   ]
  },
  {
   "cell_type": "code",
   "execution_count": 7,
   "id": "2926a66a-9010-45a2-bf2a-d21a4ae9d0c9",
   "metadata": {},
   "outputs": [],
   "source": [
    "#set mixed precision policy\n",
    "tf.keras.mixed_precision.set_global_policy('mixed_float16')"
   ]
  },
  {
   "cell_type": "code",
   "execution_count": 8,
   "id": "804271a3-233f-44d2-8af9-c9890c55ff13",
   "metadata": {},
   "outputs": [],
   "source": [
    "#setting seeds\n",
    "np.random.seed(42)\n",
    "random.seed(42)\n",
    "tf.random.set_seed(42)"
   ]
  },
  {
   "cell_type": "code",
   "execution_count": 9,
   "id": "eda4064e-3f9b-47d9-8649-e3128fe4693b",
   "metadata": {},
   "outputs": [],
   "source": [
    "#hide some warnings\n",
    "warnings.filterwarnings('ignore', category=UserWarning)"
   ]
  },
  {
   "cell_type": "code",
   "execution_count": 10,
   "id": "4e215fff-f80a-450b-9efa-b8fd2e853d4d",
   "metadata": {},
   "outputs": [],
   "source": [
    "# Start timer to measure execution time\n",
    "start_time = time.time()"
   ]
  },
  {
   "cell_type": "markdown",
   "id": "c324424a-e9d4-47ce-b526-ee5ba6a3159a",
   "metadata": {},
   "source": [
    "# Download images to train our model"
   ]
  },
  {
   "cell_type": "code",
   "execution_count": 11,
   "id": "951a6ddb-4d2a-45f4-8923-c80e958ffe3a",
   "metadata": {},
   "outputs": [],
   "source": [
    "DATASET_DIR = '../dataset/fashion-product-images-small/'\n",
    "ZIP_FILE_PATH = os.path.join(DATASET_DIR, 'fashion-product-images-small.zip')\n",
    "DOWNLOAD_URL = 'https://www.kaggle.com/api/v1/datasets/download/paramaggarwal/fashion-product-images-small'"
   ]
  },
  {
   "cell_type": "code",
   "execution_count": 12,
   "id": "ffa15f0a-f140-4f2e-9861-8e3e1e8d9c36",
   "metadata": {},
   "outputs": [],
   "source": [
    "def is_empty_directory(directory):\n",
    "    return not os.listdir(directory)"
   ]
  },
  {
   "cell_type": "code",
   "execution_count": 13,
   "id": "32eeb3e6-202c-4aff-81d2-b97e4dd230d4",
   "metadata": {},
   "outputs": [
    {
     "name": "stdout",
     "output_type": "stream",
     "text": [
      "The are images already downloaded. No need to download Zip file from Kaggle\n"
     ]
    }
   ],
   "source": [
    "if is_empty_directory(DATASET_DIR):\n",
    "    print(\"Empty dataset directory. Downloading ZIP File from Kaggle...\")\n",
    "    \n",
    "    response = requests.get(DOWNLOAD_URL, allow_redirects=True)\n",
    "    with open(ZIP_FILE_PATH, 'wb') as file:\n",
    "        file.write(response.content)\n",
    "    print(\"Download completed.\")\n",
    "\n",
    "    # Extract the ZIP file\n",
    "    with zipfile.ZipFile(ZIP_FILE_PATH, 'r') as zip_ref:\n",
    "        zip_ref.extractall(DATASET_DIR)\n",
    "    print(\"ZIP file extracted.\")\n",
    "\n",
    "    # Delete the ZIP file after extraction\n",
    "    os.remove(ZIP_FILE_PATH)\n",
    "else:\n",
    "    print(\"The are images already downloaded. No need to download Zip file from Kaggle\")"
   ]
  },
  {
   "cell_type": "markdown",
   "id": "9d11c6a9-67d1-410b-9525-f022d22413c8",
   "metadata": {},
   "source": [
    "# EDA"
   ]
  },
  {
   "cell_type": "code",
   "execution_count": 14,
   "id": "ee021d12-2045-4946-8cf9-52c5bee3a445",
   "metadata": {},
   "outputs": [],
   "source": [
    "#Load an image\n",
    "image_path = f'{DATASET_DIR}/images/'\n",
    "fullname = f'{image_path}/10009.jpg'\n",
    "img=load_img(fullname, target_size=(224,224))"
   ]
  },
  {
   "cell_type": "code",
   "execution_count": 15,
   "id": "fc0a4d3e-90db-4e19-bd1b-ce83c4fe4c5c",
   "metadata": {},
   "outputs": [
    {
     "data": {
      "text/plain": [
       "(224, 224, 3)"
      ]
     },
     "execution_count": 15,
     "metadata": {},
     "output_type": "execute_result"
    }
   ],
   "source": [
    "x=np.array(img)\n",
    "x.shape"
   ]
  },
  {
   "cell_type": "code",
   "execution_count": 16,
   "id": "a1d4a03f-cf4d-420d-93f3-a757a73cc404",
   "metadata": {},
   "outputs": [],
   "source": [
    "## Reading informacion about images\n",
    "CSV_FILE_PATH = F'{DATASET_DIR}/styles.csv'"
   ]
  },
  {
   "cell_type": "code",
   "execution_count": 17,
   "id": "9a5bcac7-a9ee-4ed0-a09f-a4c6969d2015",
   "metadata": {},
   "outputs": [
    {
     "name": "stdout",
     "output_type": "stream",
     "text": [
      "      id gender masterCategory subCategory  articleType baseColour  season  \\\n",
      "0  15970    Men        Apparel     Topwear       Shirts  Navy Blue    Fall   \n",
      "1  39386    Men        Apparel  Bottomwear        Jeans       Blue  Summer   \n",
      "2  59263  Women    Accessories     Watches      Watches     Silver  Winter   \n",
      "3  21379    Men        Apparel  Bottomwear  Track Pants      Black    Fall   \n",
      "4  53759    Men        Apparel     Topwear      Tshirts       Grey  Summer   \n",
      "\n",
      "   year   usage                             productDisplayName  \n",
      "0  2011  Casual               Turtle Check Men Navy Blue Shirt  \n",
      "1  2012  Casual             Peter England Men Party Blue Jeans  \n",
      "2  2016  Casual                       Titan Women Silver Watch  \n",
      "3  2011  Casual  Manchester United Men Solid Black Track Pants  \n",
      "4  2012  Casual                          Puma Men Grey T-shirt  \n"
     ]
    }
   ],
   "source": [
    "# Read the first few rows of the CSV to inspect its structure\n",
    "preview_data = pd.read_csv(CSV_FILE_PATH, nrows=5)\n",
    "print(preview_data.head())"
   ]
  },
  {
   "cell_type": "code",
   "execution_count": 18,
   "id": "fab18faa-c66b-4c23-ad43-0e26e2705fae",
   "metadata": {},
   "outputs": [
    {
     "data": {
      "text/html": [
       "<div>\n",
       "<style scoped>\n",
       "    .dataframe tbody tr th:only-of-type {\n",
       "        vertical-align: middle;\n",
       "    }\n",
       "\n",
       "    .dataframe tbody tr th {\n",
       "        vertical-align: top;\n",
       "    }\n",
       "\n",
       "    .dataframe thead th {\n",
       "        text-align: right;\n",
       "    }\n",
       "</style>\n",
       "<table border=\"1\" class=\"dataframe\">\n",
       "  <thead>\n",
       "    <tr style=\"text-align: right;\">\n",
       "      <th></th>\n",
       "      <th>id</th>\n",
       "      <th>gender</th>\n",
       "      <th>masterCategory</th>\n",
       "      <th>subCategory</th>\n",
       "      <th>articleType</th>\n",
       "      <th>productDisplayName</th>\n",
       "    </tr>\n",
       "  </thead>\n",
       "  <tbody>\n",
       "    <tr>\n",
       "      <th>0</th>\n",
       "      <td>15970</td>\n",
       "      <td>Men</td>\n",
       "      <td>Apparel</td>\n",
       "      <td>Topwear</td>\n",
       "      <td>Shirts</td>\n",
       "      <td>Turtle Check Men Navy Blue Shirt</td>\n",
       "    </tr>\n",
       "    <tr>\n",
       "      <th>1</th>\n",
       "      <td>39386</td>\n",
       "      <td>Men</td>\n",
       "      <td>Apparel</td>\n",
       "      <td>Bottomwear</td>\n",
       "      <td>Jeans</td>\n",
       "      <td>Peter England Men Party Blue Jeans</td>\n",
       "    </tr>\n",
       "    <tr>\n",
       "      <th>2</th>\n",
       "      <td>59263</td>\n",
       "      <td>Women</td>\n",
       "      <td>Accessories</td>\n",
       "      <td>Watches</td>\n",
       "      <td>Watches</td>\n",
       "      <td>Titan Women Silver Watch</td>\n",
       "    </tr>\n",
       "    <tr>\n",
       "      <th>3</th>\n",
       "      <td>21379</td>\n",
       "      <td>Men</td>\n",
       "      <td>Apparel</td>\n",
       "      <td>Bottomwear</td>\n",
       "      <td>Track Pants</td>\n",
       "      <td>Manchester United Men Solid Black Track Pants</td>\n",
       "    </tr>\n",
       "    <tr>\n",
       "      <th>4</th>\n",
       "      <td>53759</td>\n",
       "      <td>Men</td>\n",
       "      <td>Apparel</td>\n",
       "      <td>Topwear</td>\n",
       "      <td>Tshirts</td>\n",
       "      <td>Puma Men Grey T-shirt</td>\n",
       "    </tr>\n",
       "  </tbody>\n",
       "</table>\n",
       "</div>"
      ],
      "text/plain": [
       "      id gender masterCategory subCategory  articleType  \\\n",
       "0  15970    Men        Apparel     Topwear       Shirts   \n",
       "1  39386    Men        Apparel  Bottomwear        Jeans   \n",
       "2  59263  Women    Accessories     Watches      Watches   \n",
       "3  21379    Men        Apparel  Bottomwear  Track Pants   \n",
       "4  53759    Men        Apparel     Topwear      Tshirts   \n",
       "\n",
       "                              productDisplayName  \n",
       "0               Turtle Check Men Navy Blue Shirt  \n",
       "1             Peter England Men Party Blue Jeans  \n",
       "2                       Titan Women Silver Watch  \n",
       "3  Manchester United Men Solid Black Track Pants  \n",
       "4                          Puma Men Grey T-shirt  "
      ]
     },
     "execution_count": 18,
     "metadata": {},
     "output_type": "execute_result"
    }
   ],
   "source": [
    "#read dataset and skip some bad lines\n",
    "columns=['id', 'gender', 'masterCategory', 'subCategory', 'articleType', 'productDisplayName']\n",
    "data = pd.read_csv(CSV_FILE_PATH,  usecols=columns, on_bad_lines='skip')\n",
    "data.head()"
   ]
  },
  {
   "cell_type": "code",
   "execution_count": 19,
   "id": "19443723-3d6d-4728-bca9-51375d55f969",
   "metadata": {},
   "outputs": [
    {
     "data": {
      "text/plain": [
       "pandas.core.frame.DataFrame"
      ]
     },
     "execution_count": 19,
     "metadata": {},
     "output_type": "execute_result"
    }
   ],
   "source": [
    "type(data)"
   ]
  },
  {
   "cell_type": "code",
   "execution_count": 20,
   "id": "be551a30-8d50-46fe-9a35-17034facc014",
   "metadata": {},
   "outputs": [
    {
     "data": {
      "text/html": [
       "<div>\n",
       "<style scoped>\n",
       "    .dataframe tbody tr th:only-of-type {\n",
       "        vertical-align: middle;\n",
       "    }\n",
       "\n",
       "    .dataframe tbody tr th {\n",
       "        vertical-align: top;\n",
       "    }\n",
       "\n",
       "    .dataframe thead th {\n",
       "        text-align: right;\n",
       "    }\n",
       "</style>\n",
       "<table border=\"1\" class=\"dataframe\">\n",
       "  <thead>\n",
       "    <tr style=\"text-align: right;\">\n",
       "      <th></th>\n",
       "      <th>id</th>\n",
       "      <th>gender</th>\n",
       "      <th>masterCategory</th>\n",
       "      <th>subCategory</th>\n",
       "      <th>articleType</th>\n",
       "      <th>productDisplayName</th>\n",
       "      <th>filename</th>\n",
       "    </tr>\n",
       "  </thead>\n",
       "  <tbody>\n",
       "    <tr>\n",
       "      <th>0</th>\n",
       "      <td>15970</td>\n",
       "      <td>Men</td>\n",
       "      <td>Apparel</td>\n",
       "      <td>Topwear</td>\n",
       "      <td>Shirts</td>\n",
       "      <td>Turtle Check Men Navy Blue Shirt</td>\n",
       "      <td>15970.jpg</td>\n",
       "    </tr>\n",
       "    <tr>\n",
       "      <th>1</th>\n",
       "      <td>39386</td>\n",
       "      <td>Men</td>\n",
       "      <td>Apparel</td>\n",
       "      <td>Bottomwear</td>\n",
       "      <td>Jeans</td>\n",
       "      <td>Peter England Men Party Blue Jeans</td>\n",
       "      <td>39386.jpg</td>\n",
       "    </tr>\n",
       "    <tr>\n",
       "      <th>2</th>\n",
       "      <td>59263</td>\n",
       "      <td>Women</td>\n",
       "      <td>Accessories</td>\n",
       "      <td>Watches</td>\n",
       "      <td>Watches</td>\n",
       "      <td>Titan Women Silver Watch</td>\n",
       "      <td>59263.jpg</td>\n",
       "    </tr>\n",
       "    <tr>\n",
       "      <th>3</th>\n",
       "      <td>21379</td>\n",
       "      <td>Men</td>\n",
       "      <td>Apparel</td>\n",
       "      <td>Bottomwear</td>\n",
       "      <td>Track Pants</td>\n",
       "      <td>Manchester United Men Solid Black Track Pants</td>\n",
       "      <td>21379.jpg</td>\n",
       "    </tr>\n",
       "    <tr>\n",
       "      <th>4</th>\n",
       "      <td>53759</td>\n",
       "      <td>Men</td>\n",
       "      <td>Apparel</td>\n",
       "      <td>Topwear</td>\n",
       "      <td>Tshirts</td>\n",
       "      <td>Puma Men Grey T-shirt</td>\n",
       "      <td>53759.jpg</td>\n",
       "    </tr>\n",
       "  </tbody>\n",
       "</table>\n",
       "</div>"
      ],
      "text/plain": [
       "      id gender masterCategory subCategory  articleType  \\\n",
       "0  15970    Men        Apparel     Topwear       Shirts   \n",
       "1  39386    Men        Apparel  Bottomwear        Jeans   \n",
       "2  59263  Women    Accessories     Watches      Watches   \n",
       "3  21379    Men        Apparel  Bottomwear  Track Pants   \n",
       "4  53759    Men        Apparel     Topwear      Tshirts   \n",
       "\n",
       "                              productDisplayName   filename  \n",
       "0               Turtle Check Men Navy Blue Shirt  15970.jpg  \n",
       "1             Peter England Men Party Blue Jeans  39386.jpg  \n",
       "2                       Titan Women Silver Watch  59263.jpg  \n",
       "3  Manchester United Men Solid Black Track Pants  21379.jpg  \n",
       "4                          Puma Men Grey T-shirt  53759.jpg  "
      ]
     },
     "execution_count": 20,
     "metadata": {},
     "output_type": "execute_result"
    }
   ],
   "source": [
    "#Adding a new column to dataset, with the file name\n",
    "data['filename'] = data['id'].astype(str)+'.jpg'\n",
    "data['filename'] = data['filename'].str.strip() \n",
    "data['filename'] = data['filename'].str.lower()  \n",
    "data.head()"
   ]
  },
  {
   "cell_type": "code",
   "execution_count": 21,
   "id": "3c6b2758-e095-46cc-8784-77265432407b",
   "metadata": {},
   "outputs": [],
   "source": [
    "IMAGES_DIR = f'{DATASET_DIR}/images'"
   ]
  },
  {
   "cell_type": "code",
   "execution_count": 22,
   "id": "8f85d575-d4d9-4000-a6de-98e4c5651ce1",
   "metadata": {},
   "outputs": [
    {
     "name": "stdout",
     "output_type": "stream",
     "text": [
      "Invalid filenames:\n",
      "\n",
      "39403.jpg\n",
      "39410.jpg\n",
      "39401.jpg\n",
      "39425.jpg\n",
      "12347.jpg\n"
     ]
    }
   ],
   "source": [
    "# Checking for invalid filenames and getting information about images\n",
    "invalid_filenames = []\n",
    "image_sizes = []\n",
    "all_images = []\n",
    "for filename in data['filename']:\n",
    "    file_path = os.path.join(IMAGES_DIR, filename)\n",
    "    if not os.path.exists(file_path):\n",
    "        invalid_filenames.append(filename)\n",
    "    else:\n",
    "        img = Image.open(file_path)\n",
    "        image_sizes.append(img.size)\n",
    "print(\"Invalid filenames:\\n\")\n",
    "for invalid in invalid_filenames:\n",
    "    print(invalid)\n"
   ]
  },
  {
   "cell_type": "code",
   "execution_count": 23,
   "id": "03b9c747-bb98-42fc-b812-9d089e9aaac0",
   "metadata": {},
   "outputs": [
    {
     "name": "stdout",
     "output_type": "stream",
     "text": [
      "\n",
      "All images in the directory have corresponding entries in the dataset.\n"
     ]
    }
   ],
   "source": [
    "# Checking for images which information might not be on the dataset \n",
    "all_images = set(os.listdir(IMAGES_DIR))\n",
    "dataset_filenames = set(data['filename'])\n",
    "orphaned_images = all_images-dataset_filenames\n",
    "if orphaned_images:\n",
    "    print(\"\\nOrphaned images (not in the dataset):\\n\")\n",
    "    for img in orphaned_images:\n",
    "        print(img)\n",
    "else:\n",
    "    print(\"\\nAll images in the directory have corresponding entries in the dataset.\")"
   ]
  },
  {
   "cell_type": "code",
   "execution_count": 24,
   "id": "24001b7f-70ac-4694-a0b3-7516278dffb6",
   "metadata": {},
   "outputs": [
    {
     "name": "stdout",
     "output_type": "stream",
     "text": [
      "Total images that will be used as input: 44441\n"
     ]
    }
   ],
   "source": [
    "#There are some missing images, we will just erase their information from the dataset\n",
    "data_cleaned = data[~data['filename'].isin(invalid_filenames)]\n",
    "print(f'Total images that will be used as input: {len(data_cleaned)}')"
   ]
  },
  {
   "cell_type": "code",
   "execution_count": 25,
   "id": "3efeca35-ae90-4722-977b-8b7ebffc59e3",
   "metadata": {},
   "outputs": [
    {
     "name": "stdout",
     "output_type": "stream",
     "text": [
      "Displaying image corresponding to the article 'Turtle Check Men Navy Blue Shirt' of type 'Shirts'\n"
     ]
    },
    {
     "data": {
      "image/jpeg": "[encoded data removed]",
      "image/png": "[encoded data removed]",
      "text/plain": [
       "<PIL.JpegImagePlugin.JpegImageFile image mode=RGB size=60x80>"
      ]
     },
     "execution_count": 25,
     "metadata": {},
     "output_type": "execute_result"
    }
   ],
   "source": [
    "#Load one of the images to check is dimensions\n",
    "sample_image_filename = data.iloc[0].filename\n",
    "sample_image_fullname = f'{IMAGES_DIR}/{sample_image_filename}'\n",
    "sample_image_displayName =  data.iloc[0].productDisplayName\n",
    "sample_image_articleType = data.iloc[0].articleType\n",
    "img = load_img(sample_image_fullname)\n",
    "\n",
    "print(f'Displaying image corresponding to the article \\'{sample_image_displayName}\\' of type \\'{sample_image_articleType}\\'')\n",
    "img"
   ]
  },
  {
   "cell_type": "code",
   "execution_count": 26,
   "id": "48739f92-f15e-422d-9847-353a055dd1cf",
   "metadata": {},
   "outputs": [
    {
     "data": {
      "text/plain": [
       "(80, 60, 3)"
      ]
     },
     "execution_count": 26,
     "metadata": {},
     "output_type": "execute_result"
    }
   ],
   "source": [
    "x=np.array(img)\n",
    "x.shape"
   ]
  },
  {
   "cell_type": "code",
   "execution_count": 27,
   "id": "d3e08a60-34ce-4e6d-975e-c9d185d5d2af",
   "metadata": {},
   "outputs": [
    {
     "data": {
      "image/png": "[encoded data removed]",
      "text/plain": [
       "<Figure size 640x480 with 1 Axes>"
      ]
     },
     "metadata": {},
     "output_type": "display_data"
    }
   ],
   "source": [
    "#Analyzing distribution of image dimensions\n",
    "width, height = zip(*image_sizes)\n",
    "plt.hist(width, bins=50, alpha=0.5, label='Width')\n",
    "plt.hist(height, bins=50, alpha=0.5, label='Height')\n",
    "plt.xlabel('Pixel Size')\n",
    "plt.ylabel('Frequency')\n",
    "plt.title('Distribution of Image Dimensions')\n",
    "plt.legend()\n",
    "plt.show()"
   ]
  },
  {
   "cell_type": "code",
   "execution_count": 28,
   "id": "9f7b113d-7aba-4f29-9b79-35d70280d099",
   "metadata": {},
   "outputs": [],
   "source": [
    "# Conclusion: All the images have a size of 60x80"
   ]
  },
  {
   "cell_type": "code",
   "execution_count": 29,
   "id": "6c028d54-d2e2-4917-8a61-64e5e9edece2",
   "metadata": {},
   "outputs": [
    {
     "data": {
      "text/html": [
       "<div>\n",
       "<style scoped>\n",
       "    .dataframe tbody tr th:only-of-type {\n",
       "        vertical-align: middle;\n",
       "    }\n",
       "\n",
       "    .dataframe tbody tr th {\n",
       "        vertical-align: top;\n",
       "    }\n",
       "\n",
       "    .dataframe thead th {\n",
       "        text-align: right;\n",
       "    }\n",
       "</style>\n",
       "<table border=\"1\" class=\"dataframe\">\n",
       "  <thead>\n",
       "    <tr style=\"text-align: right;\">\n",
       "      <th></th>\n",
       "      <th>articleType</th>\n",
       "      <th>count</th>\n",
       "    </tr>\n",
       "  </thead>\n",
       "  <tbody>\n",
       "    <tr>\n",
       "      <th>10</th>\n",
       "      <td>Body Wash and Scrub</td>\n",
       "      <td>1</td>\n",
       "    </tr>\n",
       "    <tr>\n",
       "      <th>26</th>\n",
       "      <td>Cushion Covers</td>\n",
       "      <td>1</td>\n",
       "    </tr>\n",
       "    <tr>\n",
       "      <th>54</th>\n",
       "      <td>Ipad</td>\n",
       "      <td>1</td>\n",
       "    </tr>\n",
       "    <tr>\n",
       "      <th>46</th>\n",
       "      <td>Hair Accessory</td>\n",
       "      <td>1</td>\n",
       "    </tr>\n",
       "    <tr>\n",
       "      <th>106</th>\n",
       "      <td>Shoe Laces</td>\n",
       "      <td>1</td>\n",
       "    </tr>\n",
       "    <tr>\n",
       "      <th>...</th>\n",
       "      <td>...</td>\n",
       "      <td>...</td>\n",
       "    </tr>\n",
       "    <tr>\n",
       "      <th>112</th>\n",
       "      <td>Sports Shoes</td>\n",
       "      <td>2036</td>\n",
       "    </tr>\n",
       "    <tr>\n",
       "      <th>140</th>\n",
       "      <td>Watches</td>\n",
       "      <td>2542</td>\n",
       "    </tr>\n",
       "    <tr>\n",
       "      <th>19</th>\n",
       "      <td>Casual Shoes</td>\n",
       "      <td>2846</td>\n",
       "    </tr>\n",
       "    <tr>\n",
       "      <th>104</th>\n",
       "      <td>Shirts</td>\n",
       "      <td>3217</td>\n",
       "    </tr>\n",
       "    <tr>\n",
       "      <th>134</th>\n",
       "      <td>Tshirts</td>\n",
       "      <td>7070</td>\n",
       "    </tr>\n",
       "  </tbody>\n",
       "</table>\n",
       "<p>143 rows × 2 columns</p>\n",
       "</div>"
      ],
      "text/plain": [
       "             articleType  count\n",
       "10   Body Wash and Scrub      1\n",
       "26        Cushion Covers      1\n",
       "54                  Ipad      1\n",
       "46        Hair Accessory      1\n",
       "106           Shoe Laces      1\n",
       "..                   ...    ...\n",
       "112         Sports Shoes   2036\n",
       "140              Watches   2542\n",
       "19          Casual Shoes   2846\n",
       "104               Shirts   3217\n",
       "134              Tshirts   7070\n",
       "\n",
       "[143 rows x 2 columns]"
      ]
     },
     "execution_count": 29,
     "metadata": {},
     "output_type": "execute_result"
    }
   ],
   "source": [
    "#Analyzing how many articles are there per class\n",
    "sub_category_counts =data.groupby('articleType').size().reset_index(name='count')\n",
    "sub_category_counts.sort_values(by='count', ascending=True)"
   ]
  },
  {
   "cell_type": "code",
   "execution_count": 30,
   "id": "77050156-fb53-45cc-a1af-7108d1494ccd",
   "metadata": {},
   "outputs": [],
   "source": [
    "# Conclusion: There are some categories for which we have very few samples"
   ]
  },
  {
   "cell_type": "code",
   "execution_count": 31,
   "id": "83740696-d41c-4a79-8df0-76054f68c613",
   "metadata": {},
   "outputs": [],
   "source": [
    "# Filter the article types to keep only those with more than 4 samples \n",
    "#(we need at least 1 sample in each dataframe: train, val and test and with a small quantity of samples, it is difficult to achieve)\n",
    "valid_article_types = sub_category_counts[sub_category_counts['count'] >= 4]['articleType']\n",
    "data_cleaned = data_cleaned[data_cleaned['articleType'].isin(valid_article_types)]"
   ]
  },
  {
   "cell_type": "code",
   "execution_count": 32,
   "id": "07955d32-8104-45d8-b418-327aa067c806",
   "metadata": {},
   "outputs": [
    {
     "data": {
      "text/plain": [
       "128"
      ]
     },
     "execution_count": 32,
     "metadata": {},
     "output_type": "execute_result"
    }
   ],
   "source": [
    "count_classes_in_dataframe = data_cleaned['articleType'].nunique()\n",
    "count_classes_in_dataframe"
   ]
  },
  {
   "cell_type": "code",
   "execution_count": 33,
   "id": "a6f0039e-4c67-4f42-9239-9504c57186da",
   "metadata": {},
   "outputs": [],
   "source": [
    "#split the data into training, validation and test datasets\n",
    "full_train_df, test_df = train_test_split(data_cleaned, test_size=0.2, random_state=42, stratify=data_cleaned['articleType'])\n",
    "train_df, val_df = train_test_split(full_train_df, test_size=0.25, random_state=42, stratify=full_train_df['articleType'])"
   ]
  },
  {
   "cell_type": "code",
   "execution_count": 34,
   "id": "9b410a79-0cba-436b-8e69-3c37a85d17da",
   "metadata": {},
   "outputs": [
    {
     "name": "stdout",
     "output_type": "stream",
     "text": [
      "Training Data Shape: (26649, 7)\n",
      "Validation Data Shape: (8883, 7)\n",
      "Test Data Shape: (8883, 7)\n"
     ]
    }
   ],
   "source": [
    "# Summary of the splits\n",
    "print(\"Training Data Shape:\", train_df.shape)\n",
    "print(\"Validation Data Shape:\", val_df.shape)\n",
    "print(\"Test Data Shape:\", test_df.shape)"
   ]
  },
  {
   "cell_type": "code",
   "execution_count": 35,
   "id": "4eecdf3a-24b5-46da-ba44-347417aae113",
   "metadata": {},
   "outputs": [
    {
     "name": "stdout",
     "output_type": "stream",
     "text": [
      "Unique classes in training dataset:\n",
      "articleType\n",
      "Tshirts             4241\n",
      "Shirts              1929\n",
      "Casual Shoes        1708\n",
      "Watches             1525\n",
      "Sports Shoes        1222\n",
      "                    ... \n",
      "Beauty Accessory       2\n",
      "Makeup Remover         2\n",
      "Lip Plumper            2\n",
      "Robe                   2\n",
      "Lehenga Choli          2\n",
      "Name: count, Length: 128, dtype: int64\n",
      "\n",
      "Unique classes in validation dataset:\n",
      "articleType\n",
      "Tshirts            1414\n",
      "Shirts              643\n",
      "Casual Shoes        569\n",
      "Watches             508\n",
      "Sports Shoes        407\n",
      "                   ... \n",
      "Lehenga Choli         1\n",
      "Eye Cream             1\n",
      "Nail Essentials       1\n",
      "Umbrellas             1\n",
      "Nehru Jackets         1\n",
      "Name: count, Length: 128, dtype: int64\n",
      "\n",
      "Unique classes in test dataset:\n",
      "articleType\n",
      "Tshirts             1414\n",
      "Shirts               643\n",
      "Casual Shoes         569\n",
      "Watches              509\n",
      "Sports Shoes         407\n",
      "                    ... \n",
      "Wristbands             1\n",
      "Headband               1\n",
      "Lehenga Choli          1\n",
      "Beauty Accessory       1\n",
      "Toner                  1\n",
      "Name: count, Length: 128, dtype: int64\n"
     ]
    }
   ],
   "source": [
    "print(\"Unique classes in training dataset:\")\n",
    "print(train_df['articleType'].value_counts())\n",
    "\n",
    "print(\"\\nUnique classes in validation dataset:\")\n",
    "print(val_df['articleType'].value_counts())\n",
    "\n",
    "print(\"\\nUnique classes in test dataset:\")\n",
    "print(test_df['articleType'].value_counts())\n"
   ]
  },
  {
   "cell_type": "markdown",
   "id": "4f59e303-4f26-4045-bae2-de47ddcb902e",
   "metadata": {},
   "source": [
    "# Transfering learning"
   ]
  },
  {
   "cell_type": "markdown",
   "id": "da9c6f9a-5f08-4a40-8ce3-b593d6e6197b",
   "metadata": {},
   "source": [
    "## Preparing input for Model v1 with MobileNetV2"
   ]
  },
  {
   "cell_type": "code",
   "execution_count": 36,
   "id": "e212da10-2432-447b-90c2-0226f40fc833",
   "metadata": {},
   "outputs": [],
   "source": [
    "# defining a target size for images\n",
    "TARGET_SIZE = (96, 96)\n",
    "#defining a batch size\n",
    "BATCH_SIZE=32\n",
    "#defining a max queue size (count of batches preloaded in the queue while the model is training)\n",
    "MAX_QUEUE_SIZE=10"
   ]
  },
  {
   "cell_type": "code",
   "execution_count": 37,
   "id": "20a6f411-c832-493e-a1bd-341931da3d32",
   "metadata": {},
   "outputs": [],
   "source": [
    "# calculating how many workers threads for loading data\n",
    "##warning: it is not certain that these parameters are being used by the ImageDataGenerator\n",
    "num_cores = os.cpu_count()\n",
    "workers = int(num_cores / 2)\n",
    "use_multiprocessing=False\n",
    "if workers>1:\n",
    "   use_multiprocessing=True"
   ]
  },
  {
   "cell_type": "code",
   "execution_count": 38,
   "id": "038b3b01-836c-4da7-8753-8070b6cc75e9",
   "metadata": {},
   "outputs": [
    {
     "name": "stdout",
     "output_type": "stream",
     "text": [
      "Found 26649 validated image filenames belonging to 128 classes.\n"
     ]
    }
   ],
   "source": [
    "#Read images by using ImageDataGenerator (we will use the articleType as our class)\n",
    "train_image_gen = ImageDataGenerator(preprocessing_function=mobile_preprocess_input)\n",
    "train_gen = train_image_gen.flow_from_dataframe(\n",
    "    dataframe=train_df,\n",
    "    directory=IMAGES_DIR, \n",
    "    x_col='filename',  \n",
    "    y_col='articleType', \n",
    "    target_size=TARGET_SIZE, \n",
    "    batch_size=BATCH_SIZE,\n",
    "    class_mode='categorical',  \n",
    "    workers = workers,\n",
    "    use_multiprocessing=use_multiprocessing,\n",
    "    max_queue_size=MAX_QUEUE_SIZE\n",
    ")"
   ]
  },
  {
   "cell_type": "code",
   "execution_count": 39,
   "id": "0c02b0d3-411b-4fc3-b01e-2cc05175baf5",
   "metadata": {},
   "outputs": [
    {
     "name": "stdout",
     "output_type": "stream",
     "text": [
      "Found 8883 validated image filenames belonging to 128 classes.\n"
     ]
    }
   ],
   "source": [
    "val_image_gen = ImageDataGenerator(preprocessing_function=mobile_preprocess_input)\n",
    "val_gen = val_image_gen.flow_from_dataframe(\n",
    "    dataframe=val_df,\n",
    "    directory=IMAGES_DIR, \n",
    "    x_col='filename',  \n",
    "    y_col='articleType', \n",
    "    target_size=TARGET_SIZE, \n",
    "    batch_size=BATCH_SIZE,\n",
    "    class_mode='categorical',  \n",
    "    shuffle=False,\n",
    "    workers = workers,\n",
    "    use_multiprocessing=use_multiprocessing,\n",
    "    max_queue_size=MAX_QUEUE_SIZE    \n",
    ")"
   ]
  },
  {
   "cell_type": "code",
   "execution_count": 40,
   "id": "1abb5b3e-90ba-4ca6-9d5b-8683c89771e9",
   "metadata": {},
   "outputs": [
    {
     "name": "stdout",
     "output_type": "stream",
     "text": [
      "\n",
      "The classes in train_df match the classes in the ImageDataGenerator.\n"
     ]
    }
   ],
   "source": [
    "generated_classes = list(train_gen.class_indices.keys())\n",
    "classes_in_dataframe = list(train_gen.class_indices.keys())\n",
    "if set(classes_in_dataframe) == set(generated_classes):\n",
    "    print(\"\\nThe classes in train_df match the classes in the ImageDataGenerator.\")\n",
    "else:\n",
    "    print(\"\\nThere is a mismatch between the classes!\")\n",
    "    print(\"Classes in train_df:\", classes_in_dataframe)\n",
    "    print(\"Classes from ImageDataGenerator:\", generated_classes)"
   ]
  },
  {
   "cell_type": "code",
   "execution_count": 41,
   "id": "fe5cb910-0227-44f9-8cbf-4b0d6a0bfe70",
   "metadata": {},
   "outputs": [
    {
     "data": {
      "text/plain": [
       "{'Accessory Gift Set': 0,\n",
       " 'Baby Dolls': 1,\n",
       " 'Backpacks': 2,\n",
       " 'Bangle': 3,\n",
       " 'Basketballs': 4,\n",
       " 'Bath Robe': 5,\n",
       " 'Beauty Accessory': 6,\n",
       " 'Belts': 7,\n",
       " 'Blazers': 8,\n",
       " 'Body Lotion': 9,\n",
       " 'Booties': 10,\n",
       " 'Boxers': 11,\n",
       " 'Bra': 12,\n",
       " 'Bracelet': 13,\n",
       " 'Briefs': 14,\n",
       " 'Camisoles': 15,\n",
       " 'Capris': 16,\n",
       " 'Caps': 17,\n",
       " 'Casual Shoes': 18,\n",
       " 'Churidar': 19,\n",
       " 'Clothing Set': 20,\n",
       " 'Clutches': 21,\n",
       " 'Compact': 22,\n",
       " 'Concealer': 23,\n",
       " 'Cufflinks': 24,\n",
       " 'Deodorant': 25,\n",
       " 'Dresses': 26,\n",
       " 'Duffel Bag': 27,\n",
       " 'Dupatta': 28,\n",
       " 'Earrings': 29,\n",
       " 'Eye Cream': 30,\n",
       " 'Eyeshadow': 31,\n",
       " 'Face Moisturisers': 32,\n",
       " 'Face Scrub and Exfoliator': 33,\n",
       " 'Face Wash and Cleanser': 34,\n",
       " 'Flats': 35,\n",
       " 'Flip Flops': 36,\n",
       " 'Footballs': 37,\n",
       " 'Formal Shoes': 38,\n",
       " 'Foundation and Primer': 39,\n",
       " 'Fragrance Gift Set': 40,\n",
       " 'Free Gifts': 41,\n",
       " 'Gloves': 42,\n",
       " 'Hair Colour': 43,\n",
       " 'Handbags': 44,\n",
       " 'Headband': 45,\n",
       " 'Heels': 46,\n",
       " 'Highlighter and Blush': 47,\n",
       " 'Innerwear Vests': 48,\n",
       " 'Jackets': 49,\n",
       " 'Jeans': 50,\n",
       " 'Jeggings': 51,\n",
       " 'Jewellery Set': 52,\n",
       " 'Jumpsuit': 53,\n",
       " 'Kajal and Eyeliner': 54,\n",
       " 'Kurta Sets': 55,\n",
       " 'Kurtas': 56,\n",
       " 'Kurtis': 57,\n",
       " 'Laptop Bag': 58,\n",
       " 'Leggings': 59,\n",
       " 'Lehenga Choli': 60,\n",
       " 'Lip Care': 61,\n",
       " 'Lip Gloss': 62,\n",
       " 'Lip Liner': 63,\n",
       " 'Lip Plumper': 64,\n",
       " 'Lipstick': 65,\n",
       " 'Lounge Pants': 66,\n",
       " 'Lounge Shorts': 67,\n",
       " 'Makeup Remover': 68,\n",
       " 'Mascara': 69,\n",
       " 'Mask and Peel': 70,\n",
       " 'Messenger Bag': 71,\n",
       " 'Mobile Pouch': 72,\n",
       " 'Mufflers': 73,\n",
       " 'Nail Essentials': 74,\n",
       " 'Nail Polish': 75,\n",
       " 'Necklace and Chains': 76,\n",
       " 'Nehru Jackets': 77,\n",
       " 'Night suits': 78,\n",
       " 'Nightdress': 79,\n",
       " 'Patiala': 80,\n",
       " 'Pendant': 81,\n",
       " 'Perfume and Body Mist': 82,\n",
       " 'Rain Jacket': 83,\n",
       " 'Ring': 84,\n",
       " 'Robe': 85,\n",
       " 'Rompers': 86,\n",
       " 'Rucksacks': 87,\n",
       " 'Salwar': 88,\n",
       " 'Salwar and Dupatta': 89,\n",
       " 'Sandals': 90,\n",
       " 'Sarees': 91,\n",
       " 'Scarves': 92,\n",
       " 'Shapewear': 93,\n",
       " 'Shirts': 94,\n",
       " 'Shoe Accessories': 95,\n",
       " 'Shorts': 96,\n",
       " 'Shrug': 97,\n",
       " 'Skirts': 98,\n",
       " 'Socks': 99,\n",
       " 'Sports Sandals': 100,\n",
       " 'Sports Shoes': 101,\n",
       " 'Stockings': 102,\n",
       " 'Stoles': 103,\n",
       " 'Sunglasses': 104,\n",
       " 'Sunscreen': 105,\n",
       " 'Suspenders': 106,\n",
       " 'Sweaters': 107,\n",
       " 'Sweatshirts': 108,\n",
       " 'Swimwear': 109,\n",
       " 'Ties': 110,\n",
       " 'Tights': 111,\n",
       " 'Toner': 112,\n",
       " 'Tops': 113,\n",
       " 'Track Pants': 114,\n",
       " 'Tracksuits': 115,\n",
       " 'Travel Accessory': 116,\n",
       " 'Trousers': 117,\n",
       " 'Trunk': 118,\n",
       " 'Tshirts': 119,\n",
       " 'Tunics': 120,\n",
       " 'Umbrellas': 121,\n",
       " 'Waist Pouch': 122,\n",
       " 'Waistcoat': 123,\n",
       " 'Wallets': 124,\n",
       " 'Watches': 125,\n",
       " 'Water Bottle': 126,\n",
       " 'Wristbands': 127}"
      ]
     },
     "execution_count": 41,
     "metadata": {},
     "output_type": "execute_result"
    }
   ],
   "source": [
    "class_indices = train_gen.class_indices\n",
    "class_indices"
   ]
  },
  {
   "cell_type": "code",
   "execution_count": 42,
   "id": "4e823737-7a97-47d9-85f5-9e4f03c45b7e",
   "metadata": {},
   "outputs": [
    {
     "name": "stdout",
     "output_type": "stream",
     "text": [
      "Category count:  128\n"
     ]
    }
   ],
   "source": [
    "count_classes = len(class_indices)\n",
    "print (f'Category count:  {count_classes}')"
   ]
  },
  {
   "cell_type": "code",
   "execution_count": 43,
   "id": "8ffa49a5-725a-4f55-bfed-4aeb4291cff2",
   "metadata": {},
   "outputs": [
    {
     "name": "stdout",
     "output_type": "stream",
     "text": [
      "Training labels match the expected number of classes: OK\n",
      "Batch shape for training: (32, 96, 96, 3)\n",
      "Validation labels match the expected number of classes: OK\n",
      "Batch shape for validation: (32, 96, 96, 3)\n"
     ]
    }
   ],
   "source": [
    "#Checking size of images and batches\n",
    "\n",
    "train_batch_images_train, train_batch_labels = next(train_gen)  \n",
    "if train_batch_labels.shape[1] == count_classes_in_dataframe:\n",
    "    print(\"Training labels match the expected number of classes: OK\")\n",
    "else:\n",
    "    print(f\"Error: Training labels do not match the expected number of classes! Expected {count_classes_in_dataframe}, got {train_batch_labels.shape[1]}.\")\n",
    "print(\"Batch shape for training:\", train_batch_images_train.shape) \n",
    "\n",
    "\n",
    "val_batch_images, val_batch_labels = next(val_gen)  \n",
    "if val_batch_labels.shape[1] == count_classes_in_dataframe:\n",
    "    print(\"Validation labels match the expected number of classes: OK\")\n",
    "else:\n",
    "    print(f\"Error: Validation labels do not match the expected number of classes! Expected {count_classes_in_dataframe}, got {val_batch_labels.shape[1]}.\")\n",
    "print(\"Batch shape for validation:\", val_batch_images.shape) \n"
   ]
  },
  {
   "cell_type": "code",
   "execution_count": 44,
   "id": "902fc09c-0efa-4308-8da3-ccc5fe583071",
   "metadata": {},
   "outputs": [],
   "source": [
    "# Initialize a dictionary to store results for each model\n",
    "model_results = {}"
   ]
  },
  {
   "cell_type": "markdown",
   "id": "8b9a7298-572b-4cf4-9eff-ad210fa74a01",
   "metadata": {},
   "source": [
    "## Create Model v1 with MobileNetV2"
   ]
  },
  {
   "cell_type": "code",
   "execution_count": 45,
   "id": "b1ad0691-bd9f-44d6-b039-8454653c8dc8",
   "metadata": {},
   "outputs": [],
   "source": [
    "def make_model_Mobile_v1(learning_rate=0.01):\n",
    "    #clear any unused session\n",
    "    tf.keras.backend.clear_session()\n",
    "\n",
    "    #creating a base model\n",
    "    input_shape = (TARGET_SIZE[0], TARGET_SIZE[1], 3)\n",
    "    base_model =MobileNetV2(weights='imagenet', input_shape=input_shape, include_top=False)\n",
    "    # create a model from the base model\n",
    "    base_model.trainable=False\n",
    "    inputs = keras.Input(shape=input_shape)\n",
    "    base = base_model(inputs, training=False)\n",
    "    \n",
    "    #pooling layer\n",
    "    pooling = keras.layers.GlobalAveragePooling2D()\n",
    "    vectors = pooling(base)\n",
    "    \n",
    "    #dense layer\n",
    "    outputs = keras.layers.Dense(count_classes, activation='softmax')(vectors)\n",
    "\n",
    "    #final model\n",
    "    model = keras.Model(inputs, outputs)\n",
    "\n",
    "    #compile de model\n",
    "    optimizer =keras.optimizers.Adam(learning_rate=learning_rate)\n",
    "    loss=keras.losses.CategoricalCrossentropy(from_logits=False)\n",
    "    model.compile(optimizer=optimizer, loss=loss, metrics=['accuracy'])\n",
    "    return model"
   ]
  },
  {
   "cell_type": "code",
   "execution_count": 46,
   "id": "7f9fe8ce-b73c-4fde-85e6-986bd114a53a",
   "metadata": {},
   "outputs": [
    {
     "name": "stderr",
     "output_type": "stream",
     "text": [
      "I0000 00:00:1735533929.033169   66721 gpu_process_state.cc:201] Using CUDA malloc Async allocator for GPU: 0\n",
      "I0000 00:00:1735533929.037336   66721 gpu_device.cc:2022] Created device /job:localhost/replica:0/task:0/device:GPU:0 with 2245 MB memory:  -> device: 0, name: NVIDIA GeForce GTX 1650 Ti, pci bus id: 0000:01:00.0, compute capability: 7.5\n"
     ]
    },
    {
     "name": "stdout",
     "output_type": "stream",
     "text": [
      "Epoch 1/10\n"
     ]
    },
    {
     "name": "stderr",
     "output_type": "stream",
     "text": [
      "WARNING: All log messages before absl::InitializeLog() is called are written to STDERR\n",
      "I0000 00:00:1735533934.704309   66812 service.cc:148] XLA service 0x7f894c004410 initialized for platform CUDA (this does not guarantee that XLA will be used). Devices:\n",
      "I0000 00:00:1735533934.704414   66812 service.cc:156]   StreamExecutor device (0): NVIDIA GeForce GTX 1650 Ti, Compute Capability 7.5\n",
      "2024-12-29 23:45:34.798379: I tensorflow/compiler/mlir/tensorflow/utils/dump_mlir_util.cc:268] disabling MLIR crash reproducer, set env var `MLIR_CRASH_REPRODUCER_DIRECTORY` to enable.\n",
      "I0000 00:00:1735533935.432755   66812 cuda_dnn.cc:529] Loaded cuDNN version 90600\n"
     ]
    },
    {
     "name": "stdout",
     "output_type": "stream",
     "text": [
      "\u001b[1m  9/833\u001b[0m \u001b[37m━━━━━━━━━━━━━━━━━━━━\u001b[0m \u001b[1m13s\u001b[0m 16ms/step - accuracy: 0.2527 - loss: 5.1467      "
     ]
    },
    {
     "name": "stderr",
     "output_type": "stream",
     "text": [
      "I0000 00:00:1735533939.157841   66812 device_compiler.h:188] Compiled cluster using XLA!  This line is logged at most once for the lifetime of the process.\n"
     ]
    },
    {
     "name": "stdout",
     "output_type": "stream",
     "text": [
      "\u001b[1m833/833\u001b[0m \u001b[32m━━━━━━━━━━━━━━━━━━━━\u001b[0m\u001b[37m\u001b[0m \u001b[1m42s\u001b[0m 40ms/step - accuracy: 0.6674 - loss: 2.4846 - val_accuracy: 0.7441 - val_loss: 2.1812\n",
      "Epoch 2/10\n",
      "\u001b[1m833/833\u001b[0m \u001b[32m━━━━━━━━━━━━━━━━━━━━\u001b[0m\u001b[37m\u001b[0m \u001b[1m20s\u001b[0m 25ms/step - accuracy: 0.8127 - loss: 1.2679 - val_accuracy: 0.7931 - val_loss: 2.0821\n",
      "Epoch 3/10\n",
      "\u001b[1m833/833\u001b[0m \u001b[32m━━━━━━━━━━━━━━━━━━━━\u001b[0m\u001b[37m\u001b[0m \u001b[1m19s\u001b[0m 23ms/step - accuracy: 0.8504 - loss: 1.0210 - val_accuracy: 0.7752 - val_loss: 2.5160\n",
      "Epoch 4/10\n",
      "\u001b[1m833/833\u001b[0m \u001b[32m━━━━━━━━━━━━━━━━━━━━\u001b[0m\u001b[37m\u001b[0m \u001b[1m18s\u001b[0m 22ms/step - accuracy: 0.8787 - loss: 0.8415 - val_accuracy: 0.7821 - val_loss: 2.9855\n",
      "Epoch 5/10\n",
      "\u001b[1m833/833\u001b[0m \u001b[32m━━━━━━━━━━━━━━━━━━━━\u001b[0m\u001b[37m\u001b[0m \u001b[1m43s\u001b[0m 51ms/step - accuracy: 0.8775 - loss: 0.8478 - val_accuracy: 0.7832 - val_loss: 3.0143\n",
      "Epoch 6/10\n",
      "\u001b[1m833/833\u001b[0m \u001b[32m━━━━━━━━━━━━━━━━━━━━\u001b[0m\u001b[37m\u001b[0m \u001b[1m30s\u001b[0m 36ms/step - accuracy: 0.9000 - loss: 0.7192 - val_accuracy: 0.7934 - val_loss: 3.1907\n",
      "Epoch 7/10\n",
      "\u001b[1m833/833\u001b[0m \u001b[32m━━━━━━━━━━━━━━━━━━━━\u001b[0m\u001b[37m\u001b[0m \u001b[1m27s\u001b[0m 33ms/step - accuracy: 0.9052 - loss: 0.6612 - val_accuracy: 0.7788 - val_loss: 3.4341\n",
      "Epoch 8/10\n",
      "\u001b[1m833/833\u001b[0m \u001b[32m━━━━━━━━━━━━━━━━━━━━\u001b[0m\u001b[37m\u001b[0m \u001b[1m39s\u001b[0m 30ms/step - accuracy: 0.9073 - loss: 0.6459 - val_accuracy: 0.7970 - val_loss: 3.4537\n",
      "Epoch 9/10\n",
      "\u001b[1m833/833\u001b[0m \u001b[32m━━━━━━━━━━━━━━━━━━━━\u001b[0m\u001b[37m\u001b[0m \u001b[1m31s\u001b[0m 37ms/step - accuracy: 0.9130 - loss: 0.6454 - val_accuracy: 0.7903 - val_loss: 3.9900\n",
      "Epoch 10/10\n",
      "\u001b[1m833/833\u001b[0m \u001b[32m━━━━━━━━━━━━━━━━━━━━\u001b[0m\u001b[37m\u001b[0m \u001b[1m33s\u001b[0m 40ms/step - accuracy: 0.9169 - loss: 0.6075 - val_accuracy: 0.7959 - val_loss: 3.6784\n"
     ]
    }
   ],
   "source": [
    "model = make_model_Mobile_v1()\n",
    "history=model.fit(train_gen, epochs=10, validation_data=val_gen)"
   ]
  },
  {
   "cell_type": "code",
   "execution_count": 47,
   "id": "96e4f13b-bad5-414d-94cf-67b1f83a4a02",
   "metadata": {},
   "outputs": [
    {
     "data": {
      "text/plain": [
       "<matplotlib.legend.Legend at 0x7f899410e3f0>"
      ]
     },
     "execution_count": 47,
     "metadata": {},
     "output_type": "execute_result"
    },
    {
     "data": {
      "image/png": "[encoded data removed]",
      "text/plain": [
       "<Figure size 640x480 with 1 Axes>"
      ]
     },
     "metadata": {},
     "output_type": "display_data"
    }
   ],
   "source": [
    "#Plotting train and validation accuracy\n",
    "plt.plot(history.history['accuracy'], label='train')\n",
    "plt.plot(history.history['val_accuracy'], label='val')\n",
    "plt.xticks(np.arange(10), np.arange(1,11))\n",
    "plt.legend()"
   ]
  },
  {
   "cell_type": "code",
   "execution_count": 48,
   "id": "5bcbc13d-5ea6-4035-8b4f-a2cabda9cbb2",
   "metadata": {},
   "outputs": [],
   "source": [
    "## Conclusion: the model overfits the training data. Accuracy for validation dataset does not surpasses 80%"
   ]
  },
  {
   "cell_type": "markdown",
   "id": "1552098a-41e8-4421-bce1-bee9ca1b3a70",
   "metadata": {},
   "source": [
    "## Create Model v1 with InceptionV3"
   ]
  },
  {
   "cell_type": "markdown",
   "id": "286fb984-50dd-4dbc-a1f2-0798bd552a3f",
   "metadata": {},
   "source": [
    "## Preparing input for Model v1 with InceptionV3"
   ]
  },
  {
   "cell_type": "code",
   "execution_count": 49,
   "id": "419b39fc-d7c3-49ac-9e60-c6d09c3ecc88",
   "metadata": {},
   "outputs": [
    {
     "name": "stdout",
     "output_type": "stream",
     "text": [
      "Found 26649 validated image filenames belonging to 128 classes.\n"
     ]
    }
   ],
   "source": [
    "#Read images by using ImageDataGenerator (we will use the articleType as our class)\n",
    "train_image_gen = ImageDataGenerator(preprocessing_function=inception_preprocess_input)\n",
    "train_gen = train_image_gen.flow_from_dataframe(\n",
    "    dataframe=train_df,\n",
    "    directory=IMAGES_DIR, \n",
    "    x_col='filename',  \n",
    "    y_col='articleType', \n",
    "    target_size=TARGET_SIZE, \n",
    "    batch_size=BATCH_SIZE,\n",
    "    class_mode='categorical',  \n",
    "    workers = workers,\n",
    "    use_multiprocessing=use_multiprocessing,\n",
    "    max_queue_size=MAX_QUEUE_SIZE\n",
    ")"
   ]
  },
  {
   "cell_type": "code",
   "execution_count": 50,
   "id": "fe0c781a-54b2-401c-8605-874a2650d4df",
   "metadata": {},
   "outputs": [
    {
     "name": "stdout",
     "output_type": "stream",
     "text": [
      "Found 8883 validated image filenames belonging to 128 classes.\n"
     ]
    }
   ],
   "source": [
    "val_image_gen = ImageDataGenerator(preprocessing_function=inception_preprocess_input)\n",
    "val_gen = val_image_gen.flow_from_dataframe(\n",
    "    dataframe=val_df,\n",
    "    directory=IMAGES_DIR, \n",
    "    x_col='filename',  \n",
    "    y_col='articleType', \n",
    "    target_size=TARGET_SIZE, \n",
    "    batch_size=BATCH_SIZE,\n",
    "    class_mode='categorical',  \n",
    "    shuffle=False,\n",
    "    workers = workers,\n",
    "    use_multiprocessing=use_multiprocessing,\n",
    "    max_queue_size=MAX_QUEUE_SIZE    \n",
    ")"
   ]
  },
  {
   "cell_type": "code",
   "execution_count": 51,
   "id": "a2ddb30d-3f43-4799-bcc1-3dd690eed0ef",
   "metadata": {},
   "outputs": [],
   "source": [
    "def make_model_Inception_v1(learning_rate=0.01):\n",
    "    #clear any unused session\n",
    "    tf.keras.backend.clear_session()\n",
    "\n",
    "    #creating a base model\n",
    "    input_shape = (TARGET_SIZE[0], TARGET_SIZE[1], 3)\n",
    "    base_model =InceptionV3(weights='imagenet', input_shape=input_shape, include_top=False)\n",
    "    # create a model from the base model\n",
    "    base_model.trainable=False\n",
    "    inputs = keras.Input(shape=input_shape)\n",
    "    base = base_model(inputs, training=False)\n",
    "    \n",
    "    #pooling layer\n",
    "    pooling = keras.layers.GlobalAveragePooling2D()\n",
    "    vectors = pooling(base)\n",
    "    \n",
    "    #dense layer\n",
    "    outputs = keras.layers.Dense(count_classes, activation='softmax')(vectors)\n",
    "\n",
    "    #final model\n",
    "    model = keras.Model(inputs, outputs)\n",
    "\n",
    "    #compile de model\n",
    "    optimizer =keras.optimizers.Adam(learning_rate=learning_rate)\n",
    "    loss=keras.losses.CategoricalCrossentropy(from_logits=False)\n",
    "    model.compile(optimizer=optimizer, loss=loss, metrics=['accuracy'])\n",
    "    return model"
   ]
  },
  {
   "cell_type": "code",
   "execution_count": 52,
   "id": "685c2048-d86b-4a4c-9ea0-79f42ef2287d",
   "metadata": {},
   "outputs": [
    {
     "name": "stdout",
     "output_type": "stream",
     "text": [
      "Epoch 1/10\n",
      "\u001b[1m833/833\u001b[0m \u001b[32m━━━━━━━━━━━━━━━━━━━━\u001b[0m\u001b[37m\u001b[0m \u001b[1m88s\u001b[0m 75ms/step - accuracy: 0.5312 - loss: 5.2129 - val_accuracy: 0.6161 - val_loss: 4.9877\n",
      "Epoch 2/10\n",
      "\u001b[1m833/833\u001b[0m \u001b[32m━━━━━━━━━━━━━━━━━━━━\u001b[0m\u001b[37m\u001b[0m \u001b[1m48s\u001b[0m 57ms/step - accuracy: 0.7044 - loss: 3.2867 - val_accuracy: 0.6741 - val_loss: 5.1407\n",
      "Epoch 3/10\n",
      "\u001b[1m833/833\u001b[0m \u001b[32m━━━━━━━━━━━━━━━━━━━━\u001b[0m\u001b[37m\u001b[0m \u001b[1m40s\u001b[0m 48ms/step - accuracy: 0.7467 - loss: 2.7386 - val_accuracy: 0.6771 - val_loss: 6.2402\n",
      "Epoch 4/10\n",
      "\u001b[1m833/833\u001b[0m \u001b[32m━━━━━━━━━━━━━━━━━━━━\u001b[0m\u001b[37m\u001b[0m \u001b[1m30s\u001b[0m 36ms/step - accuracy: 0.7704 - loss: 2.4717 - val_accuracy: 0.6947 - val_loss: 5.6683\n",
      "Epoch 5/10\n",
      "\u001b[1m833/833\u001b[0m \u001b[32m━━━━━━━━━━━━━━━━━━━━\u001b[0m\u001b[37m\u001b[0m \u001b[1m31s\u001b[0m 38ms/step - accuracy: 0.7903 - loss: 2.3142 - val_accuracy: 0.6974 - val_loss: 6.3206\n",
      "Epoch 6/10\n",
      "\u001b[1m833/833\u001b[0m \u001b[32m━━━━━━━━━━━━━━━━━━━━\u001b[0m\u001b[37m\u001b[0m \u001b[1m33s\u001b[0m 40ms/step - accuracy: 0.8100 - loss: 1.9712 - val_accuracy: 0.6902 - val_loss: 6.7319\n",
      "Epoch 7/10\n",
      "\u001b[1m833/833\u001b[0m \u001b[32m━━━━━━━━━━━━━━━━━━━━\u001b[0m\u001b[37m\u001b[0m \u001b[1m38s\u001b[0m 45ms/step - accuracy: 0.8228 - loss: 1.8119 - val_accuracy: 0.6983 - val_loss: 6.5181\n",
      "Epoch 8/10\n",
      "\u001b[1m833/833\u001b[0m \u001b[32m━━━━━━━━━━━━━━━━━━━━\u001b[0m\u001b[37m\u001b[0m \u001b[1m48s\u001b[0m 57ms/step - accuracy: 0.8360 - loss: 1.6122 - val_accuracy: 0.6938 - val_loss: 6.9881\n",
      "Epoch 9/10\n",
      "\u001b[1m833/833\u001b[0m \u001b[32m━━━━━━━━━━━━━━━━━━━━\u001b[0m\u001b[37m\u001b[0m \u001b[1m34s\u001b[0m 40ms/step - accuracy: 0.8378 - loss: 1.6451 - val_accuracy: 0.6997 - val_loss: 7.2400\n",
      "Epoch 10/10\n",
      "\u001b[1m833/833\u001b[0m \u001b[32m━━━━━━━━━━━━━━━━━━━━\u001b[0m\u001b[37m\u001b[0m \u001b[1m42s\u001b[0m 50ms/step - accuracy: 0.8489 - loss: 1.5590 - val_accuracy: 0.7147 - val_loss: 7.5746\n"
     ]
    }
   ],
   "source": [
    "model = make_model_Inception_v1()\n",
    "history=model.fit(train_gen, epochs=10, validation_data=val_gen)"
   ]
  },
  {
   "cell_type": "code",
   "execution_count": 53,
   "id": "ef032869-e622-4d22-acf8-89d978e8a985",
   "metadata": {},
   "outputs": [
    {
     "data": {
      "text/plain": [
       "<matplotlib.legend.Legend at 0x7f895e502930>"
      ]
     },
     "execution_count": 53,
     "metadata": {},
     "output_type": "execute_result"
    },
    {
     "data": {
      "image/png": "[encoded data removed]",
      "text/plain": [
       "<Figure size 640x480 with 1 Axes>"
      ]
     },
     "metadata": {},
     "output_type": "display_data"
    }
   ],
   "source": [
    "#Plotting train and validation accuracy\n",
    "plt.plot(history.history['accuracy'], label='train')\n",
    "plt.plot(history.history['val_accuracy'], label='val')\n",
    "plt.xticks(np.arange(10), np.arange(1,11))\n",
    "plt.legend()"
   ]
  },
  {
   "cell_type": "code",
   "execution_count": 54,
   "id": "5376a03b-38c8-4e7a-a077-9c4ef23846b6",
   "metadata": {},
   "outputs": [],
   "source": [
    "#Conclusion: the Mobile model performs better than the Inception model, and the latter one is slower\n",
    "## so, the base layer of the model used in this project will be based on MobileNetV2"
   ]
  },
  {
   "cell_type": "markdown",
   "id": "5d0aa0ee-1512-428c-ae14-cb5f2c0241d2",
   "metadata": {},
   "source": [
    "### Adjusting learning rate for Model version 1"
   ]
  },
  {
   "cell_type": "code",
   "execution_count": 72,
   "id": "612c3a6c-0a1f-4f5b-b769-ca1436b25ed6",
   "metadata": {},
   "outputs": [
    {
     "name": "stdout",
     "output_type": "stream",
     "text": [
      "Training with different learning rates:\n",
      "\n",
      "0.0001\n",
      "Epoch 1/10\n",
      "\u001b[1m833/833\u001b[0m \u001b[32m━━━━━━━━━━━━━━━━━━━━\u001b[0m\u001b[37m\u001b[0m \u001b[1m25s\u001b[0m 24ms/step - accuracy: 0.3607 - loss: 2.7705 - val_accuracy: 0.7115 - val_loss: 1.0694\n",
      "Epoch 2/10\n",
      "\u001b[1m833/833\u001b[0m \u001b[32m━━━━━━━━━━━━━━━━━━━━\u001b[0m\u001b[37m\u001b[0m \u001b[1m21s\u001b[0m 25ms/step - accuracy: 0.7344 - loss: 0.9460 - val_accuracy: 0.7643 - val_loss: 0.8174\n",
      "Epoch 3/10\n",
      "\u001b[1m833/833\u001b[0m \u001b[32m━━━━━━━━━━━━━━━━━━━━\u001b[0m\u001b[37m\u001b[0m \u001b[1m23s\u001b[0m 27ms/step - accuracy: 0.7783 - loss: 0.7310 - val_accuracy: 0.7860 - val_loss: 0.7134\n",
      "Epoch 4/10\n",
      "\u001b[1m833/833\u001b[0m \u001b[32m━━━━━━━━━━━━━━━━━━━━\u001b[0m\u001b[37m\u001b[0m \u001b[1m17s\u001b[0m 20ms/step - accuracy: 0.8084 - loss: 0.6186 - val_accuracy: 0.8007 - val_loss: 0.6593\n",
      "Epoch 5/10\n",
      "\u001b[1m833/833\u001b[0m \u001b[32m━━━━━━━━━━━━━━━━━━━━\u001b[0m\u001b[37m\u001b[0m \u001b[1m17s\u001b[0m 20ms/step - accuracy: 0.8317 - loss: 0.5468 - val_accuracy: 0.8086 - val_loss: 0.6231\n",
      "Epoch 6/10\n",
      "\u001b[1m833/833\u001b[0m \u001b[32m━━━━━━━━━━━━━━━━━━━━\u001b[0m\u001b[37m\u001b[0m \u001b[1m23s\u001b[0m 28ms/step - accuracy: 0.8428 - loss: 0.5019 - val_accuracy: 0.8173 - val_loss: 0.5999\n",
      "Epoch 7/10\n",
      "\u001b[1m833/833\u001b[0m \u001b[32m━━━━━━━━━━━━━━━━━━━━\u001b[0m\u001b[37m\u001b[0m \u001b[1m38s\u001b[0m 46ms/step - accuracy: 0.8541 - loss: 0.4632 - val_accuracy: 0.8184 - val_loss: 0.5813\n",
      "Epoch 8/10\n",
      "\u001b[1m833/833\u001b[0m \u001b[32m━━━━━━━━━━━━━━━━━━━━\u001b[0m\u001b[37m\u001b[0m \u001b[1m45s\u001b[0m 55ms/step - accuracy: 0.8674 - loss: 0.4198 - val_accuracy: 0.8202 - val_loss: 0.5677\n",
      "Epoch 9/10\n",
      "\u001b[1m833/833\u001b[0m \u001b[32m━━━━━━━━━━━━━━━━━━━━\u001b[0m\u001b[37m\u001b[0m \u001b[1m37s\u001b[0m 45ms/step - accuracy: 0.8756 - loss: 0.3955 - val_accuracy: 0.8262 - val_loss: 0.5580\n",
      "Epoch 10/10\n",
      "\u001b[1m833/833\u001b[0m \u001b[32m━━━━━━━━━━━━━━━━━━━━\u001b[0m\u001b[37m\u001b[0m \u001b[1m22s\u001b[0m 26ms/step - accuracy: 0.8810 - loss: 0.3743 - val_accuracy: 0.8292 - val_loss: 0.5504\n",
      "\n",
      "\n",
      "0.0005\n",
      "Epoch 1/10\n",
      "\u001b[1m833/833\u001b[0m \u001b[32m━━━━━━━━━━━━━━━━━━━━\u001b[0m\u001b[37m\u001b[0m \u001b[1m36s\u001b[0m 34ms/step - accuracy: 0.6049 - loss: 1.5994 - val_accuracy: 0.7965 - val_loss: 0.6473\n",
      "Epoch 2/10\n",
      "\u001b[1m833/833\u001b[0m \u001b[32m━━━━━━━━━━━━━━━━━━━━\u001b[0m\u001b[37m\u001b[0m \u001b[1m26s\u001b[0m 31ms/step - accuracy: 0.8317 - loss: 0.5237 - val_accuracy: 0.8211 - val_loss: 0.5646\n",
      "Epoch 3/10\n",
      "\u001b[1m833/833\u001b[0m \u001b[32m━━━━━━━━━━━━━━━━━━━━\u001b[0m\u001b[37m\u001b[0m \u001b[1m38s\u001b[0m 46ms/step - accuracy: 0.8684 - loss: 0.3976 - val_accuracy: 0.8280 - val_loss: 0.5447\n",
      "Epoch 4/10\n",
      "\u001b[1m833/833\u001b[0m \u001b[32m━━━━━━━━━━━━━━━━━━━━\u001b[0m\u001b[37m\u001b[0m \u001b[1m34s\u001b[0m 40ms/step - accuracy: 0.8937 - loss: 0.3359 - val_accuracy: 0.8340 - val_loss: 0.5372\n",
      "Epoch 5/10\n",
      "\u001b[1m833/833\u001b[0m \u001b[32m━━━━━━━━━━━━━━━━━━━━\u001b[0m\u001b[37m\u001b[0m \u001b[1m23s\u001b[0m 28ms/step - accuracy: 0.9074 - loss: 0.2928 - val_accuracy: 0.8356 - val_loss: 0.5263\n",
      "Epoch 6/10\n",
      "\u001b[1m833/833\u001b[0m \u001b[32m━━━━━━━━━━━━━━━━━━━━\u001b[0m\u001b[37m\u001b[0m \u001b[1m24s\u001b[0m 29ms/step - accuracy: 0.9186 - loss: 0.2497 - val_accuracy: 0.8363 - val_loss: 0.5428\n",
      "Epoch 7/10\n",
      "\u001b[1m833/833\u001b[0m \u001b[32m━━━━━━━━━━━━━━━━━━━━\u001b[0m\u001b[37m\u001b[0m \u001b[1m27s\u001b[0m 32ms/step - accuracy: 0.9271 - loss: 0.2267 - val_accuracy: 0.8409 - val_loss: 0.5355\n",
      "Epoch 8/10\n",
      "\u001b[1m833/833\u001b[0m \u001b[32m━━━━━━━━━━━━━━━━━━━━\u001b[0m\u001b[37m\u001b[0m \u001b[1m24s\u001b[0m 29ms/step - accuracy: 0.9352 - loss: 0.2058 - val_accuracy: 0.8401 - val_loss: 0.5457\n",
      "Epoch 9/10\n",
      "\u001b[1m833/833\u001b[0m \u001b[32m━━━━━━━━━━━━━━━━━━━━\u001b[0m\u001b[37m\u001b[0m \u001b[1m26s\u001b[0m 32ms/step - accuracy: 0.9408 - loss: 0.1904 - val_accuracy: 0.8398 - val_loss: 0.5553\n",
      "Epoch 10/10\n",
      "\u001b[1m833/833\u001b[0m \u001b[32m━━━━━━━━━━━━━━━━━━━━\u001b[0m\u001b[37m\u001b[0m \u001b[1m25s\u001b[0m 30ms/step - accuracy: 0.9442 - loss: 0.1756 - val_accuracy: 0.8392 - val_loss: 0.5598\n",
      "\n",
      "\n",
      "0.001\n",
      "Epoch 1/10\n",
      "\u001b[1m833/833\u001b[0m \u001b[32m━━━━━━━━━━━━━━━━━━━━\u001b[0m\u001b[37m\u001b[0m \u001b[1m39s\u001b[0m 38ms/step - accuracy: 0.6615 - loss: 1.3377 - val_accuracy: 0.8134 - val_loss: 0.6238\n",
      "Epoch 2/10\n",
      "\u001b[1m833/833\u001b[0m \u001b[32m━━━━━━━━━━━━━━━━━━━━\u001b[0m\u001b[37m\u001b[0m \u001b[1m25s\u001b[0m 30ms/step - accuracy: 0.8561 - loss: 0.4313 - val_accuracy: 0.8185 - val_loss: 0.5905\n",
      "Epoch 3/10\n",
      "\u001b[1m833/833\u001b[0m \u001b[32m━━━━━━━━━━━━━━━━━━━━\u001b[0m\u001b[37m\u001b[0m \u001b[1m27s\u001b[0m 33ms/step - accuracy: 0.8907 - loss: 0.3255 - val_accuracy: 0.8291 - val_loss: 0.5795\n",
      "Epoch 4/10\n",
      "\u001b[1m833/833\u001b[0m \u001b[32m━━━━━━━━━━━━━━━━━━━━\u001b[0m\u001b[37m\u001b[0m \u001b[1m55s\u001b[0m 66ms/step - accuracy: 0.9137 - loss: 0.2642 - val_accuracy: 0.8296 - val_loss: 0.5784\n",
      "Epoch 5/10\n",
      "\u001b[1m833/833\u001b[0m \u001b[32m━━━━━━━━━━━━━━━━━━━━\u001b[0m\u001b[37m\u001b[0m \u001b[1m47s\u001b[0m 57ms/step - accuracy: 0.9235 - loss: 0.2271 - val_accuracy: 0.8263 - val_loss: 0.6001\n",
      "Epoch 6/10\n",
      "\u001b[1m833/833\u001b[0m \u001b[32m━━━━━━━━━━━━━━━━━━━━\u001b[0m\u001b[37m\u001b[0m \u001b[1m30s\u001b[0m 36ms/step - accuracy: 0.9347 - loss: 0.1980 - val_accuracy: 0.8322 - val_loss: 0.5917\n",
      "Epoch 7/10\n",
      "\u001b[1m833/833\u001b[0m \u001b[32m━━━━━━━━━━━━━━━━━━━━\u001b[0m\u001b[37m\u001b[0m \u001b[1m36s\u001b[0m 43ms/step - accuracy: 0.9406 - loss: 0.1775 - val_accuracy: 0.8290 - val_loss: 0.6235\n",
      "Epoch 8/10\n",
      "\u001b[1m833/833\u001b[0m \u001b[32m━━━━━━━━━━━━━━━━━━━━\u001b[0m\u001b[37m\u001b[0m \u001b[1m42s\u001b[0m 50ms/step - accuracy: 0.9432 - loss: 0.1634 - val_accuracy: 0.8343 - val_loss: 0.6279\n",
      "Epoch 9/10\n",
      "\u001b[1m833/833\u001b[0m \u001b[32m━━━━━━━━━━━━━━━━━━━━\u001b[0m\u001b[37m\u001b[0m \u001b[1m44s\u001b[0m 53ms/step - accuracy: 0.9539 - loss: 0.1465 - val_accuracy: 0.8345 - val_loss: 0.6408\n",
      "Epoch 10/10\n",
      "\u001b[1m833/833\u001b[0m \u001b[32m━━━━━━━━━━━━━━━━━━━━\u001b[0m\u001b[37m\u001b[0m \u001b[1m45s\u001b[0m 54ms/step - accuracy: 0.9565 - loss: 0.1351 - val_accuracy: 0.8351 - val_loss: 0.6488\n",
      "\n",
      "\n",
      "0.01\n",
      "Epoch 1/10\n",
      "\u001b[1m833/833\u001b[0m \u001b[32m━━━━━━━━━━━━━━━━━━━━\u001b[0m\u001b[37m\u001b[0m \u001b[1m72s\u001b[0m 67ms/step - accuracy: 0.6620 - loss: 2.4698 - val_accuracy: 0.7610 - val_loss: 2.1383\n",
      "Epoch 2/10\n",
      "\u001b[1m833/833\u001b[0m \u001b[32m━━━━━━━━━━━━━━━━━━━━\u001b[0m\u001b[37m\u001b[0m \u001b[1m32s\u001b[0m 38ms/step - accuracy: 0.8147 - loss: 1.3539 - val_accuracy: 0.7741 - val_loss: 2.4851\n",
      "Epoch 3/10\n",
      "\u001b[1m833/833\u001b[0m \u001b[32m━━━━━━━━━━━━━━━━━━━━\u001b[0m\u001b[37m\u001b[0m \u001b[1m22s\u001b[0m 27ms/step - accuracy: 0.8443 - loss: 1.0572 - val_accuracy: 0.7841 - val_loss: 2.4181\n",
      "Epoch 4/10\n",
      "\u001b[1m833/833\u001b[0m \u001b[32m━━━━━━━━━━━━━━━━━━━━\u001b[0m\u001b[37m\u001b[0m \u001b[1m23s\u001b[0m 27ms/step - accuracy: 0.8751 - loss: 0.8615 - val_accuracy: 0.7912 - val_loss: 2.8178\n",
      "Epoch 5/10\n",
      "\u001b[1m833/833\u001b[0m \u001b[32m━━━━━━━━━━━━━━━━━━━━\u001b[0m\u001b[37m\u001b[0m \u001b[1m27s\u001b[0m 33ms/step - accuracy: 0.8850 - loss: 0.7899 - val_accuracy: 0.7845 - val_loss: 2.9862\n",
      "Epoch 6/10\n",
      "\u001b[1m833/833\u001b[0m \u001b[32m━━━━━━━━━━━━━━━━━━━━\u001b[0m\u001b[37m\u001b[0m \u001b[1m29s\u001b[0m 35ms/step - accuracy: 0.8928 - loss: 0.7395 - val_accuracy: 0.8033 - val_loss: 3.0219\n",
      "Epoch 7/10\n",
      "\u001b[1m833/833\u001b[0m \u001b[32m━━━━━━━━━━━━━━━━━━━━\u001b[0m\u001b[37m\u001b[0m \u001b[1m30s\u001b[0m 36ms/step - accuracy: 0.9011 - loss: 0.6795 - val_accuracy: 0.8046 - val_loss: 3.1655\n",
      "Epoch 8/10\n",
      "\u001b[1m833/833\u001b[0m \u001b[32m━━━━━━━━━━━━━━━━━━━━\u001b[0m\u001b[37m\u001b[0m \u001b[1m27s\u001b[0m 32ms/step - accuracy: 0.9081 - loss: 0.6293 - val_accuracy: 0.7958 - val_loss: 3.4021\n",
      "Epoch 9/10\n",
      "\u001b[1m833/833\u001b[0m \u001b[32m━━━━━━━━━━━━━━━━━━━━\u001b[0m\u001b[37m\u001b[0m \u001b[1m28s\u001b[0m 34ms/step - accuracy: 0.9173 - loss: 0.5354 - val_accuracy: 0.7903 - val_loss: 3.8104\n",
      "Epoch 10/10\n",
      "\u001b[1m833/833\u001b[0m \u001b[32m━━━━━━━━━━━━━━━━━━━━\u001b[0m\u001b[37m\u001b[0m \u001b[1m31s\u001b[0m 37ms/step - accuracy: 0.9168 - loss: 0.5975 - val_accuracy: 0.7887 - val_loss: 3.9823\n",
      "\n",
      "\n",
      "0.1\n",
      "Epoch 1/10\n",
      "\u001b[1m833/833\u001b[0m \u001b[32m━━━━━━━━━━━━━━━━━━━━\u001b[0m\u001b[37m\u001b[0m \u001b[1m71s\u001b[0m 65ms/step - accuracy: 0.6330 - loss: 25.2264 - val_accuracy: 0.7523 - val_loss: 21.4780\n",
      "Epoch 2/10\n",
      "\u001b[1m833/833\u001b[0m \u001b[32m━━━━━━━━━━━━━━━━━━━━\u001b[0m\u001b[37m\u001b[0m \u001b[1m25s\u001b[0m 30ms/step - accuracy: 0.7993 - loss: 14.3540 - val_accuracy: 0.7496 - val_loss: 26.2315\n",
      "Epoch 3/10\n",
      "\u001b[1m833/833\u001b[0m \u001b[32m━━━━━━━━━━━━━━━━━━━━\u001b[0m\u001b[37m\u001b[0m \u001b[1m27s\u001b[0m 32ms/step - accuracy: 0.8331 - loss: 11.9558 - val_accuracy: 0.7502 - val_loss: 28.3494\n",
      "Epoch 4/10\n",
      "\u001b[1m833/833\u001b[0m \u001b[32m━━━━━━━━━━━━━━━━━━━━\u001b[0m\u001b[37m\u001b[0m \u001b[1m25s\u001b[0m 30ms/step - accuracy: 0.8593 - loss: 9.9849 - val_accuracy: 0.7886 - val_loss: 26.4986\n",
      "Epoch 5/10\n",
      "\u001b[1m833/833\u001b[0m \u001b[32m━━━━━━━━━━━━━━━━━━━━\u001b[0m\u001b[37m\u001b[0m \u001b[1m28s\u001b[0m 34ms/step - accuracy: 0.8762 - loss: 8.6478 - val_accuracy: 0.7926 - val_loss: 28.7270\n",
      "Epoch 6/10\n",
      "\u001b[1m833/833\u001b[0m \u001b[32m━━━━━━━━━━━━━━━━━━━━\u001b[0m\u001b[37m\u001b[0m \u001b[1m27s\u001b[0m 32ms/step - accuracy: 0.8854 - loss: 8.2198 - val_accuracy: 0.7888 - val_loss: 29.8530\n",
      "Epoch 7/10\n",
      "\u001b[1m833/833\u001b[0m \u001b[32m━━━━━━━━━━━━━━━━━━━━\u001b[0m\u001b[37m\u001b[0m \u001b[1m28s\u001b[0m 33ms/step - accuracy: 0.8901 - loss: 7.7716 - val_accuracy: 0.7872 - val_loss: 33.7454\n",
      "Epoch 8/10\n",
      "\u001b[1m833/833\u001b[0m \u001b[32m━━━━━━━━━━━━━━━━━━━━\u001b[0m\u001b[37m\u001b[0m \u001b[1m29s\u001b[0m 35ms/step - accuracy: 0.8971 - loss: 7.2040 - val_accuracy: 0.8012 - val_loss: 32.4939\n",
      "Epoch 9/10\n",
      "\u001b[1m833/833\u001b[0m \u001b[32m━━━━━━━━━━━━━━━━━━━━\u001b[0m\u001b[37m\u001b[0m \u001b[1m24s\u001b[0m 29ms/step - accuracy: 0.9082 - loss: 6.7966 - val_accuracy: 0.7947 - val_loss: 37.0445\n",
      "Epoch 10/10\n",
      "\u001b[1m833/833\u001b[0m \u001b[32m━━━━━━━━━━━━━━━━━━━━\u001b[0m\u001b[37m\u001b[0m \u001b[1m34s\u001b[0m 40ms/step - accuracy: 0.9112 - loss: 6.6134 - val_accuracy: 0.8038 - val_loss: 35.5057\n",
      "\n",
      "\n"
     ]
    }
   ],
   "source": [
    "scores={}\n",
    "print(\"Training with different learning rates:\\n\")\n",
    "for lr in [0.0001, 0.0005, 0.001, 0.01, 0.1]:\n",
    "    print(lr)\n",
    "    model = make_model_Mobile_v1(learning_rate=lr)\n",
    "    history = model.fit(train_gen, epochs=10, validation_data=val_gen)\n",
    "    scores[lr]= history.history\n",
    "\n",
    "    print()\n",
    "    print()"
   ]
  },
  {
   "cell_type": "code",
   "execution_count": 73,
   "id": "4e0b84df-aba7-49e9-9579-3c2ee3325f0d",
   "metadata": {},
   "outputs": [
    {
     "data": {
      "text/plain": [
       "<matplotlib.legend.Legend at 0x7f894145dca0>"
      ]
     },
     "execution_count": 73,
     "metadata": {},
     "output_type": "execute_result"
    },
    {
     "data": {
      "image/png": "[encoded data removed]",
      "text/plain": [
       "<Figure size 640x480 with 1 Axes>"
      ]
     },
     "metadata": {},
     "output_type": "display_data"
    }
   ],
   "source": [
    "#Plotting the train accuracy\n",
    "for lr, hist in scores.items():\n",
    "    plt.plot(hist['accuracy'], label=lr)\n",
    "\n",
    "plt.title('Training Accuracy for Selected Learning Rates')\n",
    "plt.xlabel('Epochs')\n",
    "plt.ylabel('Training Accuracy')\n",
    "\n",
    "plt.xticks(np.arange(10), np.arange(1,11))\n",
    "plt.legend()"
   ]
  },
  {
   "cell_type": "code",
   "execution_count": 74,
   "id": "d22c1599-fd23-4f50-ac5f-b9fac0105f23",
   "metadata": {},
   "outputs": [
    {
     "data": {
      "text/plain": [
       "<matplotlib.legend.Legend at 0x7f8941987d10>"
      ]
     },
     "execution_count": 74,
     "metadata": {},
     "output_type": "execute_result"
    },
    {
     "data": {
      "image/png": "[encoded data removed]",
      "text/plain": [
       "<Figure size 640x480 with 1 Axes>"
      ]
     },
     "metadata": {},
     "output_type": "display_data"
    }
   ],
   "source": [
    "#Plotting the validation accuracy\n",
    "for lr, hist in scores.items():\n",
    "    plt.plot(hist['val_accuracy'], label=lr)\n",
    "\n",
    "    \n",
    "plt.title('Validation Accuracy for Selected Learning Rates')\n",
    "plt.xlabel('Epochs')\n",
    "plt.ylabel('Validation Accuracy')\n",
    "\n",
    "plt.xticks(np.arange(10), np.arange(1,11))\n",
    "plt.legend()"
   ]
  },
  {
   "cell_type": "code",
   "execution_count": 75,
   "id": "12895c4b-2ddd-451c-aeff-3643d2bc5089",
   "metadata": {},
   "outputs": [
    {
     "data": {
      "image/png": "[encoded data removed]",
      "text/plain": [
       "<Figure size 1000x500 with 1 Axes>"
      ]
     },
     "metadata": {},
     "output_type": "display_data"
    }
   ],
   "source": [
    "#Plotting validation and train accuracy only for learning rate 0.001\n",
    "lr=0.001\n",
    "hist = scores[lr]\n",
    "plt.figure(figsize=(10, 5))\n",
    "plt.plot(hist['accuracy'], label=f'Training Accuracy (LR: {lr})')\n",
    "plt.plot(hist['val_accuracy'], label=f'Validation Accuracy (LR: {lr})')\n",
    "\n",
    "plt.title('Accuracy for Selected Learning Rates')\n",
    "plt.xlabel('Epochs')\n",
    "plt.ylabel('Validation Accuracy')\n",
    "\n",
    "plt.xticks(np.arange(len(hist['val_accuracy'])), np.arange(1, len(hist['val_accuracy']) + 1))\n",
    "plt.legend()\n",
    "plt.grid()\n",
    "plt.show()"
   ]
  },
  {
   "cell_type": "code",
   "execution_count": 76,
   "id": "e6cb4410-7fbb-46db-ae7a-f75343e23ba5",
   "metadata": {},
   "outputs": [
    {
     "data": {
      "image/png": "[encoded data removed]",
      "text/plain": [
       "<Figure size 1000x500 with 1 Axes>"
      ]
     },
     "metadata": {},
     "output_type": "display_data"
    }
   ],
   "source": [
    "#Plotting validation and train accuracy only for learning rate 0.0001\n",
    "lr=0.0001\n",
    "hist = scores[lr]\n",
    "plt.figure(figsize=(10, 5))\n",
    "plt.plot(hist['accuracy'], label=f'Training Accuracy (LR: {lr})')\n",
    "plt.plot(hist['val_accuracy'], label=f'Validation Accuracy (LR: {lr})')\n",
    "\n",
    "plt.title('Accuracy for Selected Learning Rates')\n",
    "plt.xlabel('Epochs')\n",
    "plt.ylabel('Validation Accuracy')\n",
    "\n",
    "plt.xticks(np.arange(len(hist['val_accuracy'])), np.arange(1, len(hist['val_accuracy']) + 1))\n",
    "plt.legend()\n",
    "plt.grid()\n",
    "plt.show()"
   ]
  },
  {
   "cell_type": "code",
   "execution_count": 77,
   "id": "338926f0-1e4b-416f-b373-a25ba4a3ef13",
   "metadata": {},
   "outputs": [
    {
     "data": {
      "image/png": "[encoded data removed]",
      "text/plain": [
       "<Figure size 1000x500 with 1 Axes>"
      ]
     },
     "metadata": {},
     "output_type": "display_data"
    }
   ],
   "source": [
    "#Plotting validation and train accuracy only for learning rate 0.0005\n",
    "lr=0.0005\n",
    "hist = scores[lr]\n",
    "plt.figure(figsize=(10, 5))\n",
    "plt.plot(hist['accuracy'], label=f'Training Accuracy (LR: {lr})')\n",
    "plt.plot(hist['val_accuracy'], label=f'Validation Accuracy (LR: {lr})')\n",
    "\n",
    "plt.title('Accuracy for Selected Learning Rates')\n",
    "plt.xlabel('Epochs')\n",
    "plt.ylabel('Validation Accuracy')\n",
    "\n",
    "plt.xticks(np.arange(len(hist['val_accuracy'])), np.arange(1, len(hist['val_accuracy']) + 1))\n",
    "plt.legend()\n",
    "plt.grid()\n",
    "plt.show()"
   ]
  },
  {
   "cell_type": "code",
   "execution_count": 78,
   "id": "2301123d-b5da-4f0b-954a-20d1dd315d6f",
   "metadata": {},
   "outputs": [],
   "source": [
    "#Conclusion: The model takes longer to learn with a rate of 0.0001, but the validation and training accuracies are closer together \n",
    "#Besides that, does not overfit and after 5 epochs we already have 80% accuracy or better\n",
    "best_learning_rate=0.0001"
   ]
  },
  {
   "cell_type": "code",
   "execution_count": 79,
   "id": "65fd2105-5570-41fb-959a-5bd183b3baf9",
   "metadata": {},
   "outputs": [],
   "source": [
    "MODELS_DIR = '../models'"
   ]
  },
  {
   "cell_type": "code",
   "execution_count": 80,
   "id": "09481666-dd62-4150-aad5-31730af4eff8",
   "metadata": {},
   "outputs": [],
   "source": [
    "#Defining function to delete any previously saved files\n",
    "def delete_previous_checkpoint_files(filename_pattern):\n",
    "    # Compile the regex pattern\n",
    "    regex = re.compile(filename_pattern)\n",
    "    \n",
    "    # List all files in the specified directory\n",
    "    files = os.listdir(MODELS_DIR)\n",
    "\n",
    "    # Filter files matching the regex pattern\n",
    "    matching_files = [f for f in files if regex.match(f)]\n",
    "    \n",
    "    # Check if there are matching files\n",
    "    if not matching_files:\n",
    "        print(\"No matching files found for deletion.\")\n",
    "        return \n",
    "\n",
    "    # Iterate through the matching files and delete them\n",
    "    for checkpoint_file in matching_files:\n",
    "        full_file_path = os.path.join(MODELS_DIR, checkpoint_file)\n",
    "        try:\n",
    "            os.remove(full_file_path)  # Attempt to delete the file\n",
    "            print(f\"Deleted checkpoint file: {checkpoint_file}\")\n",
    "        except Exception as e:\n",
    "            print(f\"Error deleting file {full_file_path}: {e}\")"
   ]
  },
  {
   "cell_type": "code",
   "execution_count": 81,
   "id": "806ccf3e-8673-4014-b411-f8be38f70d05",
   "metadata": {},
   "outputs": [],
   "source": [
    "#Define class for a custom checkpoint\n",
    "class CustomModelCheckpoint(ModelCheckpoint):\n",
    "    def __init__(self, *args, **kwargs):\n",
    "        super().__init__(*args, **kwargs)\n",
    "        self.best_accuracy = 0.0\n",
    "        self.best_model_file = \"\"\n",
    "\n",
    "    def on_epoch_end(self, epoch, logs=None):\n",
    "        super().on_epoch_end(epoch, logs)  # Call the parent method\n",
    "        current_val_accuracy = logs.get('val_accuracy')\n",
    "\n",
    "        if current_val_accuracy > self.best_accuracy:\n",
    "            # Update best values\n",
    "            self.best_accuracy = current_val_accuracy\n",
    "            self.best_model_file = self.filepath.format(epoch=epoch+1, **logs)\n",
    "            print(f\"New best model saved at epoch {epoch+1} with validation accuracy {self.best_accuracy:.3f}.Filename:{self.best_model_file}\")"
   ]
  },
  {
   "cell_type": "code",
   "execution_count": null,
   "id": "23a8a5fb-ad8b-40ae-bf07-352ae5aeb6b2",
   "metadata": {
    "scrolled": true
   },
   "outputs": [
    {
     "name": "stdout",
     "output_type": "stream",
     "text": [
      "Deleting files previously saved to output directory\n",
      "\n",
      "Deleted checkpoint file: Mobile_v1_09_0.826.keras\n",
      "Deleted checkpoint file: Mobile_v1_01_0.712.keras\n",
      "Deleted checkpoint file: Mobile_v1_04_0.796.keras\n",
      "Deleted checkpoint file: Mobile_v1_07_0.819.keras\n",
      "Deleted checkpoint file: Mobile_v1_06_0.815.keras\n",
      "Deleted checkpoint file: Mobile_v1_02_0.757.keras\n",
      "Deleted checkpoint file: Mobile_v1_08_0.824.keras\n",
      "Deleted checkpoint file: Mobile_v1_10_0.828.keras\n",
      "Deleted checkpoint file: Mobile_v1_05_0.802.keras\n",
      "Deleted checkpoint file: Mobile_v1_03_0.783.keras\n",
      "\n",
      "Training the model with learning rate 0.0001\n",
      "\n",
      "Epoch 1/10\n",
      "New best model saved at epoch 1 with validation accuracy 0.707.Filename:../models/Mobile_v1_01_0.707.keras948 \n",
      "\u001b[1m833/833\u001b[0m \u001b[32m━━━━━━━━━━━━━━━━━━━━\u001b[0m\u001b[37m\u001b[0m \u001b[1m43s\u001b[0m 41ms/step - accuracy: 0.3735 - loss: 2.7926 - val_accuracy: 0.7071 - val_loss: 1.0723\n",
      "Epoch 2/10\n",
      "\u001b[1m 43/833\u001b[0m \u001b[32m━\u001b[0m\u001b[37m━━━━━━━━━━━━━━━━━━━\u001b[0m \u001b[1m24s\u001b[0m 31ms/step - accuracy: 0.7159 - loss: 1.0348"
     ]
    }
   ],
   "source": [
    "#deleting any previous files\n",
    "print('Deleting files previously saved to output directory\\n')\n",
    "delete_previous_checkpoint_files(r'Mobile_v1.*\\.keras')\n",
    "print(f'\\nTraining the model with learning rate {best_learning_rate}\\n')\n",
    "#definining a checkpoint to save the model when the accuracy is the max accuracy\n",
    "custom_checkpoint = CustomModelCheckpoint(f'{MODELS_DIR}/Mobile_v1_{{epoch:02d}}_{{val_accuracy:.3f}}.keras',\n",
    "                                save_best_only=True,\n",
    "                                monitor='val_accuracy',\n",
    "                                mode='max')\n",
    "\n",
    "model = make_model_Mobile_v1(learning_rate=best_learning_rate)\n",
    "history = model.fit(\n",
    "    train_gen,\n",
    "    epochs=10,\n",
    "    validation_data=val_gen,\n",
    "    callbacks = [custom_checkpoint]\n",
    ")"
   ]
  },
  {
   "cell_type": "code",
   "execution_count": null,
   "id": "2fc05219-bc4d-44bd-9b6d-b20ac28c4663",
   "metadata": {},
   "outputs": [],
   "source": [
    "plt.figure(figsize=(10, 5))\n",
    "plt.plot(hist['accuracy'], label=f'Training Accuracy)')\n",
    "plt.plot(hist['val_accuracy'], label=f'Validation Accuracy)')\n",
    "\n",
    "plt.title('Accuracy for Model version 1')\n",
    "plt.xlabel('Epochs')\n",
    "plt.ylabel('Validation Accuracy')\n",
    "\n",
    "plt.xticks(np.arange(len(hist['val_accuracy'])), np.arange(1, len(hist['val_accuracy']) + 1))\n",
    "plt.legend()\n",
    "plt.grid()\n",
    "plt.show()"
   ]
  },
  {
   "cell_type": "code",
   "execution_count": null,
   "id": "1596dd71-cd5c-40cb-afa8-3a2e842e3b7a",
   "metadata": {},
   "outputs": [],
   "source": [
    "print(f\"Best Validation Accuracy for 'Mobile version 1' model: {round(custom_checkpoint.best_accuracy, 4)}\")\n",
    "print(f\"Saved Model File: {custom_checkpoint.best_model_file}\")"
   ]
  },
  {
   "cell_type": "code",
   "execution_count": null,
   "id": "ee14bca3-1870-472b-8493-51d0905b0369",
   "metadata": {},
   "outputs": [],
   "source": [
    "#Even when the best accuracy is achieved later in the training, I will select the model at epoch 4, because there is a smaller\n",
    "#gap between the training accuracy and the validation accuracy and the validation accuracy is not bad, it is over 80%\n",
    "\n",
    "#build checkpoint file name for epoch 5\n",
    "epoch=5\n",
    "epoch_index = epoch-1  #the epochs are 0 indexed\n",
    "val_accuracy = history.history['val_accuracy'][epoch_index]  \n",
    "checkpoint_filename = f'Mobile_v1_{epoch:02d}_{val_accuracy:.3f}.keras'\n",
    "\n",
    "#verify that the file exists\n",
    "checkpoint_file_path = os.path.join(MODELS_DIR, checkpoint_filename)\n",
    "\n",
    "# Check if the file exists\n",
    "if not os.path.isfile(checkpoint_file_path):\n",
    "    print(f\"Checkpoint file does not exist: {checkpoint_file_path}\")\n",
    "    checkpoint_filename='not found'\n",
    "\n",
    "#store results for model version 1\n",
    "model_results['mobile_v1'] = {\n",
    "    'accuracy': round(val_accuracy, 4),\n",
    "    'filename': checkpoint_filename\n",
    "}"
   ]
  },
  {
   "cell_type": "code",
   "execution_count": null,
   "id": "6d7e3dc3-d876-456b-ba91-453e74f7c496",
   "metadata": {},
   "outputs": [],
   "source": [
    "model_results['mobile_v1']"
   ]
  },
  {
   "cell_type": "markdown",
   "id": "3f95455d-69cf-4415-9077-b168e35aad34",
   "metadata": {},
   "source": [
    "## Create Model version 2 by adding another inner layer"
   ]
  },
  {
   "cell_type": "code",
   "execution_count": null,
   "id": "cf712623-31f3-45b1-a339-e8eccb3752be",
   "metadata": {},
   "outputs": [],
   "source": [
    "def make_model_Mobile_v2(learning_rate=0.01, inner_layer_units=1420):\n",
    "    #clear any unused session\n",
    "    tf.keras.backend.clear_session()\n",
    "\n",
    "    #creating a base model\n",
    "    input_shape = (TARGET_SIZE[0], TARGET_SIZE[1], 3)\n",
    "    base_model =MobileNetV2(weights='imagenet', input_shape=input_shape, include_top=False)\n",
    "    # create a model from the base model\n",
    "    base_model.trainable=False\n",
    "    inputs = keras.Input(shape=input_shape)\n",
    "    base = base_model(inputs, training=False)\n",
    "    \n",
    "    #pooling layer\n",
    "    pooling = keras.layers.GlobalAveragePooling2D()\n",
    "    vectors = pooling(base)\n",
    "\n",
    "    #dense layer 1\n",
    "    inner = keras.layers.Dense(inner_layer_units, activation='relu')(vectors)\n",
    "    \n",
    "    #dense layer 2\n",
    "    outputs = keras.layers.Dense(units=count_classes, activation='softmax')(inner)\n",
    "\n",
    "    #final model\n",
    "    model = keras.Model(inputs, outputs)\n",
    "\n",
    "    #compile de model\n",
    "    optimizer =keras.optimizers.Adam(learning_rate=learning_rate)\n",
    "    loss=keras.losses.CategoricalCrossentropy(from_logits=False)\n",
    "    model.compile(optimizer=optimizer, loss=loss, metrics=['accuracy'])\n",
    "    return model"
   ]
  },
  {
   "cell_type": "markdown",
   "id": "1409fce0-1423-4a8d-9503-c38f3173f2fc",
   "metadata": {},
   "source": [
    "### Find the best inner layer size"
   ]
  },
  {
   "cell_type": "code",
   "execution_count": null,
   "id": "809dfd7b-d96a-451c-a941-2de970764690",
   "metadata": {},
   "outputs": [],
   "source": [
    "print('Deleting files previously saved to output directory\\n')\n",
    "delete_previous_checkpoint_files(r'Mobile_v2_size.*\\.keras')\n",
    "print(f'Training the model with different sizes for the inner layer \\n')\n",
    "\n",
    "scores={}\n",
    "for size in [count_classes*3, count_classes*5, count_classes*10, count_classes*20]:\n",
    "    print(f'Fitting model for size {size}')\n",
    "    custom_checkpoint = CustomModelCheckpoint(f'{MODELS_DIR}/Mobile_v2_size{size}_{{epoch:02d}}_{{val_accuracy:.3f}}.keras',\n",
    "                                save_best_only=False,\n",
    "                                monitor='val_accuracy',\n",
    "                                mode='max')    \n",
    "    model = make_model_Mobile_v2(learning_rate=best_learning_rate, inner_layer_units=size)\n",
    "    history = model.fit(train_gen, epochs=10, validation_data=val_gen, callbacks = [custom_checkpoint])\n",
    "    scores[size] = history.history\n",
    "    print()\n",
    "    print()"
   ]
  },
  {
   "cell_type": "code",
   "execution_count": null,
   "id": "8c79a498-3ba3-4745-8356-ea53fa874a1e",
   "metadata": {},
   "outputs": [],
   "source": [
    "#Plotting the results\n",
    "for size, hist in scores.items():\n",
    "    plt.plot(hist['val_accuracy'], label=('val=%s' % size))\n",
    "\n",
    "plt.title('Accuracy for Model version 2 with Different Sizes for Inner Layer')\n",
    "plt.xlabel('Epochs')\n",
    "plt.ylabel('Validation Accuracy')\n",
    "\n",
    "plt.xticks(np.arange(10), np.arange(1,11))\n",
    "plt.yticks([0.80, 0.83, 0.835, 0.84, 0.845])\n",
    "plt.legend()"
   ]
  },
  {
   "cell_type": "code",
   "execution_count": null,
   "id": "11ed563e-43ea-42f2-9d43-7d7b81b1a84f",
   "metadata": {},
   "outputs": [],
   "source": [
    "#Plotting training and validation accuracy for model with inner lazyer of size 2560\n",
    "size = 2560\n",
    "hist = scores[size]\n",
    "plt.plot(hist['accuracy'], label=('train=%s' % size))\n",
    "plt.plot(hist['val_accuracy'], label=('val=%s' % size))\n",
    "\n",
    "plt.title('Accuracy for Model version 2 with Inner Layer of Size 2560')\n",
    "plt.xlabel('Epochs')\n",
    "plt.ylabel('Validation Accuracy')\n",
    "\n",
    "plt.xticks(np.arange(10), np.arange(1,11))\n",
    "plt.legend()"
   ]
  },
  {
   "cell_type": "code",
   "execution_count": null,
   "id": "80d50736-f101-4c9c-a978-0574e59decf2",
   "metadata": {},
   "outputs": [],
   "source": [
    "#Plotting training and validation accuracy for model with inner lazyer of size 1280\n",
    "size = 1280\n",
    "hist = scores[size]\n",
    "plt.plot(hist['accuracy'], label=('train=%s' % size))\n",
    "plt.plot(hist['val_accuracy'], label=('val=%s' % size))\n",
    "\n",
    "plt.title('Accuracy for Model version 2 with Inner Layer of Size 1280')\n",
    "plt.xlabel('Epochs')\n",
    "plt.ylabel('Validation Accuracy')\n",
    "\n",
    "plt.xticks(np.arange(10), np.arange(1,11))\n",
    "plt.legend()"
   ]
  },
  {
   "cell_type": "code",
   "execution_count": null,
   "id": "a384145c-b068-476e-821b-e6099f86a97c",
   "metadata": {},
   "outputs": [],
   "source": [
    "##Conclusion, the model overfits, after the second epoch the gap between train accuracy and validation accuracy increases"
   ]
  },
  {
   "cell_type": "code",
   "execution_count": null,
   "id": "9f88f1d1-33d0-4b2e-b35f-028c79914e38",
   "metadata": {},
   "outputs": [],
   "source": [
    "#Building a resume with the results\n",
    "best_models_info = {}\n",
    "\n",
    "for size in scores.keys():\n",
    "    best_val_accuracy = max(scores[size]['val_accuracy'])\n",
    "    \n",
    "    checkpoint_filename_pattern = f'Mobile_v2_size{size}_*_{best_val_accuracy:.3f}.keras'\n",
    "    checkpoint_files = glob.glob(os.path.join(MODELS_DIR, checkpoint_filename_pattern))\n",
    "    \n",
    "    if checkpoint_files:\n",
    "        best_models_info[size] = {\n",
    "            'best_accuracy': best_val_accuracy,\n",
    "            'checkpoint_file': checkpoint_files[0]  # Get the first matching file\n",
    "        }\n",
    "    else:\n",
    "        print(f\"No checkpoint files found for size {size} with accuracy {best_val_accuracy:.3f}\")\n",
    "\n",
    "for size, info in best_models_info.items():\n",
    "    print(f\"Best model for inner layer size {size}:\")\n",
    "    print(f\"Best Validation Accuracy: {info['best_accuracy']:.3f}\")\n",
    "    print(f\"Checkpoint file: {info['checkpoint_file']}\")        "
   ]
  },
  {
   "cell_type": "code",
   "execution_count": null,
   "id": "e6f76803-667f-4648-862f-bc3788a0cab6",
   "metadata": {},
   "outputs": [],
   "source": [
    "inner_layer_size_higher_accuracy = 2560\n",
    "print(f\"Best Validation Accuracy for 'Mobile version 2' model: {round(best_models_info[inner_layer_size_higher_accuracy]['best_accuracy'], 4)}\")\n",
    "print(f\"Saved Model File: {best_models_info[inner_layer_size_higher_accuracy]['checkpoint_file']}\")"
   ]
  },
  {
   "cell_type": "code",
   "execution_count": null,
   "id": "e3e1608a-b8ef-436c-a290-389e80ce04b4",
   "metadata": {},
   "outputs": [],
   "source": [
    "# Conclusion: The inner layer size of 2560 provides the best accuracy, but this occurs at an epoch when the model is already overfitting. \n",
    "# Therefore, if I were to keep an inner layer, I would choose a size of 1280 and use the model from the second epoch.\n",
    "#build checkpoint file name for epoch 2\n",
    "best_inner_layer_size=1280\n",
    "epoch=2\n",
    "epoch_index = epoch-1  #the epochs are 0 indexed\n",
    "val_accuracy = scores[best_inner_layer_size]['val_accuracy'][epoch_index]  \n",
    "checkpoint_filename = f'Mobile_v2_size1280_{epoch:02d}_{val_accuracy:.3f}.keras'\n",
    "\n",
    "#verify that the file exists\n",
    "checkpoint_file_path = os.path.join(MODELS_DIR, checkpoint_filename)\n",
    "\n",
    "# Check if the file exists\n",
    "if not os.path.isfile(checkpoint_file_path):\n",
    "    print(f\"Checkpoint file does not exist: {checkpoint_file_path}\")\n",
    "    checkpoint_filename='not found'\n",
    "\n",
    "#store results for model version 1\n",
    "model_results['mobile_v2'] = {\n",
    "    'accuracy': round(val_accuracy, 4),\n",
    "    'filename': checkpoint_filename\n",
    "}"
   ]
  },
  {
   "cell_type": "code",
   "execution_count": null,
   "id": "ac20fa72-17e7-481d-9b92-9f7f734a5d19",
   "metadata": {},
   "outputs": [],
   "source": [
    "model_results['mobile_v2']"
   ]
  },
  {
   "cell_type": "markdown",
   "id": "1657db56-0186-4d0c-b267-ec89a1c8ad7d",
   "metadata": {},
   "source": [
    "### Creating Mobile Model version 3 by adding a dropout layer"
   ]
  },
  {
   "cell_type": "code",
   "execution_count": null,
   "id": "757c1136-d4fd-411d-8dfd-6c67687a6662",
   "metadata": {},
   "outputs": [],
   "source": [
    "def make_model_Mobile_v3(learning_rate, inner_layer_units, droprate):\n",
    "    \n",
    "    #clear any unused session\n",
    "    tf.keras.backend.clear_session()\n",
    "\n",
    "    #creating a base model\n",
    "    input_shape = (TARGET_SIZE[0], TARGET_SIZE[1], 3)\n",
    "    base_model =MobileNetV2(weights='imagenet', input_shape=input_shape, include_top=False)\n",
    "    # create a model from the base model\n",
    "    base_model.trainable=False\n",
    "    inputs = keras.Input(shape=input_shape)\n",
    "    base = base_model(inputs, training=False)\n",
    "    \n",
    "    #pooling layer\n",
    "    vectors = keras.layers.GlobalAveragePooling2D()(base)\n",
    "\n",
    "    #dense layer 1\n",
    "    inner = keras.layers.Dense(inner_layer_units, activation='relu')(vectors)\n",
    "\n",
    "    #dropout for inner layer 1\n",
    "    drop = keras.layers.Dropout(droprate)(inner)\n",
    "    \n",
    "    #dense layer 2\n",
    "    outputs = keras.layers.Dense(units=count_classes, activation='softmax')(drop)\n",
    "\n",
    "    #final model\n",
    "    model = keras.Model(inputs, outputs)\n",
    "\n",
    "    #compile de model\n",
    "    optimizer =keras.optimizers.Adam(learning_rate=learning_rate)\n",
    "    loss=keras.losses.CategoricalCrossentropy(from_logits=False)\n",
    "    model.compile(optimizer=optimizer, loss=loss, metrics=['accuracy'])\n",
    "    return model"
   ]
  },
  {
   "cell_type": "code",
   "execution_count": null,
   "id": "21a24012-298b-4952-a0c0-5d66baf2ed53",
   "metadata": {},
   "outputs": [],
   "source": [
    "print('Deleting files previously saved to output directory\\n')\n",
    "delete_previous_checkpoint_files(r'Mobile_v3_droprate.*\\.keras')\n",
    "print(f'Training the model with different dropout rates for the inner layer \\n')\n",
    "\n",
    "droprates = [0.0, 0.05, 0.1, 0.2]\n",
    "scores={}\n",
    "#I initially experimented with a variety of dropout rates during the training and 30 epochs\n",
    "#but the accuracy wasnt higher and it took too long, so I narrowed it down to fewer options in the notebook and fewer epochs\n",
    "for droprate in droprates:\n",
    "    print(f'Fitting model for drop rate {droprate}')\n",
    "    custom_checkpoint = CustomModelCheckpoint(f'{MODELS_DIR}/Mobile_v3_droprate{droprate}_{{epoch:02d}}_{{val_accuracy:.3f}}.keras',\n",
    "                                save_best_only=False,\n",
    "                                monitor='val_accuracy',\n",
    "                                mode='max')    \n",
    "    model = make_model_Mobile_v3(learning_rate=best_learning_rate, inner_layer_units= best_inner_layer_size, droprate=droprate)\n",
    "    history = model.fit(train_gen, epochs=15, validation_data=val_gen, callbacks = [custom_checkpoint])\n",
    "    scores[droprate] = history.history\n",
    "    print()\n",
    "    print()"
   ]
  },
  {
   "cell_type": "code",
   "execution_count": null,
   "id": "b697aa66-cf34-4fe5-818e-9886b14cb889",
   "metadata": {},
   "outputs": [],
   "source": [
    "# Plotting the results\n",
    "plt.figure(figsize=(12, 6))\n",
    "\n",
    "for droprate in droprates:\n",
    "    plt.plot(scores[droprate]['val_accuracy'], label=f'Val Accuracy (Drop Rate: {droprate})', linestyle='--')\n",
    "\n",
    "plt.title('Model Accuracy vs. Dropout Rate for Mobile v3')\n",
    "plt.xlabel('Epochs')\n",
    "plt.ylabel('Accuracy')\n",
    "plt.legend()\n",
    "plt.grid()\n",
    "plt.show()"
   ]
  },
  {
   "cell_type": "code",
   "execution_count": null,
   "id": "9e3a6d34-3e29-49bb-aa53-c1e28e85632d",
   "metadata": {},
   "outputs": [],
   "source": [
    "#Plotting training and validation accuracy for dropoutrate=0.2, that seems to be the best\n",
    "dr=0.2\n",
    "hist = scores[dr]\n",
    "plt.figure(figsize=(10, 5))\n",
    "plt.plot(hist['accuracy'], label=f'Training Accuracy (DR: {dr})')\n",
    "plt.plot(hist['val_accuracy'], label=f'Validation Accuracy (DR: {dr})')\n",
    "\n",
    "plt.title(f'Accuracy for Model version 3 with Drop out rate {dr}')\n",
    "plt.xlabel('Epochs')\n",
    "plt.ylabel('Validation Accuracy')\n",
    "\n",
    "plt.xticks(np.arange(len(hist['val_accuracy'])), np.arange(1, len(hist['val_accuracy']) + 1))\n",
    "plt.legend()\n",
    "plt.grid()\n",
    "plt.show()"
   ]
  },
  {
   "cell_type": "code",
   "execution_count": null,
   "id": "f4e4c315-d406-4827-8453-a940a6025600",
   "metadata": {},
   "outputs": [],
   "source": [
    "# Conclusion: The model overfits, but we have an accuracy over 80% afeter just 3-4 epochs"
   ]
  },
  {
   "cell_type": "code",
   "execution_count": null,
   "id": "e1de0896-1037-4d3f-b0f0-dcc11f099588",
   "metadata": {},
   "outputs": [],
   "source": [
    "#Building a summary with the results\n",
    "best_models_info = {}\n",
    "\n",
    "for droprate in scores.keys():\n",
    "    best_val_accuracy = max(scores[droprate]['val_accuracy'])\n",
    "    \n",
    "    checkpoint_filename_pattern = f'Mobile_v3_droprate{droprate}_*_{best_val_accuracy:.3f}.keras'\n",
    "    checkpoint_files = glob.glob(os.path.join(MODELS_DIR, checkpoint_filename_pattern))\n",
    "    \n",
    "    if checkpoint_files:\n",
    "        best_models_info[droprate] = {\n",
    "            'best_accuracy': best_val_accuracy,\n",
    "            'checkpoint_file': checkpoint_files[0]  # Get the first matching file\n",
    "        }\n",
    "    else:\n",
    "        print(f\"No checkpoint files found for drop rate {droprate} with accuracy {best_val_accuracy:.3f}\")\n",
    "\n",
    "for droprate, info in best_models_info.items():\n",
    "    print(f\"Best model for drop rate {droprate}:\")\n",
    "    print(f\"Best Validation Accuracy: {info['best_accuracy']:.3f}\")\n",
    "    print(f\"Checkpoint file: {info['checkpoint_file']}\")   "
   ]
  },
  {
   "cell_type": "code",
   "execution_count": null,
   "id": "8662f57a-138b-437b-a2a5-6c34f61e05d0",
   "metadata": {},
   "outputs": [],
   "source": [
    "best_droprate=0.2\n",
    "print(f\"Best Validation Accuracy for 'Mobile version 3' model: {round(best_models_info[best_droprate]['best_accuracy'], 4)}\")\n",
    "print(f\"Saved Model File: {best_models_info[best_droprate]['checkpoint_file']}\")\n"
   ]
  },
  {
   "cell_type": "code",
   "execution_count": null,
   "id": "2a83fdcb-6154-4d70-bef9-ce5204be5e53",
   "metadata": {},
   "outputs": [],
   "source": [
    "## Conclusion: there is not a significant better accuracy by having a version of the model with a dropout layer and the model overfits\n",
    "epoch=4\n",
    "epoch_index = epoch-1  #the epochs are 0 indexed\n",
    "val_accuracy = scores[best_droprate]['val_accuracy'][epoch_index]  \n",
    "checkpoint_filename = f'Mobile_v3_droprate0.2_{epoch:02d}_{val_accuracy:.3f}.keras'\n",
    "\n",
    "#verify that the file exists\n",
    "checkpoint_file_path = os.path.join(MODELS_DIR, checkpoint_filename)\n",
    "\n",
    "# Check if the file exists\n",
    "if not os.path.isfile(checkpoint_file_path):\n",
    "    print(f\"Checkpoint file does not exist: {checkpoint_file_path}\")\n",
    "    checkpoint_filename='not found'\n",
    "\n",
    "#store results for model version 3\n",
    "model_results['mobile_v3'] = {\n",
    "    'accuracy': round(val_accuracy, 4),\n",
    "    'filename': checkpoint_filename\n",
    "}"
   ]
  },
  {
   "cell_type": "code",
   "execution_count": null,
   "id": "eda9988c-21d0-4c61-a0df-49dea7d4b215",
   "metadata": {},
   "outputs": [],
   "source": [
    "model_results['mobile_v3']"
   ]
  },
  {
   "cell_type": "markdown",
   "id": "b669d242-0910-4a16-b6ff-72858d55f133",
   "metadata": {},
   "source": [
    "### Training the model Mobile version 3 with augmentation"
   ]
  },
  {
   "cell_type": "code",
   "execution_count": null,
   "id": "9fe3f464-1254-4c84-b786-03e91f8d16fc",
   "metadata": {},
   "outputs": [],
   "source": [
    "#declare a new generator for the train dataset\n",
    "#the generator for the validation dataset is kept as before, the augmentations are applied to the training dataset only\n",
    "#(the parameters set here were selected after some experimentation)\n",
    "train_gen = train_image_gen.flow_from_dataframe(\n",
    "    dataframe=train_df,\n",
    "    directory=IMAGES_DIR, \n",
    "    x_col='filename',  \n",
    "    y_col='articleType', \n",
    "    target_size=TARGET_SIZE, \n",
    "    batch_size=BATCH_SIZE,\n",
    "    class_mode='categorical',  \n",
    "    width_shift_range=0.2,\n",
    "    height_shift_range=0.2,\n",
    "    shear_range=10,\n",
    "    zoom_range=0.2,\n",
    "    horizontal_flip=True,                \n",
    "    workers = workers,\n",
    "    use_multiprocessing=use_multiprocessing,\n",
    "    max_queue_size=MAX_QUEUE_SIZE\n",
    ")"
   ]
  },
  {
   "cell_type": "code",
   "execution_count": null,
   "id": "fc0fe669-cb10-40ad-b0a9-78a9334c6460",
   "metadata": {},
   "outputs": [],
   "source": [
    "#check size of images and batches\n",
    "batch_images, batch_labels = next(train_gen)  \n",
    "print(\"Batch shape for training:\", batch_images.shape) \n",
    "print(\"Shape of training labels:\", batch_labels.shape) \n",
    "\n",
    "batch_images, batch_labels = next(val_gen)  \n",
    "print(\"Batch shape for validation:\", batch_images.shape) \n",
    "print(\"Shape of validation labels:\", batch_labels.shape) "
   ]
  },
  {
   "cell_type": "code",
   "execution_count": null,
   "id": "fa9c3602-10e8-4479-aa85-c1f3f7121ead",
   "metadata": {},
   "outputs": [],
   "source": [
    "#deleting any previous files\n",
    "print('Deleting files previously saved to output directory\\n')\n",
    "delete_previous_checkpoint_files(r'Mobile_v3_aug.*\\.keras')\n",
    "learning_rate=best_learning_rate\n",
    "print(f'\\nTraining the model with augmentation and learning rate {learning_rate}\\n')\n",
    "#definining a checkpoint to save the model when the accuracy is the max accuracy\n",
    "custom_checkpoint = CustomModelCheckpoint(f'{MODELS_DIR}/Mobile_v3_aug_{{epoch:02d}}_{{val_accuracy:.3f}}.keras',\n",
    "                                save_best_only=True,\n",
    "                                monitor='val_accuracy',\n",
    "                                mode='max')\n",
    "\n",
    "model = make_model_Mobile_v1(learning_rate=learning_rate)\n",
    "history = model.fit(\n",
    "    train_gen,\n",
    "    epochs=10,\n",
    "    validation_data=val_gen,\n",
    "    callbacks = [custom_checkpoint]\n",
    ")\n"
   ]
  },
  {
   "cell_type": "code",
   "execution_count": null,
   "id": "157aa63e-ddb5-4b9b-aff7-0b14359510f6",
   "metadata": {},
   "outputs": [],
   "source": [
    "#Plotting train and validation accuracy\n",
    "plt.plot(history.history['accuracy'], label='train')\n",
    "plt.plot(history.history['val_accuracy'], label='val')\n",
    "\n",
    "plt.title('Accuracy for Model Mobile v3 trained with Augmentation')\n",
    "plt.xlabel('Epochs')\n",
    "plt.ylabel('Validation Accuracy')\n",
    "\n",
    "num_epochs = len(history.history['val_accuracy'])  \n",
    "plt.xticks(np.arange(num_epochs), np.arange(1, num_epochs + 1)) \n",
    "plt.legend()\n",
    "plt.grid()\n",
    "plt.show()"
   ]
  },
  {
   "cell_type": "code",
   "execution_count": null,
   "id": "095aba7e-db3b-496a-a1a7-4e70b3f3dded",
   "metadata": {},
   "outputs": [],
   "source": [
    "##Conclusion, the model does not overfit and have an accuracy over 83% for the validation dataset"
   ]
  },
  {
   "cell_type": "code",
   "execution_count": null,
   "id": "392e925c-0c21-4612-b057-29b444c435f0",
   "metadata": {},
   "outputs": [],
   "source": [
    "model_results['mobile_v3_with_augmentation'] = {\n",
    "    'accuracy': round(custom_checkpoint.best_accuracy, 4),\n",
    "    'filename': custom_checkpoint.best_model_file\n",
    "}\n",
    "print(f\"Best Validation Accuracy for 'Mobile version 3 with Augmentation' model: {model_results['mobile_v3_with_augmentation']['accuracy']}\")\n",
    "print(f\"Saved Model File: {model_results['mobile_v3_with_augmentation']['filename']}\")"
   ]
  },
  {
   "cell_type": "code",
   "execution_count": null,
   "id": "de567edb-0951-4a8c-9a2e-f80d16907f1e",
   "metadata": {},
   "outputs": [],
   "source": []
  },
  {
   "cell_type": "markdown",
   "id": "5d2ec644-68e3-4ed0-9cce-65cde4cf26a5",
   "metadata": {},
   "source": [
    "### Using the model Mobile version 1 trained with augmentation"
   ]
  },
  {
   "cell_type": "code",
   "execution_count": null,
   "id": "932d528f-16c0-4bef-b21e-185ae8b949d1",
   "metadata": {},
   "outputs": [],
   "source": [
    "#deleting any previous files\n",
    "print('Deleting files previously saved to output directory\\n')\n",
    "delete_previous_checkpoint_files(r'Mobile_v1_aug.*\\.keras')\n",
    "learning_rate=best_learning_rate\n",
    "print(f'\\nTraining the model with augmentation and learning rate {learning_rate}\\n')\n",
    "#definining a checkpoint to save the model when the accuracy is the max accuracy\n",
    "custom_checkpoint = CustomModelCheckpoint(f'{MODELS_DIR}/Mobile_v1_aug_{{epoch:02d}}_{{val_accuracy:.3f}}.keras',\n",
    "                                save_best_only=True,\n",
    "                                monitor='val_accuracy',\n",
    "                                mode='max')\n",
    "\n",
    "model = make_model_Mobile_v1(learning_rate=learning_rate)\n",
    "history = model.fit(\n",
    "    train_gen,\n",
    "    epochs=10,\n",
    "    validation_data=val_gen,\n",
    "    callbacks = [custom_checkpoint]\n",
    ")\n"
   ]
  },
  {
   "cell_type": "code",
   "execution_count": null,
   "id": "ad9f9a71-b683-4cb8-b13b-94e0e737e61e",
   "metadata": {},
   "outputs": [],
   "source": [
    "#Plotting train and validation accuracy\n",
    "plt.plot(history.history['accuracy'], label='train')\n",
    "plt.plot(history.history['val_accuracy'], label='val')\n",
    "\n",
    "plt.title('Accuracy for Model Mobile v1 trained with Augmentation')\n",
    "plt.xlabel('Epochs')\n",
    "plt.ylabel('Validation Accuracy')\n",
    "\n",
    "num_epochs = len(history.history['val_accuracy'])  \n",
    "plt.xticks(np.arange(num_epochs), np.arange(1, num_epochs + 1)) \n",
    "plt.legend()\n",
    "plt.grid()\n",
    "plt.show()"
   ]
  },
  {
   "cell_type": "code",
   "execution_count": null,
   "id": "3069ffe4-64d4-46fb-8b1d-08149e7c71af",
   "metadata": {},
   "outputs": [],
   "source": [
    "## Conclusion: by using augmentation to train model 1, we get results very similar than those for the version 3 of the model which includes more layers"
   ]
  },
  {
   "cell_type": "code",
   "execution_count": null,
   "id": "aa22d8a6-cfce-4ebc-abd0-31aa86d4a4e8",
   "metadata": {},
   "outputs": [],
   "source": [
    "model_results['mobile_v1_with_augmentation'] = {\n",
    "    'accuracy': round(custom_checkpoint.best_accuracy, 4),\n",
    "    'filename': custom_checkpoint.best_model_file\n",
    "}\n",
    "print(f\"Best Validation Accuracy for 'Mobile version 3 with Augmentation' model: {model_results['mobile_v1_with_augmentation']['accuracy']}\")\n",
    "print(f\"Saved Model File: {model_results['mobile_v1_with_augmentation']['filename']}\")"
   ]
  },
  {
   "cell_type": "code",
   "execution_count": null,
   "id": "aebad2c5-19e9-4490-ba30-b1dd04b1f268",
   "metadata": {},
   "outputs": [],
   "source": [
    "# Display all results\n",
    "print(\"Model Evaluation Results:\\n\")\n",
    "for model_name, results in model_results.items():\n",
    "    print(f\"Model: {model_name}\")\n",
    "    print(f\"  Best Validation Accuracy: {results['accuracy']}\")\n",
    "    print(f\"  Checkpoint File: {results['filename']}\")\n",
    "    print()  # Print a newline for better readability"
   ]
  },
  {
   "cell_type": "code",
   "execution_count": null,
   "id": "05e8f5eb-8605-4d92-ad42-af9aeae976e2",
   "metadata": {},
   "outputs": [],
   "source": [
    "#Conclusion: after all the training, I will go with the version 1 of the model, trained with augmentation for 10 epochs"
   ]
  },
  {
   "cell_type": "code",
   "execution_count": null,
   "id": "a513cba0-63ab-46fe-88f4-7befdec005f5",
   "metadata": {},
   "outputs": [],
   "source": [
    "# Calculate time it took to run the notebook\n",
    "end_time = time.time()\n",
    "total_time_seconds = end_time - start_time\n",
    "total_time_minutes = round(total_time_seconds / 60)\n",
    "\n",
    "print(f\"Total execution time for this notebook: {total_time_minutes} minutes\")"
   ]
  },
  {
   "cell_type": "code",
   "execution_count": null,
   "id": "08040a33-a071-43a4-9f98-e1158b66823c",
   "metadata": {},
   "outputs": [],
   "source": []
  },
  {
   "cell_type": "code",
   "execution_count": null,
   "id": "d83a10f1-acb0-499d-8866-af0f467a1155",
   "metadata": {},
   "outputs": [],
   "source": []
  }
 ],
 "metadata": {
  "kernelspec": {
   "display_name": "Python 3 (ipykernel)",
   "language": "python",
   "name": "python3"
  },
  "language_info": {
   "codemirror_mode": {
    "name": "ipython",
    "version": 3
   },
   "file_extension": ".py",
   "mimetype": "text/x-python",
   "name": "python",
   "nbconvert_exporter": "python",
   "pygments_lexer": "ipython3",
   "version": "3.12.3"
  }
 },
 "nbformat": 4,
 "nbformat_minor": 5
}
